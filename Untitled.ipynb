{
 "cells": [
  {
   "cell_type": "code",
   "execution_count": 1,
   "id": "555a65a6",
   "metadata": {},
   "outputs": [
    {
     "ename": "SyntaxError",
     "evalue": "positional argument follows keyword argument (1135980845.py, line 5)",
     "output_type": "error",
     "traceback": [
      "\u001b[1;36m  Input \u001b[1;32mIn [1]\u001b[1;36m\u001b[0m\n\u001b[1;33m    gui.Window(title='test', layout[[]], margins=(100, 50)).read()\u001b[0m\n\u001b[1;37m                                                          ^\u001b[0m\n\u001b[1;31mSyntaxError\u001b[0m\u001b[1;31m:\u001b[0m positional argument follows keyword argument\n"
     ]
    }
   ],
   "source": [
    "import Selenium as se\n",
    "import PySimpleGUI as gui\n",
    "import Pandas as pd\n",
    "\n",
    "gui.Window(title='test', layout[[]], margins=(100, 50)).read()"
   ]
  },
  {
   "cell_type": "code",
   "execution_count": 26,
   "id": "03d04389",
   "metadata": {},
   "outputs": [
    {
     "ename": "SyntaxError",
     "evalue": "positional argument follows keyword argument (2616258315.py, line 5)",
     "output_type": "error",
     "traceback": [
      "\u001b[1;36m  Input \u001b[1;32mIn [26]\u001b[1;36m\u001b[0m\n\u001b[1;33m    gui.Window(title='test', layout[[]], margins=(100, 50)).read()\u001b[0m\n\u001b[1;37m                                                          ^\u001b[0m\n\u001b[1;31mSyntaxError\u001b[0m\u001b[1;31m:\u001b[0m positional argument follows keyword argument\n"
     ]
    }
   ],
   "source": [
    "import Selenium as se\n",
    "import PySimpleGUI as gui\n",
    "import Pandas as pd\n",
    "\n",
    "gui.Window(title='test', layout[[]], margins=(100, 50)).read()\n",
    "\n"
   ]
  },
  {
   "cell_type": "code",
   "execution_count": 27,
   "id": "6c6cf8c8",
   "metadata": {},
   "outputs": [
    {
     "ename": "SyntaxError",
     "evalue": "positional argument follows keyword argument (2600887615.py, line 5)",
     "output_type": "error",
     "traceback": [
      "\u001b[1;36m  Input \u001b[1;32mIn [27]\u001b[1;36m\u001b[0m\n\u001b[1;33m    gui.Window(title=\"test\", layout[[]], margins=(100, 50)).read()\u001b[0m\n\u001b[1;37m                                                          ^\u001b[0m\n\u001b[1;31mSyntaxError\u001b[0m\u001b[1;31m:\u001b[0m positional argument follows keyword argument\n"
     ]
    }
   ],
   "source": [
    "import Selenium as se\n",
    "import PySimpleGUI as gui\n",
    "import Pandas as pd\n",
    "\n",
    "gui.Window(title=\"test\", layout[[]], margins=(100, 50)).read()"
   ]
  },
  {
   "cell_type": "code",
   "execution_count": 28,
   "id": "dc016b21",
   "metadata": {},
   "outputs": [
    {
     "ename": "SyntaxError",
     "evalue": "positional argument follows keyword argument (2821258887.py, line 1)",
     "output_type": "error",
     "traceback": [
      "\u001b[1;36m  Input \u001b[1;32mIn [28]\u001b[1;36m\u001b[0m\n\u001b[1;33m    gui.Window(title=\"test\", layout[[]], margins=(100,50)).read()\u001b[0m\n\u001b[1;37m                                                         ^\u001b[0m\n\u001b[1;31mSyntaxError\u001b[0m\u001b[1;31m:\u001b[0m positional argument follows keyword argument\n"
     ]
    }
   ],
   "source": [
    "gui.Window(title=\"test\", layout[[]], margins=(100,50)).read()"
   ]
  },
  {
   "cell_type": "code",
   "execution_count": 29,
   "id": "8be3a56a",
   "metadata": {},
   "outputs": [
    {
     "ename": "NameError",
     "evalue": "name 'gui' is not defined",
     "output_type": "error",
     "traceback": [
      "\u001b[1;31m---------------------------------------------------------------------------\u001b[0m",
      "\u001b[1;31mNameError\u001b[0m                                 Traceback (most recent call last)",
      "Input \u001b[1;32mIn [29]\u001b[0m, in \u001b[0;36m<cell line: 1>\u001b[1;34m()\u001b[0m\n\u001b[1;32m----> 1\u001b[0m \u001b[43mgui\u001b[49m\u001b[38;5;241m.\u001b[39mWindow(title\u001b[38;5;241m=\u001b[39m\u001b[38;5;124m\"\u001b[39m\u001b[38;5;124mtest\u001b[39m\u001b[38;5;124m\"\u001b[39m)\u001b[38;5;241m.\u001b[39mread()\n",
      "\u001b[1;31mNameError\u001b[0m: name 'gui' is not defined"
     ]
    }
   ],
   "source": [
    "gui.Window(title=\"test\").read()\n"
   ]
  },
  {
   "cell_type": "code",
   "execution_count": null,
   "id": "bcfffb24",
   "metadata": {},
   "outputs": [],
   "source": [
    "import PySimpleGUI as gui\n",
    "\n",
    "gui.Window(title=\"test\").read()\n"
   ]
  },
  {
   "cell_type": "code",
   "execution_count": 31,
   "id": "010d33ca",
   "metadata": {
    "scrolled": true
   },
   "outputs": [
    {
     "ename": "SyntaxError",
     "evalue": "positional argument follows keyword argument (992856348.py, line 3)",
     "output_type": "error",
     "traceback": [
      "\u001b[1;36m  Input \u001b[1;32mIn [31]\u001b[1;36m\u001b[0m\n\u001b[1;33m    gui.Window(title=\"test\", layout[[]], margins=(100, 50)).read()\u001b[0m\n\u001b[1;37m                                                          ^\u001b[0m\n\u001b[1;31mSyntaxError\u001b[0m\u001b[1;31m:\u001b[0m positional argument follows keyword argument\n"
     ]
    }
   ],
   "source": [
    "import PySimpleGUI as gui\n",
    "\n",
    "gui.Window(title=\"test\", layout[[]], margins=(100, 50)).read()"
   ]
  },
  {
   "cell_type": "code",
   "execution_count": 32,
   "id": "b188b138",
   "metadata": {},
   "outputs": [
    {
     "ename": "NameError",
     "evalue": "name 'true' is not defined",
     "output_type": "error",
     "traceback": [
      "\u001b[1;31m---------------------------------------------------------------------------\u001b[0m",
      "\u001b[1;31mNameError\u001b[0m                                 Traceback (most recent call last)",
      "Input \u001b[1;32mIn [32]\u001b[0m, in \u001b[0;36m<cell line: 6>\u001b[1;34m()\u001b[0m\n\u001b[0;32m      3\u001b[0m layout \u001b[38;5;241m=\u001b[39m [[gui\u001b[38;5;241m.\u001b[39mText(\u001b[38;5;124m\"\u001b[39m\u001b[38;5;124mhehehhe\u001b[39m\u001b[38;5;124m\"\u001b[39m)], [gui\u001b[38;5;241m.\u001b[39mButton(\u001b[38;5;124m\"\u001b[39m\u001b[38;5;124mok\u001b[39m\u001b[38;5;124m\"\u001b[39m)]]\n\u001b[0;32m      4\u001b[0m window \u001b[38;5;241m=\u001b[39m gui\u001b[38;5;241m.\u001b[39mWindow(\u001b[38;5;124m\"\u001b[39m\u001b[38;5;124mtest\u001b[39m\u001b[38;5;124m\"\u001b[39m, layout)\n\u001b[1;32m----> 6\u001b[0m \u001b[38;5;28;01mwhile\u001b[39;00m(\u001b[43mtrue\u001b[49m) :\n\u001b[0;32m      7\u001b[0m     event, values \u001b[38;5;241m=\u001b[39m window\u001b[38;5;241m.\u001b[39mread()\n\u001b[0;32m      8\u001b[0m     \u001b[38;5;28;01mif\u001b[39;00m event \u001b[38;5;241m==\u001b[39m \u001b[38;5;124m\"\u001b[39m\u001b[38;5;124mok\u001b[39m\u001b[38;5;124m\"\u001b[39m \u001b[38;5;129;01mor\u001b[39;00m event \u001b[38;5;241m==\u001b[39m gui\u001b[38;5;241m.\u001b[39mWIN_CLOSED:\n",
      "\u001b[1;31mNameError\u001b[0m: name 'true' is not defined"
     ]
    }
   ],
   "source": [
    "import PySimpleGUI as gui\n",
    "\n",
    "layout = [[gui.Text(\"hehehhe\")], [gui.Button(\"ok\")]]\n",
    "window = gui.Window(\"test\", layout)\n",
    "\n",
    "while(true) :\n",
    "    event, values = window.read()\n",
    "    if event == \"ok\" or event == gui.WIN_CLOSED:\n",
    "        break\n",
    "window.close()"
   ]
  },
  {
   "cell_type": "code",
   "execution_count": 43,
   "id": "9b7fe894",
   "metadata": {},
   "outputs": [],
   "source": [
    "import PySimpleGUI as gui\n",
    "\n",
    "layout = [[gui.Text(\"hehehhe\")], [gui.Button(\"ok\")]]\n",
    "window = gui.Window(\"test\", layout)\n",
    "\n",
    "while True :\n",
    "    event, values = window.read()\n",
    "    if event == \"ok\" or event == gui.WIN_CLOSED:\n",
    "        break\n",
    "window.close()"
   ]
  },
  {
   "cell_type": "code",
   "execution_count": 46,
   "id": "a8b96316",
   "metadata": {},
   "outputs": [
    {
     "ename": "ModuleNotFoundError",
     "evalue": "No module named 'Selenium'",
     "output_type": "error",
     "traceback": [
      "\u001b[1;31m---------------------------------------------------------------------------\u001b[0m",
      "\u001b[1;31mModuleNotFoundError\u001b[0m                       Traceback (most recent call last)",
      "Input \u001b[1;32mIn [46]\u001b[0m, in \u001b[0;36m<cell line: 2>\u001b[1;34m()\u001b[0m\n\u001b[0;32m      1\u001b[0m \u001b[38;5;28;01mimport\u001b[39;00m \u001b[38;5;21;01mPySimpleGUI\u001b[39;00m \u001b[38;5;28;01mas\u001b[39;00m \u001b[38;5;21;01mgui\u001b[39;00m\n\u001b[1;32m----> 2\u001b[0m \u001b[38;5;28;01mimport\u001b[39;00m \u001b[38;5;21;01mSelenium\u001b[39;00m \u001b[38;5;28;01mas\u001b[39;00m \u001b[38;5;21;01mse\u001b[39;00m\n\u001b[0;32m      3\u001b[0m \u001b[38;5;28;01mimport\u001b[39;00m \u001b[38;5;21;01mFinanceDataReader\u001b[39;00m \u001b[38;5;28;01mas\u001b[39;00m \u001b[38;5;21;01mfdr\u001b[39;00m\n\u001b[0;32m      5\u001b[0m kp \u001b[38;5;241m=\u001b[39m fdr\u001b[38;5;241m.\u001b[39mStockListing(\u001b[38;5;124m\"\u001b[39m\u001b[38;5;124mKOSPI\u001b[39m\u001b[38;5;124m\"\u001b[39m)\n",
      "\u001b[1;31mModuleNotFoundError\u001b[0m: No module named 'Selenium'"
     ]
    }
   ],
   "source": [
    "import PySimpleGUI as gui\n",
    "import Selenium as se\n",
    "import FinanceDataReader as fdr\n",
    "\n",
    "kp = fdr.StockListing(\"KOSPI\")\n",
    "display(kp)\n"
   ]
  },
  {
   "cell_type": "code",
   "execution_count": 47,
   "id": "ad5bb155",
   "metadata": {},
   "outputs": [
    {
     "data": {
      "text/html": [
       "<div>\n",
       "<style scoped>\n",
       "    .dataframe tbody tr th:only-of-type {\n",
       "        vertical-align: middle;\n",
       "    }\n",
       "\n",
       "    .dataframe tbody tr th {\n",
       "        vertical-align: top;\n",
       "    }\n",
       "\n",
       "    .dataframe thead th {\n",
       "        text-align: right;\n",
       "    }\n",
       "</style>\n",
       "<table border=\"1\" class=\"dataframe\">\n",
       "  <thead>\n",
       "    <tr style=\"text-align: right;\">\n",
       "      <th></th>\n",
       "      <th>Symbol</th>\n",
       "      <th>Market</th>\n",
       "      <th>Name</th>\n",
       "      <th>Sector</th>\n",
       "      <th>Industry</th>\n",
       "      <th>ListingDate</th>\n",
       "      <th>SettleMonth</th>\n",
       "      <th>Representative</th>\n",
       "      <th>HomePage</th>\n",
       "      <th>Region</th>\n",
       "    </tr>\n",
       "  </thead>\n",
       "  <tbody>\n",
       "    <tr>\n",
       "      <th>1</th>\n",
       "      <td>095570</td>\n",
       "      <td>KOSPI</td>\n",
       "      <td>AJ네트웍스</td>\n",
       "      <td>산업용 기계 및 장비 임대업</td>\n",
       "      <td>렌탈(파렛트, OA장비, 건설장비)</td>\n",
       "      <td>2015-08-21</td>\n",
       "      <td>12월</td>\n",
       "      <td>박대현, 손삼달</td>\n",
       "      <td>http://www.ajnet.co.kr</td>\n",
       "      <td>서울특별시</td>\n",
       "    </tr>\n",
       "    <tr>\n",
       "      <th>2</th>\n",
       "      <td>006840</td>\n",
       "      <td>KOSPI</td>\n",
       "      <td>AK홀딩스</td>\n",
       "      <td>기타 금융업</td>\n",
       "      <td>지주사업</td>\n",
       "      <td>1999-08-11</td>\n",
       "      <td>12월</td>\n",
       "      <td>채형석, 이석주(각자 대표이사)</td>\n",
       "      <td>http://www.aekyunggroup.co.kr</td>\n",
       "      <td>서울특별시</td>\n",
       "    </tr>\n",
       "    <tr>\n",
       "      <th>6</th>\n",
       "      <td>152100</td>\n",
       "      <td>KOSPI</td>\n",
       "      <td>ARIRANG 200</td>\n",
       "      <td>NaN</td>\n",
       "      <td>NaN</td>\n",
       "      <td>NaT</td>\n",
       "      <td>NaN</td>\n",
       "      <td>NaN</td>\n",
       "      <td>NaN</td>\n",
       "      <td>NaN</td>\n",
       "    </tr>\n",
       "    <tr>\n",
       "      <th>7</th>\n",
       "      <td>295820</td>\n",
       "      <td>KOSPI</td>\n",
       "      <td>ARIRANG 200동일가중</td>\n",
       "      <td>NaN</td>\n",
       "      <td>NaN</td>\n",
       "      <td>NaT</td>\n",
       "      <td>NaN</td>\n",
       "      <td>NaN</td>\n",
       "      <td>NaN</td>\n",
       "      <td>NaN</td>\n",
       "    </tr>\n",
       "    <tr>\n",
       "      <th>8</th>\n",
       "      <td>253150</td>\n",
       "      <td>KOSPI</td>\n",
       "      <td>ARIRANG 200선물레버리지</td>\n",
       "      <td>NaN</td>\n",
       "      <td>NaN</td>\n",
       "      <td>NaT</td>\n",
       "      <td>NaN</td>\n",
       "      <td>NaN</td>\n",
       "      <td>NaN</td>\n",
       "      <td>NaN</td>\n",
       "    </tr>\n",
       "    <tr>\n",
       "      <th>...</th>\n",
       "      <td>...</td>\n",
       "      <td>...</td>\n",
       "      <td>...</td>\n",
       "      <td>...</td>\n",
       "      <td>...</td>\n",
       "      <td>...</td>\n",
       "      <td>...</td>\n",
       "      <td>...</td>\n",
       "      <td>...</td>\n",
       "      <td>...</td>\n",
       "    </tr>\n",
       "    <tr>\n",
       "      <th>8036</th>\n",
       "      <td>000540</td>\n",
       "      <td>KOSPI</td>\n",
       "      <td>흥국화재</td>\n",
       "      <td>보험업</td>\n",
       "      <td>손해보험</td>\n",
       "      <td>1974-12-05</td>\n",
       "      <td>12월</td>\n",
       "      <td>임규준</td>\n",
       "      <td>http://www.insurance.co.kr</td>\n",
       "      <td>서울특별시</td>\n",
       "    </tr>\n",
       "    <tr>\n",
       "      <th>8037</th>\n",
       "      <td>000547</td>\n",
       "      <td>KOSPI</td>\n",
       "      <td>흥국화재2우B</td>\n",
       "      <td>NaN</td>\n",
       "      <td>NaN</td>\n",
       "      <td>NaT</td>\n",
       "      <td>NaN</td>\n",
       "      <td>NaN</td>\n",
       "      <td>NaN</td>\n",
       "      <td>NaN</td>\n",
       "    </tr>\n",
       "    <tr>\n",
       "      <th>8038</th>\n",
       "      <td>000545</td>\n",
       "      <td>KOSPI</td>\n",
       "      <td>흥국화재우</td>\n",
       "      <td>NaN</td>\n",
       "      <td>NaN</td>\n",
       "      <td>NaT</td>\n",
       "      <td>NaN</td>\n",
       "      <td>NaN</td>\n",
       "      <td>NaN</td>\n",
       "      <td>NaN</td>\n",
       "    </tr>\n",
       "    <tr>\n",
       "      <th>8039</th>\n",
       "      <td>003280</td>\n",
       "      <td>KOSPI</td>\n",
       "      <td>흥아해운</td>\n",
       "      <td>해상 운송업</td>\n",
       "      <td>외항화물운송업(케미컬탱커)</td>\n",
       "      <td>1976-06-29</td>\n",
       "      <td>12월</td>\n",
       "      <td>이환구</td>\n",
       "      <td>http://www.heung-a.com</td>\n",
       "      <td>서울특별시</td>\n",
       "    </tr>\n",
       "    <tr>\n",
       "      <th>8041</th>\n",
       "      <td>419890</td>\n",
       "      <td>KOSPI</td>\n",
       "      <td>히어로즈 단기채권ESG액티브</td>\n",
       "      <td>NaN</td>\n",
       "      <td>NaN</td>\n",
       "      <td>NaT</td>\n",
       "      <td>NaN</td>\n",
       "      <td>NaN</td>\n",
       "      <td>NaN</td>\n",
       "      <td>NaN</td>\n",
       "    </tr>\n",
       "  </tbody>\n",
       "</table>\n",
       "<p>6344 rows × 10 columns</p>\n",
       "</div>"
      ],
      "text/plain": [
       "      Symbol Market               Name           Sector             Industry  \\\n",
       "1     095570  KOSPI             AJ네트웍스  산업용 기계 및 장비 임대업  렌탈(파렛트, OA장비, 건설장비)   \n",
       "2     006840  KOSPI              AK홀딩스           기타 금융업                 지주사업   \n",
       "6     152100  KOSPI        ARIRANG 200              NaN                  NaN   \n",
       "7     295820  KOSPI    ARIRANG 200동일가중              NaN                  NaN   \n",
       "8     253150  KOSPI  ARIRANG 200선물레버리지              NaN                  NaN   \n",
       "...      ...    ...                ...              ...                  ...   \n",
       "8036  000540  KOSPI               흥국화재              보험업                 손해보험   \n",
       "8037  000547  KOSPI            흥국화재2우B              NaN                  NaN   \n",
       "8038  000545  KOSPI              흥국화재우              NaN                  NaN   \n",
       "8039  003280  KOSPI               흥아해운           해상 운송업       외항화물운송업(케미컬탱커)   \n",
       "8041  419890  KOSPI    히어로즈 단기채권ESG액티브              NaN                  NaN   \n",
       "\n",
       "     ListingDate SettleMonth     Representative  \\\n",
       "1     2015-08-21         12월           박대현, 손삼달   \n",
       "2     1999-08-11         12월  채형석, 이석주(각자 대표이사)   \n",
       "6            NaT         NaN                NaN   \n",
       "7            NaT         NaN                NaN   \n",
       "8            NaT         NaN                NaN   \n",
       "...          ...         ...                ...   \n",
       "8036  1974-12-05         12월                임규준   \n",
       "8037         NaT         NaN                NaN   \n",
       "8038         NaT         NaN                NaN   \n",
       "8039  1976-06-29         12월                이환구   \n",
       "8041         NaT         NaN                NaN   \n",
       "\n",
       "                           HomePage Region  \n",
       "1            http://www.ajnet.co.kr  서울특별시  \n",
       "2     http://www.aekyunggroup.co.kr  서울특별시  \n",
       "6                               NaN    NaN  \n",
       "7                               NaN    NaN  \n",
       "8                               NaN    NaN  \n",
       "...                             ...    ...  \n",
       "8036     http://www.insurance.co.kr  서울특별시  \n",
       "8037                            NaN    NaN  \n",
       "8038                            NaN    NaN  \n",
       "8039         http://www.heung-a.com  서울특별시  \n",
       "8041                            NaN    NaN  \n",
       "\n",
       "[6344 rows x 10 columns]"
      ]
     },
     "metadata": {},
     "output_type": "display_data"
    }
   ],
   "source": [
    "import FinanceDataReader as fdr\n",
    "\n",
    "kp = fdr.StockListing(\"KOSPI\")\n",
    "display(kp)\n"
   ]
  },
  {
   "cell_type": "code",
   "execution_count": 4,
   "id": "324be6db",
   "metadata": {},
   "outputs": [
    {
     "name": "stderr",
     "output_type": "stream",
     "text": [
      "4621it [00:05, 771.15it/s]                                                                                             \n"
     ]
    },
    {
     "data": {
      "text/html": [
       "<div>\n",
       "<style scoped>\n",
       "    .dataframe tbody tr th:only-of-type {\n",
       "        vertical-align: middle;\n",
       "    }\n",
       "\n",
       "    .dataframe tbody tr th {\n",
       "        vertical-align: top;\n",
       "    }\n",
       "\n",
       "    .dataframe thead th {\n",
       "        text-align: right;\n",
       "    }\n",
       "</style>\n",
       "<table border=\"1\" class=\"dataframe\">\n",
       "  <thead>\n",
       "    <tr style=\"text-align: right;\">\n",
       "      <th></th>\n",
       "      <th>Symbol</th>\n",
       "      <th>Name</th>\n",
       "      <th>Industry</th>\n",
       "      <th>IndustryCode</th>\n",
       "    </tr>\n",
       "  </thead>\n",
       "  <tbody>\n",
       "    <tr>\n",
       "      <th>0</th>\n",
       "      <td>AAPL</td>\n",
       "      <td>Apple Inc</td>\n",
       "      <td>컴퓨터, 전화 및 가전제품</td>\n",
       "      <td>571060</td>\n",
       "    </tr>\n",
       "    <tr>\n",
       "      <th>1</th>\n",
       "      <td>MSFT</td>\n",
       "      <td>Microsoft Corp</td>\n",
       "      <td>소프트웨어 및 IT서비스</td>\n",
       "      <td>572010</td>\n",
       "    </tr>\n",
       "    <tr>\n",
       "      <th>2</th>\n",
       "      <td>AMZN</td>\n",
       "      <td>Amazon.com Inc</td>\n",
       "      <td>다양한 소매업</td>\n",
       "      <td>534020</td>\n",
       "    </tr>\n",
       "    <tr>\n",
       "      <th>3</th>\n",
       "      <td>TSLA</td>\n",
       "      <td>Tesla Inc</td>\n",
       "      <td>자동차 및 자동차 부품</td>\n",
       "      <td>531010</td>\n",
       "    </tr>\n",
       "    <tr>\n",
       "      <th>4</th>\n",
       "      <td>GOOGL</td>\n",
       "      <td>Alphabet Inc Class A</td>\n",
       "      <td>소프트웨어 및 IT서비스</td>\n",
       "      <td>572010</td>\n",
       "    </tr>\n",
       "    <tr>\n",
       "      <th>...</th>\n",
       "      <td>...</td>\n",
       "      <td>...</td>\n",
       "      <td>...</td>\n",
       "      <td>...</td>\n",
       "    </tr>\n",
       "    <tr>\n",
       "      <th>4616</th>\n",
       "      <td>RFACR</td>\n",
       "      <td>RF Acquisition Rights Exp 1st May 2028</td>\n",
       "      <td>기타 금융업</td>\n",
       "      <td>556010</td>\n",
       "    </tr>\n",
       "    <tr>\n",
       "      <th>4617</th>\n",
       "      <td>RWODR</td>\n",
       "      <td>Redwoods Acquisition Rights</td>\n",
       "      <td>기타 금융업</td>\n",
       "      <td>556010</td>\n",
       "    </tr>\n",
       "    <tr>\n",
       "      <th>4618</th>\n",
       "      <td>SVRE</td>\n",
       "      <td>Saverone 2014 Ltd ADR</td>\n",
       "      <td>소프트웨어 및 IT서비스</td>\n",
       "      <td>572010</td>\n",
       "    </tr>\n",
       "    <tr>\n",
       "      <th>4619</th>\n",
       "      <td>TENKU</td>\n",
       "      <td>Tenx Keane Acquisition Units</td>\n",
       "      <td>기타 금융업</td>\n",
       "      <td>556010</td>\n",
       "    </tr>\n",
       "    <tr>\n",
       "      <th>4620</th>\n",
       "      <td>HNVR</td>\n",
       "      <td>Hanover Bancorp Inc</td>\n",
       "      <td>은행</td>\n",
       "      <td>551010</td>\n",
       "    </tr>\n",
       "  </tbody>\n",
       "</table>\n",
       "<p>4621 rows × 4 columns</p>\n",
       "</div>"
      ],
      "text/plain": [
       "     Symbol                                    Name        Industry  \\\n",
       "0      AAPL                               Apple Inc  컴퓨터, 전화 및 가전제품   \n",
       "1      MSFT                          Microsoft Corp   소프트웨어 및 IT서비스   \n",
       "2      AMZN                          Amazon.com Inc         다양한 소매업   \n",
       "3      TSLA                               Tesla Inc    자동차 및 자동차 부품   \n",
       "4     GOOGL                    Alphabet Inc Class A   소프트웨어 및 IT서비스   \n",
       "...     ...                                     ...             ...   \n",
       "4616  RFACR  RF Acquisition Rights Exp 1st May 2028          기타 금융업   \n",
       "4617  RWODR             Redwoods Acquisition Rights          기타 금융업   \n",
       "4618   SVRE                   Saverone 2014 Ltd ADR   소프트웨어 및 IT서비스   \n",
       "4619  TENKU            Tenx Keane Acquisition Units          기타 금융업   \n",
       "4620   HNVR                     Hanover Bancorp Inc              은행   \n",
       "\n",
       "     IndustryCode  \n",
       "0          571060  \n",
       "1          572010  \n",
       "2          534020  \n",
       "3          531010  \n",
       "4          572010  \n",
       "...           ...  \n",
       "4616       556010  \n",
       "4617       556010  \n",
       "4618       572010  \n",
       "4619       556010  \n",
       "4620       551010  \n",
       "\n",
       "[4621 rows x 4 columns]"
      ]
     },
     "metadata": {},
     "output_type": "display_data"
    }
   ],
   "source": [
    "import FinanceDataReader as fdr\n",
    "\n",
    "sp = fdr.StockListing(\"NASDAQ\")\n",
    "display(sp)"
   ]
  },
  {
   "cell_type": "code",
   "execution_count": null,
   "id": "a3feec9e",
   "metadata": {},
   "outputs": [],
   "source": []
  },
  {
   "cell_type": "code",
   "execution_count": null,
   "id": "57eba1ba",
   "metadata": {},
   "outputs": [],
   "source": []
  },
  {
   "cell_type": "raw",
   "id": "36009a73",
   "metadata": {},
   "source": []
  },
  {
   "cell_type": "raw",
   "id": "7e5c102a",
   "metadata": {},
   "source": []
  },
  {
   "cell_type": "code",
   "execution_count": null,
   "id": "f6dcfba1",
   "metadata": {
    "scrolled": true
   },
   "outputs": [
    {
     "data": {
      "text/plain": [
       "'NASDAQ'"
      ]
     },
     "metadata": {},
     "output_type": "display_data"
    },
    {
     "name": "stderr",
     "output_type": "stream",
     "text": [
      "100%|█████████████████████████████████████████████████████████████████████████████| 4621/4621 [00:08<00:00, 525.05it/s]\n"
     ]
    },
    {
     "data": {
      "text/plain": [
       "'AAPL'"
      ]
     },
     "metadata": {},
     "output_type": "display_data"
    },
    {
     "data": {
      "text/plain": [
       "['AAPL', 'is under calculation, start money is 10000000\\\\ / 100000$']"
      ]
     },
     "metadata": {},
     "output_type": "display_data"
    },
    {
     "data": {
      "text/plain": [
       "[40113.14, 50000, 122.06, 9886.86, 81.0, 122.06]"
      ]
     },
     "metadata": {},
     "output_type": "display_data"
    },
    {
     "data": {
      "text/plain": [
       "0"
      ]
     },
     "metadata": {},
     "output_type": "display_data"
    },
    {
     "data": {
      "text/plain": [
       "[38191.06, 50000, 121.74164948453608, 11808.94, 97.0, 120.13]"
      ]
     },
     "metadata": {},
     "output_type": "display_data"
    },
    {
     "data": {
      "text/plain": [
       "'b8'"
      ]
     },
     "metadata": {},
     "output_type": "display_data"
    },
    {
     "data": {
      "text/plain": [
       "[36329.299999999996, 50000, 120.97964601769912, 13670.7, 113.0, 116.36]"
      ]
     },
     "metadata": {},
     "output_type": "display_data"
    },
    {
     "data": {
      "text/plain": [
       "'b8'"
      ]
     },
     "metadata": {},
     "output_type": "display_data"
    },
    {
     "data": {
      "text/plain": [
       "[34521.35, 50000, 120.92695312500001, 15478.650000000001, 128.0, 120.53]"
      ]
     },
     "metadata": {},
     "output_type": "display_data"
    },
    {
     "data": {
      "text/plain": [
       "'b8'"
      ]
     },
     "metadata": {},
     "output_type": "display_data"
    },
    {
     "data": {
      "text/plain": [
       "[32840.09, 50000, 120.84443661971831, 17159.91, 142.0, 120.09]"
      ]
     },
     "metadata": {},
     "output_type": "display_data"
    },
    {
     "data": {
      "text/plain": [
       "'b8'"
      ]
     },
     "metadata": {},
     "output_type": "display_data"
    },
    {
     "data": {
      "text/plain": [
       "[31281.389999999996, 50000, 120.76522580645161, 18718.61, 155.0, 119.9]"
      ]
     },
     "metadata": {},
     "output_type": "display_data"
    },
    {
     "data": {
      "text/plain": [
       "'b8'"
      ]
     },
     "metadata": {},
     "output_type": "display_data"
    },
    {
     "data": {
      "text/plain": [
       "[29837.749999999996, 50000, 121.45933734939759, 20162.25, 166.0, 131.24]"
      ]
     },
     "metadata": {},
     "output_type": "display_data"
    },
    {
     "data": {
      "text/plain": [
       "'b8'"
      ]
     },
     "metadata": {},
     "output_type": "display_data"
    },
    {
     "data": {
      "text/plain": [
       "[28385.42, 50000, 122.11627118644068, 21614.58, 177.0, 132.03]"
      ]
     },
     "metadata": {},
     "output_type": "display_data"
    },
    {
     "data": {
      "text/plain": [
       "'b8'"
      ]
     },
     "metadata": {},
     "output_type": "display_data"
    },
    {
     "data": {
      "text/plain": [
       "[27054.32, 50000, 122.70417112299465, 22945.68, 187.0, 133.11]"
      ]
     },
     "metadata": {},
     "output_type": "display_data"
    },
    {
     "data": {
      "text/plain": [
       "'b8'"
      ]
     },
     "metadata": {},
     "output_type": "display_data"
    },
    {
     "data": {
      "text/plain": [
       "[25734.92, 50000, 123.17299492385787, 24265.08, 197.0, 131.94]"
      ]
     },
     "metadata": {},
     "output_type": "display_data"
    },
    {
     "data": {
      "text/plain": [
       "'b8'"
      ]
     },
     "metadata": {},
     "output_type": "display_data"
    },
    {
     "data": {
      "text/plain": [
       "[24551.78, 50000, 123.53504854368933, 25448.22, 206.0, 131.46]"
      ]
     },
     "metadata": {},
     "output_type": "display_data"
    },
    {
     "data": {
      "text/plain": [
       "'b8'"
      ]
     },
     "metadata": {},
     "output_type": "display_data"
    },
    {
     "data": {
      "text/plain": [
       "[23401.129999999997,\n",
       " 50000,\n",
       " 123.71567441860466,\n",
       " 26598.870000000003,\n",
       " 215.0,\n",
       " 127.85]"
      ]
     },
     "metadata": {},
     "output_type": "display_data"
    },
    {
     "data": {
      "text/plain": [
       "'b8'"
      ]
     },
     "metadata": {},
     "output_type": "display_data"
    },
    {
     "data": {
      "text/plain": [
       "[22259.479999999996,\n",
       " 50000,\n",
       " 123.84160714285716,\n",
       " 27740.520000000004,\n",
       " 224.0,\n",
       " 126.85]"
      ]
     },
     "metadata": {},
     "output_type": "display_data"
    },
    {
     "data": {
      "text/plain": [
       "'b8'"
      ]
     },
     "metadata": {},
     "output_type": "display_data"
    },
    {
     "data": {
      "text/plain": [
       "[21154.549999999996,\n",
       " 50000,\n",
       " 123.8002145922747,\n",
       " 28845.450000000004,\n",
       " 233.0,\n",
       " 122.77]"
      ]
     },
     "metadata": {},
     "output_type": "display_data"
    },
    {
     "data": {
      "text/plain": [
       "'b8'"
      ]
     },
     "metadata": {},
     "output_type": "display_data"
    },
    {
     "data": {
      "text/plain": [
       "[20155.749999999996,\n",
       " 50000,\n",
       " 123.83506224066392,\n",
       " 29844.250000000004,\n",
       " 241.0,\n",
       " 124.85]"
      ]
     },
     "metadata": {},
     "output_type": "display_data"
    },
    {
     "data": {
      "text/plain": [
       "'b8'"
      ]
     },
     "metadata": {},
     "output_type": "display_data"
    },
    {
     "data": {
      "text/plain": [
       "[19152.309999999998,\n",
       " 50000,\n",
       " 123.88630522088354,\n",
       " 30847.690000000002,\n",
       " 249.0,\n",
       " 125.43]"
      ]
     },
     "metadata": {},
     "output_type": "display_data"
    },
    {
     "data": {
      "text/plain": [
       "'b8'"
      ]
     },
     "metadata": {},
     "output_type": "display_data"
    },
    {
     "data": {
      "text/plain": [
       "[18275.35, 50000, 123.9244140625, 31724.65, 256.0, 125.28]"
      ]
     },
     "metadata": {},
     "output_type": "display_data"
    },
    {
     "data": {
      "text/plain": [
       "'b8'"
      ]
     },
     "metadata": {},
     "output_type": "display_data"
    },
    {
     "data": {
      "text/plain": [
       "[17410.57, 50000, 123.91418250950571, 32589.43, 263.0, 123.54]"
      ]
     },
     "metadata": {},
     "output_type": "display_data"
    },
    {
     "data": {
      "text/plain": [
       "'b8'"
      ]
     },
     "metadata": {},
     "output_type": "display_data"
    },
    {
     "data": {
      "text/plain": [
       "[16627.81, 50000, 124.06018587360596, 33372.19, 269.0, 130.46]"
      ]
     },
     "metadata": {},
     "output_type": "display_data"
    },
    {
     "data": {
      "text/plain": [
       "'b8'"
      ]
     },
     "metadata": {},
     "output_type": "display_data"
    },
    {
     "data": {
      "text/plain": [
       "[15895.86, 50000, 124.46766423357664, 34104.14, 274.0, 146.39]"
      ]
     },
     "metadata": {},
     "output_type": "display_data"
    },
    {
     "data": {
      "text/plain": [
       "'b8'"
      ]
     },
     "metadata": {},
     "output_type": "display_data"
    },
    {
     "data": {
      "text/plain": [
       "[15183.61, 50000, 124.78992831541218, 34816.39, 279.0, 142.45]"
      ]
     },
     "metadata": {},
     "output_type": "display_data"
    },
    {
     "data": {
      "text/plain": [
       "'b8'"
      ]
     },
     "metadata": {},
     "output_type": "display_data"
    },
    {
     "data": {
      "text/plain": [
       "[14449.76, 50000, 125.1769014084507, 35550.24, 284.0, 146.77]"
      ]
     },
     "metadata": {},
     "output_type": "display_data"
    },
    {
     "data": {
      "text/plain": [
       "'b8'"
      ]
     },
     "metadata": {},
     "output_type": "display_data"
    },
    {
     "data": {
      "text/plain": [
       "[13869.84, 50000, 125.45194444444444, 36130.159999999996, 288.0, 144.98]"
      ]
     },
     "metadata": {},
     "output_type": "display_data"
    },
    {
     "data": {
      "text/plain": [
       "'b8'"
      ]
     },
     "metadata": {},
     "output_type": "display_data"
    },
    {
     "data": {
      "text/plain": [
       "[13284.4, 50000, 125.73835616438356, 36715.6, 292.0, 146.36]"
      ]
     },
     "metadata": {},
     "output_type": "display_data"
    },
    {
     "data": {
      "text/plain": [
       "'b8'"
      ]
     },
     "metadata": {},
     "output_type": "display_data"
    },
    {
     "data": {
      "text/plain": [
       "[35639.92, 50000, 125.73835616438356, 18357.8, 146.0, 153.12]"
      ]
     },
     "metadata": {},
     "output_type": "display_data"
    },
    {
     "data": {
      "text/plain": [
       "'s2'"
      ]
     },
     "metadata": {},
     "output_type": "display_data"
    },
    {
     "data": {
      "text/plain": [
       "[33933.71, 50000, 127.79624203821655, 20064.01, 157.0, 155.11]"
      ]
     },
     "metadata": {},
     "output_type": "display_data"
    },
    {
     "data": {
      "text/plain": [
       "'b8'"
      ]
     },
     "metadata": {},
     "output_type": "display_data"
    },
    {
     "data": {
      "text/plain": [
       "[32295.04, 50000, 129.18261904761906, 21702.68, 168.0, 148.97]"
      ]
     },
     "metadata": {},
     "output_type": "display_data"
    },
    {
     "data": {
      "text/plain": [
       "'b8'"
      ]
     },
     "metadata": {},
     "output_type": "display_data"
    },
    {
     "data": {
      "text/plain": [
       "[30688.38, 50000, 130.21977653631285, 23309.34, 179.0, 146.06]"
      ]
     },
     "metadata": {},
     "output_type": "display_data"
    },
    {
     "data": {
      "text/plain": [
       "'b8'"
      ]
     },
     "metadata": {},
     "output_type": "display_data"
    },
    {
     "data": {
      "text/plain": [
       "[29258.98, 50000, 130.89280423280425, 24738.74, 189.0, 142.94]"
      ]
     },
     "metadata": {},
     "output_type": "display_data"
    },
    {
     "data": {
      "text/plain": [
       "'b8'"
      ]
     },
     "metadata": {},
     "output_type": "display_data"
    },
    {
     "data": {
      "text/plain": [
       "[27805.28, 50000, 131.6203015075377, 26192.440000000002, 199.0, 145.37]"
      ]
     },
     "metadata": {},
     "output_type": "display_data"
    },
    {
     "data": {
      "text/plain": [
       "'b8'"
      ]
     },
     "metadata": {},
     "output_type": "display_data"
    },
    {
     "data": {
      "text/plain": [
       "[26528.09, 50000, 132.06552884615385, 27469.63, 208.0, 141.91]"
      ]
     },
     "metadata": {},
     "output_type": "display_data"
    },
    {
     "data": {
      "text/plain": [
       "'b8'"
      ]
     },
     "metadata": {},
     "output_type": "display_data"
    },
    {
     "data": {
      "text/plain": [
       "[25275.83, 50000, 132.3589400921659, 28721.89, 217.0, 139.14]"
      ]
     },
     "metadata": {},
     "output_type": "display_data"
    },
    {
     "data": {
      "text/plain": [
       "'b8'"
      ]
     },
     "metadata": {},
     "output_type": "display_data"
    },
    {
     "data": {
      "text/plain": [
       "[24077.43, 50000, 132.97906666666668, 29920.29, 225.0, 149.8]"
      ]
     },
     "metadata": {},
     "output_type": "display_data"
    },
    {
     "data": {
      "text/plain": [
       "'b8'"
      ]
     },
     "metadata": {},
     "output_type": "display_data"
    },
    {
     "data": {
      "text/plain": [
       "[22894.07, 50000, 133.49206008583693, 31103.65, 233.0, 147.92]"
      ]
     },
     "metadata": {},
     "output_type": "display_data"
    },
    {
     "data": {
      "text/plain": [
       "'b8'"
      ]
     },
     "metadata": {},
     "output_type": "display_data"
    },
    {
     "data": {
      "text/plain": [
       "[21796.4, 50000, 134.17216666666667, 32201.32, 240.0, 156.81]"
      ]
     },
     "metadata": {},
     "output_type": "display_data"
    },
    {
     "data": {
      "text/plain": [
       "'b8'"
      ]
     },
     "metadata": {},
     "output_type": "display_data"
    },
    {
     "data": {
      "text/plain": [
       "[41632.4, 50000, 134.17216666666667, 16100.66, 120.0, 165.3]"
      ]
     },
     "metadata": {},
     "output_type": "display_data"
    },
    {
     "data": {
      "text/plain": [
       "'s2'"
      ]
     },
     "metadata": {},
     "output_type": "display_data"
    },
    {
     "data": {
      "text/plain": [
       "[39690.32, 50000, 136.6874242424242, 18042.739999999998, 132.0, 161.84]"
      ]
     },
     "metadata": {},
     "output_type": "display_data"
    },
    {
     "data": {
      "text/plain": [
       "'b8'"
      ]
     },
     "metadata": {},
     "output_type": "display_data"
    },
    {
     "data": {
      "text/plain": [
       "[50988.2, 50000, 136.6874242424242, 9021.369999999999, 66.0, 171.18]"
      ]
     },
     "metadata": {},
     "output_type": "display_data"
    },
    {
     "data": {
      "text/plain": [
       "'s2'"
      ]
     },
     "metadata": {},
     "output_type": "display_data"
    },
    {
     "data": {
      "text/plain": [
       "[48527.84, 50000, 143.521625, 11481.73, 80.0, 175.74]"
      ]
     },
     "metadata": {},
     "output_type": "display_data"
    },
    {
     "data": {
      "text/plain": [
       "'b8'"
      ]
     },
     "metadata": {},
     "output_type": "display_data"
    },
    {
     "data": {
      "text/plain": [
       "[46116.2, 50000, 147.8018085106383, 13893.369999999999, 94.0, 172.26]"
      ]
     },
     "metadata": {},
     "output_type": "display_data"
    },
    {
     "data": {
      "text/plain": [
       "'b8'"
      ]
     },
     "metadata": {},
     "output_type": "display_data"
    },
    {
     "data": {
      "text/plain": [
       "[43959.799999999996,\n",
       " 50000,\n",
       " 151.4129245283019,\n",
       " 16049.769999999999,\n",
       " 106.0,\n",
       " 179.7]"
      ]
     },
     "metadata": {},
     "output_type": "display_data"
    },
    {
     "data": {
      "text/plain": [
       "'b8'"
      ]
     },
     "metadata": {},
     "output_type": "display_data"
    },
    {
     "data": {
      "text/plain": [
       "[41860.759999999995,\n",
       " 50000,\n",
       " 153.80347457627116,\n",
       " 18148.809999999998,\n",
       " 118.0,\n",
       " 174.92]"
      ]
     },
     "metadata": {},
     "output_type": "display_data"
    },
    {
     "data": {
      "text/plain": [
       "'b8'"
      ]
     },
     "metadata": {},
     "output_type": "display_data"
    },
    {
     "data": {
      "text/plain": [
       "[39796.759999999995,\n",
       " 50000,\n",
       " 155.48315384615384,\n",
       " 20212.809999999998,\n",
       " 130.0,\n",
       " 172.0]"
      ]
     },
     "metadata": {},
     "output_type": "display_data"
    },
    {
     "data": {
      "text/plain": [
       "'b8'"
      ]
     },
     "metadata": {},
     "output_type": "display_data"
    },
    {
     "data": {
      "text/plain": [
       "[37902.67, 50000, 156.78652482269501, 22106.899999999998, 141.0, 172.19]"
      ]
     },
     "metadata": {},
     "output_type": "display_data"
    },
    {
     "data": {
      "text/plain": [
       "'b8'"
      ]
     },
     "metadata": {},
     "output_type": "display_data"
    },
    {
     "data": {
      "text/plain": [
       "[36034.869999999995,\n",
       " 50000,\n",
       " 157.72828947368419,\n",
       " 23974.699999999997,\n",
       " 152.0,\n",
       " 169.8]"
      ]
     },
     "metadata": {},
     "output_type": "display_data"
    },
    {
     "data": {
      "text/plain": [
       "'b8'"
      ]
     },
     "metadata": {},
     "output_type": "display_data"
    },
    {
     "data": {
      "text/plain": [
       "[34372.56999999999,\n",
       " 50000,\n",
       " 158.25308641975306,\n",
       " 25636.999999999996,\n",
       " 162.0,\n",
       " 166.23]"
      ]
     },
     "metadata": {},
     "output_type": "display_data"
    },
    {
     "data": {
      "text/plain": [
       "'b8'"
      ]
     },
     "metadata": {},
     "output_type": "display_data"
    },
    {
     "data": {
      "text/plain": [
       "[32727.469999999994,\n",
       " 50000,\n",
       " 158.61686046511625,\n",
       " 27282.099999999995,\n",
       " 172.0,\n",
       " 164.51]"
      ]
     },
     "metadata": {},
     "output_type": "display_data"
    },
    {
     "data": {
      "text/plain": [
       "'b8'"
      ]
     },
     "metadata": {},
     "output_type": "display_data"
    },
    {
     "data": {
      "text/plain": [
       "[31103.369999999995,\n",
       " 50000,\n",
       " 158.82527472527468,\n",
       " 28906.199999999993,\n",
       " 182.0,\n",
       " 162.41]"
      ]
     },
     "metadata": {},
     "output_type": "display_data"
    },
    {
     "data": {
      "text/plain": [
       "'b8'"
      ]
     },
     "metadata": {},
     "output_type": "display_data"
    },
    {
     "data": {
      "text/plain": [
       "[29665.349999999995,\n",
       " 50000,\n",
       " 158.87026178010467,\n",
       " 30344.219999999994,\n",
       " 191.0,\n",
       " 159.78]"
      ]
     },
     "metadata": {},
     "output_type": "display_data"
    },
    {
     "data": {
      "text/plain": [
       "'b8'"
      ]
     },
     "metadata": {},
     "output_type": "display_data"
    },
    {
     "data": {
      "text/plain": [
       "[45846.7, 50000, 158.87026178010467, 15251.54513089005, 96.0, 170.33]"
      ]
     },
     "metadata": {},
     "output_type": "display_data"
    },
    {
     "data": {
      "text/plain": [
       "'s3'"
      ]
     },
     "metadata": {},
     "output_type": "display_data"
    },
    {
     "data": {
      "text/plain": [
       "[43599.0, 50000, 160.5435333109179, 17499.24513089005, 109.0, 172.9]"
      ]
     },
     "metadata": {},
     "output_type": "display_data"
    },
    {
     "data": {
      "text/plain": [
       "'b8'"
      ]
     },
     "metadata": {},
     "output_type": "display_data"
    },
    {
     "data": {
      "text/plain": [
       "[41533.56, 50000, 161.69161265198386, 19564.685130890048, 121.0, 172.12]"
      ]
     },
     "metadata": {},
     "output_type": "display_data"
    },
    {
     "data": {
      "text/plain": [
       "'b8'"
      ]
     },
     "metadata": {},
     "output_type": "display_data"
    },
    {
     "data": {
      "text/plain": [
       "[39509.88, 50000, 162.31853481872216, 21588.365130890048, 133.0, 168.64]"
      ]
     },
     "metadata": {},
     "output_type": "display_data"
    },
    {
     "data": {
      "text/plain": [
       "'b8'"
      ]
     },
     "metadata": {},
     "output_type": "display_data"
    },
    {
     "data": {
      "text/plain": [
       "[37652.2, 50000, 162.8197578534031, 23446.04513089005, 144.0, 168.88]"
      ]
     },
     "metadata": {},
     "output_type": "display_data"
    },
    {
     "data": {
      "text/plain": [
       "'b8'"
      ]
     },
     "metadata": {},
     "output_type": "display_data"
    },
    {
     "data": {
      "text/plain": [
       "[35844.68, 50000, 162.92622665090354, 25253.56513089005, 155.0, 164.32]"
      ]
     },
     "metadata": {},
     "output_type": "display_data"
    },
    {
     "data": {
      "text/plain": [
       "'b8'"
      ]
     },
     "metadata": {},
     "output_type": "display_data"
    },
    {
     "data": {
      "text/plain": [
       "[34083.91, 50000, 162.73695861981957, 27014.33513089005, 166.0, 160.07]"
      ]
     },
     "metadata": {},
     "output_type": "display_data"
    },
    {
     "data": {
      "text/plain": [
       "'b8'"
      ]
     },
     "metadata": {},
     "output_type": "display_data"
    },
    {
     "data": {
      "text/plain": [
       "[32451.910000000003,\n",
       " 50000,\n",
       " 162.76326778914802,\n",
       " 28646.33513089005,\n",
       " 176.0,\n",
       " 163.2]"
      ]
     },
     "metadata": {},
     "output_type": "display_data"
    },
    {
     "data": {
      "text/plain": [
       "'b8'"
      ]
     },
     "metadata": {},
     "output_type": "display_data"
    },
    {
     "data": {
      "text/plain": [
       "'MSFT'"
      ]
     },
     "metadata": {},
     "output_type": "display_data"
    },
    {
     "data": {
      "text/plain": [
       "['MSFT', 'is under calculation, start money is 10000000\\\\ / 100000$']"
      ]
     },
     "metadata": {},
     "output_type": "display_data"
    },
    {
     "data": {
      "text/plain": [
       "[40214.92, 50000, 227.56, 9785.08, 43.0, 227.56]"
      ]
     },
     "metadata": {},
     "output_type": "display_data"
    },
    {
     "data": {
      "text/plain": [
       "0"
      ]
     },
     "metadata": {},
     "output_type": "display_data"
    },
    {
     "data": {
      "text/plain": [
       "[38395.799999999996, 50000, 227.53333333333336, 11604.2, 51.0, 227.39]"
      ]
     },
     "metadata": {},
     "output_type": "display_data"
    },
    {
     "data": {
      "text/plain": [
       "'b8'"
      ]
     },
     "metadata": {},
     "output_type": "display_data"
    },
    {
     "data": {
      "text/plain": [
       "[36550.03999999999,\n",
       " 50000,\n",
       " 227.96542372881356,\n",
       " 13449.960000000001,\n",
       " 59.0,\n",
       " 230.72]"
      ]
     },
     "metadata": {},
     "output_type": "display_data"
    },
    {
     "data": {
      "text/plain": [
       "'b8'"
      ]
     },
     "metadata": {},
     "output_type": "display_data"
    },
    {
     "data": {
      "text/plain": [
       "[34923.659999999996, 50000, 228.42939393939395, 15076.34, 66.0, 232.34]"
      ]
     },
     "metadata": {},
     "output_type": "display_data"
    },
    {
     "data": {
      "text/plain": [
       "'b8'"
      ]
     },
     "metadata": {},
     "output_type": "display_data"
    },
    {
     "data": {
      "text/plain": [
       "[33300.71, 50000, 228.757397260274, 16699.29, 73.0, 231.85]"
      ]
     },
     "metadata": {},
     "output_type": "display_data"
    },
    {
     "data": {
      "text/plain": [
       "'b8'"
      ]
     },
     "metadata": {},
     "output_type": "display_data"
    },
    {
     "data": {
      "text/plain": [
       "[31767.17, 50000, 230.79531645569622, 18232.83, 79.0, 255.59]"
      ]
     },
     "metadata": {},
     "output_type": "display_data"
    },
    {
     "data": {
      "text/plain": [
       "'b8'"
      ]
     },
     "metadata": {},
     "output_type": "display_data"
    },
    {
     "data": {
      "text/plain": [
       "[30224.149999999998,\n",
       " 50000,\n",
       " 232.65705882352944,\n",
       " 19775.850000000002,\n",
       " 85.0,\n",
       " 257.17]"
      ]
     },
     "metadata": {},
     "output_type": "display_data"
    },
    {
     "data": {
      "text/plain": [
       "'b8'"
      ]
     },
     "metadata": {},
     "output_type": "display_data"
    },
    {
     "data": {
      "text/plain": [
       "[28951.35, 50000, 233.8738888888889, 21048.65, 90.0, 254.56]"
      ]
     },
     "metadata": {},
     "output_type": "display_data"
    },
    {
     "data": {
      "text/plain": [
       "'b8'"
      ]
     },
     "metadata": {},
     "output_type": "display_data"
    },
    {
     "data": {
      "text/plain": [
       "[27712.399999999998,\n",
       " 50000,\n",
       " 234.6063157894737,\n",
       " 22287.600000000002,\n",
       " 95.0,\n",
       " 247.79]"
      ]
     },
     "metadata": {},
     "output_type": "display_data"
    },
    {
     "data": {
      "text/plain": [
       "'b8'"
      ]
     },
     "metadata": {},
     "output_type": "display_data"
    },
    {
     "data": {
      "text/plain": [
       "[26476.499999999996,\n",
       " 50000,\n",
       " 235.23500000000004,\n",
       " 23523.500000000004,\n",
       " 100.0,\n",
       " 247.18]"
      ]
     },
     "metadata": {},
     "output_type": "display_data"
    },
    {
     "data": {
      "text/plain": [
       "'b8'"
      ]
     },
     "metadata": {},
     "output_type": "display_data"
    },
    {
     "data": {
      "text/plain": [
       "[25281.499999999996,\n",
       " 50000,\n",
       " 235.41428571428574,\n",
       " 24718.500000000004,\n",
       " 105.0,\n",
       " 239.0]"
      ]
     },
     "metadata": {},
     "output_type": "display_data"
    },
    {
     "data": {
      "text/plain": [
       "'b8'"
      ]
     },
     "metadata": {},
     "output_type": "display_data"
    },
    {
     "data": {
      "text/plain": [
       "[24055.599999999995,\n",
       " 50000,\n",
       " 235.85818181818186,\n",
       " 25944.400000000005,\n",
       " 110.0,\n",
       " 245.18]"
      ]
     },
     "metadata": {},
     "output_type": "display_data"
    },
    {
     "data": {
      "text/plain": [
       "'b8'"
      ]
     },
     "metadata": {},
     "output_type": "display_data"
    },
    {
     "data": {
      "text/plain": [
       "[22947.559999999994,\n",
       " 50000,\n",
       " 237.30210526315796,\n",
       " 27052.440000000006,\n",
       " 114.0,\n",
       " 277.01]"
      ]
     },
     "metadata": {},
     "output_type": "display_data"
    },
    {
     "data": {
      "text/plain": [
       "'b8'"
      ]
     },
     "metadata": {},
     "output_type": "display_data"
    },
    {
     "data": {
      "text/plain": [
       "[22047.949999999993,\n",
       " 50000,\n",
       " 238.9064102564103,\n",
       " 27952.050000000007,\n",
       " 117.0,\n",
       " 299.87]"
      ]
     },
     "metadata": {},
     "output_type": "display_data"
    },
    {
     "data": {
      "text/plain": [
       "'b8'"
      ]
     },
     "metadata": {},
     "output_type": "display_data"
    },
    {
     "data": {
      "text/plain": [
       "[21165.049999999992,\n",
       " 50000,\n",
       " 240.29125000000008,\n",
       " 28834.950000000008,\n",
       " 120.0,\n",
       " 294.3]"
      ]
     },
     "metadata": {},
     "output_type": "display_data"
    },
    {
     "data": {
      "text/plain": [
       "'b8'"
      ]
     },
     "metadata": {},
     "output_type": "display_data"
    },
    {
     "data": {
      "text/plain": [
       "[20282.539999999994,\n",
       " 50000,\n",
       " 241.60536585365858,\n",
       " 29717.460000000006,\n",
       " 123.0,\n",
       " 294.17]"
      ]
     },
     "metadata": {},
     "output_type": "display_data"
    },
    {
     "data": {
      "text/plain": [
       "'b8'"
      ]
     },
     "metadata": {},
     "output_type": "display_data"
    },
    {
     "data": {
      "text/plain": [
       "[19431.979999999992,\n",
       " 50000,\n",
       " 242.60333333333338,\n",
       " 30568.020000000008,\n",
       " 126.0,\n",
       " 283.52]"
      ]
     },
     "metadata": {},
     "output_type": "display_data"
    },
    {
     "data": {
      "text/plain": [
       "'b8'"
      ]
     },
     "metadata": {},
     "output_type": "display_data"
    },
    {
     "data": {
      "text/plain": [
       "[18582.64999999999, 50000, 243.5453488372094, 31417.35000000001, 129.0, 283.11]"
      ]
     },
     "metadata": {},
     "output_type": "display_data"
    },
    {
     "data": {
      "text/plain": [
       "'b8'"
      ]
     },
     "metadata": {},
     "output_type": "display_data"
    },
    {
     "data": {
      "text/plain": [
       "[39265.52999999999, 50000, 243.5453488372094, 15830.447674418609, 65.0, 323.17]"
      ]
     },
     "metadata": {},
     "output_type": "display_data"
    },
    {
     "data": {
      "text/plain": [
       "'s2'"
      ]
     },
     "metadata": {},
     "output_type": "display_data"
    },
    {
     "data": {
      "text/plain": [
       "[37611.52999999999, 50000, 249.77782392026586, 17484.44767441861, 70.0, 330.8]"
      ]
     },
     "metadata": {},
     "output_type": "display_data"
    },
    {
     "data": {
      "text/plain": [
       "'b8'"
      ]
     },
     "metadata": {},
     "output_type": "display_data"
    },
    {
     "data": {
      "text/plain": [
       "[35963.12999999999,\n",
       " 50000,\n",
       " 255.10463565891482,\n",
       " 19132.847674418612,\n",
       " 75.0,\n",
       " 329.68]"
      ]
     },
     "metadata": {},
     "output_type": "display_data"
    },
    {
     "data": {
      "text/plain": [
       "'b8'"
      ]
     },
     "metadata": {},
     "output_type": "display_data"
    },
    {
     "data": {
      "text/plain": [
       "[34310.17999999999,\n",
       " 50000,\n",
       " 259.82247093023267,\n",
       " 20785.797674418613,\n",
       " 80.0,\n",
       " 330.59]"
      ]
     },
     "metadata": {},
     "output_type": "display_data"
    },
    {
     "data": {
      "text/plain": [
       "'b8'"
      ]
     },
     "metadata": {},
     "output_type": "display_data"
    },
    {
     "data": {
      "text/plain": [
       "[32695.129999999994,\n",
       " 50000,\n",
       " 263.5393844049248,\n",
       " 22400.847674418612,\n",
       " 85.0,\n",
       " 323.01]"
      ]
     },
     "metadata": {},
     "output_type": "display_data"
    },
    {
     "data": {
      "text/plain": [
       "'b8'"
      ]
     },
     "metadata": {},
     "output_type": "display_data"
    },
    {
     "data": {
      "text/plain": [
       "[31381.769999999993,\n",
       " 50000,\n",
       " 266.45177162268106,\n",
       " 23714.207674418612,\n",
       " 89.0,\n",
       " 328.34]"
      ]
     },
     "metadata": {},
     "output_type": "display_data"
    },
    {
     "data": {
      "text/plain": [
       "'b8'"
      ]
     },
     "metadata": {},
     "output_type": "display_data"
    },
    {
     "data": {
      "text/plain": [
       "[30082.169999999995, 50000, 268.9656739184797, 25013.80767441861, 93.0, 324.9]"
      ]
     },
     "metadata": {},
     "output_type": "display_data"
    },
    {
     "data": {
      "text/plain": [
       "'b8'"
      ]
     },
     "metadata": {},
     "output_type": "display_data"
    },
    {
     "data": {
      "text/plain": [
       "[28802.529999999995,\n",
       " 50000,\n",
       " 271.06647087029495,\n",
       " 26293.44767441861,\n",
       " 97.0,\n",
       " 319.91]"
      ]
     },
     "metadata": {},
     "output_type": "display_data"
    },
    {
     "data": {
      "text/plain": [
       "'b8'"
      ]
     },
     "metadata": {},
     "output_type": "display_data"
    },
    {
     "data": {
      "text/plain": [
       "[27486.489999999994,\n",
       " 50000,\n",
       " 273.36126410315455,\n",
       " 27609.48767441861,\n",
       " 101.0,\n",
       " 329.01]"
      ]
     },
     "metadata": {},
     "output_type": "display_data"
    },
    {
     "data": {
      "text/plain": [
       "'b8'"
      ]
     },
     "metadata": {},
     "output_type": "display_data"
    },
    {
     "data": {
      "text/plain": [
       "[26220.969999999994,\n",
       " 50000,\n",
       " 275.00007308970106,\n",
       " 28875.00767441861,\n",
       " 105.0,\n",
       " 316.38]"
      ]
     },
     "metadata": {},
     "output_type": "display_data"
    },
    {
     "data": {
      "text/plain": [
       "'b8'"
      ]
     },
     "metadata": {},
     "output_type": "display_data"
    },
    {
     "data": {
      "text/plain": [
       "[25001.769999999993,\n",
       " 50000,\n",
       " 276.09364838916156,\n",
       " 30094.207674418612,\n",
       " 109.0,\n",
       " 304.8]"
      ]
     },
     "metadata": {},
     "output_type": "display_data"
    },
    {
     "data": {
      "text/plain": [
       "'b8'"
      ]
     },
     "metadata": {},
     "output_type": "display_data"
    },
    {
     "data": {
      "text/plain": [
       "[23791.169999999995, 50000, 277.033696233793, 31304.80767441861, 113.0, 302.65]"
      ]
     },
     "metadata": {},
     "output_type": "display_data"
    },
    {
     "data": {
      "text/plain": [
       "'b8'"
      ]
     },
     "metadata": {},
     "output_type": "display_data"
    },
    {
     "data": {
      "text/plain": [
       "[22607.049999999996,\n",
       " 50000,\n",
       " 277.6831425163984,\n",
       " 32488.92767441861,\n",
       " 117.0,\n",
       " 296.03]"
      ]
     },
     "metadata": {},
     "output_type": "display_data"
    },
    {
     "data": {
      "text/plain": [
       "'b8'"
      ]
     },
     "metadata": {},
     "output_type": "display_data"
    },
    {
     "data": {
      "text/plain": [
       "[21741.579999999994,\n",
       " 50000,\n",
       " 277.9533139534884,\n",
       " 33354.39767441861,\n",
       " 120.0,\n",
       " 288.49]"
      ]
     },
     "metadata": {},
     "output_type": "display_data"
    },
    {
     "data": {
      "text/plain": [
       "'b8'"
      ]
     },
     "metadata": {},
     "output_type": "display_data"
    },
    {
     "data": {
      "text/plain": [
       "[20837.829999999994,\n",
       " 50000,\n",
       " 278.52152580828135,\n",
       " 34258.14767441861,\n",
       " 123.0,\n",
       " 301.25]"
      ]
     },
     "metadata": {},
     "output_type": "display_data"
    },
    {
     "data": {
      "text/plain": [
       "'b8'"
      ]
     },
     "metadata": {},
     "output_type": "display_data"
    },
    {
     "data": {
      "text/plain": [
       "[19934.979999999996,\n",
       " 50000,\n",
       " 279.05553709856036,\n",
       " 35160.997674418606,\n",
       " 126.0,\n",
       " 300.95]"
      ]
     },
     "metadata": {},
     "output_type": "display_data"
    },
    {
     "data": {
      "text/plain": [
       "'b8'"
      ]
     },
     "metadata": {},
     "output_type": "display_data"
    },
    {
     "data": {
      "text/plain": [
       "[19027.839999999997,\n",
       " 50000,\n",
       " 279.5979664683613,\n",
       " 36068.137674418605,\n",
       " 129.0,\n",
       " 302.38]"
      ]
     },
     "metadata": {},
     "output_type": "display_data"
    },
    {
     "data": {
      "text/plain": [
       "'b8'"
      ]
     },
     "metadata": {},
     "output_type": "display_data"
    },
    {
     "data": {
      "text/plain": [
       "[18142.719999999998,\n",
       " 50000,\n",
       " 279.94892177589855,\n",
       " 36953.25767441861,\n",
       " 132.0,\n",
       " 295.04]"
      ]
     },
     "metadata": {},
     "output_type": "display_data"
    },
    {
     "data": {
      "text/plain": [
       "'b8'"
      ]
     },
     "metadata": {},
     "output_type": "display_data"
    },
    {
     "data": {
      "text/plain": [
       "[17270.53, 50000, 280.1885012919897, 37825.44767441861, 135.0, 290.73]"
      ]
     },
     "metadata": {},
     "output_type": "display_data"
    },
    {
     "data": {
      "text/plain": [
       "'b8'"
      ]
     },
     "metadata": {},
     "output_type": "display_data"
    },
    {
     "data": {
      "text/plain": [
       "[16429.719999999998,\n",
       " 50000,\n",
       " 280.1902730030334,\n",
       " 38666.25767441861,\n",
       " 138.0,\n",
       " 280.27]"
      ]
     },
     "metadata": {},
     "output_type": "display_data"
    },
    {
     "data": {
      "text/plain": [
       "'b8'"
      ]
     },
     "metadata": {},
     "output_type": "display_data"
    },
    {
     "data": {
      "text/plain": [
       "[36756.42999999999, 50000, 280.1902730030334, 19333.128837209304, 69.0, 294.59]"
      ]
     },
     "metadata": {},
     "output_type": "display_data"
    },
    {
     "data": {
      "text/plain": [
       "'s3'"
      ]
     },
     "metadata": {},
     "output_type": "display_data"
    },
    {
     "data": {
      "text/plain": [
       "[34986.729999999996,\n",
       " 50000,\n",
       " 281.3710511627907,\n",
       " 21102.828837209305,\n",
       " 75.0,\n",
       " 294.95]"
      ]
     },
     "metadata": {},
     "output_type": "display_data"
    },
    {
     "data": {
      "text/plain": [
       "'b8'"
      ]
     },
     "metadata": {},
     "output_type": "display_data"
    },
    {
     "data": {
      "text/plain": [
       "[33507.13, 50000, 282.2803604651163, 22582.428837209303, 80.0, 295.92]"
      ]
     },
     "metadata": {},
     "output_type": "display_data"
    },
    {
     "data": {
      "text/plain": [
       "'b8'"
      ]
     },
     "metadata": {},
     "output_type": "display_data"
    },
    {
     "data": {
      "text/plain": [
       "'AMZN'"
      ]
     },
     "metadata": {},
     "output_type": "display_data"
    },
    {
     "data": {
      "text/plain": [
       "['AMZN', 'is under calculation, start money is 10000000\\\\ / 100000$']"
      ]
     },
     "metadata": {},
     "output_type": "display_data"
    },
    {
     "data": {
      "text/plain": [
       "[40985.0, 50000, 3005.0, 9015.0, 3.0, 3005.0]"
      ]
     },
     "metadata": {},
     "output_type": "display_data"
    },
    {
     "data": {
      "text/plain": [
       "0"
      ]
     },
     "metadata": {},
     "output_type": "display_data"
    },
    {
     "data": {
      "text/plain": [
       "[40985.0, 50000, 3005.0, 9015.0, 3.0, 2951.95]"
      ]
     },
     "metadata": {},
     "output_type": "display_data"
    },
    {
     "data": {
      "text/plain": [
       "'b8'"
      ]
     },
     "metadata": {},
     "output_type": "display_data"
    },
    {
     "data": {
      "text/plain": [
       "[40985.0, 50000, 3005.0, 9015.0, 3.0, 3027.99]"
      ]
     },
     "metadata": {},
     "output_type": "display_data"
    },
    {
     "data": {
      "text/plain": [
       "'b8'"
      ]
     },
     "metadata": {},
     "output_type": "display_data"
    },
    {
     "data": {
      "text/plain": [
       "[40985.0, 50000, 3005.0, 9015.0, 3.0, 3087.07]"
      ]
     },
     "metadata": {},
     "output_type": "display_data"
    },
    {
     "data": {
      "text/plain": [
       "'b8'"
      ]
     },
     "metadata": {},
     "output_type": "display_data"
    },
    {
     "data": {
      "text/plain": [
       "[40985.0, 50000, 3005.0, 9015.0, 3.0, 3046.26]"
      ]
     },
     "metadata": {},
     "output_type": "display_data"
    },
    {
     "data": {
      "text/plain": [
       "'b8'"
      ]
     },
     "metadata": {},
     "output_type": "display_data"
    },
    {
     "data": {
      "text/plain": [
       "[40985.0, 50000, 3005.0, 9015.0, 3.0, 3333.0]"
      ]
     },
     "metadata": {},
     "output_type": "display_data"
    },
    {
     "data": {
      "text/plain": [
       "'b8'"
      ]
     },
     "metadata": {},
     "output_type": "display_data"
    },
    {
     "data": {
      "text/plain": [
       "[40985.0, 50000, 3005.0, 9015.0, 3.0, 3334.69]"
      ]
     },
     "metadata": {},
     "output_type": "display_data"
    },
    {
     "data": {
      "text/plain": [
       "'b8'"
      ]
     },
     "metadata": {},
     "output_type": "display_data"
    },
    {
     "data": {
      "text/plain": [
       "[40985.0, 50000, 3005.0, 9015.0, 3.0, 3309.04]"
      ]
     },
     "metadata": {},
     "output_type": "display_data"
    },
    {
     "data": {
      "text/plain": [
       "'b8'"
      ]
     },
     "metadata": {},
     "output_type": "display_data"
    },
    {
     "data": {
      "text/plain": [
       "[40985.0, 50000, 3005.0, 9015.0, 3.0, 3386.49]"
      ]
     },
     "metadata": {},
     "output_type": "display_data"
    },
    {
     "data": {
      "text/plain": [
       "'b8'"
      ]
     },
     "metadata": {},
     "output_type": "display_data"
    },
    {
     "data": {
      "text/plain": [
       "[40985.0, 50000, 3005.0, 9015.0, 3.0, 3311.87]"
      ]
     },
     "metadata": {},
     "output_type": "display_data"
    },
    {
     "data": {
      "text/plain": [
       "'b8'"
      ]
     },
     "metadata": {},
     "output_type": "display_data"
    },
    {
     "data": {
      "text/plain": [
       "[40985.0, 50000, 3005.0, 9015.0, 3.0, 3270.54]"
      ]
     },
     "metadata": {},
     "output_type": "display_data"
    },
    {
     "data": {
      "text/plain": [
       "'b8'"
      ]
     },
     "metadata": {},
     "output_type": "display_data"
    },
    {
     "data": {
      "text/plain": [
       "[40985.0, 50000, 3005.0, 9015.0, 3.0, 3190.49]"
      ]
     },
     "metadata": {},
     "output_type": "display_data"
    },
    {
     "data": {
      "text/plain": [
       "'b8'"
      ]
     },
     "metadata": {},
     "output_type": "display_data"
    },
    {
     "data": {
      "text/plain": [
       "[40985.0, 50000, 3005.0, 9015.0, 3.0, 3151.94]"
      ]
     },
     "metadata": {},
     "output_type": "display_data"
    },
    {
     "data": {
      "text/plain": [
       "'b8'"
      ]
     },
     "metadata": {},
     "output_type": "display_data"
    },
    {
     "data": {
      "text/plain": [
       "[40985.0, 50000, 3005.0, 9015.0, 3.0, 3232.28]"
      ]
     },
     "metadata": {},
     "output_type": "display_data"
    },
    {
     "data": {
      "text/plain": [
       "'b8'"
      ]
     },
     "metadata": {},
     "output_type": "display_data"
    },
    {
     "data": {
      "text/plain": [
       "[40985.0, 50000, 3005.0, 9015.0, 3.0, 3203.08]"
      ]
     },
     "metadata": {},
     "output_type": "display_data"
    },
    {
     "data": {
      "text/plain": [
       "'b8'"
      ]
     },
     "metadata": {},
     "output_type": "display_data"
    },
    {
     "data": {
      "text/plain": [
       "[40985.0, 50000, 3005.0, 9015.0, 3.0, 3230.11]"
      ]
     },
     "metadata": {},
     "output_type": "display_data"
    },
    {
     "data": {
      "text/plain": [
       "'b8'"
      ]
     },
     "metadata": {},
     "output_type": "display_data"
    },
    {
     "data": {
      "text/plain": [
       "[40985.0, 50000, 3005.0, 9015.0, 3.0, 3187.01]"
      ]
     },
     "metadata": {},
     "output_type": "display_data"
    },
    {
     "data": {
      "text/plain": [
       "'b8'"
      ]
     },
     "metadata": {},
     "output_type": "display_data"
    },
    {
     "data": {
      "text/plain": [
       "[40985.0, 50000, 3005.0, 9015.0, 3.0, 3449.1]"
      ]
     },
     "metadata": {},
     "output_type": "display_data"
    },
    {
     "data": {
      "text/plain": [
       "'b8'"
      ]
     },
     "metadata": {},
     "output_type": "display_data"
    },
    {
     "data": {
      "text/plain": [
       "[40985.0, 50000, 3005.0, 9015.0, 3.0, 3401.46]"
      ]
     },
     "metadata": {},
     "output_type": "display_data"
    },
    {
     "data": {
      "text/plain": [
       "'b8'"
      ]
     },
     "metadata": {},
     "output_type": "display_data"
    },
    {
     "data": {
      "text/plain": [
       "[44660.74, 50000, 3005.0, 6010.0, 2.0, 3675.74]"
      ]
     },
     "metadata": {},
     "output_type": "display_data"
    },
    {
     "data": {
      "text/plain": [
       "'s2'"
      ]
     },
     "metadata": {},
     "output_type": "display_data"
    },
    {
     "data": {
      "text/plain": [
       "[44660.74, 50000, 3005.0, 6010.0, 2.0, 3677.36]"
      ]
     },
     "metadata": {},
     "output_type": "display_data"
    },
    {
     "data": {
      "text/plain": [
       "'b8'"
      ]
     },
     "metadata": {},
     "output_type": "display_data"
    },
    {
     "data": {
      "text/plain": [
       "[44660.74, 50000, 3005.0, 6010.0, 2.0, 3631.2]"
      ]
     },
     "metadata": {},
     "output_type": "display_data"
    },
    {
     "data": {
      "text/plain": [
       "'b8'"
      ]
     },
     "metadata": {},
     "output_type": "display_data"
    },
    {
     "data": {
      "text/plain": [
       "[44660.74, 50000, 3005.0, 6010.0, 2.0, 3573.63]"
      ]
     },
     "metadata": {},
     "output_type": "display_data"
    },
    {
     "data": {
      "text/plain": [
       "'b8'"
      ]
     },
     "metadata": {},
     "output_type": "display_data"
    },
    {
     "data": {
      "text/plain": [
       "[44660.74, 50000, 3005.0, 6010.0, 2.0, 3626.39]"
      ]
     },
     "metadata": {},
     "output_type": "display_data"
    },
    {
     "data": {
      "text/plain": [
       "'b8'"
      ]
     },
     "metadata": {},
     "output_type": "display_data"
    },
    {
     "data": {
      "text/plain": [
       "[44660.74, 50000, 3005.0, 6010.0, 2.0, 3327.59]"
      ]
     },
     "metadata": {},
     "output_type": "display_data"
    },
    {
     "data": {
      "text/plain": [
       "'b8'"
      ]
     },
     "metadata": {},
     "output_type": "display_data"
    },
    {
     "data": {
      "text/plain": [
       "[44660.74, 50000, 3005.0, 6010.0, 2.0, 3241.96]"
      ]
     },
     "metadata": {},
     "output_type": "display_data"
    },
    {
     "data": {
      "text/plain": [
       "'b8'"
      ]
     },
     "metadata": {},
     "output_type": "display_data"
    },
    {
     "data": {
      "text/plain": [
       "[44660.74, 50000, 3005.0, 6010.0, 2.0, 3201.22]"
      ]
     },
     "metadata": {},
     "output_type": "display_data"
    },
    {
     "data": {
      "text/plain": [
       "'b8'"
      ]
     },
     "metadata": {},
     "output_type": "display_data"
    },
    {
     "data": {
      "text/plain": [
       "[44660.74, 50000, 3005.0, 6010.0, 2.0, 3484.16]"
      ]
     },
     "metadata": {},
     "output_type": "display_data"
    },
    {
     "data": {
      "text/plain": [
       "'b8'"
      ]
     },
     "metadata": {},
     "output_type": "display_data"
    },
    {
     "data": {
      "text/plain": [
       "[44660.74, 50000, 3005.0, 6010.0, 2.0, 3355.73]"
      ]
     },
     "metadata": {},
     "output_type": "display_data"
    },
    {
     "data": {
      "text/plain": [
       "'b8'"
      ]
     },
     "metadata": {},
     "output_type": "display_data"
    },
    {
     "data": {
      "text/plain": [
       "[44660.74, 50000, 3005.0, 6010.0, 2.0, 3315.96]"
      ]
     },
     "metadata": {},
     "output_type": "display_data"
    },
    {
     "data": {
      "text/plain": [
       "'b8'"
      ]
     },
     "metadata": {},
     "output_type": "display_data"
    },
    {
     "data": {
      "text/plain": [
       "[44660.74, 50000, 3005.0, 6010.0, 2.0, 3189.78]"
      ]
     },
     "metadata": {},
     "output_type": "display_data"
    },
    {
     "data": {
      "text/plain": [
       "'b8'"
      ]
     },
     "metadata": {},
     "output_type": "display_data"
    },
    {
     "data": {
      "text/plain": [
       "[44660.74, 50000, 3005.0, 6010.0, 2.0, 3246.3]"
      ]
     },
     "metadata": {},
     "output_type": "display_data"
    },
    {
     "data": {
      "text/plain": [
       "'b8'"
      ]
     },
     "metadata": {},
     "output_type": "display_data"
    },
    {
     "data": {
      "text/plain": [
       "[48069.759999999995, 50000, 3005.0, 3005.0, 1.0, 3409.02]"
      ]
     },
     "metadata": {},
     "output_type": "display_data"
    },
    {
     "data": {
      "text/plain": [
       "'s3'"
      ]
     },
     "metadata": {},
     "output_type": "display_data"
    },
    {
     "data": {
      "text/plain": [
       "[48069.759999999995, 50000, 3005.0, 3005.0, 1.0, 3335.55]"
      ]
     },
     "metadata": {},
     "output_type": "display_data"
    },
    {
     "data": {
      "text/plain": [
       "'b8'"
      ]
     },
     "metadata": {},
     "output_type": "display_data"
    },
    {
     "data": {
      "text/plain": [
       "[48069.759999999995, 50000, 3005.0, 3005.0, 1.0, 3372.43]"
      ]
     },
     "metadata": {},
     "output_type": "display_data"
    },
    {
     "data": {
      "text/plain": [
       "'b8'"
      ]
     },
     "metadata": {},
     "output_type": "display_data"
    },
    {
     "data": {
      "text/plain": [
       "[48069.759999999995, 50000, 3005.0, 3005.0, 1.0, 3318.11]"
      ]
     },
     "metadata": {},
     "output_type": "display_data"
    },
    {
     "data": {
      "text/plain": [
       "'b8'"
      ]
     },
     "metadata": {},
     "output_type": "display_data"
    },
    {
     "data": {
      "text/plain": [
       "[48069.759999999995, 50000, 3005.0, 3005.0, 1.0, 3482.05]"
      ]
     },
     "metadata": {},
     "output_type": "display_data"
    },
    {
     "data": {
      "text/plain": [
       "'b8'"
      ]
     },
     "metadata": {},
     "output_type": "display_data"
    },
    {
     "data": {
      "text/plain": [
       "[51765.81999999999, 50000, 0, 3005.0, 0, 3696.06]"
      ]
     },
     "metadata": {},
     "output_type": "display_data"
    },
    {
     "data": {
      "text/plain": [
       "'s2'"
      ]
     },
     "metadata": {},
     "output_type": "display_data"
    },
    {
     "name": "stderr",
     "output_type": "stream",
     "text": [
      "C:\\Users\\user\\AppData\\Local\\Temp\\ipykernel_5212\\2851475448.py:33: RuntimeWarning: divide by zero encountered in double_scalars\n",
      "  self.last = self.invested / self.stock\n"
     ]
    },
    {
     "data": {
      "text/plain": [
       "[51765.81999999999, 50000, inf, 3005.0, 0.0, 3676.57]"
      ]
     },
     "metadata": {},
     "output_type": "display_data"
    },
    {
     "data": {
      "text/plain": [
       "'b8'"
      ]
     },
     "metadata": {},
     "output_type": "display_data"
    },
    {
     "data": {
      "text/plain": [
       "[51765.81999999999, 50000, inf, 3005.0, 0.0, 3572.57]"
      ]
     },
     "metadata": {},
     "output_type": "display_data"
    },
    {
     "data": {
      "text/plain": [
       "'b4'"
      ]
     },
     "metadata": {},
     "output_type": "display_data"
    },
    {
     "data": {
      "text/plain": [
       "[51765.81999999999, 50000, inf, 3005.0, 0.0, 3504.56]"
      ]
     },
     "metadata": {},
     "output_type": "display_data"
    },
    {
     "data": {
      "text/plain": [
       "'b4'"
      ]
     },
     "metadata": {},
     "output_type": "display_data"
    },
    {
     "data": {
      "text/plain": [
       "[51765.81999999999, 50000, inf, 3005.0, 0.0, 3507.07]"
      ]
     },
     "metadata": {},
     "output_type": "display_data"
    },
    {
     "data": {
      "text/plain": [
       "'b4'"
      ]
     },
     "metadata": {},
     "output_type": "display_data"
    },
    {
     "data": {
      "text/plain": [
       "[51765.81999999999, 50000, inf, 3005.0, 0.0, 3443.72]"
      ]
     },
     "metadata": {},
     "output_type": "display_data"
    },
    {
     "data": {
      "text/plain": [
       "'b4'"
      ]
     },
     "metadata": {},
     "output_type": "display_data"
    },
    {
     "data": {
      "text/plain": [
       "[51765.81999999999, 50000, inf, 3005.0, 0.0, 3437.36]"
      ]
     },
     "metadata": {},
     "output_type": "display_data"
    },
    {
     "data": {
      "text/plain": [
       "'b4'"
      ]
     },
     "metadata": {},
     "output_type": "display_data"
    },
    {
     "data": {
      "text/plain": [
       "[51765.81999999999, 50000, inf, 3005.0, 0.0, 3389.79]"
      ]
     },
     "metadata": {},
     "output_type": "display_data"
    },
    {
     "data": {
      "text/plain": [
       "'b4'"
      ]
     },
     "metadata": {},
     "output_type": "display_data"
    },
    {
     "data": {
      "text/plain": [
       "[51765.81999999999, 50000, inf, 3005.0, 0.0, 3523.16]"
      ]
     },
     "metadata": {},
     "output_type": "display_data"
    },
    {
     "data": {
      "text/plain": [
       "'b4'"
      ]
     },
     "metadata": {},
     "output_type": "display_data"
    },
    {
     "data": {
      "text/plain": [
       "[51765.81999999999, 50000, inf, 3005.0, 0.0, 3483.42]"
      ]
     },
     "metadata": {},
     "output_type": "display_data"
    },
    {
     "data": {
      "text/plain": [
       "'b4'"
      ]
     },
     "metadata": {},
     "output_type": "display_data"
    },
    {
     "data": {
      "text/plain": [
       "[51765.81999999999, 50000, inf, 3005.0, 0.0, 3444.24]"
      ]
     },
     "metadata": {},
     "output_type": "display_data"
    },
    {
     "data": {
      "text/plain": [
       "'b4'"
      ]
     },
     "metadata": {},
     "output_type": "display_data"
    },
    {
     "data": {
      "text/plain": [
       "[51765.81999999999, 50000, inf, 3005.0, 0.0, 3391.35]"
      ]
     },
     "metadata": {},
     "output_type": "display_data"
    },
    {
     "data": {
      "text/plain": [
       "'b4'"
      ]
     },
     "metadata": {},
     "output_type": "display_data"
    },
    {
     "data": {
      "text/plain": [
       "[51765.81999999999, 50000, inf, 3005.0, 0.0, 3381.83]"
      ]
     },
     "metadata": {},
     "output_type": "display_data"
    },
    {
     "data": {
      "text/plain": [
       "'b4'"
      ]
     },
     "metadata": {},
     "output_type": "display_data"
    },
    {
     "data": {
      "text/plain": [
       "[51765.81999999999, 50000, inf, 3005.0, 0.0, 3377.42]"
      ]
     },
     "metadata": {},
     "output_type": "display_data"
    },
    {
     "data": {
      "text/plain": [
       "'b4'"
      ]
     },
     "metadata": {},
     "output_type": "display_data"
    },
    {
     "data": {
      "text/plain": [
       "[51765.81999999999, 50000, inf, 3005.0, 0.0, 3341.58]"
      ]
     },
     "metadata": {},
     "output_type": "display_data"
    },
    {
     "data": {
      "text/plain": [
       "'b4'"
      ]
     },
     "metadata": {},
     "output_type": "display_data"
    },
    {
     "data": {
      "text/plain": [
       "[51765.81999999999, 50000, inf, 3005.0, 0.0, 3393.39]"
      ]
     },
     "metadata": {},
     "output_type": "display_data"
    },
    {
     "data": {
      "text/plain": [
       "'b4'"
      ]
     },
     "metadata": {},
     "output_type": "display_data"
    },
    {
     "data": {
      "text/plain": [
       "[51765.81999999999, 50000, inf, 3005.0, 0.0, 3384.02]"
      ]
     },
     "metadata": {},
     "output_type": "display_data"
    },
    {
     "data": {
      "text/plain": [
       "'b4'"
      ]
     },
     "metadata": {},
     "output_type": "display_data"
    },
    {
     "data": {
      "text/plain": [
       "[51765.81999999999, 50000, inf, 3005.0, 0.0, 3372.89]"
      ]
     },
     "metadata": {},
     "output_type": "display_data"
    },
    {
     "data": {
      "text/plain": [
       "'b4'"
      ]
     },
     "metadata": {},
     "output_type": "display_data"
    },
    {
     "data": {
      "text/plain": [
       "[51765.81999999999, 50000, inf, 3005.0, 0.0, 3334.34]"
      ]
     },
     "metadata": {},
     "output_type": "display_data"
    },
    {
     "data": {
      "text/plain": [
       "'b4'"
      ]
     },
     "metadata": {},
     "output_type": "display_data"
    },
    {
     "data": {
      "text/plain": [
       "[51765.81999999999, 50000, inf, 3005.0, 0.0, 3350.44]"
      ]
     },
     "metadata": {},
     "output_type": "display_data"
    },
    {
     "data": {
      "text/plain": [
       "'b4'"
      ]
     },
     "metadata": {},
     "output_type": "display_data"
    },
    {
     "data": {
      "text/plain": [
       "[51765.81999999999, 50000, inf, 3005.0, 0.0, 3287.14]"
      ]
     },
     "metadata": {},
     "output_type": "display_data"
    },
    {
     "data": {
      "text/plain": [
       "'b4'"
      ]
     },
     "metadata": {},
     "output_type": "display_data"
    },
    {
     "data": {
      "text/plain": [
       "[51765.81999999999, 50000, inf, 3005.0, 0.0, 3265.08]"
      ]
     },
     "metadata": {},
     "output_type": "display_data"
    },
    {
     "data": {
      "text/plain": [
       "'b4'"
      ]
     },
     "metadata": {},
     "output_type": "display_data"
    },
    {
     "data": {
      "text/plain": [
       "[51765.81999999999, 50000, inf, 3005.0, 0.0, 3251.08]"
      ]
     },
     "metadata": {},
     "output_type": "display_data"
    },
    {
     "data": {
      "text/plain": [
       "'b4'"
      ]
     },
     "metadata": {},
     "output_type": "display_data"
    },
    {
     "data": {
      "text/plain": [
       "[51765.81999999999, 50000, inf, 3005.0, 0.0, 3229.72]"
      ]
     },
     "metadata": {},
     "output_type": "display_data"
    },
    {
     "data": {
      "text/plain": [
       "'b4'"
      ]
     },
     "metadata": {},
     "output_type": "display_data"
    },
    {
     "data": {
      "text/plain": [
       "[51765.81999999999, 50000, inf, 3005.0, 0.0, 3304.14]"
      ]
     },
     "metadata": {},
     "output_type": "display_data"
    },
    {
     "data": {
      "text/plain": [
       "'b4'"
      ]
     },
     "metadata": {},
     "output_type": "display_data"
    },
    {
     "data": {
      "text/plain": [
       "[51765.81999999999, 50000, inf, 3005.0, 0.0, 3224.28]"
      ]
     },
     "metadata": {},
     "output_type": "display_data"
    },
    {
     "data": {
      "text/plain": [
       "'b4'"
      ]
     },
     "metadata": {},
     "output_type": "display_data"
    },
    {
     "data": {
      "text/plain": [
       "[51765.81999999999, 50000, inf, 3005.0, 0.0, 3178.35]"
      ]
     },
     "metadata": {},
     "output_type": "display_data"
    },
    {
     "data": {
      "text/plain": [
       "'b4'"
      ]
     },
     "metadata": {},
     "output_type": "display_data"
    },
    {
     "data": {
      "text/plain": [
       "[51765.81999999999, 50000, inf, 3005.0, 0.0, 3125.98]"
      ]
     },
     "metadata": {},
     "output_type": "display_data"
    },
    {
     "data": {
      "text/plain": [
       "'b4'"
      ]
     },
     "metadata": {},
     "output_type": "display_data"
    },
    {
     "data": {
      "text/plain": [
       "[51765.81999999999, 50000, inf, 3005.0, 0.0, 3033.35]"
      ]
     },
     "metadata": {},
     "output_type": "display_data"
    },
    {
     "data": {
      "text/plain": [
       "'b4'"
      ]
     },
     "metadata": {},
     "output_type": "display_data"
    },
    {
     "data": {
      "text/plain": [
       "[51765.81999999999, 50000, inf, 3005.0, 0.0, 2852.86]"
      ]
     },
     "metadata": {},
     "output_type": "display_data"
    },
    {
     "data": {
      "text/plain": [
       "'b4'"
      ]
     },
     "metadata": {},
     "output_type": "display_data"
    },
    {
     "data": {
      "text/plain": [
       "[51765.81999999999, 50000, inf, 3005.0, 0.0, 2799.72]"
      ]
     },
     "metadata": {},
     "output_type": "display_data"
    },
    {
     "data": {
      "text/plain": [
       "'b4'"
      ]
     },
     "metadata": {},
     "output_type": "display_data"
    },
    {
     "data": {
      "text/plain": [
       "[51765.81999999999, 50000, inf, 3005.0, 0.0, 2777.45]"
      ]
     },
     "metadata": {},
     "output_type": "display_data"
    },
    {
     "data": {
      "text/plain": [
       "'b4'"
      ]
     },
     "metadata": {},
     "output_type": "display_data"
    },
    {
     "data": {
      "text/plain": [
       "[51765.81999999999, 50000, inf, 3005.0, 0.0, 3012.25]"
      ]
     },
     "metadata": {},
     "output_type": "display_data"
    },
    {
     "data": {
      "text/plain": [
       "'b4'"
      ]
     },
     "metadata": {},
     "output_type": "display_data"
    },
    {
     "data": {
      "text/plain": [
       "[51765.81999999999, 50000, inf, 3005.0, 0.0, 2776.91]"
      ]
     },
     "metadata": {},
     "output_type": "display_data"
    },
    {
     "data": {
      "text/plain": [
       "'b4'"
      ]
     },
     "metadata": {},
     "output_type": "display_data"
    },
    {
     "data": {
      "text/plain": [
       "[51765.81999999999, 50000, inf, 3005.0, 0.0, 3223.79]"
      ]
     },
     "metadata": {},
     "output_type": "display_data"
    },
    {
     "data": {
      "text/plain": [
       "'b4'"
      ]
     },
     "metadata": {},
     "output_type": "display_data"
    },
    {
     "data": {
      "text/plain": [
       "[51765.81999999999, 50000, inf, 3005.0, 0.0, 3180.07]"
      ]
     },
     "metadata": {},
     "output_type": "display_data"
    },
    {
     "data": {
      "text/plain": [
       "'b4'"
      ]
     },
     "metadata": {},
     "output_type": "display_data"
    },
    {
     "data": {
      "text/plain": [
       "[51765.81999999999, 50000, inf, 3005.0, 0.0, 3065.87]"
      ]
     },
     "metadata": {},
     "output_type": "display_data"
    },
    {
     "data": {
      "text/plain": [
       "'b4'"
      ]
     },
     "metadata": {},
     "output_type": "display_data"
    },
    {
     "data": {
      "text/plain": [
       "[51765.81999999999, 50000, inf, 3005.0, 0.0, 3093.05]"
      ]
     },
     "metadata": {},
     "output_type": "display_data"
    },
    {
     "data": {
      "text/plain": [
       "'b4'"
      ]
     },
     "metadata": {},
     "output_type": "display_data"
    },
    {
     "data": {
      "text/plain": [
       "[51765.81999999999, 50000, inf, 3005.0, 0.0, 3052.03]"
      ]
     },
     "metadata": {},
     "output_type": "display_data"
    },
    {
     "data": {
      "text/plain": [
       "'b4'"
      ]
     },
     "metadata": {},
     "output_type": "display_data"
    },
    {
     "data": {
      "text/plain": [
       "[51765.81999999999, 50000, inf, 3005.0, 0.0, 3003.95]"
      ]
     },
     "metadata": {},
     "output_type": "display_data"
    },
    {
     "data": {
      "text/plain": [
       "'b4'"
      ]
     },
     "metadata": {},
     "output_type": "display_data"
    },
    {
     "data": {
      "text/plain": [
       "[51765.81999999999, 50000, inf, 3005.0, 0.0, 2896.54]"
      ]
     },
     "metadata": {},
     "output_type": "display_data"
    },
    {
     "data": {
      "text/plain": [
       "'b4'"
      ]
     },
     "metadata": {},
     "output_type": "display_data"
    },
    {
     "data": {
      "text/plain": [
       "[51765.81999999999, 50000, inf, 3005.0, 0.0, 3071.26]"
      ]
     },
     "metadata": {},
     "output_type": "display_data"
    },
    {
     "data": {
      "text/plain": [
       "'b4'"
      ]
     },
     "metadata": {},
     "output_type": "display_data"
    },
    {
     "data": {
      "text/plain": [
       "[51765.81999999999, 50000, inf, 3005.0, 0.0, 3022.84]"
      ]
     },
     "metadata": {},
     "output_type": "display_data"
    },
    {
     "data": {
      "text/plain": [
       "'b4'"
      ]
     },
     "metadata": {},
     "output_type": "display_data"
    },
    {
     "data": {
      "text/plain": [
       "[51765.81999999999, 50000, inf, 3005.0, 0.0, 2957.97]"
      ]
     },
     "metadata": {},
     "output_type": "display_data"
    },
    {
     "data": {
      "text/plain": [
       "'b4'"
      ]
     },
     "metadata": {},
     "output_type": "display_data"
    },
    {
     "data": {
      "text/plain": [
       "'GOOGL'"
      ]
     },
     "metadata": {},
     "output_type": "display_data"
    },
    {
     "data": {
      "text/plain": [
       "['GOOGL', 'is under calculation, start money is 10000000\\\\ / 100000$']"
      ]
     },
     "metadata": {},
     "output_type": "display_data"
    },
    {
     "data": {
      "text/plain": [
       "[41954.36, 50000, 2011.41, 8045.64, 4.0, 2011.41]"
      ]
     },
     "metadata": {},
     "output_type": "display_data"
    },
    {
     "data": {
      "text/plain": [
       "0"
      ]
     },
     "metadata": {},
     "output_type": "display_data"
    },
    {
     "data": {
      "text/plain": [
       "[39946.86, 50000, 2010.628, 10053.14, 5.0, 2007.5]"
      ]
     },
     "metadata": {},
     "output_type": "display_data"
    },
    {
     "data": {
      "text/plain": [
       "'b8'"
      ]
     },
     "metadata": {},
     "output_type": "display_data"
    },
    {
     "data": {
      "text/plain": [
       "[39946.86, 50000, 2010.628, 10053.14, 5.0, 2050.0]"
      ]
     },
     "metadata": {},
     "output_type": "display_data"
    },
    {
     "data": {
      "text/plain": [
       "'b8'"
      ]
     },
     "metadata": {},
     "output_type": "display_data"
    },
    {
     "data": {
      "text/plain": [
       "[39946.86, 50000, 2010.628, 10053.14, 5.0, 2021.34]"
      ]
     },
     "metadata": {},
     "output_type": "display_data"
    },
    {
     "data": {
      "text/plain": [
       "'b8'"
      ]
     },
     "metadata": {},
     "output_type": "display_data"
    },
    {
     "data": {
      "text/plain": [
       "[44206.42, 50000, 2010.628, 6031.884, 3.0, 2129.78]"
      ]
     },
     "metadata": {},
     "output_type": "display_data"
    },
    {
     "data": {
      "text/plain": [
       "'s3'"
      ]
     },
     "metadata": {},
     "output_type": "display_data"
    },
    {
     "data": {
      "text/plain": [
       "[46425.38, 50000, 2010.628, 4021.2560000000003, 2.0, 2218.96]"
      ]
     },
     "metadata": {},
     "output_type": "display_data"
    },
    {
     "data": {
      "text/plain": [
       "'s3'"
      ]
     },
     "metadata": {},
     "output_type": "display_data"
    },
    {
     "data": {
      "text/plain": [
       "[44180.759999999995, 50000, 2088.6253333333334, 6265.876, 3.0, 2244.62]"
      ]
     },
     "metadata": {},
     "output_type": "display_data"
    },
    {
     "data": {
      "text/plain": [
       "'b8'"
      ]
     },
     "metadata": {},
     "output_type": "display_data"
    },
    {
     "data": {
      "text/plain": [
       "[44180.759999999995, 50000, 2088.6253333333334, 6265.876, 3.0, 2252.52]"
      ]
     },
     "metadata": {},
     "output_type": "display_data"
    },
    {
     "data": {
      "text/plain": [
       "'b8'"
      ]
     },
     "metadata": {},
     "output_type": "display_data"
    },
    {
     "data": {
      "text/plain": [
       "[44180.759999999995, 50000, 2088.6253333333334, 6265.876, 3.0, 2353.5]"
      ]
     },
     "metadata": {},
     "output_type": "display_data"
    },
    {
     "data": {
      "text/plain": [
       "'b8'"
      ]
     },
     "metadata": {},
     "output_type": "display_data"
    },
    {
     "data": {
      "text/plain": [
       "[44180.759999999995, 50000, 2088.6253333333334, 6265.876, 3.0, 2306.83]"
      ]
     },
     "metadata": {},
     "output_type": "display_data"
    },
    {
     "data": {
      "text/plain": [
       "'b8'"
      ]
     },
     "metadata": {},
     "output_type": "display_data"
    },
    {
     "data": {
      "text/plain": [
       "[44180.759999999995, 50000, 2088.6253333333334, 6265.876, 3.0, 2291.75]"
      ]
     },
     "metadata": {},
     "output_type": "display_data"
    },
    {
     "data": {
      "text/plain": [
       "'b8'"
      ]
     },
     "metadata": {},
     "output_type": "display_data"
    },
    {
     "data": {
      "text/plain": [
       "[41980.509999999995, 50000, 2116.5315, 8466.126, 4.0, 2200.25]"
      ]
     },
     "metadata": {},
     "output_type": "display_data"
    },
    {
     "data": {
      "text/plain": [
       "'b8'"
      ]
     },
     "metadata": {},
     "output_type": "display_data"
    },
    {
     "data": {
      "text/plain": [
       "[41980.509999999995, 50000, 2116.5315, 8466.126, 4.0, 2262.47]"
      ]
     },
     "metadata": {},
     "output_type": "display_data"
    },
    {
     "data": {
      "text/plain": [
       "'b8'"
      ]
     },
     "metadata": {},
     "output_type": "display_data"
    },
    {
     "data": {
      "text/plain": [
       "[41980.509999999995, 50000, 2116.5315, 8466.126, 4.0, 2402.22]"
      ]
     },
     "metadata": {},
     "output_type": "display_data"
    },
    {
     "data": {
      "text/plain": [
       "'b8'"
      ]
     },
     "metadata": {},
     "output_type": "display_data"
    },
    {
     "data": {
      "text/plain": [
       "[41980.509999999995, 50000, 2116.5315, 8466.126, 4.0, 2500.9]"
      ]
     },
     "metadata": {},
     "output_type": "display_data"
    },
    {
     "data": {
      "text/plain": [
       "'b8'"
      ]
     },
     "metadata": {},
     "output_type": "display_data"
    },
    {
     "data": {
      "text/plain": [
       "[41980.509999999995, 50000, 2116.5315, 8466.126, 4.0, 2491.6]"
      ]
     },
     "metadata": {},
     "output_type": "display_data"
    },
    {
     "data": {
      "text/plain": [
       "'b8'"
      ]
     },
     "metadata": {},
     "output_type": "display_data"
    },
    {
     "data": {
      "text/plain": [
       "[47301.10999999999, 50000, 2116.5315, 4233.063, 2.0, 2660.3]"
      ]
     },
     "metadata": {},
     "output_type": "display_data"
    },
    {
     "data": {
      "text/plain": [
       "'s2'"
      ]
     },
     "metadata": {},
     "output_type": "display_data"
    },
    {
     "data": {
      "text/plain": [
       "[47301.10999999999, 50000, 2116.5315, 4233.063, 2.0, 2638.0]"
      ]
     },
     "metadata": {},
     "output_type": "display_data"
    },
    {
     "data": {
      "text/plain": [
       "'b8'"
      ]
     },
     "metadata": {},
     "output_type": "display_data"
    },
    {
     "data": {
      "text/plain": [
       "[50023.009999999995, 50000, 2116.5315, 2116.5315, 1.0, 2721.9]"
      ]
     },
     "metadata": {},
     "output_type": "display_data"
    },
    {
     "data": {
      "text/plain": [
       "'s2'"
      ]
     },
     "metadata": {},
     "output_type": "display_data"
    },
    {
     "data": {
      "text/plain": [
       "[50023.009999999995, 50000, 2116.5315, 2116.5315, 1.0, 2733.23]"
      ]
     },
     "metadata": {},
     "output_type": "display_data"
    },
    {
     "data": {
      "text/plain": [
       "'b8'"
      ]
     },
     "metadata": {},
     "output_type": "display_data"
    },
    {
     "data": {
      "text/plain": [
       "[50023.009999999995, 50000, 2116.5315, 2116.5315, 1.0, 2865.74]"
      ]
     },
     "metadata": {},
     "output_type": "display_data"
    },
    {
     "data": {
      "text/plain": [
       "'b8'"
      ]
     },
     "metadata": {},
     "output_type": "display_data"
    },
    {
     "data": {
      "text/plain": [
       "[50023.009999999995, 50000, 2116.5315, 2116.5315, 1.0, 2817.52]"
      ]
     },
     "metadata": {},
     "output_type": "display_data"
    },
    {
     "data": {
      "text/plain": [
       "'b8'"
      ]
     },
     "metadata": {},
     "output_type": "display_data"
    },
    {
     "data": {
      "text/plain": [
       "[50023.009999999995, 50000, 2116.5315, 2116.5315, 1.0, 2816.0]"
      ]
     },
     "metadata": {},
     "output_type": "display_data"
    },
    {
     "data": {
      "text/plain": [
       "'b8'"
      ]
     },
     "metadata": {},
     "output_type": "display_data"
    },
    {
     "data": {
      "text/plain": [
       "[50023.009999999995, 50000, 2116.5315, 2116.5315, 1.0, 2774.39]"
      ]
     },
     "metadata": {},
     "output_type": "display_data"
    },
    {
     "data": {
      "text/plain": [
       "'b8'"
      ]
     },
     "metadata": {},
     "output_type": "display_data"
    },
    {
     "data": {
      "text/plain": [
       "[50023.009999999995, 50000, 2116.5315, 2116.5315, 1.0, 2716.6]"
      ]
     },
     "metadata": {},
     "output_type": "display_data"
    },
    {
     "data": {
      "text/plain": [
       "'b8'"
      ]
     },
     "metadata": {},
     "output_type": "display_data"
    },
    {
     "data": {
      "text/plain": [
       "[50023.009999999995, 50000, 2116.5315, 2116.5315, 1.0, 2687.07]"
      ]
     },
     "metadata": {},
     "output_type": "display_data"
    },
    {
     "data": {
      "text/plain": [
       "'b8'"
      ]
     },
     "metadata": {},
     "output_type": "display_data"
    },
    {
     "data": {
      "text/plain": [
       "[50023.009999999995, 50000, 2116.5315, 2116.5315, 1.0, 2673.19]"
      ]
     },
     "metadata": {},
     "output_type": "display_data"
    },
    {
     "data": {
      "text/plain": [
       "'b8'"
      ]
     },
     "metadata": {},
     "output_type": "display_data"
    },
    {
     "data": {
      "text/plain": [
       "[50023.009999999995, 50000, 2116.5315, 2116.5315, 1.0, 2728.98]"
      ]
     },
     "metadata": {},
     "output_type": "display_data"
    },
    {
     "data": {
      "text/plain": [
       "'b8'"
      ]
     },
     "metadata": {},
     "output_type": "display_data"
    },
    {
     "data": {
      "text/plain": [
       "[50023.009999999995, 50000, 2116.5315, 2116.5315, 1.0, 2835.38]"
      ]
     },
     "metadata": {},
     "output_type": "display_data"
    },
    {
     "data": {
      "text/plain": [
       "'b8'"
      ]
     },
     "metadata": {},
     "output_type": "display_data"
    },
    {
     "data": {
      "text/plain": [
       "[50023.009999999995, 50000, 2116.5315, 2116.5315, 1.0, 2751.33]"
      ]
     },
     "metadata": {},
     "output_type": "display_data"
    },
    {
     "data": {
      "text/plain": [
       "'b8'"
      ]
     },
     "metadata": {},
     "output_type": "display_data"
    },
    {
     "data": {
      "text/plain": [
       "[52947.35999999999, 50000, 0, 2116.5315, 0, 2924.35]"
      ]
     },
     "metadata": {},
     "output_type": "display_data"
    },
    {
     "data": {
      "text/plain": [
       "'s2'"
      ]
     },
     "metadata": {},
     "output_type": "display_data"
    },
    {
     "name": "stderr",
     "output_type": "stream",
     "text": [
      "C:\\Users\\user\\AppData\\Local\\Temp\\ipykernel_5212\\2851475448.py:33: RuntimeWarning: divide by zero encountered in double_scalars\n",
      "  self.last = self.invested / self.stock\n"
     ]
    },
    {
     "data": {
      "text/plain": [
       "[52947.35999999999, 50000, inf, 2116.5315, 0.0, 2916.98]"
      ]
     },
     "metadata": {},
     "output_type": "display_data"
    },
    {
     "data": {
      "text/plain": [
       "'b8'"
      ]
     },
     "metadata": {},
     "output_type": "display_data"
    },
    {
     "data": {
      "text/plain": [
       "[52947.35999999999, 50000, inf, 2116.5315, 0.0, 2869.94]"
      ]
     },
     "metadata": {},
     "output_type": "display_data"
    },
    {
     "data": {
      "text/plain": [
       "'b4'"
      ]
     },
     "metadata": {},
     "output_type": "display_data"
    },
    {
     "data": {
      "text/plain": [
       "[52947.35999999999, 50000, inf, 2116.5315, 0.0, 2978.37]"
      ]
     },
     "metadata": {},
     "output_type": "display_data"
    },
    {
     "data": {
      "text/plain": [
       "'b4'"
      ]
     },
     "metadata": {},
     "output_type": "display_data"
    },
    {
     "data": {
      "text/plain": [
       "[52947.35999999999, 50000, inf, 2116.5315, 0.0, 2917.87]"
      ]
     },
     "metadata": {},
     "output_type": "display_data"
    },
    {
     "data": {
      "text/plain": [
       "'b4'"
      ]
     },
     "metadata": {},
     "output_type": "display_data"
    },
    {
     "data": {
      "text/plain": [
       "[52947.35999999999, 50000, inf, 2116.5315, 0.0, 2915.33]"
      ]
     },
     "metadata": {},
     "output_type": "display_data"
    },
    {
     "data": {
      "text/plain": [
       "'b4'"
      ]
     },
     "metadata": {},
     "output_type": "display_data"
    },
    {
     "data": {
      "text/plain": [
       "[52947.35999999999, 50000, inf, 2116.5315, 0.0, 2969.04]"
      ]
     },
     "metadata": {},
     "output_type": "display_data"
    },
    {
     "data": {
      "text/plain": [
       "'b4'"
      ]
     },
     "metadata": {},
     "output_type": "display_data"
    },
    {
     "data": {
      "text/plain": [
       "[52947.35999999999, 50000, inf, 2116.5315, 0.0, 2957.52]"
      ]
     },
     "metadata": {},
     "output_type": "display_data"
    },
    {
     "data": {
      "text/plain": [
       "'b4'"
      ]
     },
     "metadata": {},
     "output_type": "display_data"
    },
    {
     "data": {
      "text/plain": [
       "[52947.35999999999, 50000, inf, 2116.5315, 0.0, 2978.53]"
      ]
     },
     "metadata": {},
     "output_type": "display_data"
    },
    {
     "data": {
      "text/plain": [
       "'b4'"
      ]
     },
     "metadata": {},
     "output_type": "display_data"
    },
    {
     "data": {
      "text/plain": [
       "[52947.35999999999, 50000, inf, 2116.5315, 0.0, 2926.04]"
      ]
     },
     "metadata": {},
     "output_type": "display_data"
    },
    {
     "data": {
      "text/plain": [
       "'b4'"
      ]
     },
     "metadata": {},
     "output_type": "display_data"
    },
    {
     "data": {
      "text/plain": [
       "[52947.35999999999, 50000, inf, 2116.5315, 0.0, 2915.64]"
      ]
     },
     "metadata": {},
     "output_type": "display_data"
    },
    {
     "data": {
      "text/plain": [
       "'b4'"
      ]
     },
     "metadata": {},
     "output_type": "display_data"
    },
    {
     "data": {
      "text/plain": [
       "[52947.35999999999, 50000, inf, 2116.5315, 0.0, 2843.66]"
      ]
     },
     "metadata": {},
     "output_type": "display_data"
    },
    {
     "data": {
      "text/plain": [
       "'b4'"
      ]
     },
     "metadata": {},
     "output_type": "display_data"
    },
    {
     "data": {
      "text/plain": [
       "[52947.35999999999, 50000, inf, 2116.5315, 0.0, 2837.95]"
      ]
     },
     "metadata": {},
     "output_type": "display_data"
    },
    {
     "data": {
      "text/plain": [
       "'b4'"
      ]
     },
     "metadata": {},
     "output_type": "display_data"
    },
    {
     "data": {
      "text/plain": [
       "[52947.35999999999, 50000, inf, 2116.5315, 0.0, 2821.03]"
      ]
     },
     "metadata": {},
     "output_type": "display_data"
    },
    {
     "data": {
      "text/plain": [
       "'b4'"
      ]
     },
     "metadata": {},
     "output_type": "display_data"
    },
    {
     "data": {
      "text/plain": [
       "[52947.35999999999, 50000, inf, 2116.5315, 0.0, 2840.03]"
      ]
     },
     "metadata": {},
     "output_type": "display_data"
    },
    {
     "data": {
      "text/plain": [
       "'b4'"
      ]
     },
     "metadata": {},
     "output_type": "display_data"
    },
    {
     "data": {
      "text/plain": [
       "[52947.35999999999, 50000, inf, 2116.5315, 0.0, 2952.77]"
      ]
     },
     "metadata": {},
     "output_type": "display_data"
    },
    {
     "data": {
      "text/plain": [
       "'b4'"
      ]
     },
     "metadata": {},
     "output_type": "display_data"
    },
    {
     "data": {
      "text/plain": [
       "[52947.35999999999, 50000, inf, 2116.5315, 0.0, 2916.53]"
      ]
     },
     "metadata": {},
     "output_type": "display_data"
    },
    {
     "data": {
      "text/plain": [
       "'b4'"
      ]
     },
     "metadata": {},
     "output_type": "display_data"
    },
    {
     "data": {
      "text/plain": [
       "[52947.35999999999, 50000, inf, 2116.5315, 0.0, 2878.14]"
      ]
     },
     "metadata": {},
     "output_type": "display_data"
    },
    {
     "data": {
      "text/plain": [
       "'b4'"
      ]
     },
     "metadata": {},
     "output_type": "display_data"
    },
    {
     "data": {
      "text/plain": [
       "[52947.35999999999, 50000, inf, 2116.5315, 0.0, 2888.9]"
      ]
     },
     "metadata": {},
     "output_type": "display_data"
    },
    {
     "data": {
      "text/plain": [
       "'b4'"
      ]
     },
     "metadata": {},
     "output_type": "display_data"
    },
    {
     "data": {
      "text/plain": [
       "[52947.35999999999, 50000, inf, 2116.5315, 0.0, 2834.5]"
      ]
     },
     "metadata": {},
     "output_type": "display_data"
    },
    {
     "data": {
      "text/plain": [
       "'b4'"
      ]
     },
     "metadata": {},
     "output_type": "display_data"
    },
    {
     "data": {
      "text/plain": [
       "[52947.35999999999, 50000, inf, 2116.5315, 0.0, 2832.14]"
      ]
     },
     "metadata": {},
     "output_type": "display_data"
    },
    {
     "data": {
      "text/plain": [
       "'b4'"
      ]
     },
     "metadata": {},
     "output_type": "display_data"
    },
    {
     "data": {
      "text/plain": [
       "[52947.35999999999, 50000, inf, 2116.5315, 0.0, 2933.74]"
      ]
     },
     "metadata": {},
     "output_type": "display_data"
    },
    {
     "data": {
      "text/plain": [
       "'b4'"
      ]
     },
     "metadata": {},
     "output_type": "display_data"
    },
    {
     "data": {
      "text/plain": [
       "[52947.35999999999, 50000, inf, 2116.5315, 0.0, 2933.1]"
      ]
     },
     "metadata": {},
     "output_type": "display_data"
    },
    {
     "data": {
      "text/plain": [
       "'b4'"
      ]
     },
     "metadata": {},
     "output_type": "display_data"
    },
    {
     "data": {
      "text/plain": [
       "[52947.35999999999, 50000, inf, 2116.5315, 0.0, 2924.01]"
      ]
     },
     "metadata": {},
     "output_type": "display_data"
    },
    {
     "data": {
      "text/plain": [
       "'b4'"
      ]
     },
     "metadata": {},
     "output_type": "display_data"
    },
    {
     "data": {
      "text/plain": [
       "[52947.35999999999, 50000, inf, 2116.5315, 0.0, 2897.04]"
      ]
     },
     "metadata": {},
     "output_type": "display_data"
    },
    {
     "data": {
      "text/plain": [
       "'b4'"
      ]
     },
     "metadata": {},
     "output_type": "display_data"
    },
    {
     "data": {
      "text/plain": [
       "[52947.35999999999, 50000, inf, 2116.5315, 0.0, 2887.99]"
      ]
     },
     "metadata": {},
     "output_type": "display_data"
    },
    {
     "data": {
      "text/plain": [
       "'b4'"
      ]
     },
     "metadata": {},
     "output_type": "display_data"
    },
    {
     "data": {
      "text/plain": [
       "[52947.35999999999, 50000, inf, 2116.5315, 0.0, 2755.5]"
      ]
     },
     "metadata": {},
     "output_type": "display_data"
    },
    {
     "data": {
      "text/plain": [
       "'b4'"
      ]
     },
     "metadata": {},
     "output_type": "display_data"
    },
    {
     "data": {
      "text/plain": [
       "[52947.35999999999, 50000, inf, 2116.5315, 0.0, 2754.95]"
      ]
     },
     "metadata": {},
     "output_type": "display_data"
    },
    {
     "data": {
      "text/plain": [
       "'b4'"
      ]
     },
     "metadata": {},
     "output_type": "display_data"
    },
    {
     "data": {
      "text/plain": [
       "[52947.35999999999, 50000, inf, 2116.5315, 0.0, 2740.34]"
      ]
     },
     "metadata": {},
     "output_type": "display_data"
    },
    {
     "data": {
      "text/plain": [
       "'b4'"
      ]
     },
     "metadata": {},
     "output_type": "display_data"
    },
    {
     "data": {
      "text/plain": [
       "[52947.35999999999, 50000, inf, 2116.5315, 0.0, 2771.74]"
      ]
     },
     "metadata": {},
     "output_type": "display_data"
    },
    {
     "data": {
      "text/plain": [
       "'b4'"
      ]
     },
     "metadata": {},
     "output_type": "display_data"
    },
    {
     "data": {
      "text/plain": [
       "[52947.35999999999, 50000, inf, 2116.5315, 0.0, 2719.96]"
      ]
     },
     "metadata": {},
     "output_type": "display_data"
    },
    {
     "data": {
      "text/plain": [
       "'b4'"
      ]
     },
     "metadata": {},
     "output_type": "display_data"
    },
    {
     "data": {
      "text/plain": [
       "[52947.35999999999, 50000, inf, 2116.5315, 0.0, 2702.33]"
      ]
     },
     "metadata": {},
     "output_type": "display_data"
    },
    {
     "data": {
      "text/plain": [
       "'b4'"
      ]
     },
     "metadata": {},
     "output_type": "display_data"
    },
    {
     "data": {
      "text/plain": [
       "[52947.35999999999, 50000, inf, 2116.5315, 0.0, 2666.15]"
      ]
     },
     "metadata": {},
     "output_type": "display_data"
    },
    {
     "data": {
      "text/plain": [
       "'b4'"
      ]
     },
     "metadata": {},
     "output_type": "display_data"
    },
    {
     "data": {
      "text/plain": [
       "[52947.35999999999, 50000, inf, 2116.5315, 0.0, 2607.03]"
      ]
     },
     "metadata": {},
     "output_type": "display_data"
    },
    {
     "data": {
      "text/plain": [
       "'b4'"
      ]
     },
     "metadata": {},
     "output_type": "display_data"
    },
    {
     "data": {
      "text/plain": [
       "[52947.35999999999, 50000, inf, 2116.5315, 0.0, 2538.7]"
      ]
     },
     "metadata": {},
     "output_type": "display_data"
    },
    {
     "data": {
      "text/plain": [
       "'b4'"
      ]
     },
     "metadata": {},
     "output_type": "display_data"
    },
    {
     "data": {
      "text/plain": [
       "[52947.35999999999, 50000, inf, 2116.5315, 0.0, 2580.1]"
      ]
     },
     "metadata": {},
     "output_type": "display_data"
    },
    {
     "data": {
      "text/plain": [
       "'b4'"
      ]
     },
     "metadata": {},
     "output_type": "display_data"
    },
    {
     "data": {
      "text/plain": [
       "[52947.35999999999, 50000, inf, 2116.5315, 0.0, 2861.8]"
      ]
     },
     "metadata": {},
     "output_type": "display_data"
    },
    {
     "data": {
      "text/plain": [
       "'b4'"
      ]
     },
     "metadata": {},
     "output_type": "display_data"
    },
    {
     "data": {
      "text/plain": [
       "[52947.35999999999, 50000, inf, 2116.5315, 0.0, 2784.02]"
      ]
     },
     "metadata": {},
     "output_type": "display_data"
    },
    {
     "data": {
      "text/plain": [
       "'b4'"
      ]
     },
     "metadata": {},
     "output_type": "display_data"
    },
    {
     "data": {
      "text/plain": [
       "[52947.35999999999, 50000, inf, 2116.5315, 0.0, 2772.4]"
      ]
     },
     "metadata": {},
     "output_type": "display_data"
    },
    {
     "data": {
      "text/plain": [
       "'b4'"
      ]
     },
     "metadata": {},
     "output_type": "display_data"
    },
    {
     "data": {
      "text/plain": [
       "[52947.35999999999, 50000, inf, 2116.5315, 0.0, 2685.65]"
      ]
     },
     "metadata": {},
     "output_type": "display_data"
    },
    {
     "data": {
      "text/plain": [
       "'b4'"
      ]
     },
     "metadata": {},
     "output_type": "display_data"
    },
    {
     "data": {
      "text/plain": [
       "[52947.35999999999, 50000, inf, 2116.5315, 0.0, 2650.78]"
      ]
     },
     "metadata": {},
     "output_type": "display_data"
    },
    {
     "data": {
      "text/plain": [
       "'b4'"
      ]
     },
     "metadata": {},
     "output_type": "display_data"
    },
    {
     "data": {
      "text/plain": [
       "[52947.35999999999, 50000, inf, 2116.5315, 0.0, 2608.06]"
      ]
     },
     "metadata": {},
     "output_type": "display_data"
    },
    {
     "data": {
      "text/plain": [
       "'b4'"
      ]
     },
     "metadata": {},
     "output_type": "display_data"
    },
    {
     "data": {
      "text/plain": [
       "[52947.35999999999, 50000, inf, 2116.5315, 0.0, 2596.27]"
      ]
     },
     "metadata": {},
     "output_type": "display_data"
    },
    {
     "data": {
      "text/plain": [
       "'b4'"
      ]
     },
     "metadata": {},
     "output_type": "display_data"
    },
    {
     "data": {
      "text/plain": [
       "[52947.35999999999, 50000, inf, 2116.5315, 0.0, 2551.76]"
      ]
     },
     "metadata": {},
     "output_type": "display_data"
    },
    {
     "data": {
      "text/plain": [
       "'b4'"
      ]
     },
     "metadata": {},
     "output_type": "display_data"
    },
    {
     "data": {
      "text/plain": [
       "[52947.35999999999, 50000, inf, 2116.5315, 0.0, 2681.23]"
      ]
     },
     "metadata": {},
     "output_type": "display_data"
    },
    {
     "data": {
      "text/plain": [
       "'b4'"
      ]
     },
     "metadata": {},
     "output_type": "display_data"
    },
    {
     "data": {
      "text/plain": [
       "[52947.35999999999, 50000, inf, 2116.5315, 0.0, 2677.99]"
      ]
     },
     "metadata": {},
     "output_type": "display_data"
    },
    {
     "data": {
      "text/plain": [
       "'b4'"
      ]
     },
     "metadata": {},
     "output_type": "display_data"
    },
    {
     "data": {
      "text/plain": [
       "'TSLA'"
      ]
     },
     "metadata": {},
     "output_type": "display_data"
    },
    {
     "data": {
      "text/plain": [
       "['TSLA', 'is under calculation, start money is 10000000\\\\ / 100000$']"
      ]
     },
     "metadata": {},
     "output_type": "display_data"
    },
    {
     "data": {
      "text/plain": [
       "[40202.0, 50000, 653.2, 9798.0, 15.0, 653.2]"
      ]
     },
     "metadata": {},
     "output_type": "display_data"
    },
    {
     "data": {
      "text/plain": [
       "0"
      ]
     },
     "metadata": {},
     "output_type": "display_data"
    },
    {
     "data": {
      "text/plain": [
       "[38337.68, 50000, 647.9066666666666, 11662.32, 18.0, 621.44]"
      ]
     },
     "metadata": {},
     "output_type": "display_data"
    },
    {
     "data": {
      "text/plain": [
       "'b8'"
      ]
     },
     "metadata": {},
     "output_type": "display_data"
    },
    {
     "data": {
      "text/plain": [
       "[32358.18, 50000, 630.0649999999999, 17641.82, 28.0, 597.95]"
      ]
     },
     "metadata": {},
     "output_type": "display_data"
    },
    {
     "data": {
      "text/plain": [
       "'b7'"
      ]
     },
     "metadata": {},
     "output_type": "display_data"
    },
    {
     "data": {
      "text/plain": [
       "[24476.18, 50000, 607.71, 25523.82, 42.0, 563.0]"
      ]
     },
     "metadata": {},
     "output_type": "display_data"
    },
    {
     "data": {
      "text/plain": [
       "'b6'"
      ]
     },
     "metadata": {},
     "output_type": "display_data"
    },
    {
     "data": {
      "text/plain": [
       "[38621.36, 50000, 607.71, 12761.91, 21.0, 673.58]"
      ]
     },
     "metadata": {},
     "output_type": "display_data"
    },
    {
     "data": {
      "text/plain": [
       "'s3'"
      ]
     },
     "metadata": {},
     "output_type": "display_data"
    },
    {
     "data": {
      "text/plain": [
       "[45617.36, 50000, 607.71, 6684.8099999999995, 11.0, 699.6]"
      ]
     },
     "metadata": {},
     "output_type": "display_data"
    },
    {
     "data": {
      "text/plain": [
       "'s3'"
      ]
     },
     "metadata": {},
     "output_type": "display_data"
    },
    {
     "data": {
      "text/plain": [
       "[43586.72, 50000, 622.5321428571427, 8715.449999999999, 14.0, 676.88]"
      ]
     },
     "metadata": {},
     "output_type": "display_data"
    },
    {
     "data": {
      "text/plain": [
       "'b8'"
      ]
     },
     "metadata": {},
     "output_type": "display_data"
    },
    {
     "data": {
      "text/plain": [
       "[48499.39, 50000, 622.5321428571427, 4357.724999999999, 7.0, 701.81]"
      ]
     },
     "metadata": {},
     "output_type": "display_data"
    },
    {
     "data": {
      "text/plain": [
       "'s3'"
      ]
     },
     "metadata": {},
     "output_type": "display_data"
    },
    {
     "data": {
      "text/plain": [
       "[46539.909999999996, 50000, 631.7205, 6317.205, 10.0, 653.16]"
      ]
     },
     "metadata": {},
     "output_type": "display_data"
    },
    {
     "data": {
      "text/plain": [
       "'b8'"
      ]
     },
     "metadata": {},
     "output_type": "display_data"
    },
    {
     "data": {
      "text/plain": [
       "[44553.42999999999, 50000, 638.745, 8303.685, 13.0, 662.16]"
      ]
     },
     "metadata": {},
     "output_type": "display_data"
    },
    {
     "data": {
      "text/plain": [
       "'b8'"
      ]
     },
     "metadata": {},
     "output_type": "display_data"
    },
    {
     "data": {
      "text/plain": [
       "[42662.619999999995,\n",
       " 50000,\n",
       " 637.1559374999999,\n",
       " 10194.494999999999,\n",
       " 16.0,\n",
       " 630.27]"
      ]
     },
     "metadata": {},
     "output_type": "display_data"
    },
    {
     "data": {
      "text/plain": [
       "'b8'"
      ]
     },
     "metadata": {},
     "output_type": "display_data"
    },
    {
     "data": {
      "text/plain": [
       "[40806.49, 50000, 634.2434210526316, 12050.625, 19.0, 618.71]"
      ]
     },
     "metadata": {},
     "output_type": "display_data"
    },
    {
     "data": {
      "text/plain": [
       "'b8'"
      ]
     },
     "metadata": {},
     "output_type": "display_data"
    },
    {
     "data": {
      "text/plain": [
       "[38972.619999999995, 50000, 631.113409090909, 13884.494999999999, 22.0, 611.29]"
      ]
     },
     "metadata": {},
     "output_type": "display_data"
    },
    {
     "data": {
      "text/plain": [
       "'b8'"
      ]
     },
     "metadata": {},
     "output_type": "display_data"
    },
    {
     "data": {
      "text/plain": [
       "[46319.84999999999, 50000, 631.113409090909, 6942.2474999999995, 11.0, 667.93]"
      ]
     },
     "metadata": {},
     "output_type": "display_data"
    },
    {
     "data": {
      "text/plain": [
       "'s3'"
      ]
     },
     "metadata": {},
     "output_type": "display_data"
    },
    {
     "data": {
      "text/plain": [
       "[49775.09999999999, 50000, 631.113409090909, 3786.6804545454543, 6.0, 691.05]"
      ]
     },
     "metadata": {},
     "output_type": "display_data"
    },
    {
     "data": {
      "text/plain": [
       "'s3'"
      ]
     },
     "metadata": {},
     "output_type": "display_data"
    },
    {
     "data": {
      "text/plain": [
       "[47762.18999999999, 50000, 644.3989393939394, 5799.590454545454, 9.0, 670.97]"
      ]
     },
     "metadata": {},
     "output_type": "display_data"
    },
    {
     "data": {
      "text/plain": [
       "'b8'"
      ]
     },
     "metadata": {},
     "output_type": "display_data"
    },
    {
     "data": {
      "text/plain": [
       "[50570.109999999986, 50000, 644.3989393939394, 3221.9946969696966, 5.0, 701.98]"
      ]
     },
     "metadata": {},
     "output_type": "display_data"
    },
    {
     "data": {
      "text/plain": [
       "'s3'"
      ]
     },
     "metadata": {},
     "output_type": "display_data"
    },
    {
     "data": {
      "text/plain": [
       "[52094.749999999985, 50000, 644.3989393939394, 1933.196818181818, 3.0, 762.32]"
      ]
     },
     "metadata": {},
     "output_type": "display_data"
    },
    {
     "data": {
      "text/plain": [
       "'s3'"
      ]
     },
     "metadata": {},
     "output_type": "display_data"
    },
    {
     "data": {
      "text/plain": [
       "[49898.05999999998, 50000, 688.3144696969697, 4129.886818181818, 6.0, 732.23]"
      ]
     },
     "metadata": {},
     "output_type": "display_data"
    },
    {
     "data": {
      "text/plain": [
       "'b8'"
      ]
     },
     "metadata": {},
     "output_type": "display_data"
    },
    {
     "data": {
      "text/plain": [
       "[47754.169999999984, 50000, 697.0863131313131, 6273.776818181817, 9.0, 714.63]"
      ]
     },
     "metadata": {},
     "output_type": "display_data"
    },
    {
     "data": {
      "text/plain": [
       "'b8'"
      ]
     },
     "metadata": {},
     "output_type": "display_data"
    },
    {
     "data": {
      "text/plain": [
       "[50730.64999999999, 50000, 697.0863131313131, 3485.431565656565, 5.0, 744.12]"
      ]
     },
     "metadata": {},
     "output_type": "display_data"
    },
    {
     "data": {
      "text/plain": [
       "'s3'"
      ]
     },
     "metadata": {},
     "output_type": "display_data"
    },
    {
     "data": {
      "text/plain": [
       "[48571.57999999999, 50000, 705.5626957070706, 5644.501565656565, 8.0, 719.69]"
      ]
     },
     "metadata": {},
     "output_type": "display_data"
    },
    {
     "data": {
      "text/plain": [
       "'b8'"
      ]
     },
     "metadata": {},
     "output_type": "display_data"
    },
    {
     "data": {
      "text/plain": [
       "[46457.359999999986, 50000, 705.3383241505968, 7758.721565656565, 11.0, 704.74]"
      ]
     },
     "metadata": {},
     "output_type": "display_data"
    },
    {
     "data": {
      "text/plain": [
       "'b8'"
      ]
     },
     "metadata": {},
     "output_type": "display_data"
    },
    {
     "data": {
      "text/plain": [
       "[44374.15999999999, 50000, 702.9943975468975, 9841.921565656565, 14.0, 694.4]"
      ]
     },
     "metadata": {},
     "output_type": "display_data"
    },
    {
     "data": {
      "text/plain": [
       "'b8'"
      ]
     },
     "metadata": {},
     "output_type": "display_data"
    },
    {
     "data": {
      "text/plain": [
       "[42343.15999999999, 50000, 698.4071509209743, 11872.921565656565, 17.0, 677.0]"
      ]
     },
     "metadata": {},
     "output_type": "display_data"
    },
    {
     "data": {
      "text/plain": [
       "'b8'"
      ]
     },
     "metadata": {},
     "output_type": "display_data"
    },
    {
     "data": {
      "text/plain": [
       "[40288.45999999999, 50000, 696.3810782828283, 13927.621565656566, 20.0, 684.9]"
      ]
     },
     "metadata": {},
     "output_type": "display_data"
    },
    {
     "data": {
      "text/plain": [
       "'b8'"
      ]
     },
     "metadata": {},
     "output_type": "display_data"
    },
    {
     "data": {
      "text/plain": [
       "[38941.259999999995, 50000, 694.3100711662075, 15274.821565656566, 22.0, 673.6]"
      ]
     },
     "metadata": {},
     "output_type": "display_data"
    },
    {
     "data": {
      "text/plain": [
       "'b8'"
      ]
     },
     "metadata": {},
     "output_type": "display_data"
    },
    {
     "data": {
      "text/plain": [
       "[37614.17999999999, 50000, 691.7458985690237, 16601.901565656568, 24.0, 663.54]"
      ]
     },
     "metadata": {},
     "output_type": "display_data"
    },
    {
     "data": {
      "text/plain": [
       "'b8'"
      ]
     },
     "metadata": {},
     "output_type": "display_data"
    },
    {
     "data": {
      "text/plain": [
       "[31952.819999999992, 50000, 674.6442898683808, 22263.26156565657, 33.0, 629.04]"
      ]
     },
     "metadata": {},
     "output_type": "display_data"
    },
    {
     "data": {
      "text/plain": [
       "'b7'"
      ]
     },
     "metadata": {},
     "output_type": "display_data"
    },
    {
     "data": {
      "text/plain": [
       "[27015.219999999994, 50000, 663.435647942843, 27200.861565656567, 41.0, 617.2]"
      ]
     },
     "metadata": {},
     "output_type": "display_data"
    },
    {
     "data": {
      "text/plain": [
       "'b7'"
      ]
     },
     "metadata": {},
     "output_type": "display_data"
    },
    {
     "data": {
      "text/plain": [
       "[20526.429999999993, 50000, 647.8779147241647, 33689.65156565657, 52.0, 589.89]"
      ]
     },
     "metadata": {},
     "output_type": "display_data"
    },
    {
     "data": {
      "text/plain": [
       "'b6'"
      ]
     },
     "metadata": {},
     "output_type": "display_data"
    },
    {
     "data": {
      "text/plain": [
       "[15952.909999999993, 50000, 637.719526094276, 38263.171565656565, 60.0, 571.69]"
      ]
     },
     "metadata": {},
     "output_type": "display_data"
    },
    {
     "data": {
      "text/plain": [
       "'b6'"
      ]
     },
     "metadata": {},
     "output_type": "display_data"
    },
    {
     "data": {
      "text/plain": [
       "[13645.589999999993,\n",
       " 50000,\n",
       " 633.9139307133838,\n",
       " 40570.491565656564,\n",
       " 64.0,\n",
       " 576.83]"
      ]
     },
     "metadata": {},
     "output_type": "display_data"
    },
    {
     "data": {
      "text/plain": [
       "'b7'"
      ]
     },
     "metadata": {},
     "output_type": "display_data"
    },
    {
     "data": {
      "text/plain": [
       "[10264.829999999993, 50000, 627.8750223665223, 43951.25156565657, 70.0, 563.46]"
      ]
     },
     "metadata": {},
     "output_type": "display_data"
    },
    {
     "data": {
      "text/plain": [
       "'b6'"
      ]
     },
     "metadata": {},
     "output_type": "display_data"
    },
    {
     "data": {
      "text/plain": [
       "[9103.069999999992, 50000, 626.5696050785634, 45113.01156565657, 72.0, 580.88]"
      ]
     },
     "metadata": {},
     "output_type": "display_data"
    },
    {
     "data": {
      "text/plain": [
       "'b7'"
      ]
     },
     "metadata": {},
     "output_type": "display_data"
    },
    {
     "data": {
      "text/plain": [
       "[9103.069999999992, 50000, 626.5696050785634, 45113.01156565657, 72.0, 605.12]"
      ]
     },
     "metadata": {},
     "output_type": "display_data"
    },
    {
     "data": {
      "text/plain": [
       "'b8'"
      ]
     },
     "metadata": {},
     "output_type": "display_data"
    },
    {
     "data": {
      "text/plain": [
       "[7957.389999999992, 50000, 625.1174535899536, 46258.69156565657, 74.0, 572.84]"
      ]
     },
     "metadata": {},
     "output_type": "display_data"
    },
    {
     "data": {
      "text/plain": [
       "'b7'"
      ]
     },
     "metadata": {},
     "output_type": "display_data"
    },
    {
     "data": {
      "text/plain": [
       "[7957.389999999992, 50000, 625.1174535899536, 46258.69156565657, 74.0, 599.36]"
      ]
     },
     "metadata": {},
     "output_type": "display_data"
    },
    {
     "data": {
      "text/plain": [
       "'b8'"
      ]
     },
     "metadata": {},
     "output_type": "display_data"
    },
    {
     "data": {
      "text/plain": [
       "[32250.479999999992,\n",
       " 50000,\n",
       " 625.1174535899536,\n",
       " 23129.345782828284,\n",
       " 37.0,\n",
       " 656.57]"
      ]
     },
     "metadata": {},
     "output_type": "display_data"
    },
    {
     "data": {
      "text/plain": [
       "'s3'"
      ]
     },
     "metadata": {},
     "output_type": "display_data"
    },
    {
     "data": {
      "text/plain": [
       "[44487.23999999999, 50000, 625.1174535899536, 11877.23161820912, 19.0, 679.82]"
      ]
     },
     "metadata": {},
     "output_type": "display_data"
    },
    {
     "data": {
      "text/plain": [
       "'s3'"
      ]
     },
     "metadata": {},
     "output_type": "display_data"
    },
    {
     "data": {
      "text/plain": [
       "[42471.62999999999, 50000, 631.4928008276873, 13892.84161820912, 22.0, 671.87]"
      ]
     },
     "metadata": {},
     "output_type": "display_data"
    },
    {
     "data": {
      "text/plain": [
       "'b8'"
      ]
     },
     "metadata": {},
     "output_type": "display_data"
    },
    {
     "data": {
      "text/plain": [
       "[40429.34999999999, 50000, 637.4048647283648, 15935.121618209121, 25.0, 680.76]"
      ]
     },
     "metadata": {},
     "output_type": "display_data"
    },
    {
     "data": {
      "text/plain": [
       "'b8'"
      ]
     },
     "metadata": {},
     "output_type": "display_data"
    },
    {
     "data": {
      "text/plain": [
       "[38450.60999999999, 50000, 639.7807720788971, 17913.86161820912, 28.0, 659.58]"
      ]
     },
     "metadata": {},
     "output_type": "display_data"
    },
    {
     "data": {
      "text/plain": [
       "'b8'"
      ]
     },
     "metadata": {},
     "output_type": "display_data"
    },
    {
     "data": {
      "text/plain": [
       "[37161.30999999999, 50000, 640.1053872736373, 19203.16161820912, 30.0, 644.65]"
      ]
     },
     "metadata": {},
     "output_type": "display_data"
    },
    {
     "data": {
      "text/plain": [
       "'b8'"
      ]
     },
     "metadata": {},
     "output_type": "display_data"
    },
    {
     "data": {
      "text/plain": [
       "[47446.80999999999, 50000, 640.1053872736373, 9601.58080910456, 15.0, 685.7]"
      ]
     },
     "metadata": {},
     "output_type": "display_data"
    },
    {
     "data": {
      "text/plain": [
       "'s3'"
      ]
     },
     "metadata": {},
     "output_type": "display_data"
    },
    {
     "data": {
      "text/plain": [
       "[45441.18999999999, 50000, 644.8444893946978, 11607.20080910456, 18.0, 668.54]"
      ]
     },
     "metadata": {},
     "output_type": "display_data"
    },
    {
     "data": {
      "text/plain": [
       "'b8'"
      ]
     },
     "metadata": {},
     "output_type": "display_data"
    },
    {
     "data": {
      "text/plain": [
       "[43481.04999999999, 50000, 646.0638480525981, 13567.34080910456, 21.0, 653.38]"
      ]
     },
     "metadata": {},
     "output_type": "display_data"
    },
    {
     "data": {
      "text/plain": [
       "'b8'"
      ]
     },
     "metadata": {},
     "output_type": "display_data"
    },
    {
     "data": {
      "text/plain": [
       "[41546.70999999999, 50000, 645.9033670460234, 15501.68080910456, 24.0, 644.78]"
      ]
     },
     "metadata": {},
     "output_type": "display_data"
    },
    {
     "data": {
      "text/plain": [
       "'b8'"
      ]
     },
     "metadata": {},
     "output_type": "display_data"
    },
    {
     "data": {
      "text/plain": [
       "[50062.74999999999, 50000, 645.9033670460234, 7750.84040455228, 12.0, 709.67]"
      ]
     },
     "metadata": {},
     "output_type": "display_data"
    },
    {
     "data": {
      "text/plain": [
       "'s3'"
      ]
     },
     "metadata": {},
     "output_type": "display_data"
    },
    {
     "data": {
      "text/plain": [
       "[47965.44999999999, 50000, 656.5426936368186, 9848.14040455228, 15.0, 699.1]"
      ]
     },
     "metadata": {},
     "output_type": "display_data"
    },
    {
     "data": {
      "text/plain": [
       "'b8'"
      ]
     },
     "metadata": {},
     "output_type": "display_data"
    },
    {
     "data": {
      "text/plain": [
       "[45906.93999999999, 50000, 661.4805780306822, 11906.65040455228, 18.0, 686.17]"
      ]
     },
     "metadata": {},
     "output_type": "display_data"
    },
    {
     "data": {
      "text/plain": [
       "'b8'"
      ]
     },
     "metadata": {},
     "output_type": "display_data"
    },
    {
     "data": {
      "text/plain": [
       "[43909.80999999999, 50000, 662.0847811691561, 13903.780404552279, 21.0, 665.71]"
      ]
     },
     "metadata": {},
     "output_type": "display_data"
    },
    {
     "data": {
      "text/plain": [
       "'b8'"
      ]
     },
     "metadata": {},
     "output_type": "display_data"
    },
    {
     "data": {
      "text/plain": [
       "[41889.39999999999, 50000, 663.5079335230116, 15924.190404552279, 24.0, 673.47]"
      ]
     },
     "metadata": {},
     "output_type": "display_data"
    },
    {
     "data": {
      "text/plain": [
       "'b8'"
      ]
     },
     "metadata": {},
     "output_type": "display_data"
    },
    {
     "data": {
      "text/plain": [
       "[50364.999999999985, 50000, 663.5079335230116, 7962.095202276139, 12.0, 706.3]"
      ]
     },
     "metadata": {},
     "output_type": "display_data"
    },
    {
     "data": {
      "text/plain": [
       "'s3'"
      ]
     },
     "metadata": {},
     "output_type": "display_data"
    },
    {
     "data": {
      "text/plain": [
       "[48261.51999999998, 50000, 671.0383468184093, 10065.575202276139, 15.0, 701.16]"
      ]
     },
     "metadata": {},
     "output_type": "display_data"
    },
    {
     "data": {
      "text/plain": [
       "'b8'"
      ]
     },
     "metadata": {},
     "output_type": "display_data"
    },
    {
     "data": {
      "text/plain": [
       "[46052.709999999985, 50000, 681.910289015341, 12274.385202276138, 18.0, 736.27]"
      ]
     },
     "metadata": {},
     "output_type": "display_data"
    },
    {
     "data": {
      "text/plain": [
       "'b8'"
      ]
     },
     "metadata": {},
     "output_type": "display_data"
    },
    {
     "data": {
      "text/plain": [
       "[43862.19999999998, 50000, 688.8045334417209, 14464.895202276139, 21.0, 730.17]"
      ]
     },
     "metadata": {},
     "output_type": "display_data"
    },
    {
     "data": {
      "text/plain": [
       "'b8'"
      ]
     },
     "metadata": {},
     "output_type": "display_data"
    },
    {
     "data": {
      "text/plain": [
       "[42307.07999999998, 50000, 696.5224000989626, 16020.01520227614, 23.0, 777.56]"
      ]
     },
     "metadata": {},
     "output_type": "display_data"
    },
    {
     "data": {
      "text/plain": [
       "'b8'"
      ]
     },
     "metadata": {},
     "output_type": "display_data"
    },
    {
     "data": {
      "text/plain": [
       "[40736.09999999998, 50000, 703.6398080910456, 17590.99520227614, 25.0, 785.49]"
      ]
     },
     "metadata": {},
     "output_type": "display_data"
    },
    {
     "data": {
      "text/plain": [
       "'b8'"
      ]
     },
     "metadata": {},
     "output_type": "display_data"
    },
    {
     "data": {
      "text/plain": [
       "[50852.45999999998, 50000, 703.6398080910456, 9147.317505183593, 13.0, 843.03]"
      ]
     },
     "metadata": {},
     "output_type": "display_data"
    },
    {
     "data": {
      "text/plain": [
       "'s3'"
      ]
     },
     "metadata": {},
     "output_type": "display_data"
    },
    {
     "data": {
      "text/plain": [
       "[56073.11999999998, 50000, 703.6398080910456, 4925.4786566373205, 7.0, 870.11]"
      ]
     },
     "metadata": {},
     "output_type": "display_data"
    },
    {
     "data": {
      "text/plain": [
       "'s2'"
      ]
     },
     "metadata": {},
     "output_type": "display_data"
    },
    {
     "data": {
      "text/plain": [
       "[58755.11999999998, 50000, 703.6398080910456, 2814.559232364184, 4.0, 894.0]"
      ]
     },
     "metadata": {},
     "output_type": "display_data"
    },
    {
     "data": {
      "text/plain": [
       "'s2'"
      ]
     },
     "metadata": {},
     "output_type": "display_data"
    },
    {
     "data": {
      "text/plain": [
       "[60804.83999999998, 50000, 703.6398080910456, 1407.279616182093, 2.0, 1024.86]"
      ]
     },
     "metadata": {},
     "output_type": "display_data"
    },
    {
     "data": {
      "text/plain": [
       "'s2'"
      ]
     },
     "metadata": {},
     "output_type": "display_data"
    },
    {
     "data": {
      "text/plain": [
       "[61881.87999999998, 50000, 703.6398080910456, 703.6398080910474, 1.0, 1077.04]"
      ]
     },
     "metadata": {},
     "output_type": "display_data"
    },
    {
     "data": {
      "text/plain": [
       "'s2'"
      ]
     },
     "metadata": {},
     "output_type": "display_data"
    },
    {
     "data": {
      "text/plain": [
       "[62995.87999999998, 50000, 0, 703.6398080910474, 0, 1114.0]"
      ]
     },
     "metadata": {},
     "output_type": "display_data"
    },
    {
     "data": {
      "text/plain": [
       "'s2'"
      ]
     },
     "metadata": {},
     "output_type": "display_data"
    },
    {
     "data": {
      "text/plain": [
       "[62995.87999999998, 50000, 0, 703.6398080910474, 0, 1208.59]"
      ]
     },
     "metadata": {},
     "output_type": "display_data"
    },
    {
     "data": {
      "text/plain": [
       "'s1'"
      ]
     },
     "metadata": {},
     "output_type": "display_data"
    },
    {
     "data": {
      "text/plain": [
       "[60651.87999999998, 50000, 1523.8199040455238, 3047.6398080910476, 2.0, 1172.0]"
      ]
     },
     "metadata": {},
     "output_type": "display_data"
    },
    {
     "data": {
      "text/plain": [
       "'b8'"
      ]
     },
     "metadata": {},
     "output_type": "display_data"
    },
    {
     "data": {
      "text/plain": [
       "[45986.79999999999,\n",
       " 50000,\n",
       " 1265.1942720065033,\n",
       " 17712.719808091046,\n",
       " 14.0,\n",
       " 1222.09]"
      ]
     },
     "metadata": {},
     "output_type": "display_data"
    },
    {
     "data": {
      "text/plain": [
       "'b6'"
      ]
     },
     "metadata": {},
     "output_type": "display_data"
    },
    {
     "data": {
      "text/plain": [
       "[39009.15999999999,\n",
       " 50000,\n",
       " 1234.5179904045522,\n",
       " 24690.359808091045,\n",
       " 20.0,\n",
       " 1162.94]"
      ]
     },
     "metadata": {},
     "output_type": "display_data"
    },
    {
     "data": {
      "text/plain": [
       "'b7'"
      ]
     },
     "metadata": {},
     "output_type": "display_data"
    },
    {
     "data": {
      "text/plain": [
       "[552.1599999999889, 25000, 1074.9678025376957, 88147.35980809105, 82.0, 1023.5]"
      ]
     },
     "metadata": {},
     "output_type": "display_data"
    },
    {
     "data": {
      "text/plain": [
       "'b11, used emergency balance'"
      ]
     },
     "metadata": {},
     "output_type": "display_data"
    },
    {
     "data": {
      "text/plain": [
       "[552.1599999999889,\n",
       " 25000,\n",
       " 1074.9678025376957,\n",
       " 88147.35980809105,\n",
       " 82.0,\n",
       " 1033.42]"
      ]
     },
     "metadata": {},
     "output_type": "display_data"
    },
    {
     "data": {
      "text/plain": [
       "'b8'"
      ]
     },
     "metadata": {},
     "output_type": "display_data"
    },
    {
     "data": {
      "text/plain": [
       "[552.1599999999889,\n",
       " 25000,\n",
       " 1074.9678025376957,\n",
       " 88147.35980809105,\n",
       " 82.0,\n",
       " 1013.39]"
      ]
     },
     "metadata": {},
     "output_type": "display_data"
    },
    {
     "data": {
      "text/plain": [
       "'b7'"
      ]
     },
     "metadata": {},
     "output_type": "display_data"
    },
    {
     "data": {
      "text/plain": [
       "[47171.61999999999,\n",
       " 25000,\n",
       " 1074.9678025376957,\n",
       " 44073.67990404552,\n",
       " 41.0,\n",
       " 1137.06]"
      ]
     },
     "metadata": {},
     "output_type": "display_data"
    },
    {
     "data": {
      "text/plain": [
       "'s3'"
      ]
     },
     "metadata": {},
     "output_type": "display_data"
    },
    {
     "data": {
      "text/plain": [
       "[44953.55999999999,\n",
       " 25000,\n",
       " 1076.5520907917562,\n",
       " 46291.73990404552,\n",
       " 43.0,\n",
       " 1109.03]"
      ]
     },
     "metadata": {},
     "output_type": "display_data"
    },
    {
     "data": {
      "text/plain": [
       "'b8'"
      ]
     },
     "metadata": {},
     "output_type": "display_data"
    },
    {
     "data": {
      "text/plain": [
       "[42789.71999999999,\n",
       " 25000,\n",
       " 1076.7906645343448,\n",
       " 48455.57990404552,\n",
       " 45.0,\n",
       " 1081.92]"
      ]
     },
     "metadata": {},
     "output_type": "display_data"
    },
    {
     "data": {
      "text/plain": [
       "'b8'"
      ]
     },
     "metadata": {},
     "output_type": "display_data"
    },
    {
     "data": {
      "text/plain": [
       "[67803.49999999999,\n",
       " 25000,\n",
       " 1076.7906645343448,\n",
       " 24766.18528428993,\n",
       " 23.0,\n",
       " 1136.99]"
      ]
     },
     "metadata": {},
     "output_type": "display_data"
    },
    {
     "data": {
      "text/plain": [
       "'s3'"
      ]
     },
     "metadata": {},
     "output_type": "display_data"
    },
    {
     "data": {
      "text/plain": [
       "[64518.499999999985,\n",
       " 25000,\n",
       " 1078.8917417034588,\n",
       " 28051.18528428993,\n",
       " 26.0,\n",
       " 1095.0]"
      ]
     },
     "metadata": {},
     "output_type": "display_data"
    },
    {
     "data": {
      "text/plain": [
       "'b8'"
      ]
     },
     "metadata": {},
     "output_type": "display_data"
    },
    {
     "data": {
      "text/plain": [
       "[54368.79999999999,\n",
       " 25000,\n",
       " 1061.135702341387,\n",
       " 38200.885284289936,\n",
       " 36.0,\n",
       " 1014.97]"
      ]
     },
     "metadata": {},
     "output_type": "display_data"
    },
    {
     "data": {
      "text/plain": [
       "'b7'"
      ]
     },
     "metadata": {},
     "output_type": "display_data"
    },
    {
     "data": {
      "text/plain": [
       "[45334.59999999999, 25000, 1049.6685618731096, 47235.08528428993, 45.0, 1003.8]"
      ]
     },
     "metadata": {},
     "output_type": "display_data"
    },
    {
     "data": {
      "text/plain": [
       "'b7'"
      ]
     },
     "metadata": {},
     "output_type": "display_data"
    },
    {
     "data": {
      "text/plain": [
       "[38569.72999999999,\n",
       " 25000,\n",
       " 1038.4606785440371,\n",
       " 53999.955284289936,\n",
       " 52.0,\n",
       " 966.41]"
      ]
     },
     "metadata": {},
     "output_type": "display_data"
    },
    {
     "data": {
      "text/plain": [
       "'b7'"
      ]
     },
     "metadata": {},
     "output_type": "display_data"
    },
    {
     "data": {
      "text/plain": [
       "[32818.66999999999, 25000, 1030.1899186946541, 59751.01528428993, 58.0, 958.51]"
      ]
     },
     "metadata": {},
     "output_type": "display_data"
    },
    {
     "data": {
      "text/plain": [
       "'b7'"
      ]
     },
     "metadata": {},
     "output_type": "display_data"
    },
    {
     "data": {
      "text/plain": [
       "[25403.30999999999, 25000, 1017.6723527922716, 67166.37528428993, 66.0, 926.92]"
      ]
     },
     "metadata": {},
     "output_type": "display_data"
    },
    {
     "data": {
      "text/plain": [
       "'b6'"
      ]
     },
     "metadata": {},
     "output_type": "display_data"
    },
    {
     "data": {
      "text/plain": [
       "[19103.72999999999, 25000, 1006.382949099862, 73465.95528428993, 73.0, 899.94]"
      ]
     },
     "metadata": {},
     "output_type": "display_data"
    },
    {
     "data": {
      "text/plain": [
       "'b6'"
      ]
     },
     "metadata": {},
     "output_type": "display_data"
    },
    {
     "data": {
      "text/plain": [
       "[57515.72999999999, 25000, 1006.382949099862, 37236.169116694895, 37.0, 1067.0]"
      ]
     },
     "metadata": {},
     "output_type": "display_data"
    },
    {
     "data": {
      "text/plain": [
       "'s3'"
      ]
     },
     "metadata": {},
     "output_type": "display_data"
    },
    {
     "data": {
      "text/plain": [
       "[55375.04999999999,\n",
       " 25000,\n",
       " 1009.6627978639717,\n",
       " 39376.849116694895,\n",
       " 39.0,\n",
       " 1070.34]"
      ]
     },
     "metadata": {},
     "output_type": "display_data"
    },
    {
     "data": {
      "text/plain": [
       "'b8'"
      ]
     },
     "metadata": {},
     "output_type": "display_data"
    },
    {
     "data": {
      "text/plain": [
       "[53261.48999999999,\n",
       " 25000,\n",
       " 1011.9611979681681,\n",
       " 41490.40911669489,\n",
       " 41.0,\n",
       " 1056.78]"
      ]
     },
     "metadata": {},
     "output_type": "display_data"
    },
    {
     "data": {
      "text/plain": [
       "'b8'"
      ]
     },
     "metadata": {},
     "output_type": "display_data"
    },
    {
     "data": {
      "text/plain": [
       "[77257.09, 25000, 1011.9611979681681, 21251.18515733153, 21.0, 1199.78]"
      ]
     },
     "metadata": {},
     "output_type": "display_data"
    },
    {
     "data": {
      "text/plain": [
       "'s3'"
      ]
     },
     "metadata": {},
     "output_type": "display_data"
    },
    {
     "data": {
      "text/plain": [
       "[73808.31999999999, 25000, 1029.164798222147, 24699.95515733153, 24.0, 1149.59]"
      ]
     },
     "metadata": {},
     "output_type": "display_data"
    },
    {
     "data": {
      "text/plain": [
       "'b8'"
      ]
     },
     "metadata": {},
     "output_type": "display_data"
    },
    {
     "data": {
      "text/plain": [
       "[70543.95999999999,\n",
       " 25000,\n",
       " 1035.7153761974641,\n",
       " 27964.31515733153,\n",
       " 27.0,\n",
       " 1088.12]"
      ]
     },
     "metadata": {},
     "output_type": "display_data"
    },
    {
     "data": {
      "text/plain": [
       "'b8'"
      ]
     },
     "metadata": {},
     "output_type": "display_data"
    },
    {
     "data": {
      "text/plain": [
       "[67349.85999999999,\n",
       " 25000,\n",
       " 1038.6138385777178,\n",
       " 31158.415157331532,\n",
       " 30.0,\n",
       " 1064.7]"
      ]
     },
     "metadata": {},
     "output_type": "display_data"
    },
    {
     "data": {
      "text/plain": [
       "'b8'"
      ]
     },
     "metadata": {},
     "output_type": "display_data"
    },
    {
     "data": {
      "text/plain": [
       "[64268.97999999999, 25000, 1037.554398707016, 34239.29515733153, 33.0, 1026.96]"
      ]
     },
     "metadata": {},
     "output_type": "display_data"
    },
    {
     "data": {
      "text/plain": [
       "'b8'"
      ]
     },
     "metadata": {},
     "output_type": "display_data"
    },
    {
     "data": {
      "text/plain": [
       "[81968.49999999999,\n",
       " 25000,\n",
       " 1037.554398707016,\n",
       " 17638.424778019275,\n",
       " 17.0,\n",
       " 1106.22]"
      ]
     },
     "metadata": {},
     "output_type": "display_data"
    },
    {
     "data": {
      "text/plain": [
       "'s3'"
      ]
     },
     "metadata": {},
     "output_type": "display_data"
    },
    {
     "data": {
      "text/plain": [
       "[78873.81999999999,\n",
       " 25000,\n",
       " 1036.6552389009637,\n",
       " 20733.104778019275,\n",
       " 20.0,\n",
       " 1031.56]"
      ]
     },
     "metadata": {},
     "output_type": "display_data"
    },
    {
     "data": {
      "text/plain": [
       "'b8'"
      ]
     },
     "metadata": {},
     "output_type": "display_data"
    },
    {
     "data": {
      "text/plain": [
       "[75782.29, 25000, 1035.853686000838, 23824.634778019274, 23.0, 1030.51]"
      ]
     },
     "metadata": {},
     "output_type": "display_data"
    },
    {
     "data": {
      "text/plain": [
       "'b8'"
      ]
     },
     "metadata": {},
     "output_type": "display_data"
    },
    {
     "data": {
      "text/plain": [
       "[72795.34, 25000, 1031.2147991545876, 26811.584778019274, 26.0, 995.65]"
      ]
     },
     "metadata": {},
     "output_type": "display_data"
    },
    {
     "data": {
      "text/plain": [
       "'b8'"
      ]
     },
     "metadata": {},
     "output_type": "display_data"
    },
    {
     "data": {
      "text/plain": [
       "[61468.53999999999, 25000, 1003.6417046847178, 38138.384778019274, 38.0, 943.9]"
      ]
     },
     "metadata": {},
     "output_type": "display_data"
    },
    {
     "data": {
      "text/plain": [
       "'b7'"
      ]
     },
     "metadata": {},
     "output_type": "display_data"
    },
    {
     "data": {
      "text/plain": [
       "[51238.53999999999, 25000, 987.1098934289648, 48368.384778019274, 49.0, 930.0]"
      ]
     },
     "metadata": {},
     "output_type": "display_data"
    },
    {
     "data": {
      "text/plain": [
       "'b7'"
      ]
     },
     "metadata": {},
     "output_type": "display_data"
    },
    {
     "data": {
      "text/plain": [
       "[42972.939999999995, 25000, 976.4480134141254, 56633.98477801927, 58.0, 918.4]"
      ]
     },
     "metadata": {},
     "output_type": "display_data"
    },
    {
     "data": {
      "text/plain": [
       "'b7'"
      ]
     },
     "metadata": {},
     "output_type": "display_data"
    },
    {
     "data": {
      "text/plain": [
       "[752.3399999999965, 12500, 898.0208449840263, 111354.58477801927, 124.0, 829.1]"
      ]
     },
     "metadata": {},
     "output_type": "display_data"
    },
    {
     "data": {
      "text/plain": [
       "'b11, used emergency balance'"
      ]
     },
     "metadata": {},
     "output_type": "display_data"
    },
    {
     "data": {
      "text/plain": [
       "[752.3399999999965,\n",
       " 12500,\n",
       " 898.0208449840263,\n",
       " 111354.58477801927,\n",
       " 124.0,\n",
       " 905.66]"
      ]
     },
     "metadata": {},
     "output_type": "display_data"
    },
    {
     "data": {
      "text/plain": [
       "'b8'"
      ]
     },
     "metadata": {},
     "output_type": "display_data"
    },
    {
     "data": {
      "text/plain": [
       "[752.3399999999965,\n",
       " 12500,\n",
       " 898.0208449840263,\n",
       " 111354.58477801927,\n",
       " 124.0,\n",
       " 891.14]"
      ]
     },
     "metadata": {},
     "output_type": "display_data"
    },
    {
     "data": {
      "text/plain": [
       "'b8'"
      ]
     },
     "metadata": {},
     "output_type": "display_data"
    },
    {
     "data": {
      "text/plain": [
       "[752.3399999999965,\n",
       " 12500,\n",
       " 898.0208449840263,\n",
       " 111354.58477801927,\n",
       " 124.0,\n",
       " 907.34]"
      ]
     },
     "metadata": {},
     "output_type": "display_data"
    },
    {
     "data": {
      "text/plain": [
       "'b8'"
      ]
     },
     "metadata": {},
     "output_type": "display_data"
    },
    {
     "data": {
      "text/plain": [
       "[752.3399999999965,\n",
       " 12500,\n",
       " 898.0208449840263,\n",
       " 111354.58477801927,\n",
       " 124.0,\n",
       " 904.55]"
      ]
     },
     "metadata": {},
     "output_type": "display_data"
    },
    {
     "data": {
      "text/plain": [
       "'b8'"
      ]
     },
     "metadata": {},
     "output_type": "display_data"
    },
    {
     "data": {
      "text/plain": [
       "[752.3399999999965, 12500, 898.0208449840263, 111354.58477801927, 124.0, 860.0]"
      ]
     },
     "metadata": {},
     "output_type": "display_data"
    },
    {
     "data": {
      "text/plain": [
       "'b8'"
      ]
     },
     "metadata": {},
     "output_type": "display_data"
    },
    {
     "data": {
      "text/plain": [
       "[752.3399999999965,\n",
       " 12500,\n",
       " 898.0208449840263,\n",
       " 111354.58477801927,\n",
       " 124.0,\n",
       " 876.35]"
      ]
     },
     "metadata": {},
     "output_type": "display_data"
    },
    {
     "data": {
      "text/plain": [
       "'b8'"
      ]
     },
     "metadata": {},
     "output_type": "display_data"
    },
    {
     "data": {
      "text/plain": [
       "[752.3399999999965,\n",
       " 12500,\n",
       " 898.0208449840263,\n",
       " 111354.58477801927,\n",
       " 124.0,\n",
       " 856.98]"
      ]
     },
     "metadata": {},
     "output_type": "display_data"
    },
    {
     "data": {
      "text/plain": [
       "'b8'"
      ]
     },
     "metadata": {},
     "output_type": "display_data"
    },
    {
     "data": {
      "text/plain": [
       "[752.3399999999965,\n",
       " 12500,\n",
       " 898.0208449840263,\n",
       " 111354.58477801927,\n",
       " 124.0,\n",
       " 821.53]"
      ]
     },
     "metadata": {},
     "output_type": "display_data"
    },
    {
     "data": {
      "text/plain": [
       "'b7'"
      ]
     },
     "metadata": {},
     "output_type": "display_data"
    },
    {
     "data": {
      "text/plain": [
       "[752.3399999999965,\n",
       " 12500,\n",
       " 898.0208449840263,\n",
       " 111354.58477801927,\n",
       " 124.0,\n",
       " 764.04]"
      ]
     },
     "metadata": {},
     "output_type": "display_data"
    },
    {
     "data": {
      "text/plain": [
       "'b6'"
      ]
     },
     "metadata": {},
     "output_type": "display_data"
    },
    {
     "data": {
      "text/plain": [
       "[752.3399999999965,\n",
       " 12500,\n",
       " 898.0208449840263,\n",
       " 111354.58477801927,\n",
       " 124.0,\n",
       " 839.29]"
      ]
     },
     "metadata": {},
     "output_type": "display_data"
    },
    {
     "data": {
      "text/plain": [
       "'b7'"
      ]
     },
     "metadata": {},
     "output_type": "display_data"
    },
    {
     "data": {
      "text/plain": [
       "'GOOG'"
      ]
     },
     "metadata": {},
     "output_type": "display_data"
    },
    {
     "data": {
      "text/plain": [
       "['GOOG', 'is under calculation, start money is 10000000\\\\ / 100000$']"
      ]
     },
     "metadata": {},
     "output_type": "display_data"
    },
    {
     "data": {
      "text/plain": [
       "[41893.16, 50000, 2026.71, 8106.84, 4.0, 2026.71]"
      ]
     },
     "metadata": {},
     "output_type": "display_data"
    },
    {
     "data": {
      "text/plain": [
       "0"
      ]
     },
     "metadata": {},
     "output_type": "display_data"
    },
    {
     "data": {
      "text/plain": [
       "[39868.990000000005, 50000, 2026.202, 10131.01, 5.0, 2024.17]"
      ]
     },
     "metadata": {},
     "output_type": "display_data"
    },
    {
     "data": {
      "text/plain": [
       "'b8'"
      ]
     },
     "metadata": {},
     "output_type": "display_data"
    },
    {
     "data": {
      "text/plain": [
       "[39868.990000000005, 50000, 2026.202, 10131.01, 5.0, 2061.92]"
      ]
     },
     "metadata": {},
     "output_type": "display_data"
    },
    {
     "data": {
      "text/plain": [
       "'b8'"
      ]
     },
     "metadata": {},
     "output_type": "display_data"
    },
    {
     "data": {
      "text/plain": [
       "[39868.990000000005, 50000, 2026.202, 10131.01, 5.0, 2036.22]"
      ]
     },
     "metadata": {},
     "output_type": "display_data"
    },
    {
     "data": {
      "text/plain": [
       "'b8'"
      ]
     },
     "metadata": {},
     "output_type": "display_data"
    },
    {
     "data": {
      "text/plain": [
       "[44144.490000000005, 50000, 2026.202, 6078.606, 3.0, 2137.75]"
      ]
     },
     "metadata": {},
     "output_type": "display_data"
    },
    {
     "data": {
      "text/plain": [
       "'s3'"
      ]
     },
     "metadata": {},
     "output_type": "display_data"
    },
    {
     "data": {
      "text/plain": [
       "[46370.04000000001, 50000, 2026.202, 4052.4039999999995, 2.0, 2225.55]"
      ]
     },
     "metadata": {},
     "output_type": "display_data"
    },
    {
     "data": {
      "text/plain": [
       "'s3'"
      ]
     },
     "metadata": {},
     "output_type": "display_data"
    },
    {
     "data": {
      "text/plain": [
       "[44115.25000000001,\n",
       " 50000,\n",
       " 2102.3979999999997,\n",
       " 6307.1939999999995,\n",
       " 3.0,\n",
       " 2254.79]"
      ]
     },
     "metadata": {},
     "output_type": "display_data"
    },
    {
     "data": {
      "text/plain": [
       "'b8'"
      ]
     },
     "metadata": {},
     "output_type": "display_data"
    },
    {
     "data": {
      "text/plain": [
       "[44115.25000000001,\n",
       " 50000,\n",
       " 2102.3979999999997,\n",
       " 6307.1939999999995,\n",
       " 3.0,\n",
       " 2267.92]"
      ]
     },
     "metadata": {},
     "output_type": "display_data"
    },
    {
     "data": {
      "text/plain": [
       "'b8'"
      ]
     },
     "metadata": {},
     "output_type": "display_data"
    },
    {
     "data": {
      "text/plain": [
       "[46495.16, 50000, 2102.3979999999997, 4204.796, 2.0, 2379.91]"
      ]
     },
     "metadata": {},
     "output_type": "display_data"
    },
    {
     "data": {
      "text/plain": [
       "'s3'"
      ]
     },
     "metadata": {},
     "output_type": "display_data"
    },
    {
     "data": {
      "text/plain": [
       "[46495.16, 50000, 2102.398, 4204.796, 2.0, 2354.25]"
      ]
     },
     "metadata": {},
     "output_type": "display_data"
    },
    {
     "data": {
      "text/plain": [
       "'b8'"
      ]
     },
     "metadata": {},
     "output_type": "display_data"
    },
    {
     "data": {
      "text/plain": [
       "[46495.16, 50000, 2102.398, 4204.796, 2.0, 2341.66]"
      ]
     },
     "metadata": {},
     "output_type": "display_data"
    },
    {
     "data": {
      "text/plain": [
       "'b8'"
      ]
     },
     "metadata": {},
     "output_type": "display_data"
    },
    {
     "data": {
      "text/plain": [
       "[44186.4, 50000, 2171.1853333333333, 6513.5560000000005, 3.0, 2308.76]"
      ]
     },
     "metadata": {},
     "output_type": "display_data"
    },
    {
     "data": {
      "text/plain": [
       "'b8'"
      ]
     },
     "metadata": {},
     "output_type": "display_data"
    },
    {
     "data": {
      "text/plain": [
       "[44186.4, 50000, 2171.1853333333333, 6513.5560000000005, 3.0, 2239.08]"
      ]
     },
     "metadata": {},
     "output_type": "display_data"
    },
    {
     "data": {
      "text/plain": [
       "'b8'"
      ]
     },
     "metadata": {},
     "output_type": "display_data"
    },
    {
     "data": {
      "text/plain": [
       "[44186.4, 50000, 2171.1853333333333, 6513.5560000000005, 3.0, 2402.51]"
      ]
     },
     "metadata": {},
     "output_type": "display_data"
    },
    {
     "data": {
      "text/plain": [
       "'b8'"
      ]
     },
     "metadata": {},
     "output_type": "display_data"
    },
    {
     "data": {
      "text/plain": [
       "[44186.4, 50000, 2171.1853333333333, 6513.5560000000005, 3.0, 2585.1]"
      ]
     },
     "metadata": {},
     "output_type": "display_data"
    },
    {
     "data": {
      "text/plain": [
       "'b8'"
      ]
     },
     "metadata": {},
     "output_type": "display_data"
    },
    {
     "data": {
      "text/plain": [
       "[46942.700000000004, 50000, 2171.1853333333333, 4342.370666666668, 2.0, 2756.3]"
      ]
     },
     "metadata": {},
     "output_type": "display_data"
    },
    {
     "data": {
      "text/plain": [
       "'s2'"
      ]
     },
     "metadata": {},
     "output_type": "display_data"
    },
    {
     "data": {
      "text/plain": [
       "[46942.700000000004, 50000, 2171.185333333334, 4342.370666666668, 2.0, 2735.9]"
      ]
     },
     "metadata": {},
     "output_type": "display_data"
    },
    {
     "data": {
      "text/plain": [
       "'b8'"
      ]
     },
     "metadata": {},
     "output_type": "display_data"
    },
    {
     "data": {
      "text/plain": [
       "[46942.700000000004, 50000, 2171.185333333334, 4342.370666666668, 2.0, 2746.01]"
      ]
     },
     "metadata": {},
     "output_type": "display_data"
    },
    {
     "data": {
      "text/plain": [
       "'b8'"
      ]
     },
     "metadata": {},
     "output_type": "display_data"
    },
    {
     "data": {
      "text/plain": [
       "[46942.700000000004, 50000, 2171.185333333334, 4342.370666666668, 2.0, 2884.38]"
      ]
     },
     "metadata": {},
     "output_type": "display_data"
    },
    {
     "data": {
      "text/plain": [
       "'b8'"
      ]
     },
     "metadata": {},
     "output_type": "display_data"
    },
    {
     "data": {
      "text/plain": [
       "[46942.700000000004, 50000, 2171.185333333334, 4342.370666666668, 2.0, 2838.42]"
      ]
     },
     "metadata": {},
     "output_type": "display_data"
    },
    {
     "data": {
      "text/plain": [
       "'b8'"
      ]
     },
     "metadata": {},
     "output_type": "display_data"
    },
    {
     "data": {
      "text/plain": [
       "[46942.700000000004, 50000, 2171.185333333334, 4342.370666666668, 2.0, 2829.27]"
      ]
     },
     "metadata": {},
     "output_type": "display_data"
    },
    {
     "data": {
      "text/plain": [
       "'b8'"
      ]
     },
     "metadata": {},
     "output_type": "display_data"
    },
    {
     "data": {
      "text/plain": [
       "[46942.700000000004, 50000, 2171.185333333334, 4342.370666666668, 2.0, 2780.34]"
      ]
     },
     "metadata": {},
     "output_type": "display_data"
    },
    {
     "data": {
      "text/plain": [
       "'b8'"
      ]
     },
     "metadata": {},
     "output_type": "display_data"
    },
    {
     "data": {
      "text/plain": [
       "[46942.700000000004, 50000, 2171.185333333334, 4342.370666666668, 2.0, 2723.68]"
      ]
     },
     "metadata": {},
     "output_type": "display_data"
    },
    {
     "data": {
      "text/plain": [
       "'b8'"
      ]
     },
     "metadata": {},
     "output_type": "display_data"
    },
    {
     "data": {
      "text/plain": [
       "[46942.700000000004, 50000, 2171.185333333334, 4342.370666666668, 2.0, 2690.42]"
      ]
     },
     "metadata": {},
     "output_type": "display_data"
    },
    {
     "data": {
      "text/plain": [
       "'b8'"
      ]
     },
     "metadata": {},
     "output_type": "display_data"
    },
    {
     "data": {
      "text/plain": [
       "[46942.700000000004, 50000, 2171.185333333334, 4342.370666666668, 2.0, 2675.3]"
      ]
     },
     "metadata": {},
     "output_type": "display_data"
    },
    {
     "data": {
      "text/plain": [
       "'b8'"
      ]
     },
     "metadata": {},
     "output_type": "display_data"
    },
    {
     "data": {
      "text/plain": [
       "[46942.700000000004, 50000, 2171.185333333334, 4342.370666666668, 2.0, 2734.26]"
      ]
     },
     "metadata": {},
     "output_type": "display_data"
    },
    {
     "data": {
      "text/plain": [
       "'b8'"
      ]
     },
     "metadata": {},
     "output_type": "display_data"
    },
    {
     "data": {
      "text/plain": [
       "[46942.700000000004, 50000, 2171.185333333334, 4342.370666666668, 2.0, 2772.5]"
      ]
     },
     "metadata": {},
     "output_type": "display_data"
    },
    {
     "data": {
      "text/plain": [
       "'b8'"
      ]
     },
     "metadata": {},
     "output_type": "display_data"
    },
    {
     "data": {
      "text/plain": [
       "[49871.25000000001, 50000, 2171.185333333334, 2171.185333333334, 1.0, 2928.55]"
      ]
     },
     "metadata": {},
     "output_type": "display_data"
    },
    {
     "data": {
      "text/plain": [
       "'s2'"
      ]
     },
     "metadata": {},
     "output_type": "display_data"
    },
    {
     "data": {
      "text/plain": [
       "[49871.25000000001, 50000, 2171.185333333334, 2171.185333333334, 1.0, 2875.48]"
      ]
     },
     "metadata": {},
     "output_type": "display_data"
    },
    {
     "data": {
      "text/plain": [
       "'b8'"
      ]
     },
     "metadata": {},
     "output_type": "display_data"
    },
    {
     "data": {
      "text/plain": [
       "[49871.25000000001, 50000, 2171.185333333334, 2171.185333333334, 1.0, 2932.52]"
      ]
     },
     "metadata": {},
     "output_type": "display_data"
    },
    {
     "data": {
      "text/plain": [
       "'b8'"
      ]
     },
     "metadata": {},
     "output_type": "display_data"
    },
    {
     "data": {
      "text/plain": [
       "[49871.25000000001, 50000, 2171.185333333334, 2171.185333333334, 1.0, 2941.57]"
      ]
     },
     "metadata": {},
     "output_type": "display_data"
    },
    {
     "data": {
      "text/plain": [
       "'b8'"
      ]
     },
     "metadata": {},
     "output_type": "display_data"
    },
    {
     "data": {
      "text/plain": [
       "[49871.25000000001, 50000, 2171.185333333334, 2171.185333333334, 1.0, 2856.12]"
      ]
     },
     "metadata": {},
     "output_type": "display_data"
    },
    {
     "data": {
      "text/plain": [
       "'b8'"
      ]
     },
     "metadata": {},
     "output_type": "display_data"
    },
    {
     "data": {
      "text/plain": [
       "[49871.25000000001, 50000, 2171.185333333334, 2171.185333333334, 1.0, 2849.04]"
      ]
     },
     "metadata": {},
     "output_type": "display_data"
    },
    {
     "data": {
      "text/plain": [
       "'b8'"
      ]
     },
     "metadata": {},
     "output_type": "display_data"
    },
    {
     "data": {
      "text/plain": [
       "[49871.25000000001, 50000, 2171.185333333334, 2171.185333333334, 1.0, 2934.09]"
      ]
     },
     "metadata": {},
     "output_type": "display_data"
    },
    {
     "data": {
      "text/plain": [
       "'b8'"
      ]
     },
     "metadata": {},
     "output_type": "display_data"
    },
    {
     "data": {
      "text/plain": [
       "[49871.25000000001, 50000, 2171.185333333334, 2171.185333333334, 1.0, 2899.41]"
      ]
     },
     "metadata": {},
     "output_type": "display_data"
    },
    {
     "data": {
      "text/plain": [
       "'b8'"
      ]
     },
     "metadata": {},
     "output_type": "display_data"
    },
    {
     "data": {
      "text/plain": [
       "[49871.25000000001, 50000, 2171.185333333334, 2171.185333333334, 1.0, 2896.77]"
      ]
     },
     "metadata": {},
     "output_type": "display_data"
    },
    {
     "data": {
      "text/plain": [
       "'b8'"
      ]
     },
     "metadata": {},
     "output_type": "display_data"
    },
    {
     "data": {
      "text/plain": [
       "[49871.25000000001, 50000, 2171.185333333334, 2171.185333333334, 1.0, 2856.06]"
      ]
     },
     "metadata": {},
     "output_type": "display_data"
    },
    {
     "data": {
      "text/plain": [
       "'b8'"
      ]
     },
     "metadata": {},
     "output_type": "display_data"
    },
    {
     "data": {
      "text/plain": [
       "[49871.25000000001, 50000, 2171.185333333334, 2171.185333333334, 1.0, 2928.96]"
      ]
     },
     "metadata": {},
     "output_type": "display_data"
    },
    {
     "data": {
      "text/plain": [
       "'b8'"
      ]
     },
     "metadata": {},
     "output_type": "display_data"
    },
    {
     "data": {
      "text/plain": [
       "[49871.25000000001, 50000, 2171.185333333334, 2171.185333333334, 1.0, 2753.07]"
      ]
     },
     "metadata": {},
     "output_type": "display_data"
    },
    {
     "data": {
      "text/plain": [
       "'b8'"
      ]
     },
     "metadata": {},
     "output_type": "display_data"
    },
    {
     "data": {
      "text/plain": [
       "[49871.25000000001, 50000, 2171.185333333334, 2171.185333333334, 1.0, 2782.62]"
      ]
     },
     "metadata": {},
     "output_type": "display_data"
    },
    {
     "data": {
      "text/plain": [
       "'b8'"
      ]
     },
     "metadata": {},
     "output_type": "display_data"
    },
    {
     "data": {
      "text/plain": [
       "[49871.25000000001, 50000, 2171.185333333334, 2171.185333333334, 1.0, 2725.81]"
      ]
     },
     "metadata": {},
     "output_type": "display_data"
    },
    {
     "data": {
      "text/plain": [
       "'b8'"
      ]
     },
     "metadata": {},
     "output_type": "display_data"
    },
    {
     "data": {
      "text/plain": [
       "[49871.25000000001, 50000, 2171.185333333334, 2171.185333333334, 1.0, 2670.13]"
      ]
     },
     "metadata": {},
     "output_type": "display_data"
    },
    {
     "data": {
      "text/plain": [
       "'b8'"
      ]
     },
     "metadata": {},
     "output_type": "display_data"
    },
    {
     "data": {
      "text/plain": [
       "[49871.25000000001, 50000, 2171.185333333334, 2171.185333333334, 1.0, 2601.84]"
      ]
     },
     "metadata": {},
     "output_type": "display_data"
    },
    {
     "data": {
      "text/plain": [
       "'b8'"
      ]
     },
     "metadata": {},
     "output_type": "display_data"
    },
    {
     "data": {
      "text/plain": [
       "[49871.25000000001, 50000, 2171.185333333334, 2171.185333333334, 1.0, 2534.71]"
      ]
     },
     "metadata": {},
     "output_type": "display_data"
    },
    {
     "data": {
      "text/plain": [
       "'b8'"
      ]
     },
     "metadata": {},
     "output_type": "display_data"
    },
    {
     "data": {
      "text/plain": [
       "[52537.04000000001, 50000, 0, 2171.185333333334, 0, 2665.79]"
      ]
     },
     "metadata": {},
     "output_type": "display_data"
    },
    {
     "data": {
      "text/plain": [
       "'s2'"
      ]
     },
     "metadata": {},
     "output_type": "display_data"
    },
    {
     "data": {
      "text/plain": [
       "[52537.04000000001, 50000, 0, 2171.185333333334, 0, 2960.73]"
      ]
     },
     "metadata": {},
     "output_type": "display_data"
    },
    {
     "data": {
      "text/plain": [
       "'s1'"
      ]
     },
     "metadata": {},
     "output_type": "display_data"
    },
    {
     "name": "stderr",
     "output_type": "stream",
     "text": [
      "C:\\Users\\user\\AppData\\Local\\Temp\\ipykernel_5212\\2851475448.py:33: RuntimeWarning: divide by zero encountered in double_scalars\n",
      "  self.last = self.invested / self.stock\n"
     ]
    },
    {
     "data": {
      "text/plain": [
       "[52537.04000000001, 50000, inf, 2171.185333333334, 0.0, 2853.01]"
      ]
     },
     "metadata": {},
     "output_type": "display_data"
    },
    {
     "data": {
      "text/plain": [
       "'b8'"
      ]
     },
     "metadata": {},
     "output_type": "display_data"
    },
    {
     "data": {
      "text/plain": [
       "[52537.04000000001, 50000, inf, 2171.185333333334, 0.0, 2778.76]"
      ]
     },
     "metadata": {},
     "output_type": "display_data"
    },
    {
     "data": {
      "text/plain": [
       "'b4'"
      ]
     },
     "metadata": {},
     "output_type": "display_data"
    },
    {
     "data": {
      "text/plain": [
       "[52537.04000000001, 50000, inf, 2171.185333333334, 0.0, 2772.05]"
      ]
     },
     "metadata": {},
     "output_type": "display_data"
    },
    {
     "data": {
      "text/plain": [
       "'b4'"
      ]
     },
     "metadata": {},
     "output_type": "display_data"
    },
    {
     "data": {
      "text/plain": [
       "[52537.04000000001, 50000, inf, 2171.185333333334, 0.0, 2682.6]"
      ]
     },
     "metadata": {},
     "output_type": "display_data"
    },
    {
     "data": {
      "text/plain": [
       "'b4'"
      ]
     },
     "metadata": {},
     "output_type": "display_data"
    },
    {
     "data": {
      "text/plain": [
       "[52537.04000000001, 50000, inf, 2171.185333333334, 0.0, 2646.17]"
      ]
     },
     "metadata": {},
     "output_type": "display_data"
    },
    {
     "data": {
      "text/plain": [
       "'b4'"
      ]
     },
     "metadata": {},
     "output_type": "display_data"
    },
    {
     "data": {
      "text/plain": [
       "[52537.04000000001, 50000, inf, 2171.185333333334, 0.0, 2609.35]"
      ]
     },
     "metadata": {},
     "output_type": "display_data"
    },
    {
     "data": {
      "text/plain": [
       "'b4'"
      ]
     },
     "metadata": {},
     "output_type": "display_data"
    },
    {
     "data": {
      "text/plain": [
       "[52537.04000000001, 50000, inf, 2171.185333333334, 0.0, 2588.05]"
      ]
     },
     "metadata": {},
     "output_type": "display_data"
    },
    {
     "data": {
      "text/plain": [
       "'b4'"
      ]
     },
     "metadata": {},
     "output_type": "display_data"
    },
    {
     "data": {
      "text/plain": [
       "[52537.04000000001, 50000, inf, 2171.185333333334, 0.0, 2551.7]"
      ]
     },
     "metadata": {},
     "output_type": "display_data"
    },
    {
     "data": {
      "text/plain": [
       "'b4'"
      ]
     },
     "metadata": {},
     "output_type": "display_data"
    },
    {
     "data": {
      "text/plain": [
       "[52537.04000000001, 50000, inf, 2171.185333333334, 0.0, 2683.36]"
      ]
     },
     "metadata": {},
     "output_type": "display_data"
    },
    {
     "data": {
      "text/plain": [
       "'b4'"
      ]
     },
     "metadata": {},
     "output_type": "display_data"
    },
    {
     "data": {
      "text/plain": [
       "[52537.04000000001, 50000, inf, 2171.185333333334, 0.0, 2686.16]"
      ]
     },
     "metadata": {},
     "output_type": "display_data"
    },
    {
     "data": {
      "text/plain": [
       "'b4'"
      ]
     },
     "metadata": {},
     "output_type": "display_data"
    },
    {
     "data": {
      "text/plain": [
       "'FB'"
      ]
     },
     "metadata": {},
     "output_type": "display_data"
    },
    {
     "data": {
      "text/plain": [
       "['FB', 'is under calculation, start money is 10000000\\\\ / 100000$']"
      ]
     },
     "metadata": {},
     "output_type": "display_data"
    },
    {
     "data": {
      "text/plain": [
       "[40039.01, 50000, 255.41, 9960.99, 39.0, 255.41]"
      ]
     },
     "metadata": {},
     "output_type": "display_data"
    },
    {
     "data": {
      "text/plain": [
       "0"
      ]
     },
     "metadata": {},
     "output_type": "display_data"
    },
    {
     "data": {
      "text/plain": [
       "[38251.840000000004, 50000, 255.39478260869564, 11748.16, 46.0, 255.31]"
      ]
     },
     "metadata": {},
     "output_type": "display_data"
    },
    {
     "data": {
      "text/plain": [
       "'b8'"
      ]
     },
     "metadata": {},
     "output_type": "display_data"
    },
    {
     "data": {
      "text/plain": [
       "[44551.08, 50000, 255.39478260869564, 5874.08, 23.0, 273.88]"
      ]
     },
     "metadata": {},
     "output_type": "display_data"
    },
    {
     "data": {
      "text/plain": [
       "'s3'"
      ]
     },
     "metadata": {},
     "output_type": "display_data"
    },
    {
     "data": {
      "text/plain": [
       "[42403.880000000005, 50000, 258.7509677419355, 8021.28, 31.0, 268.4]"
      ]
     },
     "metadata": {},
     "output_type": "display_data"
    },
    {
     "data": {
      "text/plain": [
       "'b8'"
      ]
     },
     "metadata": {},
     "output_type": "display_data"
    },
    {
     "data": {
      "text/plain": [
       "[40453.54000000001, 50000, 262.4110526315789, 9971.619999999999, 38.0, 278.62]"
      ]
     },
     "metadata": {},
     "output_type": "display_data"
    },
    {
     "data": {
      "text/plain": [
       "'b8'"
      ]
     },
     "metadata": {},
     "output_type": "display_data"
    },
    {
     "data": {
      "text/plain": [
       "[45965.630000000005,\n",
       " 50000,\n",
       " 262.4110526315789,\n",
       " 4985.8099999999995,\n",
       " 19.0,\n",
       " 290.11]"
      ]
     },
     "metadata": {},
     "output_type": "display_data"
    },
    {
     "data": {
      "text/plain": [
       "'s3'"
      ]
     },
     "metadata": {},
     "output_type": "display_data"
    },
    {
     "data": {
      "text/plain": [
       "[43708.51, 50000, 268.25666666666666, 7242.929999999999, 27.0, 282.14]"
      ]
     },
     "metadata": {},
     "output_type": "display_data"
    },
    {
     "data": {
      "text/plain": [
       "'b8'"
      ]
     },
     "metadata": {},
     "output_type": "display_data"
    },
    {
     "data": {
      "text/plain": [
       "[41757.33, 50000, 270.41499999999996, 9194.109999999999, 34.0, 278.74]"
      ]
     },
     "metadata": {},
     "output_type": "display_data"
    },
    {
     "data": {
      "text/plain": [
       "'b8'"
      ]
     },
     "metadata": {},
     "output_type": "display_data"
    },
    {
     "data": {
      "text/plain": [
       "[47008.8, 50000, 270.41499999999996, 4597.054999999999, 17.0, 308.91]"
      ]
     },
     "metadata": {},
     "output_type": "display_data"
    },
    {
     "data": {
      "text/plain": [
       "'s3'"
      ]
     },
     "metadata": {},
     "output_type": "display_data"
    },
    {
     "data": {
      "text/plain": [
       "[44889.060000000005, 50000, 279.8664583333333, 6716.794999999999, 24.0, 302.82]"
      ]
     },
     "metadata": {},
     "output_type": "display_data"
    },
    {
     "data": {
      "text/plain": [
       "'b8'"
      ]
     },
     "metadata": {},
     "output_type": "display_data"
    },
    {
     "data": {
      "text/plain": [
       "[42773.380000000005,\n",
       " 50000,\n",
       " 284.91854838709673,\n",
       " 8832.474999999999,\n",
       " 31.0,\n",
       " 302.24]"
      ]
     },
     "metadata": {},
     "output_type": "display_data"
    },
    {
     "data": {
      "text/plain": [
       "'b8'"
      ]
     },
     "metadata": {},
     "output_type": "display_data"
    },
    {
     "data": {
      "text/plain": [
       "[40697.740000000005,\n",
       " 50000,\n",
       " 287.0556578947368,\n",
       " 10908.114999999998,\n",
       " 38.0,\n",
       " 296.52]"
      ]
     },
     "metadata": {},
     "output_type": "display_data"
    },
    {
     "data": {
      "text/plain": [
       "'b8'"
      ]
     },
     "metadata": {},
     "output_type": "display_data"
    },
    {
     "data": {
      "text/plain": [
       "[46958.43000000001, 50000, 287.0556578947368, 5454.057499999999, 19.0, 329.51]"
      ]
     },
     "metadata": {},
     "output_type": "display_data"
    },
    {
     "data": {
      "text/plain": [
       "'s3'"
      ]
     },
     "metadata": {},
     "output_type": "display_data"
    },
    {
     "data": {
      "text/plain": [
       "[44682.87000000001, 50000, 297.2929807692307, 7729.6174999999985, 26.0, 325.08]"
      ]
     },
     "metadata": {},
     "output_type": "display_data"
    },
    {
     "data": {
      "text/plain": [
       "'b8'"
      ]
     },
     "metadata": {},
     "output_type": "display_data"
    },
    {
     "data": {
      "text/plain": [
       "[42454.35000000001, 50000, 301.7617424242424, 9958.137499999999, 33.0, 318.36]"
      ]
     },
     "metadata": {},
     "output_type": "display_data"
    },
    {
     "data": {
      "text/plain": [
       "'b8'"
      ]
     },
     "metadata": {},
     "output_type": "display_data"
    },
    {
     "data": {
      "text/plain": [
       "[40564.23000000001, 50000, 303.80147435897436, 11848.2575, 39.0, 315.02]"
      ]
     },
     "metadata": {},
     "output_type": "display_data"
    },
    {
     "data": {
      "text/plain": [
       "'b8'"
      ]
     },
     "metadata": {},
     "output_type": "display_data"
    },
    {
     "data": {
      "text/plain": [
       "[38728.41000000001, 50000, 304.0906111111111, 13684.0775, 45.0, 305.97]"
      ]
     },
     "metadata": {},
     "output_type": "display_data"
    },
    {
     "data": {
      "text/plain": [
       "'b8'"
      ]
     },
     "metadata": {},
     "output_type": "display_data"
    },
    {
     "data": {
      "text/plain": [
       "[36913.11000000001, 50000, 303.909362745098, 15499.377499999999, 51.0, 302.55]"
      ]
     },
     "metadata": {},
     "output_type": "display_data"
    },
    {
     "data": {
      "text/plain": [
       "'b8'"
      ]
     },
     "metadata": {},
     "output_type": "display_data"
    },
    {
     "data": {
      "text/plain": [
       "[35363.310000000005,\n",
       " 50000,\n",
       " 304.4495982142857,\n",
       " 17049.177499999998,\n",
       " 56.0,\n",
       " 309.96]"
      ]
     },
     "metadata": {},
     "output_type": "display_data"
    },
    {
     "data": {
      "text/plain": [
       "'b8'"
      ]
     },
     "metadata": {},
     "output_type": "display_data"
    },
    {
     "data": {
      "text/plain": [
       "[33719.66, 50000, 306.4397950819672, 18692.8275, 61.0, 328.73]"
      ]
     },
     "metadata": {},
     "output_type": "display_data"
    },
    {
     "data": {
      "text/plain": [
       "'b8'"
      ]
     },
     "metadata": {},
     "output_type": "display_data"
    },
    {
     "data": {
      "text/plain": [
       "[32068.410000000003, 50000, 308.24359848484846, 20344.0775, 66.0, 330.25]"
      ]
     },
     "metadata": {},
     "output_type": "display_data"
    },
    {
     "data": {
      "text/plain": [
       "'b8'"
      ]
     },
     "metadata": {},
     "output_type": "display_data"
    },
    {
     "data": {
      "text/plain": [
       "[30744.090000000004, 50000, 309.5485357142857, 21668.3975, 70.0, 331.08]"
      ]
     },
     "metadata": {},
     "output_type": "display_data"
    },
    {
     "data": {
      "text/plain": [
       "'b8'"
      ]
     },
     "metadata": {},
     "output_type": "display_data"
    },
    {
     "data": {
      "text/plain": [
       "[29425.450000000004, 50000, 310.63564189189185, 22987.0375, 74.0, 329.66]"
      ]
     },
     "metadata": {},
     "output_type": "display_data"
    },
    {
     "data": {
      "text/plain": [
       "'b8'"
      ]
     },
     "metadata": {},
     "output_type": "display_data"
    },
    {
     "data": {
      "text/plain": [
       "[42584.130000000005, 50000, 310.63564189189185, 11493.51875, 37.0, 355.64]"
      ]
     },
     "metadata": {},
     "output_type": "display_data"
    },
    {
     "data": {
      "text/plain": [
       "'s3'"
      ]
     },
     "metadata": {},
     "output_type": "display_data"
    },
    {
     "data": {
      "text/plain": [
       "[40472.79000000001, 50000, 316.39206395348833, 13604.85875, 43.0, 351.89]"
      ]
     },
     "metadata": {},
     "output_type": "display_data"
    },
    {
     "data": {
      "text/plain": [
       "'b8'"
      ]
     },
     "metadata": {},
     "output_type": "display_data"
    },
    {
     "data": {
      "text/plain": [
       "[38734.240000000005,\n",
       " 50000,\n",
       " 319.6543489583333,\n",
       " 15343.408749999999,\n",
       " 48.0,\n",
       " 347.71]"
      ]
     },
     "metadata": {},
     "output_type": "display_data"
    },
    {
     "data": {
      "text/plain": [
       "'b8'"
      ]
     },
     "metadata": {},
     "output_type": "display_data"
    },
    {
     "data": {
      "text/plain": [
       "[37005.990000000005, 50000, 322.10676886792453, 17071.65875, 53.0, 345.65]"
      ]
     },
     "metadata": {},
     "output_type": "display_data"
    },
    {
     "data": {
      "text/plain": [
       "'b8'"
      ]
     },
     "metadata": {},
     "output_type": "display_data"
    },
    {
     "data": {
      "text/plain": [
       "[35267.840000000004, 50000, 324.3070474137931, 18809.80875, 58.0, 347.63]"
      ]
     },
     "metadata": {},
     "output_type": "display_data"
    },
    {
     "data": {
      "text/plain": [
       "'b8'"
      ]
     },
     "metadata": {},
     "output_type": "display_data"
    },
    {
     "data": {
      "text/plain": [
       "[33583.090000000004, 50000, 325.31045634920633, 20494.55875, 63.0, 336.95]"
      ]
     },
     "metadata": {},
     "output_type": "display_data"
    },
    {
     "data": {
      "text/plain": [
       "'b8'"
      ]
     },
     "metadata": {},
     "output_type": "display_data"
    },
    {
     "data": {
      "text/plain": [
       "[45046.58, 50000, 325.31045634920633, 10409.934603174604, 32.0, 369.79]"
      ]
     },
     "metadata": {},
     "output_type": "display_data"
    },
    {
     "data": {
      "text/plain": [
       "'s3'"
      ]
     },
     "metadata": {},
     "output_type": "display_data"
    },
    {
     "data": {
      "text/plain": [
       "[42839.72, 50000, 332.02091060985805, 12616.794603174605, 38.0, 367.81]"
      ]
     },
     "metadata": {},
     "output_type": "display_data"
    },
    {
     "data": {
      "text/plain": [
       "'b8'"
      ]
     },
     "metadata": {},
     "output_type": "display_data"
    },
    {
     "data": {
      "text/plain": [
       "[41048.12, 50000, 335.07894425987456, 14408.394603174605, 43.0, 358.32]"
      ]
     },
     "metadata": {},
     "output_type": "display_data"
    },
    {
     "data": {
      "text/plain": [
       "'b8'"
      ]
     },
     "metadata": {},
     "output_type": "display_data"
    },
    {
     "data": {
      "text/plain": [
       "[39288.37, 50000, 336.8363458994709, 16168.144603174605, 48.0, 351.95]"
      ]
     },
     "metadata": {},
     "output_type": "display_data"
    },
    {
     "data": {
      "text/plain": [
       "'b8'"
      ]
     },
     "metadata": {},
     "output_type": "display_data"
    },
    {
     "data": {
      "text/plain": [
       "[37496.12, 50000, 338.875369871219, 17960.394603174605, 53.0, 358.45]"
      ]
     },
     "metadata": {},
     "output_type": "display_data"
    },
    {
     "data": {
      "text/plain": [
       "'b8'"
      ]
     },
     "metadata": {},
     "output_type": "display_data"
    },
    {
     "data": {
      "text/plain": [
       "[35674.22, 50000, 341.07404488232083, 19782.294603174607, 58.0, 364.38]"
      ]
     },
     "metadata": {},
     "output_type": "display_data"
    },
    {
     "data": {
      "text/plain": [
       "'b8'"
      ]
     },
     "metadata": {},
     "output_type": "display_data"
    },
    {
     "data": {
      "text/plain": [
       "[34173.1, 50000, 343.2808806963646, 21283.414603174606, 62.0, 375.28]"
      ]
     },
     "metadata": {},
     "output_type": "display_data"
    },
    {
     "data": {
      "text/plain": [
       "'b8'"
      ]
     },
     "metadata": {},
     "output_type": "display_data"
    },
    {
     "data": {
      "text/plain": [
       "[32662.82, 50000, 345.3590091390092, 22793.694603174605, 66.0, 377.57]"
      ]
     },
     "metadata": {},
     "output_type": "display_data"
    },
    {
     "data": {
      "text/plain": [
       "'b8'"
      ]
     },
     "metadata": {},
     "output_type": "display_data"
    },
    {
     "data": {
      "text/plain": [
       "[31203.94, 50000, 346.46535147392296, 24252.574603174606, 70.0, 364.72]"
      ]
     },
     "metadata": {},
     "output_type": "display_data"
    },
    {
     "data": {
      "text/plain": [
       "'b8'"
      ]
     },
     "metadata": {},
     "output_type": "display_data"
    },
    {
     "data": {
      "text/plain": [
       "[29781.14, 50000, 346.96452166452167, 25675.374603174605, 74.0, 355.7]"
      ]
     },
     "metadata": {},
     "output_type": "display_data"
    },
    {
     "data": {
      "text/plain": [
       "'b8'"
      ]
     },
     "metadata": {},
     "output_type": "display_data"
    },
    {
     "data": {
      "text/plain": [
       "[28408.3, 50000, 346.7719820919821, 27048.214603174605, 78.0, 343.21]"
      ]
     },
     "metadata": {},
     "output_type": "display_data"
    },
    {
     "data": {
      "text/plain": [
       "'b8'"
      ]
     },
     "metadata": {},
     "output_type": "display_data"
    },
    {
     "data": {
      "text/plain": [
       "[27045.7, 50000, 346.4733488192025, 28410.814603174604, 82.0, 340.65]"
      ]
     },
     "metadata": {},
     "output_type": "display_data"
    },
    {
     "data": {
      "text/plain": [
       "'b8'"
      ]
     },
     "metadata": {},
     "output_type": "display_data"
    },
    {
     "data": {
      "text/plain": [
       "[22804.71, 50000, 343.70320634920637, 32651.804603174605, 95.0, 326.23]"
      ]
     },
     "metadata": {},
     "output_type": "display_data"
    },
    {
     "data": {
      "text/plain": [
       "'b7'"
      ]
     },
     "metadata": {},
     "output_type": "display_data"
    },
    {
     "data": {
      "text/plain": [
       "[21817.05, 50000, 343.2598428895368, 33639.46460317461, 98.0, 329.22]"
      ]
     },
     "metadata": {},
     "output_type": "display_data"
    },
    {
     "data": {
      "text/plain": [
       "'b8'"
      ]
     },
     "metadata": {},
     "output_type": "display_data"
    },
    {
     "data": {
      "text/plain": [
       "[18237.1, 50000, 341.46251929517985, 37219.414603174606, 109.0, 325.45]"
      ]
     },
     "metadata": {},
     "output_type": "display_data"
    },
    {
     "data": {
      "text/plain": [
       "'b7'"
      ]
     },
     "metadata": {},
     "output_type": "display_data"
    },
    {
     "data": {
      "text/plain": [
       "[15323.169999999998,\n",
       " 50000,\n",
       " 340.1130898574119,\n",
       " 40133.344603174606,\n",
       " 118.0,\n",
       " 323.77]"
      ]
     },
     "metadata": {},
     "output_type": "display_data"
    },
    {
     "data": {
      "text/plain": [
       "'b7'"
      ]
     },
     "metadata": {},
     "output_type": "display_data"
    },
    {
     "data": {
      "text/plain": [
       "[14673.649999999998, 50000, 339.857205026455, 40782.8646031746, 120.0, 324.76]"
      ]
     },
     "metadata": {},
     "output_type": "display_data"
    },
    {
     "data": {
      "text/plain": [
       "'b8'"
      ]
     },
     "metadata": {},
     "output_type": "display_data"
    },
    {
     "data": {
      "text/plain": [
       "[14024.429999999998,\n",
       " 50000,\n",
       " 339.6072508456935,\n",
       " 41432.084603174604,\n",
       " 122.0,\n",
       " 324.61]"
      ]
     },
     "metadata": {},
     "output_type": "display_data"
    },
    {
     "data": {
      "text/plain": [
       "'b8'"
      ]
     },
     "metadata": {},
     "output_type": "display_data"
    },
    {
     "data": {
      "text/plain": [
       "[11813.759999999998,\n",
       " 50000,\n",
       " 338.31592715639226,\n",
       " 43642.7546031746,\n",
       " 129.0,\n",
       " 315.81]"
      ]
     },
     "metadata": {},
     "output_type": "display_data"
    },
    {
     "data": {
      "text/plain": [
       "'b7'"
      ]
     },
     "metadata": {},
     "output_type": "display_data"
    },
    {
     "data": {
      "text/plain": [
       "[9940.439999999999, 50000, 337.15610817166373, 45516.0746031746, 135.0, 312.22]"
      ]
     },
     "metadata": {},
     "output_type": "display_data"
    },
    {
     "data": {
      "text/plain": [
       "'b7'"
      ]
     },
     "metadata": {},
     "output_type": "display_data"
    },
    {
     "data": {
      "text/plain": [
       "[9612.8, 50000, 337.0861367880485, 45843.7146031746, 136.0, 327.64]"
      ]
     },
     "metadata": {},
     "output_type": "display_data"
    },
    {
     "data": {
      "text/plain": [
       "'b8'"
      ]
     },
     "metadata": {},
     "output_type": "display_data"
    },
    {
     "data": {
      "text/plain": [
       "[9269.84, 50000, 337.1290117020044, 46186.6746031746, 137.0, 342.96]"
      ]
     },
     "metadata": {},
     "output_type": "display_data"
    },
    {
     "data": {
      "text/plain": [
       "'b8'"
      ]
     },
     "metadata": {},
     "output_type": "display_data"
    },
    {
     "data": {
      "text/plain": [
       "[8928.83, 50000, 337.15713480561305, 46527.6846031746, 138.0, 341.01]"
      ]
     },
     "metadata": {},
     "output_type": "display_data"
    },
    {
     "data": {
      "text/plain": [
       "'b8'"
      ]
     },
     "metadata": {},
     "output_type": "display_data"
    },
    {
     "data": {
      "text/plain": [
       "[8591.58, 50000, 337.1578029005367, 46864.9346031746, 139.0, 337.25]"
      ]
     },
     "metadata": {},
     "output_type": "display_data"
    },
    {
     "data": {
      "text/plain": [
       "'b8'"
      ]
     },
     "metadata": {},
     "output_type": "display_data"
    },
    {
     "data": {
      "text/plain": [
       "[8258.46, 50000, 337.12896145124716, 47198.054603174605, 140.0, 333.12]"
      ]
     },
     "metadata": {},
     "output_type": "display_data"
    },
    {
     "data": {
      "text/plain": [
       "'b8'"
      ]
     },
     "metadata": {},
     "output_type": "display_data"
    },
    {
     "data": {
      "text/plain": [
       "[7933.999999999999,\n",
       " 50000,\n",
       " 337.0391106608128,\n",
       " 47522.514603174604,\n",
       " 141.0,\n",
       " 324.46]"
      ]
     },
     "metadata": {},
     "output_type": "display_data"
    },
    {
     "data": {
      "text/plain": [
       "'b8'"
      ]
     },
     "metadata": {},
     "output_type": "display_data"
    },
    {
     "data": {
      "text/plain": [
       "[6691.5999999999985,\n",
       " 50000,\n",
       " 336.3097558839628,\n",
       " 48764.914603174606,\n",
       " 145.0,\n",
       " 310.6]"
      ]
     },
     "metadata": {},
     "output_type": "display_data"
    },
    {
     "data": {
      "text/plain": [
       "'b7'"
      ]
     },
     "metadata": {},
     "output_type": "display_data"
    },
    {
     "data": {
      "text/plain": [
       "[5760.4299999999985,\n",
       " 50000,\n",
       " 335.7843554268554,\n",
       " 49696.084603174604,\n",
       " 148.0,\n",
       " 310.39]"
      ]
     },
     "metadata": {},
     "output_type": "display_data"
    },
    {
     "data": {
      "text/plain": [
       "'b7'"
      ]
     },
     "metadata": {},
     "output_type": "display_data"
    },
    {
     "data": {
      "text/plain": [
       "[4839.909999999998, 50000, 335.20930200777883, 50616.6046031746, 151.0, 306.84]"
      ]
     },
     "metadata": {},
     "output_type": "display_data"
    },
    {
     "data": {
      "text/plain": [
       "'b7'"
      ]
     },
     "metadata": {},
     "output_type": "display_data"
    },
    {
     "data": {
      "text/plain": [
       "[4839.909999999998, 50000, 335.20930200777883, 50616.6046031746, 151.0, 334.9]"
      ]
     },
     "metadata": {},
     "output_type": "display_data"
    },
    {
     "data": {
      "text/plain": [
       "'b8'"
      ]
     },
     "metadata": {},
     "output_type": "display_data"
    },
    {
     "data": {
      "text/plain": [
       "[4839.909999999998, 50000, 335.20930200777883, 50616.6046031746, 151.0, 325.45]"
      ]
     },
     "metadata": {},
     "output_type": "display_data"
    },
    {
     "data": {
      "text/plain": [
       "'b8'"
      ]
     },
     "metadata": {},
     "output_type": "display_data"
    },
    {
     "data": {
      "text/plain": [
       "[4839.909999999998, 50000, 335.20930200777883, 50616.6046031746, 151.0, 330.45]"
      ]
     },
     "metadata": {},
     "output_type": "display_data"
    },
    {
     "data": {
      "text/plain": [
       "'b8'"
      ]
     },
     "metadata": {},
     "output_type": "display_data"
    },
    {
     "data": {
      "text/plain": [
       "[4839.909999999998, 50000, 335.20930200777883, 50616.6046031746, 151.0, 336.35]"
      ]
     },
     "metadata": {},
     "output_type": "display_data"
    },
    {
     "data": {
      "text/plain": [
       "'b8'"
      ]
     },
     "metadata": {},
     "output_type": "display_data"
    },
    {
     "data": {
      "text/plain": [
       "[4839.909999999998, 50000, 335.20930200777883, 50616.6046031746, 151.0, 324.17]"
      ]
     },
     "metadata": {},
     "output_type": "display_data"
    },
    {
     "data": {
      "text/plain": [
       "'b8'"
      ]
     },
     "metadata": {},
     "output_type": "display_data"
    },
    {
     "data": {
      "text/plain": [
       "[4839.909999999998, 50000, 335.20930200777883, 50616.6046031746, 151.0, 328.07]"
      ]
     },
     "metadata": {},
     "output_type": "display_data"
    },
    {
     "data": {
      "text/plain": [
       "'b8'"
      ]
     },
     "metadata": {},
     "output_type": "display_data"
    },
    {
     "data": {
      "text/plain": [
       "[4839.909999999998, 50000, 335.20930200777883, 50616.6046031746, 151.0, 326.48]"
      ]
     },
     "metadata": {},
     "output_type": "display_data"
    },
    {
     "data": {
      "text/plain": [
       "'b8'"
      ]
     },
     "metadata": {},
     "output_type": "display_data"
    },
    {
     "data": {
      "text/plain": [
       "[4203.609999999998,\n",
       " 50000,\n",
       " 334.98630459591243,\n",
       " 51252.904603174604,\n",
       " 153.0,\n",
       " 318.15]"
      ]
     },
     "metadata": {},
     "output_type": "display_data"
    },
    {
     "data": {
      "text/plain": [
       "'b7'"
      ]
     },
     "metadata": {},
     "output_type": "display_data"
    },
    {
     "data": {
      "text/plain": [
       "[3570.489999999998,\n",
       " 50000,\n",
       " 334.74854582693297,\n",
       " 51886.02460317461,\n",
       " 155.0,\n",
       " 316.56]"
      ]
     },
     "metadata": {},
     "output_type": "display_data"
    },
    {
     "data": {
      "text/plain": [
       "'b7'"
      ]
     },
     "metadata": {},
     "output_type": "display_data"
    },
    {
     "data": {
      "text/plain": [
       "[3267.319999999998,\n",
       " 50000,\n",
       " 334.54611925111925,\n",
       " 52189.194603174605,\n",
       " 156.0,\n",
       " 303.17]"
      ]
     },
     "metadata": {},
     "output_type": "display_data"
    },
    {
     "data": {
      "text/plain": [
       "'b7'"
      ]
     },
     "metadata": {},
     "output_type": "display_data"
    },
    {
     "data": {
      "text/plain": [
       "[2667.0199999999977,\n",
       " 50000,\n",
       " 334.11072533654817,\n",
       " 52789.49460317461,\n",
       " 158.0,\n",
       " 300.15]"
      ]
     },
     "metadata": {},
     "output_type": "display_data"
    },
    {
     "data": {
      "text/plain": [
       "'b6'"
      ]
     },
     "metadata": {},
     "output_type": "display_data"
    },
    {
     "data": {
      "text/plain": [
       "[2077.7599999999975,\n",
       " 50000,\n",
       " 333.6172162698413,\n",
       " 53378.75460317461,\n",
       " 160.0,\n",
       " 294.63]"
      ]
     },
     "metadata": {},
     "output_type": "display_data"
    },
    {
     "data": {
      "text/plain": [
       "'b6'"
      ]
     },
     "metadata": {},
     "output_type": "display_data"
    },
    {
     "data": {
      "text/plain": [
       "[210.88000000000102, 25000, 293.9400534914821, 80245.6346031746, 273.0, 237.76]"
      ]
     },
     "metadata": {},
     "output_type": "display_data"
    },
    {
     "data": {
      "text/plain": [
       "'b11, used emergency balance'"
      ]
     },
     "metadata": {},
     "output_type": "display_data"
    },
    {
     "data": {
      "text/plain": [
       "[210.88000000000102, 25000, 293.9400534914821, 80245.6346031746, 273.0, 237.09]"
      ]
     },
     "metadata": {},
     "output_type": "display_data"
    },
    {
     "data": {
      "text/plain": [
       "'b6'"
      ]
     },
     "metadata": {},
     "output_type": "display_data"
    },
    {
     "data": {
      "text/plain": [
       "[210.88000000000102, 25000, 293.9400534914821, 80245.6346031746, 273.0, 224.91]"
      ]
     },
     "metadata": {},
     "output_type": "display_data"
    },
    {
     "data": {
      "text/plain": [
       "'b6'"
      ]
     },
     "metadata": {},
     "output_type": "display_data"
    },
    {
     "data": {
      "text/plain": [
       "[210.88000000000102, 25000, 293.9400534914821, 80245.6346031746, 273.0, 220.18]"
      ]
     },
     "metadata": {},
     "output_type": "display_data"
    },
    {
     "data": {
      "text/plain": [
       "'b5'"
      ]
     },
     "metadata": {},
     "output_type": "display_data"
    },
    {
     "data": {
      "text/plain": [
       "[210.88000000000102, 25000, 293.9400534914821, 80245.6346031746, 273.0, 228.07]"
      ]
     },
     "metadata": {},
     "output_type": "display_data"
    },
    {
     "data": {
      "text/plain": [
       "'b6'"
      ]
     },
     "metadata": {},
     "output_type": "display_data"
    },
    {
     "data": {
      "text/plain": [
       "[210.88000000000102, 25000, 293.9400534914821, 80245.6346031746, 273.0, 219.55]"
      ]
     },
     "metadata": {},
     "output_type": "display_data"
    },
    {
     "data": {
      "text/plain": [
       "'b5'"
      ]
     },
     "metadata": {},
     "output_type": "display_data"
    },
    {
     "data": {
      "text/plain": [
       "[210.88000000000102, 25000, 293.9400534914821, 80245.6346031746, 273.0, 217.7]"
      ]
     },
     "metadata": {},
     "output_type": "display_data"
    },
    {
     "data": {
      "text/plain": [
       "'b5'"
      ]
     },
     "metadata": {},
     "output_type": "display_data"
    },
    {
     "data": {
      "text/plain": [
       "[210.88000000000102, 25000, 293.9400534914821, 80245.6346031746, 273.0, 216.54]"
      ]
     },
     "metadata": {},
     "output_type": "display_data"
    },
    {
     "data": {
      "text/plain": [
       "'b5'"
      ]
     },
     "metadata": {},
     "output_type": "display_data"
    },
    {
     "data": {
      "text/plain": [
       "[210.88000000000102, 25000, 293.9400534914821, 80245.6346031746, 273.0, 207.71]"
      ]
     },
     "metadata": {},
     "output_type": "display_data"
    },
    {
     "data": {
      "text/plain": [
       "'b5'"
      ]
     },
     "metadata": {},
     "output_type": "display_data"
    },
    {
     "data": {
      "text/plain": [
       "[210.88000000000102, 25000, 293.9400534914821, 80245.6346031746, 273.0, 206.16]"
      ]
     },
     "metadata": {},
     "output_type": "display_data"
    },
    {
     "data": {
      "text/plain": [
       "'b5'"
      ]
     },
     "metadata": {},
     "output_type": "display_data"
    },
    {
     "data": {
      "text/plain": [
       "[210.88000000000102, 25000, 293.9400534914821, 80245.6346031746, 273.0, 202.08]"
      ]
     },
     "metadata": {},
     "output_type": "display_data"
    },
    {
     "data": {
      "text/plain": [
       "'b5'"
      ]
     },
     "metadata": {},
     "output_type": "display_data"
    },
    {
     "data": {
      "text/plain": [
       "[210.88000000000102, 25000, 293.9400534914821, 80245.6346031746, 273.0, 198.45]"
      ]
     },
     "metadata": {},
     "output_type": "display_data"
    },
    {
     "data": {
      "text/plain": [
       "'b5'"
      ]
     },
     "metadata": {},
     "output_type": "display_data"
    },
    {
     "data": {
      "text/plain": [
       "[210.88000000000102, 25000, 293.9400534914821, 80245.6346031746, 273.0, 203.49]"
      ]
     },
     "metadata": {},
     "output_type": "display_data"
    },
    {
     "data": {
      "text/plain": [
       "'b5'"
      ]
     },
     "metadata": {},
     "output_type": "display_data"
    },
    {
     "data": {
      "text/plain": [
       "[210.88000000000102, 25000, 293.9400534914821, 80245.6346031746, 273.0, 202.97]"
      ]
     },
     "metadata": {},
     "output_type": "display_data"
    },
    {
     "data": {
      "text/plain": [
       "'b5'"
      ]
     },
     "metadata": {},
     "output_type": "display_data"
    },
    {
     "data": {
      "text/plain": [
       "'NVDA'"
      ]
     },
     "metadata": {},
     "output_type": "display_data"
    },
    {
     "data": {
      "text/plain": [
       "['NVDA', 'is under calculation, start money is 10000000\\\\ / 100000$']"
      ]
     },
     "metadata": {},
     "output_type": "display_data"
    },
    {
     "data": {
      "text/plain": [
       "[40012.1, 50000, 128.05, 9987.900000000001, 78.0, 128.05]"
      ]
     },
     "metadata": {},
     "output_type": "display_data"
    },
    {
     "data": {
      "text/plain": [
       "0"
      ]
     },
     "metadata": {},
     "output_type": "display_data"
    },
    {
     "data": {
      "text/plain": [
       "[38032.9, 50000, 127.30957446808513, 11967.100000000002, 94.0, 123.7]"
      ]
     },
     "metadata": {},
     "output_type": "display_data"
    },
    {
     "data": {
      "text/plain": [
       "'b8'"
      ]
     },
     "metadata": {},
     "output_type": "display_data"
    },
    {
     "data": {
      "text/plain": [
       "[31772.68, 50000, 123.1575675675676, 18227.320000000003, 148.0, 115.93]"
      ]
     },
     "metadata": {},
     "output_type": "display_data"
    },
    {
     "data": {
      "text/plain": [
       "'b7'"
      ]
     },
     "metadata": {},
     "output_type": "display_data"
    },
    {
     "data": {
      "text/plain": [
       "[41388.24, 50000, 123.1575675675676, 9113.660000000002, 74.0, 129.94]"
      ]
     },
     "metadata": {},
     "output_type": "display_data"
    },
    {
     "data": {
      "text/plain": [
       "'s3'"
      ]
     },
     "metadata": {},
     "output_type": "display_data"
    },
    {
     "data": {
      "text/plain": [
       "[39331.28, 50000, 124.11800000000002, 11170.620000000003, 90.0, 128.56]"
      ]
     },
     "metadata": {},
     "output_type": "display_data"
    },
    {
     "data": {
      "text/plain": [
       "'b8'"
      ]
     },
     "metadata": {},
     "output_type": "display_data"
    },
    {
     "data": {
      "text/plain": [
       "[37422.979999999996,\n",
       " 50000,\n",
       " 124.56114285714287,\n",
       " 13078.920000000002,\n",
       " 105.0,\n",
       " 127.22]"
      ]
     },
     "metadata": {},
     "output_type": "display_data"
    },
    {
     "data": {
      "text/plain": [
       "'b8'"
      ]
     },
     "metadata": {},
     "output_type": "display_data"
    },
    {
     "data": {
      "text/plain": [
       "[35652.96, 50000, 124.78100840336137, 14848.940000000002, 119.0, 126.43]"
      ]
     },
     "metadata": {},
     "output_type": "display_data"
    },
    {
     "data": {
      "text/plain": [
       "'b8'"
      ]
     },
     "metadata": {},
     "output_type": "display_data"
    },
    {
     "data": {
      "text/plain": [
       "[43528.28, 50000, 124.78100840336137, 7486.860504201682, 60.0, 133.48]"
      ]
     },
     "metadata": {},
     "output_type": "display_data"
    },
    {
     "data": {
      "text/plain": [
       "'s3'"
      ]
     },
     "metadata": {},
     "output_type": "display_data"
    },
    {
     "data": {
      "text/plain": [
       "[47671.88, 50000, 124.78100840336137, 3743.4302521008403, 30.0, 138.12]"
      ]
     },
     "metadata": {},
     "output_type": "display_data"
    },
    {
     "data": {
      "text/plain": [
       "'s3'"
      ]
     },
     "metadata": {},
     "output_type": "display_data"
    },
    {
     "data": {
      "text/plain": [
       "[49953.229999999996,\n",
       " 50000,\n",
       " 124.78100840336137,\n",
       " 1871.7151260504197,\n",
       " 15.0,\n",
       " 152.09]"
      ]
     },
     "metadata": {},
     "output_type": "display_data"
    },
    {
     "data": {
      "text/plain": [
       "'s2'"
      ]
     },
     "metadata": {},
     "output_type": "display_data"
    },
    {
     "data": {
      "text/plain": [
       "[51050.759999999995, 50000, 124.78100840336137, 998.2480672268902, 8.0, 156.79]"
      ]
     },
     "metadata": {},
     "output_type": "display_data"
    },
    {
     "data": {
      "text/plain": [
       "'s2'"
      ]
     },
     "metadata": {},
     "output_type": "display_data"
    },
    {
     "data": {
      "text/plain": [
       "[48606.439999999995,\n",
       " 50000,\n",
       " 143.44033613445376,\n",
       " 3442.5680672268904,\n",
       " 24.0,\n",
       " 152.77]"
      ]
     },
     "metadata": {},
     "output_type": "display_data"
    },
    {
     "data": {
      "text/plain": [
       "'b8'"
      ]
     },
     "metadata": {},
     "output_type": "display_data"
    },
    {
     "data": {
      "text/plain": [
       "[50542.88, 50000, 143.44033613445376, 1721.2840336134454, 12.0, 161.37]"
      ]
     },
     "metadata": {},
     "output_type": "display_data"
    },
    {
     "data": {
      "text/plain": [
       "'s3'"
      ]
     },
     "metadata": {},
     "output_type": "display_data"
    },
    {
     "data": {
      "text/plain": [
       "[48156.079999999994, 50000, 152.1512605042017, 4108.084033613446, 27.0, 159.12]"
      ]
     },
     "metadata": {},
     "output_type": "display_data"
    },
    {
     "data": {
      "text/plain": [
       "'b8'"
      ]
     },
     "metadata": {},
     "output_type": "display_data"
    },
    {
     "data": {
      "text/plain": [
       "[45851.77999999999, 50000, 152.67581032412969, 6412.384033613446, 42.0, 153.62]"
      ]
     },
     "metadata": {},
     "output_type": "display_data"
    },
    {
     "data": {
      "text/plain": [
       "'b8'"
      ]
     },
     "metadata": {},
     "output_type": "display_data"
    },
    {
     "data": {
      "text/plain": [
       "[43576.12999999999, 50000, 152.4216497125166, 8688.034033613447, 57.0, 151.71]"
      ]
     },
     "metadata": {},
     "output_type": "display_data"
    },
    {
     "data": {
      "text/plain": [
       "'b8'"
      ]
     },
     "metadata": {},
     "output_type": "display_data"
    },
    {
     "data": {
      "text/plain": [
       "[41497.12999999999, 50000, 151.64836667061192, 10767.034033613447, 71.0, 148.5]"
      ]
     },
     "metadata": {},
     "output_type": "display_data"
    },
    {
     "data": {
      "text/plain": [
       "'b8'"
      ]
     },
     "metadata": {},
     "output_type": "display_data"
    },
    {
     "data": {
      "text/plain": [
       "[39545.95999999999,\n",
       " 50000,\n",
       " 151.40719087635057,\n",
       " 12718.204033613447,\n",
       " 84.0,\n",
       " 150.09]"
      ]
     },
     "metadata": {},
     "output_type": "display_data"
    },
    {
     "data": {
      "text/plain": [
       "'b8'"
      ]
     },
     "metadata": {},
     "output_type": "display_data"
    },
    {
     "data": {
      "text/plain": [
       "[37617.149999999994,\n",
       " 50000,\n",
       " 151.00014467642728,\n",
       " 14647.014033613446,\n",
       " 97.0,\n",
       " 148.37]"
      ]
     },
     "metadata": {},
     "output_type": "display_data"
    },
    {
     "data": {
      "text/plain": [
       "'b8'"
      ]
     },
     "metadata": {},
     "output_type": "display_data"
    },
    {
     "data": {
      "text/plain": [
       "[35751.52, 50000, 150.11494576012225, 16512.644033613447, 110.0, 143.51]"
      ]
     },
     "metadata": {},
     "output_type": "display_data"
    },
    {
     "data": {
      "text/plain": [
       "'b8'"
      ]
     },
     "metadata": {},
     "output_type": "display_data"
    },
    {
     "data": {
      "text/plain": [
       "[34039.6, 50000, 149.38167240666758, 18224.564033613446, 122.0, 142.66]"
      ]
     },
     "metadata": {},
     "output_type": "display_data"
    },
    {
     "data": {
      "text/plain": [
       "'b8'"
      ]
     },
     "metadata": {},
     "output_type": "display_data"
    },
    {
     "data": {
      "text/plain": [
       "[28398.409999999996,\n",
       " 50000,\n",
       " 146.41566891787392,\n",
       " 23865.754033613448,\n",
       " 163.0,\n",
       " 137.59]"
      ]
     },
     "metadata": {},
     "output_type": "display_data"
    },
    {
     "data": {
      "text/plain": [
       "'b7'"
      ]
     },
     "metadata": {},
     "output_type": "display_data"
    },
    {
     "data": {
      "text/plain": [
       "[23752.309999999998,\n",
       " 50000,\n",
       " 144.73022352088043,\n",
       " 28511.854033613447,\n",
       " 197.0,\n",
       " 136.65]"
      ]
     },
     "metadata": {},
     "output_type": "display_data"
    },
    {
     "data": {
      "text/plain": [
       "'b7'"
      ]
     },
     "metadata": {},
     "output_type": "display_data"
    },
    {
     "data": {
      "text/plain": [
       "[22631.03, 50000, 144.55187333469974, 29633.134033613445, 205.0, 140.16]"
      ]
     },
     "metadata": {},
     "output_type": "display_data"
    },
    {
     "data": {
      "text/plain": [
       "'b8'"
      ]
     },
     "metadata": {},
     "output_type": "display_data"
    },
    {
     "data": {
      "text/plain": [
       "[38555.27, 50000, 144.55187333469974, 14888.842953474072, 103.0, 156.12]"
      ]
     },
     "metadata": {},
     "output_type": "display_data"
    },
    {
     "data": {
      "text/plain": [
       "'s3'"
      ]
     },
     "metadata": {},
     "output_type": "display_data"
    },
    {
     "data": {
      "text/plain": [
       "[36696.71, 50000, 145.62959089977454, 16747.402953474073, 115.0, 154.88]"
      ]
     },
     "metadata": {},
     "output_type": "display_data"
    },
    {
     "data": {
      "text/plain": [
       "'b8'"
      ]
     },
     "metadata": {},
     "output_type": "display_data"
    },
    {
     "data": {
      "text/plain": [
       "[45955.79, 50000, 145.62959089977454, 8446.516272186924, 58.0, 162.44]"
      ]
     },
     "metadata": {},
     "output_type": "display_data"
    },
    {
     "data": {
      "text/plain": [
       "'s3'"
      ]
     },
     "metadata": {},
     "output_type": "display_data"
    },
    {
     "data": {
      "text/plain": [
       "[50821.41, 50000, 145.62959089977454, 4223.258136093462, 29.0, 167.78]"
      ]
     },
     "metadata": {},
     "output_type": "display_data"
    },
    {
     "data": {
      "text/plain": [
       "'s3'"
      ]
     },
     "metadata": {},
     "output_type": "display_data"
    },
    {
     "data": {
      "text/plain": [
       "[53282.33, 50000, 145.62959089977454, 2184.443863496618, 15.0, 175.78]"
      ]
     },
     "metadata": {},
     "output_type": "display_data"
    },
    {
     "data": {
      "text/plain": [
       "'s2'"
      ]
     },
     "metadata": {},
     "output_type": "display_data"
    },
    {
     "data": {
      "text/plain": [
       "[50792.01, 50000, 161.19875391367648, 4674.763863496618, 29.0, 177.88]"
      ]
     },
     "metadata": {},
     "output_type": "display_data"
    },
    {
     "data": {
      "text/plain": [
       "'b8'"
      ]
     },
     "metadata": {},
     "output_type": "display_data"
    },
    {
     "data": {
      "text/plain": [
       "[53403.990000000005,\n",
       " 50000,\n",
       " 161.19875391367648,\n",
       " 2417.981308705147,\n",
       " 15.0,\n",
       " 186.57]"
      ]
     },
     "metadata": {},
     "output_type": "display_data"
    },
    {
     "data": {
      "text/plain": [
       "'s3'"
      ]
     },
     "metadata": {},
     "output_type": "display_data"
    },
    {
     "data": {
      "text/plain": [
       "[50824.21000000001, 50000, 172.33659685190162, 4997.761308705147, 29.0, 184.27]"
      ]
     },
     "metadata": {},
     "output_type": "display_data"
    },
    {
     "data": {
      "text/plain": [
       "'b8'"
      ]
     },
     "metadata": {},
     "output_type": "display_data"
    },
    {
     "data": {
      "text/plain": [
       "[53622.11000000001, 50000, 172.33659685190162, 2585.048952778524, 15.0, 199.85]"
      ]
     },
     "metadata": {},
     "output_type": "display_data"
    },
    {
     "data": {
      "text/plain": [
       "'s3'"
      ]
     },
     "metadata": {},
     "output_type": "display_data"
    },
    {
     "data": {
      "text/plain": [
       "[50973.75000000001, 50000, 186.90746259923299, 5233.408952778524, 28.0, 203.72]"
      ]
     },
     "metadata": {},
     "output_type": "display_data"
    },
    {
     "data": {
      "text/plain": [
       "'b8'"
      ]
     },
     "metadata": {},
     "output_type": "display_data"
    },
    {
     "data": {
      "text/plain": [
       "[48585.39000000001, 50000, 190.5442238194631, 7621.768952778524, 40.0, 199.03]"
      ]
     },
     "metadata": {},
     "output_type": "display_data"
    },
    {
     "data": {
      "text/plain": [
       "'b8'"
      ]
     },
     "metadata": {},
     "output_type": "display_data"
    },
    {
     "data": {
      "text/plain": [
       "[46357.89000000001, 50000, 193.12292064271617, 9849.268952778524, 51.0, 202.5]"
      ]
     },
     "metadata": {},
     "output_type": "display_data"
    },
    {
     "data": {
      "text/plain": [
       "'b8'"
      ]
     },
     "metadata": {},
     "output_type": "display_data"
    },
    {
     "data": {
      "text/plain": [
       "[44175.380000000005,\n",
       " 50000,\n",
       " 194.0609508512665,\n",
       " 12031.778952778524,\n",
       " 62.0,\n",
       " 198.41]"
      ]
     },
     "metadata": {},
     "output_type": "display_data"
    },
    {
     "data": {
      "text/plain": [
       "'b8'"
      ]
     },
     "metadata": {},
     "output_type": "display_data"
    },
    {
     "data": {
      "text/plain": [
       "[42089.12, 50000, 193.3977938736784, 14118.038952778525, 73.0, 189.66]"
      ]
     },
     "metadata": {},
     "output_type": "display_data"
    },
    {
     "data": {
      "text/plain": [
       "'b8'"
      ]
     },
     "metadata": {},
     "output_type": "display_data"
    },
    {
     "data": {
      "text/plain": [
       "[35187.94, 50000, 189.36233290791463, 21019.218952778523, 111.0, 181.61]"
      ]
     },
     "metadata": {},
     "output_type": "display_data"
    },
    {
     "data": {
      "text/plain": [
       "'b7'"
      ]
     },
     "metadata": {},
     "output_type": "display_data"
    },
    {
     "data": {
      "text/plain": [
       "[33451.48, 50000, 189.63065793982102, 22755.678952778522, 120.0, 192.94]"
      ]
     },
     "metadata": {},
     "output_type": "display_data"
    },
    {
     "data": {
      "text/plain": [
       "'b8'"
      ]
     },
     "metadata": {},
     "output_type": "display_data"
    },
    {
     "data": {
      "text/plain": [
       "[31822.200000000004,\n",
       " 50000,\n",
       " 190.5074918185822,\n",
       " 24384.95895277852,\n",
       " 128.0,\n",
       " 203.66]"
      ]
     },
     "metadata": {},
     "output_type": "display_data"
    },
    {
     "data": {
      "text/plain": [
       "'b8'"
      ]
     },
     "metadata": {},
     "output_type": "display_data"
    },
    {
     "data": {
      "text/plain": [
       "[30426.680000000004,\n",
       " 50000,\n",
       " 190.96651076132238,\n",
       " 25780.47895277852,\n",
       " 135.0,\n",
       " 199.36]"
      ]
     },
     "metadata": {},
     "output_type": "display_data"
    },
    {
     "data": {
      "text/plain": [
       "'b8'"
      ]
     },
     "metadata": {},
     "output_type": "display_data"
    },
    {
     "data": {
      "text/plain": [
       "[29047.750000000004,\n",
       " 50000,\n",
       " 191.26344332942622,\n",
       " 27159.40895277852,\n",
       " 142.0,\n",
       " 196.99]"
      ]
     },
     "metadata": {},
     "output_type": "display_data"
    },
    {
     "data": {
      "text/plain": [
       "'b8'"
      ]
     },
     "metadata": {},
     "output_type": "display_data"
    },
    {
     "data": {
      "text/plain": [
       "[27651.250000000004, 50000, 191.6503956562317, 28555.90895277852, 149.0, 199.5]"
      ]
     },
     "metadata": {},
     "output_type": "display_data"
    },
    {
     "data": {
      "text/plain": [
       "'b8'"
      ]
     },
     "metadata": {},
     "output_type": "display_data"
    },
    {
     "data": {
      "text/plain": [
       "[26289.190000000002,\n",
       " 50000,\n",
       " 191.7818522614008,\n",
       " 29917.968952778523,\n",
       " 156.0,\n",
       " 194.58]"
      ]
     },
     "metadata": {},
     "output_type": "display_data"
    },
    {
     "data": {
      "text/plain": [
       "'b8'"
      ]
     },
     "metadata": {},
     "output_type": "display_data"
    },
    {
     "data": {
      "text/plain": [
       "[25146.79, 50000, 191.73067254801558, 31060.368952778525, 162.0, 190.4]"
      ]
     },
     "metadata": {},
     "output_type": "display_data"
    },
    {
     "data": {
      "text/plain": [
       "'b8'"
      ]
     },
     "metadata": {},
     "output_type": "display_data"
    },
    {
     "data": {
      "text/plain": [
       "[42007.75, 50000, 191.73067254801558, 15530.184476389262, 81.0, 208.16]"
      ]
     },
     "metadata": {},
     "output_type": "display_data"
    },
    {
     "data": {
      "text/plain": [
       "'s3'"
      ]
     },
     "metadata": {},
     "output_type": "display_data"
    },
    {
     "data": {
      "text/plain": [
       "[50790.95, 50000, 191.73067254801558, 7860.957574468639, 41.0, 219.58]"
      ]
     },
     "metadata": {},
     "output_type": "display_data"
    },
    {
     "data": {
      "text/plain": [
       "'s3'"
      ]
     },
     "metadata": {},
     "output_type": "display_data"
    },
    {
     "data": {
      "text/plain": [
       "[48328.6, 50000, 198.52514566285845, 10323.30757446864, 52.0, 223.85]"
      ]
     },
     "metadata": {},
     "output_type": "display_data"
    },
    {
     "data": {
      "text/plain": [
       "'b8'"
      ]
     },
     "metadata": {},
     "output_type": "display_data"
    },
    {
     "data": {
      "text/plain": [
       "[46094.7, 50000, 202.53560603981677, 12557.207574468639, 62.0, 223.39]"
      ]
     },
     "metadata": {},
     "output_type": "display_data"
    },
    {
     "data": {
      "text/plain": [
       "'b8'"
      ]
     },
     "metadata": {},
     "output_type": "display_data"
    },
    {
     "data": {
      "text/plain": [
       "[43879.5, 50000, 205.17232742317555, 14772.40757446864, 72.0, 221.52]"
      ]
     },
     "metadata": {},
     "output_type": "display_data"
    },
    {
     "data": {
      "text/plain": [
       "'b8'"
      ]
     },
     "metadata": {},
     "output_type": "display_data"
    },
    {
     "data": {
      "text/plain": [
       "[41689.5, 50000, 206.85862895693467, 16962.40757446864, 82.0, 219.0]"
      ]
     },
     "metadata": {},
     "output_type": "display_data"
    },
    {
     "data": {
      "text/plain": [
       "'b8'"
      ]
     },
     "metadata": {},
     "output_type": "display_data"
    },
    {
     "data": {
      "text/plain": [
       "[39789.33, 50000, 207.28107224690814, 18862.57757446864, 91.0, 211.13]"
      ]
     },
     "metadata": {},
     "output_type": "display_data"
    },
    {
     "data": {
      "text/plain": [
       "'b8'"
      ]
     },
     "metadata": {},
     "output_type": "display_data"
    },
    {
     "data": {
      "text/plain": [
       "[49662.78, 50000, 207.28107224690814, 9534.929323357774, 46.0, 219.41]"
      ]
     },
     "metadata": {},
     "output_type": "display_data"
    },
    {
     "data": {
      "text/plain": [
       "'s3'"
      ]
     },
     "metadata": {},
     "output_type": "display_data"
    },
    {
     "data": {
      "text/plain": [
       "[47233.869999999995,\n",
       " 50000,\n",
       " 209.89191795364516,\n",
       " 11963.839323357774,\n",
       " 57.0,\n",
       " 220.81]"
      ]
     },
     "metadata": {},
     "output_type": "display_data"
    },
    {
     "data": {
      "text/plain": [
       "'b8'"
      ]
     },
     "metadata": {},
     "output_type": "display_data"
    },
    {
     "data": {
      "text/plain": [
       "[45067.869999999995, 50000, 210.8931242292205, 14129.839323357774, 67.0, 216.6]"
      ]
     },
     "metadata": {},
     "output_type": "display_data"
    },
    {
     "data": {
      "text/plain": [
       "'b8'"
      ]
     },
     "metadata": {},
     "output_type": "display_data"
    },
    {
     "data": {
      "text/plain": [
       "[42997.969999999994,\n",
       " 50000,\n",
       " 210.38622497867237,\n",
       " 16199.739323357773,\n",
       " 77.0,\n",
       " 206.99]"
      ]
     },
     "metadata": {},
     "output_type": "display_data"
    },
    {
     "data": {
      "text/plain": [
       "'b8'"
      ]
     },
     "metadata": {},
     "output_type": "display_data"
    },
    {
     "data": {
      "text/plain": [
       "[35894.45, 50000, 206.22353383502454, 23303.25932335777, 113.0, 197.32]"
      ]
     },
     "metadata": {},
     "output_type": "display_data"
    },
    {
     "data": {
      "text/plain": [
       "'b7'"
      ]
     },
     "metadata": {},
     "output_type": "display_data"
    },
    {
     "data": {
      "text/plain": [
       "[34227.969999999994,\n",
       " 50000,\n",
       " 206.36148201122126,\n",
       " 24969.73932335777,\n",
       " 121.0,\n",
       " 208.31]"
      ]
     },
     "metadata": {},
     "output_type": "display_data"
    },
    {
     "data": {
      "text/plain": [
       "'b8'"
      ]
     },
     "metadata": {},
     "output_type": "display_data"
    },
    {
     "data": {
      "text/plain": [
       "[47275.56999999999,\n",
       " 50000,\n",
       " 206.36148201122126,\n",
       " 12588.050402684496,\n",
       " 61.0,\n",
       " 217.46]"
      ]
     },
     "metadata": {},
     "output_type": "display_data"
    },
    {
     "data": {
      "text/plain": [
       "'s3'"
      ]
     },
     "metadata": {},
     "output_type": "display_data"
    },
    {
     "data": {
      "text/plain": [
       "[54690.66999999999, 50000, 206.36148201122126, 6397.205942347858, 31.0, 247.17]"
      ]
     },
     "metadata": {},
     "output_type": "display_data"
    },
    {
     "data": {
      "text/plain": [
       "'s3'"
      ]
     },
     "metadata": {},
     "output_type": "display_data"
    },
    {
     "data": {
      "text/plain": [
       "[52001.05999999999, 50000, 216.35276053209185, 9086.815942347857, 42.0, 244.51]"
      ]
     },
     "metadata": {},
     "output_type": "display_data"
    },
    {
     "data": {
      "text/plain": [
       "'b8'"
      ]
     },
     "metadata": {},
     "output_type": "display_data"
    },
    {
     "data": {
      "text/plain": [
       "[58259.26999999999, 50000, 216.35276053209185, 4543.407971173929, 21.0, 298.01]"
      ]
     },
     "metadata": {},
     "output_type": "display_data"
    },
    {
     "data": {
      "text/plain": [
       "'s2'"
      ]
     },
     "metadata": {},
     "output_type": "display_data"
    },
    {
     "data": {
      "text/plain": [
       "[61339.66999999999, 50000, 216.35276053209185, 2379.88036585301, 11.0, 308.04]"
      ]
     },
     "metadata": {},
     "output_type": "display_data"
    },
    {
     "data": {
      "text/plain": [
       "'s2'"
      ]
     },
     "metadata": {},
     "output_type": "display_data"
    },
    {
     "data": {
      "text/plain": [
       "[58393.76999999999, 50000, 253.60858885014335, 5325.78036585301, 21.0, 294.59]"
      ]
     },
     "metadata": {},
     "output_type": "display_data"
    },
    {
     "data": {
      "text/plain": [
       "'b8'"
      ]
     },
     "metadata": {},
     "output_type": "display_data"
    },
    {
     "data": {
      "text/plain": [
       "[61432.76999999999, 50000, 253.60858885014335, 2789.6944773515766, 11.0, 303.9]"
      ]
     },
     "metadata": {},
     "output_type": "display_data"
    },
    {
     "data": {
      "text/plain": [
       "'s3'"
      ]
     },
     "metadata": {},
     "output_type": "display_data"
    },
    {
     "data": {
      "text/plain": [
       "[58430.26999999999, 50000, 275.81878463578937, 5792.194477351577, 21.0, 300.25]"
      ]
     },
     "metadata": {},
     "output_type": "display_data"
    },
    {
     "data": {
      "text/plain": [
       "'b8'"
      ]
     },
     "metadata": {},
     "output_type": "display_data"
    },
    {
     "data": {
      "text/plain": [
       "[55796.77999999999, 50000, 280.85614924505256, 8425.684477351577, 30.0, 292.61]"
      ]
     },
     "metadata": {},
     "output_type": "display_data"
    },
    {
     "data": {
      "text/plain": [
       "'b8'"
      ]
     },
     "metadata": {},
     "output_type": "display_data"
    },
    {
     "data": {
      "text/plain": [
       "[60548.02999999999, 50000, 280.85614924505256, 4212.842238675788, 15.0, 316.75]"
      ]
     },
     "metadata": {},
     "output_type": "display_data"
    },
    {
     "data": {
      "text/plain": [
       "'s3'"
      ]
     },
     "metadata": {},
     "output_type": "display_data"
    },
    {
     "data": {
      "text/plain": [
       "[62856.97999999999, 50000, 280.85614924505256, 2246.8491939604205, 8.0, 329.85]"
      ]
     },
     "metadata": {},
     "output_type": "display_data"
    },
    {
     "data": {
      "text/plain": [
       "'s3'"
      ]
     },
     "metadata": {},
     "output_type": "display_data"
    },
    {
     "data": {
      "text/plain": [
       "[59980.93999999999, 50000, 301.34642317414233, 5122.88919396042, 17.0, 319.56]"
      ]
     },
     "metadata": {},
     "output_type": "display_data"
    },
    {
     "data": {
      "text/plain": [
       "'b8'"
      ]
     },
     "metadata": {},
     "output_type": "display_data"
    },
    {
     "data": {
      "text/plain": [
       "[57145.66999999999,\n",
       " 50000,\n",
       " 306.08304592155457,\n",
       " 7958.1591939604195,\n",
       " 26.0,\n",
       " 315.03]"
      ]
     },
     "metadata": {},
     "output_type": "display_data"
    },
    {
     "data": {
      "text/plain": [
       "'b8'"
      ]
     },
     "metadata": {},
     "output_type": "display_data"
    },
    {
     "data": {
      "text/plain": [
       "[61484.54999999999, 50000, 306.08304592155457, 3979.07959698021, 13.0, 333.76]"
      ]
     },
     "metadata": {},
     "output_type": "display_data"
    },
    {
     "data": {
      "text/plain": [
       "'s3'"
      ]
     },
     "metadata": {},
     "output_type": "display_data"
    },
    {
     "data": {
      "text/plain": [
       "[58543.70999999999, 50000, 314.5417998627368, 6919.91959698021, 22.0, 326.76]"
      ]
     },
     "metadata": {},
     "output_type": "display_data"
    },
    {
     "data": {
      "text/plain": [
       "'b8'"
      ]
     },
     "metadata": {},
     "output_type": "display_data"
    },
    {
     "data": {
      "text/plain": [
       "[55714.55999999999, 50000, 314.4861160316197, 9749.069596980211, 31.0, 314.35]"
      ]
     },
     "metadata": {},
     "output_type": "display_data"
    },
    {
     "data": {
      "text/plain": [
       "'b8'"
      ]
     },
     "metadata": {},
     "output_type": "display_data"
    },
    {
     "data": {
      "text/plain": [
       "[52952.18999999999, 50000, 312.78598992450526, 12511.43959698021, 40.0, 306.93]"
      ]
     },
     "metadata": {},
     "output_type": "display_data"
    },
    {
     "data": {
      "text/plain": [
       "'b8'"
      ]
     },
     "metadata": {},
     "output_type": "display_data"
    },
    {
     "data": {
      "text/plain": [
       "[50549.22999999999, 50000, 310.716658270421, 14914.399596980209, 48.0, 300.37]"
      ]
     },
     "metadata": {},
     "output_type": "display_data"
    },
    {
     "data": {
      "text/plain": [
       "'b8'"
      ]
     },
     "metadata": {},
     "output_type": "display_data"
    },
    {
     "data": {
      "text/plain": [
       "[48321.40999999999, 50000, 311.6767199450947, 17142.21959698021, 55.0, 318.26]"
      ]
     },
     "metadata": {},
     "output_type": "display_data"
    },
    {
     "data": {
      "text/plain": [
       "'b8'"
      ]
     },
     "metadata": {},
     "output_type": "display_data"
    },
    {
     "data": {
      "text/plain": [
       "[46187.109999999986,\n",
       " 50000,\n",
       " 310.91160640290656,\n",
       " 19276.519596980208,\n",
       " 62.0,\n",
       " 304.9]"
      ]
     },
     "metadata": {},
     "output_type": "display_data"
    },
    {
     "data": {
      "text/plain": [
       "'b8'"
      ]
     },
     "metadata": {},
     "output_type": "display_data"
    },
    {
     "data": {
      "text/plain": [
       "[38583.639999999985,\n",
       " 50000,\n",
       " 302.02235502224954,\n",
       " 26879.98959698021,\n",
       " 89.0,\n",
       " 281.61]"
      ]
     },
     "metadata": {},
     "output_type": "display_data"
    },
    {
     "data": {
      "text/plain": [
       "'b7'"
      ]
     },
     "metadata": {},
     "output_type": "display_data"
    },
    {
     "data": {
      "text/plain": [
       "[32338.499999999985,\n",
       " 50000,\n",
       " 298.42459096378565,\n",
       " 33125.12959698021,\n",
       " 111.0,\n",
       " 283.87]"
      ]
     },
     "metadata": {},
     "output_type": "display_data"
    },
    {
     "data": {
      "text/plain": [
       "'b7'"
      ]
     },
     "metadata": {},
     "output_type": "display_data"
    },
    {
     "data": {
      "text/plain": [
       "[27056.309999999987,\n",
       " 50000,\n",
       " 295.44091997677083,\n",
       " 38407.31959698021,\n",
       " 130.0,\n",
       " 278.01]"
      ]
     },
     "metadata": {},
     "output_type": "display_data"
    },
    {
     "data": {
      "text/plain": [
       "'b7'"
      ]
     },
     "metadata": {},
     "output_type": "display_data"
    },
    {
     "data": {
      "text/plain": [
       "[22621.269999999986,\n",
       " 50000,\n",
       " 293.4408191573987,\n",
       " 42842.35959698021,\n",
       " 146.0,\n",
       " 277.19]"
      ]
     },
     "metadata": {},
     "output_type": "display_data"
    },
    {
     "data": {
      "text/plain": [
       "'b7'"
      ]
     },
     "metadata": {},
     "output_type": "display_data"
    },
    {
     "data": {
      "text/plain": [
       "[45211.11999999998, 50000, 293.4408191573987, 21421.179798490106, 73.0, 309.45]"
      ]
     },
     "metadata": {},
     "output_type": "display_data"
    },
    {
     "data": {
      "text/plain": [
       "'s3'"
      ]
     },
     "metadata": {},
     "output_type": "display_data"
    },
    {
     "data": {
      "text/plain": [
       "[43088.57999999998, 50000, 294.2964974811263, 23543.719798490107, 80.0, 303.22]"
      ]
     },
     "metadata": {},
     "output_type": "display_data"
    },
    {
     "data": {
      "text/plain": [
       "'b8'"
      ]
     },
     "metadata": {},
     "output_type": "display_data"
    },
    {
     "data": {
      "text/plain": [
       "[40988.50999999998,\n",
       " 50000,\n",
       " 294.75620458034604,\n",
       " 25643.789798490106,\n",
       " 87.0,\n",
       " 300.01]"
      ]
     },
     "metadata": {},
     "output_type": "display_data"
    },
    {
     "data": {
      "text/plain": [
       "'b8'"
      ]
     },
     "metadata": {},
     "output_type": "display_data"
    },
    {
     "data": {
      "text/plain": [
       "[39213.34999999998, 50000, 294.8274171880657, 27418.949798490106, 93.0, 295.86]"
      ]
     },
     "metadata": {},
     "output_type": "display_data"
    },
    {
     "data": {
      "text/plain": [
       "'b8'"
      ]
     },
     "metadata": {},
     "output_type": "display_data"
    },
    {
     "data": {
      "text/plain": [
       "[37455.949999999975, 50000, 294.7106040251526, 29176.349798490108, 99.0, 292.9]"
      ]
     },
     "metadata": {},
     "output_type": "display_data"
    },
    {
     "data": {
      "text/plain": [
       "'b8'"
      ]
     },
     "metadata": {},
     "output_type": "display_data"
    },
    {
     "data": {
      "text/plain": [
       "[31383.069999999974,\n",
       " 50000,\n",
       " 291.31594874785213,\n",
       " 35249.22979849011,\n",
       " 121.0,\n",
       " 276.04]"
      ]
     },
     "metadata": {},
     "output_type": "display_data"
    },
    {
     "data": {
      "text/plain": [
       "'b7'"
      ]
     },
     "metadata": {},
     "output_type": "display_data"
    },
    {
     "data": {
      "text/plain": [
       "[26206.139999999974,\n",
       " 50000,\n",
       " 288.75828427492934,\n",
       " 40426.15979849011,\n",
       " 140.0,\n",
       " 272.47]"
      ]
     },
     "metadata": {},
     "output_type": "display_data"
    },
    {
     "data": {
      "text/plain": [
       "'b7'"
      ]
     },
     "metadata": {},
     "output_type": "display_data"
    },
    {
     "data": {
      "text/plain": [
       "[21954.139999999974,\n",
       " 50000,\n",
       " 286.3984602467315,\n",
       " 44678.15979849011,\n",
       " 156.0,\n",
       " 265.75]"
      ]
     },
     "metadata": {},
     "output_type": "display_data"
    },
    {
     "data": {
      "text/plain": [
       "'b7'"
      ]
     },
     "metadata": {},
     "output_type": "display_data"
    },
    {
     "data": {
      "text/plain": [
       "[18327.719999999976,\n",
       " 50000,\n",
       " 284.14458704994183,\n",
       " 48304.57979849011,\n",
       " 170.0,\n",
       " 259.03]"
      ]
     },
     "metadata": {},
     "output_type": "display_data"
    },
    {
     "data": {
      "text/plain": [
       "'b7'"
      ]
     },
     "metadata": {},
     "output_type": "display_data"
    },
    {
     "data": {
      "text/plain": [
       "[13815.659999999976,\n",
       " 50000,\n",
       " 280.939573396224,\n",
       " 52816.639798490105,\n",
       " 188.0,\n",
       " 250.67]"
      ]
     },
     "metadata": {},
     "output_type": "display_data"
    },
    {
     "data": {
      "text/plain": [
       "'b6'"
      ]
     },
     "metadata": {},
     "output_type": "display_data"
    },
    {
     "data": {
      "text/plain": [
       "[10434.659999999976,\n",
       " 50000,\n",
       " 278.20613761628766,\n",
       " 56197.639798490105,\n",
       " 202.0,\n",
       " 241.5]"
      ]
     },
     "metadata": {},
     "output_type": "display_data"
    },
    {
     "data": {
      "text/plain": [
       "'b6'"
      ]
     },
     "metadata": {},
     "output_type": "display_data"
    },
    {
     "data": {
      "text/plain": [
       "[7863.519999999976,\n",
       " 50000,\n",
       " 275.9097643121601,\n",
       " 58768.779798490104,\n",
       " 213.0,\n",
       " 233.74]"
      ]
     },
     "metadata": {},
     "output_type": "display_data"
    },
    {
     "data": {
      "text/plain": [
       "'b6'"
      ]
     },
     "metadata": {},
     "output_type": "display_data"
    },
    {
     "data": {
      "text/plain": [
       "[5993.759999999976,\n",
       " 50000,\n",
       " 274.38253302484213,\n",
       " 60638.53979849011,\n",
       " 221.0,\n",
       " 233.72]"
      ]
     },
     "metadata": {},
     "output_type": "display_data"
    },
    {
     "data": {
      "text/plain": [
       "'b6'"
      ]
     },
     "metadata": {},
     "output_type": "display_data"
    },
    {
     "data": {
      "text/plain": [
       "[4654.319999999976,\n",
       " 50000,\n",
       " 273.03074801096966,\n",
       " 61977.97979849011,\n",
       " 227.0,\n",
       " 223.24]"
      ]
     },
     "metadata": {},
     "output_type": "display_data"
    },
    {
     "data": {
      "text/plain": [
       "'b6'"
      ]
     },
     "metadata": {},
     "output_type": "display_data"
    },
    {
     "data": {
      "text/plain": [
       "[3557.1199999999762,\n",
       " 50000,\n",
       " 271.87577499349186,\n",
       " 63075.179798490106,\n",
       " 232.0,\n",
       " 219.44]"
      ]
     },
     "metadata": {},
     "output_type": "display_data"
    },
    {
     "data": {
      "text/plain": [
       "'b6'"
      ]
     },
     "metadata": {},
     "output_type": "display_data"
    },
    {
     "data": {
      "text/plain": [
       "[2838.679999999976,\n",
       " 50000,\n",
       " 271.46221190846853,\n",
       " 63793.61979849011,\n",
       " 235.0,\n",
       " 239.48]"
      ]
     },
     "metadata": {},
     "output_type": "display_data"
    },
    {
     "data": {
      "text/plain": [
       "'b6'"
      ]
     },
     "metadata": {},
     "output_type": "display_data"
    },
    {
     "data": {
      "text/plain": [
       "[2838.679999999976,\n",
       " 50000,\n",
       " 271.46221190846853,\n",
       " 63793.61979849011,\n",
       " 235.0,\n",
       " 258.24]"
      ]
     },
     "metadata": {},
     "output_type": "display_data"
    },
    {
     "data": {
      "text/plain": [
       "'b8'"
      ]
     },
     "metadata": {},
     "output_type": "display_data"
    },
    {
     "data": {
      "text/plain": [
       "[2359.699999999976,\n",
       " 50000,\n",
       " 271.19240421303846,\n",
       " 64272.59979849011,\n",
       " 237.0,\n",
       " 239.49]"
      ]
     },
     "metadata": {},
     "output_type": "display_data"
    },
    {
     "data": {
      "text/plain": [
       "'b6'"
      ]
     },
     "metadata": {},
     "output_type": "display_data"
    },
    {
     "data": {
      "text/plain": [
       "[2114.629999999976,\n",
       " 50000,\n",
       " 271.08264621214335,\n",
       " 64517.66979849011,\n",
       " 238.0,\n",
       " 245.07]"
      ]
     },
     "metadata": {},
     "output_type": "display_data"
    },
    {
     "data": {
      "text/plain": [
       "'b7'"
      ]
     },
     "metadata": {},
     "output_type": "display_data"
    },
    {
     "data": {
      "text/plain": [
       "[1641.789999999976,\n",
       " 50000,\n",
       " 270.79379082704213,\n",
       " 64990.50979849011,\n",
       " 240.0,\n",
       " 236.42]"
      ]
     },
     "metadata": {},
     "output_type": "display_data"
    },
    {
     "data": {
      "text/plain": [
       "'b6'"
      ]
     },
     "metadata": {},
     "output_type": "display_data"
    },
    {
     "data": {
      "text/plain": [
       "[1407.889999999976, 50000, 270.64070455805023, 65224.40979849011, 241.0, 233.9]"
      ]
     },
     "metadata": {},
     "output_type": "display_data"
    },
    {
     "data": {
      "text/plain": [
       "'b6'"
      ]
     },
     "metadata": {},
     "output_type": "display_data"
    },
    {
     "data": {
      "text/plain": [
       "[1184.0199999999759,\n",
       " 50000,\n",
       " 270.4474371838434,\n",
       " 65448.27979849011,\n",
       " 242.0,\n",
       " 223.87]"
      ]
     },
     "metadata": {},
     "output_type": "display_data"
    },
    {
     "data": {
      "text/plain": [
       "'b6'"
      ]
     },
     "metadata": {},
     "output_type": "display_data"
    },
    {
     "data": {
      "text/plain": [
       "[949.2499999999759,\n",
       " 50000,\n",
       " 270.30061645469186,\n",
       " 65683.04979849012,\n",
       " 243.0,\n",
       " 234.77]"
      ]
     },
     "metadata": {},
     "output_type": "display_data"
    },
    {
     "data": {
      "text/plain": [
       "'b6'"
      ]
     },
     "metadata": {},
     "output_type": "display_data"
    },
    {
     "data": {
      "text/plain": [
       "[712.1099999999759, 50000, 270.1647122888939, 65920.18979849012, 244.0, 237.14]"
      ]
     },
     "metadata": {},
     "output_type": "display_data"
    },
    {
     "data": {
      "text/plain": [
       "'b6'"
      ]
     },
     "metadata": {},
     "output_type": "display_data"
    },
    {
     "data": {
      "text/plain": [
       "'ONBPP'"
      ]
     },
     "metadata": {},
     "output_type": "display_data"
    },
    {
     "data": {
      "text/plain": [
       "'sth went wrong, passing'"
      ]
     },
     "metadata": {},
     "output_type": "display_data"
    },
    {
     "data": {
      "text/plain": [
       "'PEP'"
      ]
     },
     "metadata": {},
     "output_type": "display_data"
    },
    {
     "data": {
      "text/plain": [
       "['PEP', 'is under calculation, start money is 10000000\\\\ / 100000$']"
      ]
     },
     "metadata": {},
     "output_type": "display_data"
    },
    {
     "data": {
      "text/plain": [
       "[40056.22, 50000, 129.14, 9943.779999999999, 77.0, 129.14]"
      ]
     },
     "metadata": {},
     "output_type": "display_data"
    },
    {
     "data": {
      "text/plain": [
       "0"
      ]
     },
     "metadata": {},
     "output_type": "display_data"
    },
    {
     "data": {
      "text/plain": [
       "[38060.66, 50000, 131.20153846153843, 11939.339999999998, 91.0, 142.54]"
      ]
     },
     "metadata": {},
     "output_type": "display_data"
    },
    {
     "data": {
      "text/plain": [
       "'b8'"
      ]
     },
     "metadata": {},
     "output_type": "display_data"
    },
    {
     "data": {
      "text/plain": [
       "[36196.98, 50000, 132.72134615384613, 13803.019999999999, 104.0, 143.36]"
      ]
     },
     "metadata": {},
     "output_type": "display_data"
    },
    {
     "data": {
      "text/plain": [
       "'b8'"
      ]
     },
     "metadata": {},
     "output_type": "display_data"
    },
    {
     "data": {
      "text/plain": [
       "[34469.46000000001,\n",
       " 50000,\n",
       " 133.88396551724136,\n",
       " 15530.539999999999,\n",
       " 116.0,\n",
       " 143.96]"
      ]
     },
     "metadata": {},
     "output_type": "display_data"
    },
    {
     "data": {
      "text/plain": [
       "'b8'"
      ]
     },
     "metadata": {},
     "output_type": "display_data"
    },
    {
     "data": {
      "text/plain": [
       "[32857.850000000006,\n",
       " 50000,\n",
       " 134.9775590551181,\n",
       " 17142.149999999998,\n",
       " 127.0,\n",
       " 146.51]"
      ]
     },
     "metadata": {},
     "output_type": "display_data"
    },
    {
     "data": {
      "text/plain": [
       "'b8'"
      ]
     },
     "metadata": {},
     "output_type": "display_data"
    },
    {
     "data": {
      "text/plain": [
       "[31258.230000000007,\n",
       " 50000,\n",
       " 135.80992753623187,\n",
       " 18741.769999999997,\n",
       " 138.0,\n",
       " 145.42]"
      ]
     },
     "metadata": {},
     "output_type": "display_data"
    },
    {
     "data": {
      "text/plain": [
       "'b8'"
      ]
     },
     "metadata": {},
     "output_type": "display_data"
    },
    {
     "data": {
      "text/plain": [
       "[29809.730000000007,\n",
       " 50000,\n",
       " 136.4207432432432,\n",
       " 20190.269999999997,\n",
       " 148.0,\n",
       " 144.85]"
      ]
     },
     "metadata": {},
     "output_type": "display_data"
    },
    {
     "data": {
      "text/plain": [
       "'b8'"
      ]
     },
     "metadata": {},
     "output_type": "display_data"
    },
    {
     "data": {
      "text/plain": [
       "[28423.280000000006,\n",
       " 50000,\n",
       " 137.43133757961783,\n",
       " 21576.719999999998,\n",
       " 157.0,\n",
       " 154.05]"
      ]
     },
     "metadata": {},
     "output_type": "display_data"
    },
    {
     "data": {
      "text/plain": [
       "'b8'"
      ]
     },
     "metadata": {},
     "output_type": "display_data"
    },
    {
     "data": {
      "text/plain": [
       "[27016.760000000006,\n",
       " 50000,\n",
       " 138.45325301204818,\n",
       " 22983.239999999998,\n",
       " 166.0,\n",
       " 156.28]"
      ]
     },
     "metadata": {},
     "output_type": "display_data"
    },
    {
     "data": {
      "text/plain": [
       "'b8'"
      ]
     },
     "metadata": {},
     "output_type": "display_data"
    },
    {
     "data": {
      "text/plain": [
       "[25769.640000000007,\n",
       " 50000,\n",
       " 139.25494252873563,\n",
       " 24230.359999999997,\n",
       " 174.0,\n",
       " 155.89]"
      ]
     },
     "metadata": {},
     "output_type": "display_data"
    },
    {
     "data": {
      "text/plain": [
       "'b8'"
      ]
     },
     "metadata": {},
     "output_type": "display_data"
    },
    {
     "data": {
      "text/plain": [
       "[24533.400000000005, 50000, 139.92637362637362, 25466.6, 182.0, 154.53]"
      ]
     },
     "metadata": {},
     "output_type": "display_data"
    },
    {
     "data": {
      "text/plain": [
       "'b8'"
      ]
     },
     "metadata": {},
     "output_type": "display_data"
    },
    {
     "data": {
      "text/plain": [
       "[23325.000000000004, 50000, 140.39473684210526, 26675.0, 190.0, 151.05]"
      ]
     },
     "metadata": {},
     "output_type": "display_data"
    },
    {
     "data": {
      "text/plain": [
       "'b8'"
      ]
     },
     "metadata": {},
     "output_type": "display_data"
    },
    {
     "data": {
      "text/plain": [
       "[22272.130000000005, 50000, 140.75060913705585, 27727.87, 197.0, 150.41]"
      ]
     },
     "metadata": {},
     "output_type": "display_data"
    },
    {
     "data": {
      "text/plain": [
       "'b8'"
      ]
     },
     "metadata": {},
     "output_type": "display_data"
    },
    {
     "data": {
      "text/plain": [
       "[21317.050000000003, 50000, 141.29532019704433, 28682.95, 203.0, 159.18]"
      ]
     },
     "metadata": {},
     "output_type": "display_data"
    },
    {
     "data": {
      "text/plain": [
       "'b8'"
      ]
     },
     "metadata": {},
     "output_type": "display_data"
    },
    {
     "data": {
      "text/plain": [
       "[20342.47, 50000, 141.90205741626795, 29657.530000000002, 209.0, 162.43]"
      ]
     },
     "metadata": {},
     "output_type": "display_data"
    },
    {
     "data": {
      "text/plain": [
       "'b8'"
      ]
     },
     "metadata": {},
     "output_type": "display_data"
    },
    {
     "data": {
      "text/plain": [
       "[19375.63, 50000, 142.43893023255816, 30624.370000000003, 215.0, 161.14]"
      ]
     },
     "metadata": {},
     "output_type": "display_data"
    },
    {
     "data": {
      "text/plain": [
       "'b8'"
      ]
     },
     "metadata": {},
     "output_type": "display_data"
    },
    {
     "data": {
      "text/plain": [
       "[18416.95, 50000, 142.90972850678733, 31583.050000000003, 221.0, 159.78]"
      ]
     },
     "metadata": {},
     "output_type": "display_data"
    },
    {
     "data": {
      "text/plain": [
       "'b8'"
      ]
     },
     "metadata": {},
     "output_type": "display_data"
    },
    {
     "data": {
      "text/plain": [
       "[17575.45, 50000, 143.47146017699117, 32424.550000000003, 226.0, 168.3]"
      ]
     },
     "metadata": {},
     "output_type": "display_data"
    },
    {
     "data": {
      "text/plain": [
       "'b8'"
      ]
     },
     "metadata": {},
     "output_type": "display_data"
    },
    {
     "data": {
      "text/plain": [
       "[16718.75, 50000, 144.07467532467533, 33281.25, 231.0, 171.34]"
      ]
     },
     "metadata": {},
     "output_type": "display_data"
    },
    {
     "data": {
      "text/plain": [
       "'b8'"
      ]
     },
     "metadata": {},
     "output_type": "display_data"
    },
    {
     "data": {
      "text/plain": [
       "[16040.63, 50000, 144.50795744680852, 33959.37, 235.0, 169.53]"
      ]
     },
     "metadata": {},
     "output_type": "display_data"
    },
    {
     "data": {
      "text/plain": [
       "'b8'"
      ]
     },
     "metadata": {},
     "output_type": "display_data"
    },
    {
     "data": {
      "text/plain": [
       "[15350.669999999998, 50000, 144.97627615062763, 34649.33, 239.0, 172.49]"
      ]
     },
     "metadata": {},
     "output_type": "display_data"
    },
    {
     "data": {
      "text/plain": [
       "'b8'"
      ]
     },
     "metadata": {},
     "output_type": "display_data"
    },
    {
     "data": {
      "text/plain": [
       "[14677.189999999999,\n",
       " 50000,\n",
       " 145.36135802469138,\n",
       " 35322.810000000005,\n",
       " 243.0,\n",
       " 168.37]"
      ]
     },
     "metadata": {},
     "output_type": "display_data"
    },
    {
     "data": {
      "text/plain": [
       "'b8'"
      ]
     },
     "metadata": {},
     "output_type": "display_data"
    },
    {
     "data": {
      "text/plain": [
       "[14010.39, 50000, 145.70692307692312, 35989.61000000001, 247.0, 166.7]"
      ]
     },
     "metadata": {},
     "output_type": "display_data"
    },
    {
     "data": {
      "text/plain": [
       "'b8'"
      ]
     },
     "metadata": {},
     "output_type": "display_data"
    },
    {
     "data": {
      "text/plain": [
       "[13355.23, 50000, 145.99509960159367, 36644.77000000001, 251.0, 163.79]"
      ]
     },
     "metadata": {},
     "output_type": "display_data"
    },
    {
     "data": {
      "text/plain": [
       "'b8'"
      ]
     },
     "metadata": {},
     "output_type": "display_data"
    },
    {
     "data": {
      "text/plain": [
       "[12700.27, 50000, 146.2734509803922, 37299.73000000001, 255.0, 163.74]"
      ]
     },
     "metadata": {},
     "output_type": "display_data"
    },
    {
     "data": {
      "text/plain": [
       "'b8'"
      ]
     },
     "metadata": {},
     "output_type": "display_data"
    },
    {
     "data": {
      "text/plain": [
       "'AVGO'"
      ]
     },
     "metadata": {},
     "output_type": "display_data"
    },
    {
     "data": {
      "text/plain": [
       "['AVGO', 'is under calculation, start money is 10000000\\\\ / 100000$']"
      ]
     },
     "metadata": {},
     "output_type": "display_data"
    },
    {
     "data": {
      "text/plain": [
       "[40275.74, 50000, 463.06, 9724.26, 21.0, 463.06]"
      ]
     },
     "metadata": {},
     "output_type": "display_data"
    },
    {
     "data": {
      "text/plain": [
       "0"
      ]
     },
     "metadata": {},
     "output_type": "display_data"
    },
    {
     "data": {
      "text/plain": [
       "[38501.38, 50000, 459.94480000000004, 11498.62, 25.0, 443.59]"
      ]
     },
     "metadata": {},
     "output_type": "display_data"
    },
    {
     "data": {
      "text/plain": [
       "'b8'"
      ]
     },
     "metadata": {},
     "output_type": "display_data"
    },
    {
     "data": {
      "text/plain": [
       "[32182.629999999997,\n",
       " 50000,\n",
       " 445.4342500000001,\n",
       " 17817.370000000003,\n",
       " 40.0,\n",
       " 421.25]"
      ]
     },
     "metadata": {},
     "output_type": "display_data"
    },
    {
     "data": {
      "text/plain": [
       "'b7'"
      ]
     },
     "metadata": {},
     "output_type": "display_data"
    },
    {
     "data": {
      "text/plain": [
       "[30869.859999999997,\n",
       " 50000,\n",
       " 444.88697674418614,\n",
       " 19130.140000000003,\n",
       " 43.0,\n",
       " 437.59]"
      ]
     },
     "metadata": {},
     "output_type": "display_data"
    },
    {
     "data": {
      "text/plain": [
       "'b8'"
      ]
     },
     "metadata": {},
     "output_type": "display_data"
    },
    {
     "data": {
      "text/plain": [
       "[40756.03, 50000, 444.88697674418614, 9787.513488372095, 22.0, 470.77]"
      ]
     },
     "metadata": {},
     "output_type": "display_data"
    },
    {
     "data": {
      "text/plain": [
       "'s3'"
      ]
     },
     "metadata": {},
     "output_type": "display_data"
    },
    {
     "data": {
      "text/plain": [
       "[38899.43, 50000, 447.8505187835421, 11644.113488372095, 26.0, 464.15]"
      ]
     },
     "metadata": {},
     "output_type": "display_data"
    },
    {
     "data": {
      "text/plain": [
       "'b8'"
      ]
     },
     "metadata": {},
     "output_type": "display_data"
    },
    {
     "data": {
      "text/plain": [
       "[37043.19, 50000, 450.0117829457365, 13500.353488372095, 30.0, 464.06]"
      ]
     },
     "metadata": {},
     "output_type": "display_data"
    },
    {
     "data": {
      "text/plain": [
       "'b8'"
      ]
     },
     "metadata": {},
     "output_type": "display_data"
    },
    {
     "data": {
      "text/plain": [
       "[35214.11, 50000, 450.86569083447336, 15329.433488372095, 34.0, 457.27]"
      ]
     },
     "metadata": {},
     "output_type": "display_data"
    },
    {
     "data": {
      "text/plain": [
       "'b8'"
      ]
     },
     "metadata": {},
     "output_type": "display_data"
    },
    {
     "data": {
      "text/plain": [
       "[43408.79, 50000, 450.86569083447336, 7664.716744186047, 17.0, 482.04]"
      ]
     },
     "metadata": {},
     "output_type": "display_data"
    },
    {
     "data": {
      "text/plain": [
       "'s3'"
      ]
     },
     "metadata": {},
     "output_type": "display_data"
    },
    {
     "data": {
      "text/plain": [
       "[41518.31, 50000, 455.0093687707641, 9555.196744186047, 21.0, 472.62]"
      ]
     },
     "metadata": {},
     "output_type": "display_data"
    },
    {
     "data": {
      "text/plain": [
       "'b8'"
      ]
     },
     "metadata": {},
     "output_type": "display_data"
    },
    {
     "data": {
      "text/plain": [
       "[39693.67, 50000, 455.19346976744185, 11379.836744186046, 25.0, 456.16]"
      ]
     },
     "metadata": {},
     "output_type": "display_data"
    },
    {
     "data": {
      "text/plain": [
       "'b8'"
      ]
     },
     "metadata": {},
     "output_type": "display_data"
    },
    {
     "data": {
      "text/plain": [
       "[37784.47, 50000, 458.242646351243, 13289.036744186047, 29.0, 477.3]"
      ]
     },
     "metadata": {},
     "output_type": "display_data"
    },
    {
     "data": {
      "text/plain": [
       "'b8'"
      ]
     },
     "metadata": {},
     "output_type": "display_data"
    },
    {
     "data": {
      "text/plain": [
       "[35936.47, 50000, 458.69808315715295, 15137.036744186047, 33.0, 462.0]"
      ]
     },
     "metadata": {},
     "output_type": "display_data"
    },
    {
     "data": {
      "text/plain": [
       "'b8'"
      ]
     },
     "metadata": {},
     "output_type": "display_data"
    },
    {
     "data": {
      "text/plain": [
       "[34564.69, 50000, 458.5782428940568, 16508.816744186046, 36.0, 457.26]"
      ]
     },
     "metadata": {},
     "output_type": "display_data"
    },
    {
     "data": {
      "text/plain": [
       "'b8'"
      ]
     },
     "metadata": {},
     "output_type": "display_data"
    },
    {
     "data": {
      "text/plain": [
       "[33199.36, 50000, 458.31145497912934, 17874.146744186044, 39.0, 455.11]"
      ]
     },
     "metadata": {},
     "output_type": "display_data"
    },
    {
     "data": {
      "text/plain": [
       "'b8'"
      ]
     },
     "metadata": {},
     "output_type": "display_data"
    },
    {
     "data": {
      "text/plain": [
       "[31800.31, 50000, 458.88563676633436, 19273.196744186043, 42.0, 466.35]"
      ]
     },
     "metadata": {},
     "output_type": "display_data"
    },
    {
     "data": {
      "text/plain": [
       "'b8'"
      ]
     },
     "metadata": {},
     "output_type": "display_data"
    },
    {
     "data": {
      "text/plain": [
       "[30422.710000000003, 50000, 458.9065943152454, 20650.796744186042, 45.0, 459.2]"
      ]
     },
     "metadata": {},
     "output_type": "display_data"
    },
    {
     "data": {
      "text/plain": [
       "'b8'"
      ]
     },
     "metadata": {},
     "output_type": "display_data"
    },
    {
     "data": {
      "text/plain": [
       "[29054.110000000004, 50000, 458.7374321705425, 22019.39674418604, 48.0, 456.2]"
      ]
     },
     "metadata": {},
     "output_type": "display_data"
    },
    {
     "data": {
      "text/plain": [
       "'b8'"
      ]
     },
     "metadata": {},
     "output_type": "display_data"
    },
    {
     "data": {
      "text/plain": [
       "[27703.690000000002, 50000, 458.231700866393, 23369.816744186042, 51.0, 450.14]"
      ]
     },
     "metadata": {},
     "output_type": "display_data"
    },
    {
     "data": {
      "text/plain": [
       "'b8'"
      ]
     },
     "metadata": {},
     "output_type": "display_data"
    },
    {
     "data": {
      "text/plain": [
       "[26370.070000000003,\n",
       " 50000,\n",
       " 457.47105081826004,\n",
       " 24703.43674418604,\n",
       " 54.0,\n",
       " 444.54]"
      ]
     },
     "metadata": {},
     "output_type": "display_data"
    },
    {
     "data": {
      "text/plain": [
       "'b8'"
      ]
     },
     "metadata": {},
     "output_type": "display_data"
    },
    {
     "data": {
      "text/plain": [
       "[25061.770000000004, 50000, 456.34625866993053, 26011.73674418604, 57.0, 436.1]"
      ]
     },
     "metadata": {},
     "output_type": "display_data"
    },
    {
     "data": {
      "text/plain": [
       "'b8'"
      ]
     },
     "metadata": {},
     "output_type": "display_data"
    },
    {
     "data": {
      "text/plain": [
       "[21260.350000000006, 50000, 451.7144961240309, 29813.15674418604, 66.0, 422.38]"
      ]
     },
     "metadata": {},
     "output_type": "display_data"
    },
    {
     "data": {
      "text/plain": [
       "'b7'"
      ]
     },
     "metadata": {},
     "output_type": "display_data"
    },
    {
     "data": {
      "text/plain": [
       "[20392.870000000006, 50000, 451.1858344733241, 30680.63674418604, 68.0, 433.74]"
      ]
     },
     "metadata": {},
     "output_type": "display_data"
    },
    {
     "data": {
      "text/plain": [
       "'b8'"
      ]
     },
     "metadata": {},
     "output_type": "display_data"
    },
    {
     "data": {
      "text/plain": [
       "[19463.270000000008, 50000, 451.5748106312291, 31610.236744186037, 70.0, 464.8]"
      ]
     },
     "metadata": {},
     "output_type": "display_data"
    },
    {
     "data": {
      "text/plain": [
       "'b8'"
      ]
     },
     "metadata": {},
     "output_type": "display_data"
    },
    {
     "data": {
      "text/plain": [
       "[18535.710000000006, 50000, 451.9138436692505, 32537.79674418604, 72.0, 463.78]"
      ]
     },
     "metadata": {},
     "output_type": "display_data"
    },
    {
     "data": {
      "text/plain": [
       "'b8'"
      ]
     },
     "metadata": {},
     "output_type": "display_data"
    },
    {
     "data": {
      "text/plain": [
       "[18064.970000000005,\n",
       " 50000,\n",
       " 452.1717362217265,\n",
       " 33008.536744186036,\n",
       " 73.0,\n",
       " 470.74]"
      ]
     },
     "metadata": {},
     "output_type": "display_data"
    },
    {
     "data": {
      "text/plain": [
       "'b8'"
      ]
     },
     "metadata": {},
     "output_type": "display_data"
    },
    {
     "data": {
      "text/plain": [
       "[17599.220000000005,\n",
       " 50000,\n",
       " 452.35522627278425,\n",
       " 33474.286744186036,\n",
       " 74.0,\n",
       " 465.75]"
      ]
     },
     "metadata": {},
     "output_type": "display_data"
    },
    {
     "data": {
      "text/plain": [
       "'b8'"
      ]
     },
     "metadata": {},
     "output_type": "display_data"
    },
    {
     "data": {
      "text/plain": [
       "[17135.720000000005, 50000, 452.5038232558138, 33937.786744186036, 75.0, 463.5]"
      ]
     },
     "metadata": {},
     "output_type": "display_data"
    },
    {
     "data": {
      "text/plain": [
       "'b8'"
      ]
     },
     "metadata": {},
     "output_type": "display_data"
    },
    {
     "data": {
      "text/plain": [
       "[16673.520000000004, 50000, 452.6314045287636, 34399.98674418603, 76.0, 462.2]"
      ]
     },
     "metadata": {},
     "output_type": "display_data"
    },
    {
     "data": {
      "text/plain": [
       "'b8'"
      ]
     },
     "metadata": {},
     "output_type": "display_data"
    },
    {
     "data": {
      "text/plain": [
       "[16203.880000000005, 50000, 452.8522953790394, 34869.62674418603, 77.0, 469.64]"
      ]
     },
     "metadata": {},
     "output_type": "display_data"
    },
    {
     "data": {
      "text/plain": [
       "'b8'"
      ]
     },
     "metadata": {},
     "output_type": "display_data"
    },
    {
     "data": {
      "text/plain": [
       "[15735.810000000005, 50000, 453.0473941562312, 35337.69674418603, 78.0, 468.07]"
      ]
     },
     "metadata": {},
     "output_type": "display_data"
    },
    {
     "data": {
      "text/plain": [
       "'b8'"
      ]
     },
     "metadata": {},
     "output_type": "display_data"
    },
    {
     "data": {
      "text/plain": [
       "[15260.450000000004, 50000, 453.3298322048865, 35813.05674418603, 79.0, 475.36]"
      ]
     },
     "metadata": {},
     "output_type": "display_data"
    },
    {
     "data": {
      "text/plain": [
       "'b8'"
      ]
     },
     "metadata": {},
     "output_type": "display_data"
    },
    {
     "data": {
      "text/plain": [
       "[14781.760000000004,\n",
       " 50000,\n",
       " 453.64683430232543,\n",
       " 36291.746744186035,\n",
       " 80.0,\n",
       " 478.69]"
      ]
     },
     "metadata": {},
     "output_type": "display_data"
    },
    {
     "data": {
      "text/plain": [
       "'b8'"
      ]
     },
     "metadata": {},
     "output_type": "display_data"
    },
    {
     "data": {
      "text/plain": [
       "[14312.790000000005, 50000, 453.8360091874819, 36760.71674418604, 81.0, 468.97]"
      ]
     },
     "metadata": {},
     "output_type": "display_data"
    },
    {
     "data": {
      "text/plain": [
       "'b8'"
      ]
     },
     "metadata": {},
     "output_type": "display_data"
    },
    {
     "data": {
      "text/plain": [
       "[13817.970000000005,\n",
       " 50000,\n",
       " 454.33581395348824,\n",
       " 37255.536744186036,\n",
       " 82.0,\n",
       " 494.82]"
      ]
     },
     "metadata": {},
     "output_type": "display_data"
    },
    {
     "data": {
      "text/plain": [
       "'b8'"
      ]
     },
     "metadata": {},
     "output_type": "display_data"
    },
    {
     "data": {
      "text/plain": [
       "[13326.950000000004, 50000, 454.7777920986269, 37746.55674418603, 83.0, 491.02]"
      ]
     },
     "metadata": {},
     "output_type": "display_data"
    },
    {
     "data": {
      "text/plain": [
       "'b8'"
      ]
     },
     "metadata": {},
     "output_type": "display_data"
    },
    {
     "data": {
      "text/plain": [
       "[12851.000000000004, 50000, 455.0298421926908, 38222.50674418603, 84.0, 475.95]"
      ]
     },
     "metadata": {},
     "output_type": "display_data"
    },
    {
     "data": {
      "text/plain": [
       "'b8'"
      ]
     },
     "metadata": {},
     "output_type": "display_data"
    },
    {
     "data": {
      "text/plain": [
       "[12365.720000000003, 50000, 455.3857264021886, 38707.78674418603, 85.0, 485.28]"
      ]
     },
     "metadata": {},
     "output_type": "display_data"
    },
    {
     "data": {
      "text/plain": [
       "'b8'"
      ]
     },
     "metadata": {},
     "output_type": "display_data"
    },
    {
     "data": {
      "text/plain": [
       "[11842.610000000002, 50000, 456.1732179556515, 39230.89674418603, 86.0, 523.11]"
      ]
     },
     "metadata": {},
     "output_type": "display_data"
    },
    {
     "data": {
      "text/plain": [
       "'b8'"
      ]
     },
     "metadata": {},
     "output_type": "display_data"
    },
    {
     "data": {
      "text/plain": [
       "[11293.840000000002,\n",
       " 50000,\n",
       " 457.23754878374746,\n",
       " 39779.666744186026,\n",
       " 87.0,\n",
       " 548.77]"
      ]
     },
     "metadata": {},
     "output_type": "display_data"
    },
    {
     "data": {
      "text/plain": [
       "'b8'"
      ]
     },
     "metadata": {},
     "output_type": "display_data"
    },
    {
     "data": {
      "text/plain": [
       "[11293.840000000002,\n",
       " 50000,\n",
       " 457.23754878374746,\n",
       " 39779.666744186026,\n",
       " 87.0,\n",
       " 568.72]"
      ]
     },
     "metadata": {},
     "output_type": "display_data"
    },
    {
     "data": {
      "text/plain": [
       "'b8'"
      ]
     },
     "metadata": {},
     "output_type": "display_data"
    },
    {
     "data": {
      "text/plain": [
       "[10740.560000000001,\n",
       " 50000,\n",
       " 458.3289402748412,\n",
       " 40332.946744186025,\n",
       " 88.0,\n",
       " 553.28]"
      ]
     },
     "metadata": {},
     "output_type": "display_data"
    },
    {
     "data": {
      "text/plain": [
       "'b8'"
      ]
     },
     "metadata": {},
     "output_type": "display_data"
    },
    {
     "data": {
      "text/plain": [
       "[10740.560000000001,\n",
       " 50000,\n",
       " 458.3289402748412,\n",
       " 40332.946744186025,\n",
       " 88.0,\n",
       " 546.59]"
      ]
     },
     "metadata": {},
     "output_type": "display_data"
    },
    {
     "data": {
      "text/plain": [
       "'b8'"
      ]
     },
     "metadata": {},
     "output_type": "display_data"
    },
    {
     "data": {
      "text/plain": [
       "[35571.520000000004,\n",
       " 50000,\n",
       " 458.3289402748412,\n",
       " 20166.473372093013,\n",
       " 44.0,\n",
       " 564.34]"
      ]
     },
     "metadata": {},
     "output_type": "display_data"
    },
    {
     "data": {
      "text/plain": [
       "'s2'"
      ]
     },
     "metadata": {},
     "output_type": "display_data"
    },
    {
     "data": {
      "text/plain": [
       "[33910.48, 50000, 464.4151781296386, 21827.513372093013, 47.0, 553.68]"
      ]
     },
     "metadata": {},
     "output_type": "display_data"
    },
    {
     "data": {
      "text/plain": [
       "'b8'"
      ]
     },
     "metadata": {},
     "output_type": "display_data"
    },
    {
     "data": {
      "text/plain": [
       "[47489.68, 50000, 464.4151781296386, 11145.964275111326, 24.0, 590.4]"
      ]
     },
     "metadata": {},
     "output_type": "display_data"
    },
    {
     "data": {
      "text/plain": [
       "'s2'"
      ]
     },
     "metadata": {},
     "output_type": "display_data"
    },
    {
     "data": {
      "text/plain": [
       "[55069.84, 50000, 464.4151781296386, 5572.982137555663, 12.0, 631.68]"
      ]
     },
     "metadata": {},
     "output_type": "display_data"
    },
    {
     "data": {
      "text/plain": [
       "'s2'"
      ]
     },
     "metadata": {},
     "output_type": "display_data"
    },
    {
     "data": {
      "text/plain": [
       "[52583.2, 50000, 503.72638359722896, 8059.622137555663, 16.0, 621.66]"
      ]
     },
     "metadata": {},
     "output_type": "display_data"
    },
    {
     "data": {
      "text/plain": [
       "'b8'"
      ]
     },
     "metadata": {},
     "output_type": "display_data"
    },
    {
     "data": {
      "text/plain": [
       "[50123.56, 50000, 525.9631068777832, 10519.262137555663, 20.0, 614.91]"
      ]
     },
     "metadata": {},
     "output_type": "display_data"
    },
    {
     "data": {
      "text/plain": [
       "'b8'"
      ]
     },
     "metadata": {},
     "output_type": "display_data"
    },
    {
     "data": {
      "text/plain": [
       "[56522.159999999996, 50000, 525.9631068777832, 5259.631068777831, 10.0, 639.86]"
      ]
     },
     "metadata": {},
     "output_type": "display_data"
    },
    {
     "data": {
      "text/plain": [
       "'s2'"
      ]
     },
     "metadata": {},
     "output_type": "display_data"
    },
    {
     "data": {
      "text/plain": [
       "[54039.439999999995, 50000, 553.0250763412736, 7742.351068777831, 14.0, 620.68]"
      ]
     },
     "metadata": {},
     "output_type": "display_data"
    },
    {
     "data": {
      "text/plain": [
       "'b8'"
      ]
     },
     "metadata": {},
     "output_type": "display_data"
    },
    {
     "data": {
      "text/plain": [
       "[51379.119999999995, 50000, 577.9261704876573, 10402.67106877783, 18.0, 665.08]"
      ]
     },
     "metadata": {},
     "output_type": "display_data"
    },
    {
     "data": {
      "text/plain": [
       "'b8'"
      ]
     },
     "metadata": {},
     "output_type": "display_data"
    },
    {
     "data": {
      "text/plain": [
       "[49450.119999999995, 50000, 587.2224318465634, 12331.67106877783, 21.0, 643.0]"
      ]
     },
     "metadata": {},
     "output_type": "display_data"
    },
    {
     "data": {
      "text/plain": [
       "'b8'"
      ]
     },
     "metadata": {},
     "output_type": "display_data"
    },
    {
     "data": {
      "text/plain": [
       "[47592.67, 50000, 591.2133778657429, 14189.12106877783, 24.0, 619.15]"
      ]
     },
     "metadata": {},
     "output_type": "display_data"
    },
    {
     "data": {
      "text/plain": [
       "'b8'"
      ]
     },
     "metadata": {},
     "output_type": "display_data"
    },
    {
     "data": {
      "text/plain": [
       "[45801.1, 50000, 591.8774469917714, 15980.691068777829, 27.0, 597.19]"
      ]
     },
     "metadata": {},
     "output_type": "display_data"
    },
    {
     "data": {
      "text/plain": [
       "'b8'"
      ]
     },
     "metadata": {},
     "output_type": "display_data"
    },
    {
     "data": {
      "text/plain": [
       "[44067.729999999996,\n",
       " 50000,\n",
       " 590.4687022925942,\n",
       " 17714.061068777828,\n",
       " 30.0,\n",
       " 577.79]"
      ]
     },
     "metadata": {},
     "output_type": "display_data"
    },
    {
     "data": {
      "text/plain": [
       "'b8'"
      ]
     },
     "metadata": {},
     "output_type": "display_data"
    },
    {
     "data": {
      "text/plain": [
       "[42375.81999999999, 50000, 588.0597293569039, 19405.971068777828, 33.0, 563.97]"
      ]
     },
     "metadata": {},
     "output_type": "display_data"
    },
    {
     "data": {
      "text/plain": [
       "'b8'"
      ]
     },
     "metadata": {},
     "output_type": "display_data"
    },
    {
     "data": {
      "text/plain": [
       "[35803.17999999999, 50000, 577.3024681950628, 25978.611068777827, 45.0, 547.72]"
      ]
     },
     "metadata": {},
     "output_type": "display_data"
    },
    {
     "data": {
      "text/plain": [
       "'b7'"
      ]
     },
     "metadata": {},
     "output_type": "display_data"
    },
    {
     "data": {
      "text/plain": [
       "[29937.649999999994,\n",
       " 50000,\n",
       " 568.6453762281755,\n",
       " 31844.141068777826,\n",
       " 56.0,\n",
       " 533.23]"
      ]
     },
     "metadata": {},
     "output_type": "display_data"
    },
    {
     "data": {
      "text/plain": [
       "'b7'"
      ]
     },
     "metadata": {},
     "output_type": "display_data"
    },
    {
     "data": {
      "text/plain": [
       "[25130.389999999992, 50000, 563.8677087504282, 36651.40106877783, 65.0, 534.14]"
      ]
     },
     "metadata": {},
     "output_type": "display_data"
    },
    {
     "data": {
      "text/plain": [
       "'b7'"
      ]
     },
     "metadata": {},
     "output_type": "display_data"
    },
    {
     "data": {
      "text/plain": [
       "[24045.769999999993, 50000, 563.2241950563855, 37736.02106877783, 67.0, 542.31]"
      ]
     },
     "metadata": {},
     "output_type": "display_data"
    },
    {
     "data": {
      "text/plain": [
       "'b8'"
      ]
     },
     "metadata": {},
     "output_type": "display_data"
    },
    {
     "data": {
      "text/plain": [
       "[22884.069999999992, 50000, 563.7350879533019, 38897.72106877783, 69.0, 580.85]"
      ]
     },
     "metadata": {},
     "output_type": "display_data"
    },
    {
     "data": {
      "text/plain": [
       "'b8'"
      ]
     },
     "metadata": {},
     "output_type": "display_data"
    },
    {
     "data": {
      "text/plain": [
       "[22292.709999999992, 50000, 564.129729553969, 39489.08106877783, 70.0, 591.36]"
      ]
     },
     "metadata": {},
     "output_type": "display_data"
    },
    {
     "data": {
      "text/plain": [
       "'b8'"
      ]
     },
     "metadata": {},
     "output_type": "display_data"
    },
    {
     "data": {
      "text/plain": [
       "[21719.289999999994, 50000, 564.2605784334905, 40062.50106877783, 71.0, 573.42]"
      ]
     },
     "metadata": {},
     "output_type": "display_data"
    },
    {
     "data": {
      "text/plain": [
       "'b8'"
      ]
     },
     "metadata": {},
     "output_type": "display_data"
    },
    {
     "data": {
      "text/plain": [
       "[42816.23999999999, 50000, 564.2605784334905, 20313.380823605657, 36.0, 602.77]"
      ]
     },
     "metadata": {},
     "output_type": "display_data"
    },
    {
     "data": {
      "text/plain": [
       "'s3'"
      ]
     },
     "metadata": {},
     "output_type": "display_data"
    },
    {
     "data": {
      "text/plain": [
       "[41079.23999999999, 50000, 565.3943800924527, 22050.380823605657, 39.0, 579.0]"
      ]
     },
     "metadata": {},
     "output_type": "display_data"
    },
    {
     "data": {
      "text/plain": [
       "'b8'"
      ]
     },
     "metadata": {},
     "output_type": "display_data"
    },
    {
     "data": {
      "text/plain": [
       "[39383.66999999999, 50000, 565.3797815144204, 23745.950823605657, 42.0, 565.19]"
      ]
     },
     "metadata": {},
     "output_type": "display_data"
    },
    {
     "data": {
      "text/plain": [
       "'b8'"
      ]
     },
     "metadata": {},
     "output_type": "display_data"
    },
    {
     "data": {
      "text/plain": [
       "[37673.30999999999, 50000, 565.6957960801258, 25456.310823605658, 45.0, 570.12]"
      ]
     },
     "metadata": {},
     "output_type": "display_data"
    },
    {
     "data": {
      "text/plain": [
       "'b8'"
      ]
     },
     "metadata": {},
     "output_type": "display_data"
    },
    {
     "data": {
      "text/plain": [
       "[35937.50999999999, 50000, 566.5023088251179, 27192.110823605657, 48.0, 578.6]"
      ]
     },
     "metadata": {},
     "output_type": "display_data"
    },
    {
     "data": {
      "text/plain": [
       "'b8'"
      ]
     },
     "metadata": {},
     "output_type": "display_data"
    },
    {
     "data": {
      "text/plain": [
       "'COST'"
      ]
     },
     "metadata": {},
     "output_type": "display_data"
    },
    {
     "data": {
      "text/plain": [
       "['COST', 'is under calculation, start money is 10000000\\\\ / 100000$']"
      ]
     },
     "metadata": {},
     "output_type": "display_data"
    },
    {
     "data": {
      "text/plain": [
       "[40282.4, 50000, 323.92, 9717.6, 30.0, 323.92]"
      ]
     },
     "metadata": {},
     "output_type": "display_data"
    },
    {
     "data": {
      "text/plain": [
       "0"
      ]
     },
     "metadata": {},
     "output_type": "display_data"
    },
    {
     "data": {
      "text/plain": [
       "[38368.16, 50000, 323.1066666666667, 11631.84, 36.0, 319.04]"
      ]
     },
     "metadata": {},
     "output_type": "display_data"
    },
    {
     "data": {
      "text/plain": [
       "'b8'"
      ]
     },
     "metadata": {},
     "output_type": "display_data"
    },
    {
     "data": {
      "text/plain": [
       "[36499.64000000001, 50000, 321.4371428571429, 13500.36, 42.0, 311.42]"
      ]
     },
     "metadata": {},
     "output_type": "display_data"
    },
    {
     "data": {
      "text/plain": [
       "'b8'"
      ]
     },
     "metadata": {},
     "output_type": "display_data"
    },
    {
     "data": {
      "text/plain": [
       "[34884.740000000005, 50000, 321.6012765957447, 15115.26, 47.0, 322.98]"
      ]
     },
     "metadata": {},
     "output_type": "display_data"
    },
    {
     "data": {
      "text/plain": [
       "'b8'"
      ]
     },
     "metadata": {},
     "output_type": "display_data"
    },
    {
     "data": {
      "text/plain": [
       "[33485.740000000005,\n",
       " 50000,\n",
       " 323.8090196078432,\n",
       " 16514.260000000002,\n",
       " 51.0,\n",
       " 349.75]"
      ]
     },
     "metadata": {},
     "output_type": "display_data"
    },
    {
     "data": {
      "text/plain": [
       "'b8'"
      ]
     },
     "metadata": {},
     "output_type": "display_data"
    },
    {
     "data": {
      "text/plain": [
       "[32011.660000000003,\n",
       " 50000,\n",
       " 327.0607272727273,\n",
       " 17988.340000000004,\n",
       " 55.0,\n",
       " 368.52]"
      ]
     },
     "metadata": {},
     "output_type": "display_data"
    },
    {
     "data": {
      "text/plain": [
       "'b8'"
      ]
     },
     "metadata": {},
     "output_type": "display_data"
    },
    {
     "data": {
      "text/plain": [
       "[30510.500000000004,\n",
       " 50000,\n",
       " 330.33050847457633,\n",
       " 19489.500000000004,\n",
       " 59.0,\n",
       " 375.29]"
      ]
     },
     "metadata": {},
     "output_type": "display_data"
    },
    {
     "data": {
      "text/plain": [
       "'b8'"
      ]
     },
     "metadata": {},
     "output_type": "display_data"
    },
    {
     "data": {
      "text/plain": [
       "[29021.700000000004,\n",
       " 50000,\n",
       " 332.98888888888894,\n",
       " 20978.300000000003,\n",
       " 63.0,\n",
       " 372.2]"
      ]
     },
     "metadata": {},
     "output_type": "display_data"
    },
    {
     "data": {
      "text/plain": [
       "'b8'"
      ]
     },
     "metadata": {},
     "output_type": "display_data"
    },
    {
     "data": {
      "text/plain": [
       "[27886.890000000003,\n",
       " 50000,\n",
       " 335.0471212121213,\n",
       " 22113.110000000004,\n",
       " 66.0,\n",
       " 378.27]"
      ]
     },
     "metadata": {},
     "output_type": "display_data"
    },
    {
     "data": {
      "text/plain": [
       "'b8'"
      ]
     },
     "metadata": {},
     "output_type": "display_data"
    },
    {
     "data": {
      "text/plain": [
       "[26745.690000000002,\n",
       " 50000,\n",
       " 337.01898550724644,\n",
       " 23254.310000000005,\n",
       " 69.0,\n",
       " 380.4]"
      ]
     },
     "metadata": {},
     "output_type": "display_data"
    },
    {
     "data": {
      "text/plain": [
       "'b8'"
      ]
     },
     "metadata": {},
     "output_type": "display_data"
    },
    {
     "data": {
      "text/plain": [
       "[25607.460000000003,\n",
       " 50000,\n",
       " 338.7852777777778,\n",
       " 24392.540000000005,\n",
       " 72.0,\n",
       " 379.41]"
      ]
     },
     "metadata": {},
     "output_type": "display_data"
    },
    {
     "data": {
      "text/plain": [
       "'b8'"
      ]
     },
     "metadata": {},
     "output_type": "display_data"
    },
    {
     "data": {
      "text/plain": [
       "[24464.820000000003,\n",
       " 50000,\n",
       " 340.4690666666667,\n",
       " 25535.180000000004,\n",
       " 75.0,\n",
       " 380.88]"
      ]
     },
     "metadata": {},
     "output_type": "display_data"
    },
    {
     "data": {
      "text/plain": [
       "'b8'"
      ]
     },
     "metadata": {},
     "output_type": "display_data"
    },
    {
     "data": {
      "text/plain": [
       "[23649.060000000005, 50000, 342.22, 26350.940000000002, 77.0, 407.88]"
      ]
     },
     "metadata": {},
     "output_type": "display_data"
    },
    {
     "data": {
      "text/plain": [
       "'b8'"
      ]
     },
     "metadata": {},
     "output_type": "display_data"
    },
    {
     "data": {
      "text/plain": [
       "[22756.640000000007, 50000, 344.8526582278481, 27243.36, 79.0, 446.21]"
      ]
     },
     "metadata": {},
     "output_type": "display_data"
    },
    {
     "data": {
      "text/plain": [
       "'b8'"
      ]
     },
     "metadata": {},
     "output_type": "display_data"
    },
    {
     "data": {
      "text/plain": [
       "[21837.320000000007, 50000, 347.6874074074074, 28162.68, 81.0, 459.66]"
      ]
     },
     "metadata": {},
     "output_type": "display_data"
    },
    {
     "data": {
      "text/plain": [
       "'b8'"
      ]
     },
     "metadata": {},
     "output_type": "display_data"
    },
    {
     "data": {
      "text/plain": [
       "[20935.040000000008, 50000, 350.1802409638554, 29064.96, 83.0, 451.14]"
      ]
     },
     "metadata": {},
     "output_type": "display_data"
    },
    {
     "data": {
      "text/plain": [
       "'b8'"
      ]
     },
     "metadata": {},
     "output_type": "display_data"
    },
    {
     "data": {
      "text/plain": [
       "[40112.79000000001, 50000, 350.1802409638554, 14707.570120481927, 42.0, 467.75]"
      ]
     },
     "metadata": {},
     "output_type": "display_data"
    },
    {
     "data": {
      "text/plain": [
       "'s2'"
      ]
     },
     "metadata": {},
     "output_type": "display_data"
    },
    {
     "data": {
      "text/plain": [
       "[38270.55000000001, 50000, 359.7784808800419, 16549.81012048193, 46.0, 460.56]"
      ]
     },
     "metadata": {},
     "output_type": "display_data"
    },
    {
     "data": {
      "text/plain": [
       "'b8'"
      ]
     },
     "metadata": {},
     "output_type": "display_data"
    },
    {
     "data": {
      "text/plain": [
       "[36481.15000000001, 50000, 366.7842024096386, 18339.21012048193, 50.0, 447.35]"
      ]
     },
     "metadata": {},
     "output_type": "display_data"
    },
    {
     "data": {
      "text/plain": [
       "'b8'"
      ]
     },
     "metadata": {},
     "output_type": "display_data"
    },
    {
     "data": {
      "text/plain": [
       "[34720.59000000001, 50000, 372.21796519410987, 20099.77012048193, 54.0, 440.14]"
      ]
     },
     "metadata": {},
     "output_type": "display_data"
    },
    {
     "data": {
      "text/plain": [
       "'b8'"
      ]
     },
     "metadata": {},
     "output_type": "display_data"
    },
    {
     "data": {
      "text/plain": [
       "[33209.16000000001, 50000, 379.1438617628409, 21611.20012048193, 57.0, 503.81]"
      ]
     },
     "metadata": {},
     "output_type": "display_data"
    },
    {
     "data": {
      "text/plain": [
       "'b8'"
      ]
     },
     "metadata": {},
     "output_type": "display_data"
    },
    {
     "data": {
      "text/plain": [
       "[31591.02000000001, 50000, 387.15566867469886, 23229.34012048193, 60.0, 539.38]"
      ]
     },
     "metadata": {},
     "output_type": "display_data"
    },
    {
     "data": {
      "text/plain": [
       "'b8'"
      ]
     },
     "metadata": {},
     "output_type": "display_data"
    },
    {
     "data": {
      "text/plain": [
       "[30531.34000000001, 50000, 391.75838904003115, 24289.02012048193, 62.0, 529.84]"
      ]
     },
     "metadata": {},
     "output_type": "display_data"
    },
    {
     "data": {
      "text/plain": [
       "'b8'"
      ]
     },
     "metadata": {},
     "output_type": "display_data"
    },
    {
     "data": {
      "text/plain": [
       "[29471.12000000001, 50000, 396.0818768825302, 25349.240120481933, 64.0, 530.11]"
      ]
     },
     "metadata": {},
     "output_type": "display_data"
    },
    {
     "data": {
      "text/plain": [
       "'b8'"
      ]
     },
     "metadata": {},
     "output_type": "display_data"
    },
    {
     "data": {
      "text/plain": [
       "[28422.46000000001,\n",
       " 50000,\n",
       " 399.96818364366567,\n",
       " 26397.900120481932,\n",
       " 66.0,\n",
       " 524.33]"
      ]
     },
     "metadata": {},
     "output_type": "display_data"
    },
    {
     "data": {
      "text/plain": [
       "'b8'"
      ]
     },
     "metadata": {},
     "output_type": "display_data"
    },
    {
     "data": {
      "text/plain": [
       "[46863.52000000001,\n",
       " 50000,\n",
       " 399.96818364366567,\n",
       " 13198.950060240966,\n",
       " 33.0,\n",
       " 558.82]"
      ]
     },
     "metadata": {},
     "output_type": "display_data"
    },
    {
     "data": {
      "text/plain": [
       "'s2'"
      ]
     },
     "metadata": {},
     "output_type": "display_data"
    },
    {
     "data": {
      "text/plain": [
       "[44682.16000000001, 50000, 415.6840556821883, 15380.310060240967, 37.0, 545.34]"
      ]
     },
     "metadata": {},
     "output_type": "display_data"
    },
    {
     "data": {
      "text/plain": [
       "'b8'"
      ]
     },
     "metadata": {},
     "output_type": "display_data"
    },
    {
     "data": {
      "text/plain": [
       "[54860.80000000001, 50000, 415.6840556821883, 7897.997057961578, 19.0, 565.48]"
      ]
     },
     "metadata": {},
     "output_type": "display_data"
    },
    {
     "data": {
      "text/plain": [
       "'s2'"
      ]
     },
     "metadata": {},
     "output_type": "display_data"
    },
    {
     "data": {
      "text/plain": [
       "[52650.28000000001, 50000, 439.5007416505034, 10108.517057961579, 23.0, 552.63]"
      ]
     },
     "metadata": {},
     "output_type": "display_data"
    },
    {
     "data": {
      "text/plain": [
       "'b8'"
      ]
     },
     "metadata": {},
     "output_type": "display_data"
    },
    {
     "data": {
      "text/plain": [
       "[50450.60000000001, 50000, 455.8591502948733, 12308.197057961579, 27.0, 549.92]"
      ]
     },
     "metadata": {},
     "output_type": "display_data"
    },
    {
     "data": {
      "text/plain": [
       "'b8'"
      ]
     },
     "metadata": {},
     "output_type": "display_data"
    },
    {
     "data": {
      "text/plain": [
       "[48305.88000000001, 50000, 466.2231309019864, 14452.917057961578, 31.0, 536.18]"
      ]
     },
     "metadata": {},
     "output_type": "display_data"
    },
    {
     "data": {
      "text/plain": [
       "'b8'"
      ]
     },
     "metadata": {},
     "output_type": "display_data"
    },
    {
     "data": {
      "text/plain": [
       "[46230.680000000015, 50000, 472.2319159417594, 16528.11705796158, 35.0, 518.8]"
      ]
     },
     "metadata": {},
     "output_type": "display_data"
    },
    {
     "data": {
      "text/plain": [
       "'b8'"
      ]
     },
     "metadata": {},
     "output_type": "display_data"
    },
    {
     "data": {
      "text/plain": [
       "[44163.16000000002, 50000, 476.81120661439945, 18595.63705796158, 39.0, 516.88]"
      ]
     },
     "metadata": {},
     "output_type": "display_data"
    },
    {
     "data": {
      "text/plain": [
       "'b8'"
      ]
     },
     "metadata": {},
     "output_type": "display_data"
    },
    {
     "data": {
      "text/plain": [
       "[42151.20000000002, 50000, 479.24644320840883, 20607.59705796158, 43.0, 502.99]"
      ]
     },
     "metadata": {},
     "output_type": "display_data"
    },
    {
     "data": {
      "text/plain": [
       "'b8'"
      ]
     },
     "metadata": {},
     "output_type": "display_data"
    },
    {
     "data": {
      "text/plain": [
       "[40198.92000000002, 50000, 479.9973842119485, 22559.877057961578, 47.0, 488.07]"
      ]
     },
     "metadata": {},
     "output_type": "display_data"
    },
    {
     "data": {
      "text/plain": [
       "'b8'"
      ]
     },
     "metadata": {},
     "output_type": "display_data"
    },
    {
     "data": {
      "text/plain": [
       "[38267.64000000002,\n",
       " 50000,\n",
       " 480.21876584238385,\n",
       " 24491.157057961576,\n",
       " 51.0,\n",
       " 482.82]"
      ]
     },
     "metadata": {},
     "output_type": "display_data"
    },
    {
     "data": {
      "text/plain": [
       "'b8'"
      ]
     },
     "metadata": {},
     "output_type": "display_data"
    },
    {
     "data": {
      "text/plain": [
       "[36358.36000000002,\n",
       " 50000,\n",
       " 480.00794650839225,\n",
       " 26400.437057961575,\n",
       " 55.0,\n",
       " 477.32]"
      ]
     },
     "metadata": {},
     "output_type": "display_data"
    },
    {
     "data": {
      "text/plain": [
       "'b8'"
      ]
     },
     "metadata": {},
     "output_type": "display_data"
    },
    {
     "data": {
      "text/plain": [
       "[34802.92000000002,\n",
       " 50000,\n",
       " 481.99788030968233,\n",
       " 27955.877057961574,\n",
       " 58.0,\n",
       " 518.48]"
      ]
     },
     "metadata": {},
     "output_type": "display_data"
    },
    {
     "data": {
      "text/plain": [
       "'b8'"
      ]
     },
     "metadata": {},
     "output_type": "display_data"
    },
    {
     "data": {
      "text/plain": [
       "[33273.91000000002, 50000, 483.3588042288782, 29484.887057961572, 61.0, 509.67]"
      ]
     },
     "metadata": {},
     "output_type": "display_data"
    },
    {
     "data": {
      "text/plain": [
       "'b8'"
      ]
     },
     "metadata": {},
     "output_type": "display_data"
    },
    {
     "data": {
      "text/plain": [
       "[31767.370000000017,\n",
       " 50000,\n",
       " 484.2410477806496,\n",
       " 30991.427057961573,\n",
       " 64.0,\n",
       " 502.18]"
      ]
     },
     "metadata": {},
     "output_type": "display_data"
    },
    {
     "data": {
      "text/plain": [
       "'b8'"
      ]
     },
     "metadata": {},
     "output_type": "display_data"
    },
    {
     "data": {
      "text/plain": [
       "[30281.59000000002, 50000, 484.734433700919, 32477.207057961572, 67.0, 495.26]"
      ]
     },
     "metadata": {},
     "output_type": "display_data"
    },
    {
     "data": {
      "text/plain": [
       "'b8'"
      ]
     },
     "metadata": {},
     "output_type": "display_data"
    },
    {
     "data": {
      "text/plain": [
       "'ASML'"
      ]
     },
     "metadata": {},
     "output_type": "display_data"
    },
    {
     "data": {
      "text/plain": [
       "['ASML', 'is under calculation, start money is 10000000\\\\ / 100000$']"
      ]
     },
     "metadata": {},
     "output_type": "display_data"
    },
    {
     "data": {
      "text/plain": [
       "[40215.2, 50000, 543.6, 9784.800000000001, 18.0, 543.6]"
      ]
     },
     "metadata": {},
     "output_type": "display_data"
    },
    {
     "data": {
      "text/plain": [
       "0"
      ]
     },
     "metadata": {},
     "output_type": "display_data"
    },
    {
     "data": {
      "text/plain": [
       "[33578.7, 50000, 529.7193548387098, 16421.300000000003, 31.0, 510.5]"
      ]
     },
     "metadata": {},
     "output_type": "display_data"
    },
    {
     "data": {
      "text/plain": [
       "'b7'"
      ]
     },
     "metadata": {},
     "output_type": "display_data"
    },
    {
     "data": {
      "text/plain": [
       "[28054.609999999997,\n",
       " 50000,\n",
       " 522.5092857142857,\n",
       " 21945.390000000003,\n",
       " 42.0,\n",
       " 502.19]"
      ]
     },
     "metadata": {},
     "output_type": "display_data"
    },
    {
     "data": {
      "text/plain": [
       "'b7'"
      ]
     },
     "metadata": {},
     "output_type": "display_data"
    },
    {
     "data": {
      "text/plain": [
       "[27007.949999999997,\n",
       " 50000,\n",
       " 522.5465909090909,\n",
       " 22992.050000000003,\n",
       " 44.0,\n",
       " 523.33]"
      ]
     },
     "metadata": {},
     "output_type": "display_data"
    },
    {
     "data": {
      "text/plain": [
       "'b8'"
      ]
     },
     "metadata": {},
     "output_type": "display_data"
    },
    {
     "data": {
      "text/plain": [
       "[25932.69, 50000, 523.2023913043479, 24067.31, 46.0, 537.63]"
      ]
     },
     "metadata": {},
     "output_type": "display_data"
    },
    {
     "data": {
      "text/plain": [
       "'b8'"
      ]
     },
     "metadata": {},
     "output_type": "display_data"
    },
    {
     "data": {
      "text/plain": [
       "[24854.309999999998,\n",
       " 50000,\n",
       " 523.8685416666667,\n",
       " 25145.690000000002,\n",
       " 48.0,\n",
       " 539.19]"
      ]
     },
     "metadata": {},
     "output_type": "display_data"
    },
    {
     "data": {
      "text/plain": [
       "'b8'"
      ]
     },
     "metadata": {},
     "output_type": "display_data"
    },
    {
     "data": {
      "text/plain": [
       "[38678.07, 50000, 523.8685416666667, 12572.845000000001, 24.0, 575.99]"
      ]
     },
     "metadata": {},
     "output_type": "display_data"
    },
    {
     "data": {
      "text/plain": [
       "'s3'"
      ]
     },
     "metadata": {},
     "output_type": "display_data"
    },
    {
     "data": {
      "text/plain": [
       "[37001.46, 50000, 527.7575925925927, 14249.455000000002, 27.0, 558.87]"
      ]
     },
     "metadata": {},
     "output_type": "display_data"
    },
    {
     "data": {
      "text/plain": [
       "'b8'"
      ]
     },
     "metadata": {},
     "output_type": "display_data"
    },
    {
     "data": {
      "text/plain": [
       "[44523.0, 50000, 527.7575925925927, 7388.606296296297, 14.0, 578.58]"
      ]
     },
     "metadata": {},
     "output_type": "display_data"
    },
    {
     "data": {
      "text/plain": [
       "'s3'"
      ]
     },
     "metadata": {},
     "output_type": "display_data"
    },
    {
     "data": {
      "text/plain": [
       "[48902.69, 50000, 527.7575925925927, 3694.303148148148, 7.0, 625.67]"
      ]
     },
     "metadata": {},
     "output_type": "display_data"
    },
    {
     "data": {
      "text/plain": [
       "'s3'"
      ]
     },
     "metadata": {},
     "output_type": "display_data"
    },
    {
     "data": {
      "text/plain": [
       "[46470.69, 50000, 556.9366498316499, 6126.3031481481485, 11.0, 608.0]"
      ]
     },
     "metadata": {},
     "output_type": "display_data"
    },
    {
     "data": {
      "text/plain": [
       "'b8'"
      ]
     },
     "metadata": {},
     "output_type": "display_data"
    },
    {
     "data": {
      "text/plain": [
       "[44666.82, 50000, 566.4409391534392, 7930.173148148148, 14.0, 601.29]"
      ]
     },
     "metadata": {},
     "output_type": "display_data"
    },
    {
     "data": {
      "text/plain": [
       "'b8'"
      ]
     },
     "metadata": {},
     "output_type": "display_data"
    },
    {
     "data": {
      "text/plain": [
       "[49126.52, 50000, 566.4409391534392, 3965.0865740740737, 7.0, 637.1]"
      ]
     },
     "metadata": {},
     "output_type": "display_data"
    },
    {
     "data": {
      "text/plain": [
       "'s3'"
      ]
     },
     "metadata": {},
     "output_type": "display_data"
    },
    {
     "data": {
      "text/plain": [
       "[47242.52, 50000, 584.9086574074074, 5849.086574074074, 10.0, 628.0]"
      ]
     },
     "metadata": {},
     "output_type": "display_data"
    },
    {
     "data": {
      "text/plain": [
       "'b8'"
      ]
     },
     "metadata": {},
     "output_type": "display_data"
    },
    {
     "data": {
      "text/plain": [
       "[45352.189999999995, 50000, 595.3397364672364, 7739.416574074074, 13.0, 630.11]"
      ]
     },
     "metadata": {},
     "output_type": "display_data"
    },
    {
     "data": {
      "text/plain": [
       "'b8'"
      ]
     },
     "metadata": {},
     "output_type": "display_data"
    },
    {
     "data": {
      "text/plain": [
       "[43501.369999999995, 50000, 599.3897858796296, 9590.236574074073, 16.0, 616.94]"
      ]
     },
     "metadata": {},
     "output_type": "display_data"
    },
    {
     "data": {
      "text/plain": [
       "'b8'"
      ]
     },
     "metadata": {},
     "output_type": "display_data"
    },
    {
     "data": {
      "text/plain": [
       "[48745.28999999999, 50000, 599.3897858796296, 4795.118287037037, 8.0, 655.49]"
      ]
     },
     "metadata": {},
     "output_type": "display_data"
    },
    {
     "data": {
      "text/plain": [
       "'s3'"
      ]
     },
     "metadata": {},
     "output_type": "display_data"
    },
    {
     "data": {
      "text/plain": [
       "[46804.02, 50000, 612.3989351851851, 6736.388287037036, 11.0, 647.09]"
      ]
     },
     "metadata": {},
     "output_type": "display_data"
    },
    {
     "data": {
      "text/plain": [
       "'b8'"
      ]
     },
     "metadata": {},
     "output_type": "display_data"
    },
    {
     "data": {
      "text/plain": [
       "[50158.57, 50000, 612.3989351851851, 3674.3936111111107, 6.0, 670.91]"
      ]
     },
     "metadata": {},
     "output_type": "display_data"
    },
    {
     "data": {
      "text/plain": [
       "'s3'"
      ]
     },
     "metadata": {},
     "output_type": "display_data"
    },
    {
     "data": {
      "text/plain": [
       "[48162.55, 50000, 630.0459567901235, 5670.413611111111, 9.0, 665.34]"
      ]
     },
     "metadata": {},
     "output_type": "display_data"
    },
    {
     "data": {
      "text/plain": [
       "'b8'"
      ]
     },
     "metadata": {},
     "output_type": "display_data"
    },
    {
     "data": {
      "text/plain": [
       "[46218.25, 50000, 634.5594675925926, 7614.713611111111, 12.0, 648.1]"
      ]
     },
     "metadata": {},
     "output_type": "display_data"
    },
    {
     "data": {
      "text/plain": [
       "'b8'"
      ]
     },
     "metadata": {},
     "output_type": "display_data"
    },
    {
     "data": {
      "text/plain": [
       "[44331.25, 50000, 633.447574074074, 9501.71361111111, 15.0, 629.0]"
      ]
     },
     "metadata": {},
     "output_type": "display_data"
    },
    {
     "data": {
      "text/plain": [
       "'b8'"
      ]
     },
     "metadata": {},
     "output_type": "display_data"
    },
    {
     "data": {
      "text/plain": [
       "[42449.47, 50000, 632.416311728395, 11383.493611111111, 18.0, 627.26]"
      ]
     },
     "metadata": {},
     "output_type": "display_data"
    },
    {
     "data": {
      "text/plain": [
       "'b8'"
      ]
     },
     "metadata": {},
     "output_type": "display_data"
    },
    {
     "data": {
      "text/plain": [
       "[40643.83, 50000, 628.0539814814814, 13189.13361111111, 21.0, 601.88]"
      ]
     },
     "metadata": {},
     "output_type": "display_data"
    },
    {
     "data": {
      "text/plain": [
       "'b8'"
      ]
     },
     "metadata": {},
     "output_type": "display_data"
    },
    {
     "data": {
      "text/plain": [
       "[38737.78, 50000, 628.9659837962963, 15095.183611111112, 24.0, 635.35]"
      ]
     },
     "metadata": {},
     "output_type": "display_data"
    },
    {
     "data": {
      "text/plain": [
       "'b8'"
      ]
     },
     "metadata": {},
     "output_type": "display_data"
    },
    {
     "data": {
      "text/plain": [
       "[36820.119999999995, 50000, 630.1053189300411, 17012.84361111111, 27.0, 639.22]"
      ]
     },
     "metadata": {},
     "output_type": "display_data"
    },
    {
     "data": {
      "text/plain": [
       "'b8'"
      ]
     },
     "metadata": {},
     "output_type": "display_data"
    },
    {
     "data": {
      "text/plain": [
       "[35488.34, 50000, 632.5732279693486, 18344.62361111111, 29.0, 665.89]"
      ]
     },
     "metadata": {},
     "output_type": "display_data"
    },
    {
     "data": {
      "text/plain": [
       "'b8'"
      ]
     },
     "metadata": {},
     "output_type": "display_data"
    },
    {
     "data": {
      "text/plain": [
       "[34084.78, 50000, 637.0381810035842, 19748.18361111111, 31.0, 701.78]"
      ]
     },
     "metadata": {},
     "output_type": "display_data"
    },
    {
     "data": {
      "text/plain": [
       "'b8'"
      ]
     },
     "metadata": {},
     "output_type": "display_data"
    },
    {
     "data": {
      "text/plain": [
       "[32742.64, 50000, 639.1007154882154, 21090.32361111111, 33.0, 671.07]"
      ]
     },
     "metadata": {},
     "output_type": "display_data"
    },
    {
     "data": {
      "text/plain": [
       "'b8'"
      ]
     },
     "metadata": {},
     "output_type": "display_data"
    },
    {
     "data": {
      "text/plain": [
       "[31370.22, 50000, 641.7926746031745, 22462.74361111111, 35.0, 686.21]"
      ]
     },
     "metadata": {},
     "output_type": "display_data"
    },
    {
     "data": {
      "text/plain": [
       "'b8'"
      ]
     },
     "metadata": {},
     "output_type": "display_data"
    },
    {
     "data": {
      "text/plain": [
       "[29988.54, 50000, 644.4438813813813, 23844.42361111111, 37.0, 690.84]"
      ]
     },
     "metadata": {},
     "output_type": "display_data"
    },
    {
     "data": {
      "text/plain": [
       "'b8'"
      ]
     },
     "metadata": {},
     "output_type": "display_data"
    },
    {
     "data": {
      "text/plain": [
       "[28629.920000000002, 50000, 646.2318874643873, 25203.04361111111, 39.0, 679.31]"
      ]
     },
     "metadata": {},
     "output_type": "display_data"
    },
    {
     "data": {
      "text/plain": [
       "'b8'"
      ]
     },
     "metadata": {},
     "output_type": "display_data"
    },
    {
     "data": {
      "text/plain": [
       "[27282.56, 50000, 647.5708197831977, 26550.40361111111, 41.0, 673.68]"
      ]
     },
     "metadata": {},
     "output_type": "display_data"
    },
    {
     "data": {
      "text/plain": [
       "'b8'"
      ]
     },
     "metadata": {},
     "output_type": "display_data"
    },
    {
     "data": {
      "text/plain": [
       "[26578.620000000003, 50000, 648.912943121693, 27254.343611111108, 42.0, 703.94]"
      ]
     },
     "metadata": {},
     "output_type": "display_data"
    },
    {
     "data": {
      "text/plain": [
       "'b8'"
      ]
     },
     "metadata": {},
     "output_type": "display_data"
    },
    {
     "data": {
      "text/plain": [
       "[25891.200000000004,\n",
       " 50000,\n",
       " 649.8084560723513,\n",
       " 27941.763611111106,\n",
       " 43.0,\n",
       " 687.42]"
      ]
     },
     "metadata": {},
     "output_type": "display_data"
    },
    {
     "data": {
      "text/plain": [
       "'b8'"
      ]
     },
     "metadata": {},
     "output_type": "display_data"
    },
    {
     "data": {
      "text/plain": [
       "[41032.200000000004, 50000, 649.8084560723513, 14295.786033591728, 22.0, 721.0]"
      ]
     },
     "metadata": {},
     "output_type": "display_data"
    },
    {
     "data": {
      "text/plain": [
       "'s3'"
      ]
     },
     "metadata": {},
     "output_type": "display_data"
    },
    {
     "data": {
      "text/plain": [
       "[39541.00000000001, 50000, 657.7910847329887, 15786.98603359173, 24.0, 745.6]"
      ]
     },
     "metadata": {},
     "output_type": "display_data"
    },
    {
     "data": {
      "text/plain": [
       "'b8'"
      ]
     },
     "metadata": {},
     "output_type": "display_data"
    },
    {
     "data": {
      "text/plain": [
       "[37974.44000000001, 50000, 667.4440782150666, 17353.54603359173, 26.0, 783.28]"
      ]
     },
     "metadata": {},
     "output_type": "display_data"
    },
    {
     "data": {
      "text/plain": [
       "'b8'"
      ]
     },
     "metadata": {},
     "output_type": "display_data"
    },
    {
     "data": {
      "text/plain": [
       "[36412.30000000001, 50000, 675.5602154854189, 18915.68603359173, 28.0, 781.07]"
      ]
     },
     "metadata": {},
     "output_type": "display_data"
    },
    {
     "data": {
      "text/plain": [
       "'b8'"
      ]
     },
     "metadata": {},
     "output_type": "display_data"
    },
    {
     "data": {
      "text/plain": [
       "[34859.18000000001, 50000, 682.2935344530576, 20468.80603359173, 30.0, 776.56]"
      ]
     },
     "metadata": {},
     "output_type": "display_data"
    },
    {
     "data": {
      "text/plain": [
       "'b8'"
      ]
     },
     "metadata": {},
     "output_type": "display_data"
    },
    {
     "data": {
      "text/plain": [
       "[33139.48000000001, 50000, 693.3908135497416, 22188.50603359173, 32.0, 859.85]"
      ]
     },
     "metadata": {},
     "output_type": "display_data"
    },
    {
     "data": {
      "text/plain": [
       "'b8'"
      ]
     },
     "metadata": {},
     "output_type": "display_data"
    },
    {
     "data": {
      "text/plain": [
       "[32298.74000000001, 50000, 697.8559404118706, 23029.24603359173, 33.0, 840.74]"
      ]
     },
     "metadata": {},
     "output_type": "display_data"
    },
    {
     "data": {
      "text/plain": [
       "'b8'"
      ]
     },
     "metadata": {},
     "output_type": "display_data"
    },
    {
     "data": {
      "text/plain": [
       "[31429.92000000001, 50000, 702.8842951056391, 23898.06603359173, 34.0, 868.82]"
      ]
     },
     "metadata": {},
     "output_type": "display_data"
    },
    {
     "data": {
      "text/plain": [
       "'b8'"
      ]
     },
     "metadata": {},
     "output_type": "display_data"
    },
    {
     "data": {
      "text/plain": [
       "[30594.610000000008,\n",
       " 50000,\n",
       " 706.6678866740494,\n",
       " 24733.376033591732,\n",
       " 35.0,\n",
       " 835.31]"
      ]
     },
     "metadata": {},
     "output_type": "display_data"
    },
    {
     "data": {
      "text/plain": [
       "'b8'"
      ]
     },
     "metadata": {},
     "output_type": "display_data"
    },
    {
     "data": {
      "text/plain": [
       "[29814.44000000001, 50000, 708.7096120442147, 25513.54603359173, 36.0, 780.17]"
      ]
     },
     "metadata": {},
     "output_type": "display_data"
    },
    {
     "data": {
      "text/plain": [
       "'b8'"
      ]
     },
     "metadata": {},
     "output_type": "display_data"
    },
    {
     "data": {
      "text/plain": [
       "[29064.02000000001, 50000, 709.8369198268035, 26263.96603359173, 37.0, 750.42]"
      ]
     },
     "metadata": {},
     "output_type": "display_data"
    },
    {
     "data": {
      "text/plain": [
       "'b8'"
      ]
     },
     "metadata": {},
     "output_type": "display_data"
    },
    {
     "data": {
      "text/plain": [
       "[27638.14000000001, 50000, 709.9960521433777, 27689.84603359173, 39.0, 712.94]"
      ]
     },
     "metadata": {},
     "output_type": "display_data"
    },
    {
     "data": {
      "text/plain": [
       "'b8'"
      ]
     },
     "metadata": {},
     "output_type": "display_data"
    },
    {
     "data": {
      "text/plain": [
       "[26907.87000000001, 50000, 710.5029008397933, 28420.11603359173, 40.0, 730.27]"
      ]
     },
     "metadata": {},
     "output_type": "display_data"
    },
    {
     "data": {
      "text/plain": [
       "'b8'"
      ]
     },
     "metadata": {},
     "output_type": "display_data"
    },
    {
     "data": {
      "text/plain": [
       "[26185.98000000001, 50000, 710.780634965652, 29142.00603359173, 41.0, 721.89]"
      ]
     },
     "metadata": {},
     "output_type": "display_data"
    },
    {
     "data": {
      "text/plain": [
       "'b8'"
      ]
     },
     "metadata": {},
     "output_type": "display_data"
    },
    {
     "data": {
      "text/plain": [
       "[41751.78000000001, 50000, 710.780634965652, 14926.39333427869, 21.0, 778.29]"
      ]
     },
     "metadata": {},
     "output_type": "display_data"
    },
    {
     "data": {
      "text/plain": [
       "'s3'"
      ]
     },
     "metadata": {},
     "output_type": "display_data"
    },
    {
     "data": {
      "text/plain": [
       "[40216.38000000001, 50000, 715.7301449686387, 16461.79333427869, 23.0, 767.7]"
      ]
     },
     "metadata": {},
     "output_type": "display_data"
    },
    {
     "data": {
      "text/plain": [
       "'b8'"
      ]
     },
     "metadata": {},
     "output_type": "display_data"
    },
    {
     "data": {
      "text/plain": [
       "[38639.500000000015, 50000, 721.5469333711476, 18038.67333427869, 25.0, 788.44]"
      ]
     },
     "metadata": {},
     "output_type": "display_data"
    },
    {
     "data": {
      "text/plain": [
       "'b8'"
      ]
     },
     "metadata": {},
     "output_type": "display_data"
    },
    {
     "data": {
      "text/plain": [
       "[37003.80000000002, 50000, 728.6804938621738, 19674.37333427869, 27.0, 817.85]"
      ]
     },
     "metadata": {},
     "output_type": "display_data"
    },
    {
     "data": {
      "text/plain": [
       "'b8'"
      ]
     },
     "metadata": {},
     "output_type": "display_data"
    },
    {
     "data": {
      "text/plain": [
       "[35289.46000000002, 50000, 737.5418391130584, 21388.71333427869, 29.0, 857.17]"
      ]
     },
     "metadata": {},
     "output_type": "display_data"
    },
    {
     "data": {
      "text/plain": [
       "'b8'"
      ]
     },
     "metadata": {},
     "output_type": "display_data"
    },
    {
     "data": {
      "text/plain": [
       "[33637.96000000002, 50000, 743.2326882025384, 23040.21333427869, 31.0, 825.75]"
      ]
     },
     "metadata": {},
     "output_type": "display_data"
    },
    {
     "data": {
      "text/plain": [
       "'b8'"
      ]
     },
     "metadata": {},
     "output_type": "display_data"
    },
    {
     "data": {
      "text/plain": [
       "[32023.000000000022, 50000, 747.1264646751118, 24655.17333427869, 33.0, 807.48]"
      ]
     },
     "metadata": {},
     "output_type": "display_data"
    },
    {
     "data": {
      "text/plain": [
       "'b8'"
      ]
     },
     "metadata": {},
     "output_type": "display_data"
    },
    {
     "data": {
      "text/plain": [
       "[30458.96000000002, 50000, 749.1203809793911, 26219.21333427869, 35.0, 782.02]"
      ]
     },
     "metadata": {},
     "output_type": "display_data"
    },
    {
     "data": {
      "text/plain": [
       "'b8'"
      ]
     },
     "metadata": {},
     "output_type": "display_data"
    },
    {
     "data": {
      "text/plain": [
       "[44314.13000000002, 50000, 749.1203809793911, 13484.166857629041, 18.0, 815.01]"
      ]
     },
     "metadata": {},
     "output_type": "display_data"
    },
    {
     "data": {
      "text/plain": [
       "'s3'"
      ]
     },
     "metadata": {},
     "output_type": "display_data"
    },
    {
     "data": {
      "text/plain": [
       "[42731.11000000002, 50000, 753.3593428814521, 15067.186857629042, 20.0, 791.51]"
      ]
     },
     "metadata": {},
     "output_type": "display_data"
    },
    {
     "data": {
      "text/plain": [
       "'b8'"
      ]
     },
     "metadata": {},
     "output_type": "display_data"
    },
    {
     "data": {
      "text/plain": [
       "[41152.35000000002, 50000, 756.6339480740473, 16645.946857629042, 22.0, 789.38]"
      ]
     },
     "metadata": {},
     "output_type": "display_data"
    },
    {
     "data": {
      "text/plain": [
       "'b8'"
      ]
     },
     "metadata": {},
     "output_type": "display_data"
    },
    {
     "data": {
      "text/plain": [
       "[39609.31000000002, 50000, 757.8744524012101, 18188.986857629043, 24.0, 771.52]"
      ]
     },
     "metadata": {},
     "output_type": "display_data"
    },
    {
     "data": {
      "text/plain": [
       "'b8'"
      ]
     },
     "metadata": {},
     "output_type": "display_data"
    },
    {
     "data": {
      "text/plain": [
       "[38096.53000000002, 50000, 757.7602637549631, 19701.76685762904, 26.0, 756.39]"
      ]
     },
     "metadata": {},
     "output_type": "display_data"
    },
    {
     "data": {
      "text/plain": [
       "'b8'"
      ]
     },
     "metadata": {},
     "output_type": "display_data"
    },
    {
     "data": {
      "text/plain": [
       "[48574.66000000002, 50000, 757.7602637549631, 9850.88342881452, 13.0, 806.01]"
      ]
     },
     "metadata": {},
     "output_type": "display_data"
    },
    {
     "data": {
      "text/plain": [
       "'s3'"
      ]
     },
     "metadata": {},
     "output_type": "display_data"
    },
    {
     "data": {
      "text/plain": [
       "[46256.830000000016, 50000, 760.5445893009075, 12168.71342881452, 16.0, 772.61]"
      ]
     },
     "metadata": {},
     "output_type": "display_data"
    },
    {
     "data": {
      "text/plain": [
       "'b8'"
      ]
     },
     "metadata": {},
     "output_type": "display_data"
    },
    {
     "data": {
      "text/plain": [
       "[43963.42000000001, 50000, 761.164390990238, 14462.12342881452, 19.0, 764.47]"
      ]
     },
     "metadata": {},
     "output_type": "display_data"
    },
    {
     "data": {
      "text/plain": [
       "'b8'"
      ]
     },
     "metadata": {},
     "output_type": "display_data"
    },
    {
     "data": {
      "text/plain": [
       "[42454.640000000014,\n",
       " 50000,\n",
       " 760.5192108959296,\n",
       " 15970.903428814521,\n",
       " 21.0,\n",
       " 754.39]"
      ]
     },
     "metadata": {},
     "output_type": "display_data"
    },
    {
     "data": {
      "text/plain": [
       "'b8'"
      ]
     },
     "metadata": {},
     "output_type": "display_data"
    },
    {
     "data": {
      "text/plain": [
       "[40944.640000000014, 50000, 760.0392795136747, 17480.90342881452, 23.0, 755.0]"
      ]
     },
     "metadata": {},
     "output_type": "display_data"
    },
    {
     "data": {
      "text/plain": [
       "'b8'"
      ]
     },
     "metadata": {},
     "output_type": "display_data"
    },
    {
     "data": {
      "text/plain": [
       "[39386.26000000002, 50000, 761.5713371525808, 19039.28342881452, 25.0, 779.19]"
      ]
     },
     "metadata": {},
     "output_type": "display_data"
    },
    {
     "data": {
      "text/plain": [
       "'b8'"
      ]
     },
     "metadata": {},
     "output_type": "display_data"
    },
    {
     "data": {
      "text/plain": [
       "[37894.92000000002, 50000, 760.3934603264637, 20530.62342881452, 27.0, 745.67]"
      ]
     },
     "metadata": {},
     "output_type": "display_data"
    },
    {
     "data": {
      "text/plain": [
       "'b8'"
      ]
     },
     "metadata": {},
     "output_type": "display_data"
    },
    {
     "data": {
      "text/plain": [
       "[36440.58000000002, 50000, 758.1021872005007, 21984.96342881452, 29.0, 727.17]"
      ]
     },
     "metadata": {},
     "output_type": "display_data"
    },
    {
     "data": {
      "text/plain": [
       "'b8'"
      ]
     },
     "metadata": {},
     "output_type": "display_data"
    },
    {
     "data": {
      "text/plain": [
       "[34980.42000000002, 50000, 756.2943041553071, 23445.12342881452, 31.0, 730.08]"
      ]
     },
     "metadata": {},
     "output_type": "display_data"
    },
    {
     "data": {
      "text/plain": [
       "'b8'"
      ]
     },
     "metadata": {},
     "output_type": "display_data"
    },
    {
     "data": {
      "text/plain": [
       "[29258.58000000002, 50000, 747.8708571490903, 29166.96342881452, 39.0, 715.23]"
      ]
     },
     "metadata": {},
     "output_type": "display_data"
    },
    {
     "data": {
      "text/plain": [
       "'b7'"
      ]
     },
     "metadata": {},
     "output_type": "display_data"
    },
    {
     "data": {
      "text/plain": [
       "[25065.660000000018, 50000, 741.330742862545, 33359.88342881452, 45.0, 698.82]"
      ]
     },
     "metadata": {},
     "output_type": "display_data"
    },
    {
     "data": {
      "text/plain": [
       "'b7'"
      ]
     },
     "metadata": {},
     "output_type": "display_data"
    },
    {
     "data": {
      "text/plain": [
       "[20897.280000000017, 50000, 735.8483025257749, 37528.26342881452, 51.0, 694.73]"
      ]
     },
     "metadata": {},
     "output_type": "display_data"
    },
    {
     "data": {
      "text/plain": [
       "'b7'"
      ]
     },
     "metadata": {},
     "output_type": "display_data"
    },
    {
     "data": {
      "text/plain": [
       "[17460.18000000002, 50000, 731.5243469431164, 40965.36342881452, 56.0, 687.42]"
      ]
     },
     "metadata": {},
     "output_type": "display_data"
    },
    {
     "data": {
      "text/plain": [
       "'b7'"
      ]
     },
     "metadata": {},
     "output_type": "display_data"
    },
    {
     "data": {
      "text/plain": [
       "[13568.760000000018, 50000, 723.4965069163632, 44856.78342881452, 62.0, 648.57]"
      ]
     },
     "metadata": {},
     "output_type": "display_data"
    },
    {
     "data": {
      "text/plain": [
       "'b6'"
      ]
     },
     "metadata": {},
     "output_type": "display_data"
    },
    {
     "data": {
      "text/plain": [
       "[10395.46000000002, 50000, 716.8669168479779, 48030.08342881452, 67.0, 634.66]"
      ]
     },
     "metadata": {},
     "output_type": "display_data"
    },
    {
     "data": {
      "text/plain": [
       "'b6'"
      ]
     },
     "metadata": {},
     "output_type": "display_data"
    },
    {
     "data": {
      "text/plain": [
       "[9103.600000000019, 50000, 714.8107743306452, 49321.94342881452, 69.0, 645.93]"
      ]
     },
     "metadata": {},
     "output_type": "display_data"
    },
    {
     "data": {
      "text/plain": [
       "'b7'"
      ]
     },
     "metadata": {},
     "output_type": "display_data"
    },
    {
     "data": {
      "text/plain": [
       "[7803.540000000019, 50000, 712.98596378612, 50622.00342881452, 71.0, 650.03]"
      ]
     },
     "metadata": {},
     "output_type": "display_data"
    },
    {
     "data": {
      "text/plain": [
       "'b7'"
      ]
     },
     "metadata": {},
     "output_type": "display_data"
    },
    {
     "data": {
      "text/plain": [
       "[7146.660000000019, 50000, 712.2067142890905, 51278.883428814515, 72.0, 656.88]"
      ]
     },
     "metadata": {},
     "output_type": "display_data"
    },
    {
     "data": {
      "text/plain": [
       "'b7'"
      ]
     },
     "metadata": {},
     "output_type": "display_data"
    },
    {
     "data": {
      "text/plain": [
       "[5890.1800000000185, 50000, 709.9373436326287, 52535.36342881452, 74.0, 628.24]"
      ]
     },
     "metadata": {},
     "output_type": "display_data"
    },
    {
     "data": {
      "text/plain": [
       "'b6'"
      ]
     },
     "metadata": {},
     "output_type": "display_data"
    },
    {
     "data": {
      "text/plain": [
       "[4634.360000000019, 50000, 707.7787293265068, 53791.18342881452, 76.0, 627.91]"
      ]
     },
     "metadata": {},
     "output_type": "display_data"
    },
    {
     "data": {
      "text/plain": [
       "'b6'"
      ]
     },
     "metadata": {},
     "output_type": "display_data"
    },
    {
     "data": {
      "text/plain": [
       "[3983.930000000019, 50000, 707.0339406339548, 54441.61342881452, 77.0, 650.43]"
      ]
     },
     "metadata": {},
     "output_type": "display_data"
    },
    {
     "data": {
      "text/plain": [
       "'b7'"
      ]
     },
     "metadata": {},
     "output_type": "display_data"
    },
    {
     "data": {
      "text/plain": [
       "[3336.100000000019, 50000, 706.2749157540323, 55089.44342881452, 78.0, 647.83]"
      ]
     },
     "metadata": {},
     "output_type": "display_data"
    },
    {
     "data": {
      "text/plain": [
       "'b7'"
      ]
     },
     "metadata": {},
     "output_type": "display_data"
    },
    {
     "data": {
      "text/plain": [
       "[3336.100000000019, 50000, 706.2749157540323, 55089.44342881452, 78.0, 640.27]"
      ]
     },
     "metadata": {},
     "output_type": "display_data"
    },
    {
     "data": {
      "text/plain": [
       "'b7'"
      ]
     },
     "metadata": {},
     "output_type": "display_data"
    },
    {
     "data": {
      "text/plain": [
       "[2704.370000000019, 50000, 705.3313092255003, 55721.17342881452, 79.0, 631.73]"
      ]
     },
     "metadata": {},
     "output_type": "display_data"
    },
    {
     "data": {
      "text/plain": [
       "'b6'"
      ]
     },
     "metadata": {},
     "output_type": "display_data"
    },
    {
     "data": {
      "text/plain": [
       "[2704.370000000019, 50000, 705.3313092255003, 55721.17342881452, 79.0, 666.51]"
      ]
     },
     "metadata": {},
     "output_type": "display_data"
    },
    {
     "data": {
      "text/plain": [
       "'b7'"
      ]
     },
     "metadata": {},
     "output_type": "display_data"
    },
    {
     "data": {
      "text/plain": [
       "[2070.160000000019, 50000, 704.4422928601815, 56355.38342881452, 80.0, 634.21]"
      ]
     },
     "metadata": {},
     "output_type": "display_data"
    },
    {
     "data": {
      "text/plain": [
       "'b6'"
      ]
     },
     "metadata": {},
     "output_type": "display_data"
    },
    {
     "data": {
      "text/plain": [
       "[2070.160000000019, 50000, 704.4422928601815, 56355.38342881452, 80.0, 630.79]"
      ]
     },
     "metadata": {},
     "output_type": "display_data"
    },
    {
     "data": {
      "text/plain": [
       "'b6'"
      ]
     },
     "metadata": {},
     "output_type": "display_data"
    },
    {
     "data": {
      "text/plain": [
       "'CSCO'"
      ]
     },
     "metadata": {},
     "output_type": "display_data"
    },
    {
     "data": {
      "text/plain": [
       "['CSCO', 'is under calculation, start money is 10000000\\\\ / 100000$']"
      ]
     },
     "metadata": {},
     "output_type": "display_data"
    },
    {
     "data": {
      "text/plain": [
       "[40026.27, 50000, 45.13000000000001, 9973.730000000001, 221.0, 45.13]"
      ]
     },
     "metadata": {},
     "output_type": "display_data"
    },
    {
     "data": {
      "text/plain": [
       "0"
      ]
     },
     "metadata": {},
     "output_type": "display_data"
    },
    {
     "data": {
      "text/plain": [
       "[38065.63, 50000, 45.03535849056604, 11934.37, 265.0, 44.56]"
      ]
     },
     "metadata": {},
     "output_type": "display_data"
    },
    {
     "data": {
      "text/plain": [
       "'b8'"
      ]
     },
     "metadata": {},
     "output_type": "display_data"
    },
    {
     "data": {
      "text/plain": [
       "[36162.43, 50000, 45.51832236842105, 13837.57, 304.0, 48.8]"
      ]
     },
     "metadata": {},
     "output_type": "display_data"
    },
    {
     "data": {
      "text/plain": [
       "'b8'"
      ]
     },
     "metadata": {},
     "output_type": "display_data"
    },
    {
     "data": {
      "text/plain": [
       "[44153.07, 50000, 45.51832236842105, 6918.785, 152.0, 52.57]"
      ]
     },
     "metadata": {},
     "output_type": "display_data"
    },
    {
     "data": {
      "text/plain": [
       "'s3'"
      ]
     },
     "metadata": {},
     "output_type": "display_data"
    },
    {
     "data": {
      "text/plain": [
       "[41978.729999999996, 50000, 46.87177835051546, 9093.125, 194.0, 51.77]"
      ]
     },
     "metadata": {},
     "output_type": "display_data"
    },
    {
     "data": {
      "text/plain": [
       "'b8'"
      ]
     },
     "metadata": {},
     "output_type": "display_data"
    },
    {
     "data": {
      "text/plain": [
       "[39907.13, 50000, 47.7125, 11164.725, 234.0, 51.79]"
      ]
     },
     "metadata": {},
     "output_type": "display_data"
    },
    {
     "data": {
      "text/plain": [
       "'b8'"
      ]
     },
     "metadata": {},
     "output_type": "display_data"
    },
    {
     "data": {
      "text/plain": [
       "[37921.64, 50000, 48.169285714285714, 13150.215, 273.0, 50.91]"
      ]
     },
     "metadata": {},
     "output_type": "display_data"
    },
    {
     "data": {
      "text/plain": [
       "'b8'"
      ]
     },
     "metadata": {},
     "output_type": "display_data"
    },
    {
     "data": {
      "text/plain": [
       "[36064.04, 50000, 48.568980582524276, 15007.815, 309.0, 51.6]"
      ]
     },
     "metadata": {},
     "output_type": "display_data"
    },
    {
     "data": {
      "text/plain": [
       "'b8'"
      ]
     },
     "metadata": {},
     "output_type": "display_data"
    },
    {
     "data": {
      "text/plain": [
       "[34276.43, 50000, 49.1094298245614, 16795.425, 342.0, 54.17]"
      ]
     },
     "metadata": {},
     "output_type": "display_data"
    },
    {
     "data": {
      "text/plain": [
       "'b8'"
      ]
     },
     "metadata": {},
     "output_type": "display_data"
    },
    {
     "data": {
      "text/plain": [
       "[32610.19, 50000, 49.362740641711234, 18461.665, 374.0, 52.07]"
      ]
     },
     "metadata": {},
     "output_type": "display_data"
    },
    {
     "data": {
      "text/plain": [
       "'b8'"
      ]
     },
     "metadata": {},
     "output_type": "display_data"
    },
    {
     "data": {
      "text/plain": [
       "[31020.789999999997,\n",
       " 50000,\n",
       " 49.631349009900994,\n",
       " 20051.065000000002,\n",
       " 404.0,\n",
       " 52.98]"
      ]
     },
     "metadata": {},
     "output_type": "display_data"
    },
    {
     "data": {
      "text/plain": [
       "'b8'"
      ]
     },
     "metadata": {},
     "output_type": "display_data"
    },
    {
     "data": {
      "text/plain": [
       "[29482.049999999996,\n",
       " 50000,\n",
       " 49.86098152424943,\n",
       " 21589.805000000004,\n",
       " 433.0,\n",
       " 53.06]"
      ]
     },
     "metadata": {},
     "output_type": "display_data"
    },
    {
     "data": {
      "text/plain": [
       "'b8'"
      ]
     },
     "metadata": {},
     "output_type": "display_data"
    },
    {
     "data": {
      "text/plain": [
       "[28048.149999999994,\n",
       " 50000,\n",
       " 50.160577342047944,\n",
       " 23023.705000000005,\n",
       " 459.0,\n",
       " 55.15]"
      ]
     },
     "metadata": {},
     "output_type": "display_data"
    },
    {
     "data": {
      "text/plain": [
       "'b8'"
      ]
     },
     "metadata": {},
     "output_type": "display_data"
    },
    {
     "data": {
      "text/plain": [
       "[41162.979999999996,\n",
       " 50000,\n",
       " 50.160577342047944,\n",
       " 11536.932788671027,\n",
       " 230.0,\n",
       " 57.27]"
      ]
     },
     "metadata": {},
     "output_type": "display_data"
    },
    {
     "data": {
      "text/plain": [
       "'s3'"
      ]
     },
     "metadata": {},
     "output_type": "display_data"
    },
    {
     "data": {
      "text/plain": [
       "[39136.829999999994,\n",
       " 50000,\n",
       " 51.18144448555105,\n",
       " 13563.082788671027,\n",
       " 265.0,\n",
       " 57.89]"
      ]
     },
     "metadata": {},
     "output_type": "display_data"
    },
    {
     "data": {
      "text/plain": [
       "'b8'"
      ]
     },
     "metadata": {},
     "output_type": "display_data"
    },
    {
     "data": {
      "text/plain": [
       "[37180.67999999999,\n",
       " 50000,\n",
       " 51.730775962236756,\n",
       " 15519.232788671026,\n",
       " 300.0,\n",
       " 55.89]"
      ]
     },
     "metadata": {},
     "output_type": "display_data"
    },
    {
     "data": {
      "text/plain": [
       "'b8'"
      ]
     },
     "metadata": {},
     "output_type": "display_data"
    },
    {
     "data": {
      "text/plain": [
       "[35357.09999999999,\n",
       " 50000,\n",
       " 52.080518884897984,\n",
       " 17342.812788671028,\n",
       " 333.0,\n",
       " 55.26]"
      ]
     },
     "metadata": {},
     "output_type": "display_data"
    },
    {
     "data": {
      "text/plain": [
       "'b8'"
      ]
     },
     "metadata": {},
     "output_type": "display_data"
    },
    {
     "data": {
      "text/plain": [
       "[33635.97999999999,\n",
       " 50000,\n",
       " 52.373441727118205,\n",
       " 19063.932788671027,\n",
       " 364.0,\n",
       " 55.52]"
      ]
     },
     "metadata": {},
     "output_type": "display_data"
    },
    {
     "data": {
      "text/plain": [
       "'b8'"
      ]
     },
     "metadata": {},
     "output_type": "display_data"
    },
    {
     "data": {
      "text/plain": [
       "[32003.079999999987, 50000, 52.53003245855591, 20696.83278867103, 394.0, 54.43]"
      ]
     },
     "metadata": {},
     "output_type": "display_data"
    },
    {
     "data": {
      "text/plain": [
       "'b8'"
      ]
     },
     "metadata": {},
     "output_type": "display_data"
    },
    {
     "data": {
      "text/plain": [
       "[30430.40999999999,\n",
       " 50000,\n",
       " 52.646578696621816,\n",
       " 22269.502788671027,\n",
       " 423.0,\n",
       " 54.23]"
      ]
     },
     "metadata": {},
     "output_type": "display_data"
    },
    {
     "data": {
      "text/plain": [
       "'b8'"
      ]
     },
     "metadata": {},
     "output_type": "display_data"
    },
    {
     "data": {
      "text/plain": [
       "[28920.08999999999,\n",
       " 50000,\n",
       " 52.726879797496736,\n",
       " 23779.822788671027,\n",
       " 451.0,\n",
       " 53.94]"
      ]
     },
     "metadata": {},
     "output_type": "display_data"
    },
    {
     "data": {
      "text/plain": [
       "'b8'"
      ]
     },
     "metadata": {},
     "output_type": "display_data"
    },
    {
     "data": {
      "text/plain": [
       "[27508.80999999999, 50000, 52.81153624459334, 25191.102788671025, 477.0, 54.28]"
      ]
     },
     "metadata": {},
     "output_type": "display_data"
    },
    {
     "data": {
      "text/plain": [
       "'b8'"
      ]
     },
     "metadata": {},
     "output_type": "display_data"
    },
    {
     "data": {
      "text/plain": [
       "[26186.16999999999, 50000, 52.92164229275654, 26513.742788671025, 501.0, 55.11]"
      ]
     },
     "metadata": {},
     "output_type": "display_data"
    },
    {
     "data": {
      "text/plain": [
       "'b8'"
      ]
     },
     "metadata": {},
     "output_type": "display_data"
    },
    {
     "data": {
      "text/plain": [
       "[24880.68999999999,\n",
       " 50000,\n",
       " 53.090119825708065,\n",
       " 27819.222788671024,\n",
       " 524.0,\n",
       " 56.76]"
      ]
     },
     "metadata": {},
     "output_type": "display_data"
    },
    {
     "data": {
      "text/plain": [
       "'b8'"
      ]
     },
     "metadata": {},
     "output_type": "display_data"
    },
    {
     "data": {
      "text/plain": [
       "[23647.19999999999, 50000, 53.11282045460882, 29052.712788671026, 547.0, 53.63]"
      ]
     },
     "metadata": {},
     "output_type": "display_data"
    },
    {
     "data": {
      "text/plain": [
       "'b8'"
      ]
     },
     "metadata": {},
     "output_type": "display_data"
    },
    {
     "data": {
      "text/plain": [
       "[22499.12999999999, 50000, 53.17039223357575, 30200.782788671026, 568.0, 54.67]"
      ]
     },
     "metadata": {},
     "output_type": "display_data"
    },
    {
     "data": {
      "text/plain": [
       "'b8'"
      ]
     },
     "metadata": {},
     "output_type": "display_data"
    },
    {
     "data": {
      "text/plain": [
       "[21402.32999999999,\n",
       " 50000,\n",
       " 53.227181613386094,\n",
       " 31297.582788671025,\n",
       " 588.0,\n",
       " 54.84]"
      ]
     },
     "metadata": {},
     "output_type": "display_data"
    },
    {
     "data": {
      "text/plain": [
       "'b8'"
      ]
     },
     "metadata": {},
     "output_type": "display_data"
    },
    {
     "data": {
      "text/plain": [
       "[20375.96999999999, 50000, 53.33983958526572, 32323.942788671025, 606.0, 57.02]"
      ]
     },
     "metadata": {},
     "output_type": "display_data"
    },
    {
     "data": {
      "text/plain": [
       "'b8'"
      ]
     },
     "metadata": {},
     "output_type": "display_data"
    },
    {
     "data": {
      "text/plain": [
       "[19379.59999999999, 50000, 53.48364813590855, 33320.31278867103, 623.0, 58.61]"
      ]
     },
     "metadata": {},
     "output_type": "display_data"
    },
    {
     "data": {
      "text/plain": [
       "'b8'"
      ]
     },
     "metadata": {},
     "output_type": "display_data"
    },
    {
     "data": {
      "text/plain": [
       "[18455.27999999999, 50000, 53.5909746301581, 34244.63278867103, 639.0, 57.77]"
      ]
     },
     "metadata": {},
     "output_type": "display_data"
    },
    {
     "data": {
      "text/plain": [
       "'b8'"
      ]
     },
     "metadata": {},
     "output_type": "display_data"
    },
    {
     "data": {
      "text/plain": [
       "[37572.94999999999, 50000, 53.5909746301581, 17149.111881650595, 320.0, 59.93]"
      ]
     },
     "metadata": {},
     "output_type": "display_data"
    },
    {
     "data": {
      "text/plain": [
       "'s3'"
      ]
     },
     "metadata": {},
     "output_type": "display_data"
    },
    {
     "data": {
      "text/plain": [
       "[35735.44999999999, 50000, 54.2474625190017, 18986.611881650595, 350.0, 61.25]"
      ]
     },
     "metadata": {},
     "output_type": "display_data"
    },
    {
     "data": {
      "text/plain": [
       "'b8'"
      ]
     },
     "metadata": {},
     "output_type": "display_data"
    },
    {
     "data": {
      "text/plain": [
       "[33987.32999999999,\n",
       " 50000,\n",
       " 54.709055096703416,\n",
       " 20734.731881650594,\n",
       " 379.0,\n",
       " 60.28]"
      ]
     },
     "metadata": {},
     "output_type": "display_data"
    },
    {
     "data": {
      "text/plain": [
       "'b8'"
      ]
     },
     "metadata": {},
     "output_type": "display_data"
    },
    {
     "data": {
      "text/plain": [
       "[32314.88999999999,\n",
       " 50000,\n",
       " 55.054476367691876,\n",
       " 22407.171881650593,\n",
       " 407.0,\n",
       " 59.73]"
      ]
     },
     "metadata": {},
     "output_type": "display_data"
    },
    {
     "data": {
      "text/plain": [
       "'b8'"
      ]
     },
     "metadata": {},
     "output_type": "display_data"
    },
    {
     "data": {
      "text/plain": [
       "[30724.58999999999, 50000, 55.293714013019795, 23997.471881650592, 434.0, 58.9]"
      ]
     },
     "metadata": {},
     "output_type": "display_data"
    },
    {
     "data": {
      "text/plain": [
       "'b8'"
      ]
     },
     "metadata": {},
     "output_type": "display_data"
    },
    {
     "data": {
      "text/plain": [
       "[29214.509999999987,\n",
       " 50000,\n",
       " 55.45119974271868,\n",
       " 25507.551881650594,\n",
       " 460.0,\n",
       " 58.08]"
      ]
     },
     "metadata": {},
     "output_type": "display_data"
    },
    {
     "data": {
      "text/plain": [
       "'b8'"
      ]
     },
     "metadata": {},
     "output_type": "display_data"
    },
    {
     "data": {
      "text/plain": [
       "[27797.509999999987,\n",
       " 50000,\n",
       " 55.514539962166175,\n",
       " 26924.551881650594,\n",
       " 485.0,\n",
       " 56.68]"
      ]
     },
     "metadata": {},
     "output_type": "display_data"
    },
    {
     "data": {
      "text/plain": [
       "'b8'"
      ]
     },
     "metadata": {},
     "output_type": "display_data"
    },
    {
     "data": {
      "text/plain": [
       "[26450.869999999988, 50000, 55.5426166633607, 28271.191881650593, 509.0, 56.11]"
      ]
     },
     "metadata": {},
     "output_type": "display_data"
    },
    {
     "data": {
      "text/plain": [
       "'b8'"
      ]
     },
     "metadata": {},
     "output_type": "display_data"
    },
    {
     "data": {
      "text/plain": [
       "[25178.279999999988,\n",
       " 50000,\n",
       " 55.53342458956878,\n",
       " 29543.781881650593,\n",
       " 532.0,\n",
       " 55.33]"
      ]
     },
     "metadata": {},
     "output_type": "display_data"
    },
    {
     "data": {
      "text/plain": [
       "'b8'"
      ]
     },
     "metadata": {},
     "output_type": "display_data"
    },
    {
     "data": {
      "text/plain": [
       "[23922.01999999999, 50000, 55.495570957929, 30800.04188165059, 555.0, 54.62]"
      ]
     },
     "metadata": {},
     "output_type": "display_data"
    },
    {
     "data": {
      "text/plain": [
       "'b8'"
      ]
     },
     "metadata": {},
     "output_type": "display_data"
    },
    {
     "data": {
      "text/plain": [
       "[22762.81999999999, 50000, 55.48479493342117, 31959.241881650592, 576.0, 55.2]"
      ]
     },
     "metadata": {},
     "output_type": "display_data"
    },
    {
     "data": {
      "text/plain": [
       "'b8'"
      ]
     },
     "metadata": {},
     "output_type": "display_data"
    },
    {
     "data": {
      "text/plain": [
       "[21665.419999999987,\n",
       " 50000,\n",
       " 55.464164230957365,\n",
       " 33056.64188165059,\n",
       " 596.0,\n",
       " 54.87]"
      ]
     },
     "metadata": {},
     "output_type": "display_data"
    },
    {
     "data": {
      "text/plain": [
       "'b8'"
      ]
     },
     "metadata": {},
     "output_type": "display_data"
    },
    {
     "data": {
      "text/plain": [
       "[20587.419999999987, 50000, 55.413379678004205, 34134.64188165059, 616.0, 53.9]"
      ]
     },
     "metadata": {},
     "output_type": "display_data"
    },
    {
     "data": {
      "text/plain": [
       "'b8'"
      ]
     },
     "metadata": {},
     "output_type": "display_data"
    },
    {
     "data": {
      "text/plain": [
       "[19576.99999999999, 50000, 55.346554144331634, 35145.06188165059, 635.0, 53.18]"
      ]
     },
     "metadata": {},
     "output_type": "display_data"
    },
    {
     "data": {
      "text/plain": [
       "'b8'"
      ]
     },
     "metadata": {},
     "output_type": "display_data"
    },
    {
     "data": {
      "text/plain": [
       "[18619.89999999999, 50000, 55.37141392891194, 36102.16188165059, 652.0, 56.3]"
      ]
     },
     "metadata": {},
     "output_type": "display_data"
    },
    {
     "data": {
      "text/plain": [
       "'b8'"
      ]
     },
     "metadata": {},
     "output_type": "display_data"
    },
    {
     "data": {
      "text/plain": [
       "[17694.41999999999, 50000, 55.3477457124822, 37027.64188165059, 669.0, 54.44]"
      ]
     },
     "metadata": {},
     "output_type": "display_data"
    },
    {
     "data": {
      "text/plain": [
       "'b8'"
      ]
     },
     "metadata": {},
     "output_type": "display_data"
    },
    {
     "data": {
      "text/plain": [
       "[16820.499999999993, 50000, 55.33074727248261, 37901.56188165059, 685.0, 54.62]"
      ]
     },
     "metadata": {},
     "output_type": "display_data"
    },
    {
     "data": {
      "text/plain": [
       "'b8'"
      ]
     },
     "metadata": {},
     "output_type": "display_data"
    },
    {
     "data": {
      "text/plain": [
       "'AZN'"
      ]
     },
     "metadata": {},
     "output_type": "display_data"
    },
    {
     "data": {
      "text/plain": [
       "['AZN', 'is under calculation, start money is 10000000\\\\ / 100000$']"
      ]
     },
     "metadata": {},
     "output_type": "display_data"
    },
    {
     "data": {
      "text/plain": [
       "[40002.08, 50000, 47.160000000000004, 9997.92, 212.0, 47.16]"
      ]
     },
     "metadata": {},
     "output_type": "display_data"
    },
    {
     "data": {
      "text/plain": [
       "0"
      ]
     },
     "metadata": {},
     "output_type": "display_data"
    },
    {
     "data": {
      "text/plain": [
       "[38006.61, 50000, 47.40470355731225, 11993.39, 253.0, 48.67]"
      ]
     },
     "metadata": {},
     "output_type": "display_data"
    },
    {
     "data": {
      "text/plain": [
       "'b8'"
      ]
     },
     "metadata": {},
     "output_type": "display_data"
    },
    {
     "data": {
      "text/plain": [
       "[36132.07, 50000, 47.656116838487975, 13867.93, 291.0, 49.33]"
      ]
     },
     "metadata": {},
     "output_type": "display_data"
    },
    {
     "data": {
      "text/plain": [
       "'b8'"
      ]
     },
     "metadata": {},
     "output_type": "display_data"
    },
    {
     "data": {
      "text/plain": [
       "[43556.07, 50000, 47.656116838487975, 6957.793058419244, 146.0, 51.2]"
      ]
     },
     "metadata": {},
     "output_type": "display_data"
    },
    {
     "data": {
      "text/plain": [
       "'s3'"
      ]
     },
     "metadata": {},
     "output_type": "display_data"
    },
    {
     "data": {
      "text/plain": [
       "[41382.47, 50000, 48.05996346536444, 9131.393058419244, 190.0, 49.4]"
      ]
     },
     "metadata": {},
     "output_type": "display_data"
    },
    {
     "data": {
      "text/plain": [
       "'b8'"
      ]
     },
     "metadata": {},
     "output_type": "display_data"
    },
    {
     "data": {
      "text/plain": [
       "[39333.29, 50000, 48.192125251807084, 11180.573058419244, 232.0, 48.79]"
      ]
     },
     "metadata": {},
     "output_type": "display_data"
    },
    {
     "data": {
      "text/plain": [
       "'b8'"
      ]
     },
     "metadata": {},
     "output_type": "display_data"
    },
    {
     "data": {
      "text/plain": [
       "[37384.46, 50000, 48.44798176538467, 13129.403058419244, 271.0, 49.97]"
      ]
     },
     "metadata": {},
     "output_type": "display_data"
    },
    {
     "data": {
      "text/plain": [
       "'b8'"
      ]
     },
     "metadata": {},
     "output_type": "display_data"
    },
    {
     "data": {
      "text/plain": [
       "[35544.5, 50000, 48.444540642133475, 14969.363058419243, 309.0, 48.42]"
      ]
     },
     "metadata": {},
     "output_type": "display_data"
    },
    {
     "data": {
      "text/plain": [
       "'b8'"
      ]
     },
     "metadata": {},
     "output_type": "display_data"
    },
    {
     "data": {
      "text/plain": [
       "[33814.8, 50000, 48.54378796052106, 16699.063058419244, 344.0, 49.42]"
      ]
     },
     "metadata": {},
     "output_type": "display_data"
    },
    {
     "data": {
      "text/plain": [
       "'b8'"
      ]
     },
     "metadata": {},
     "output_type": "display_data"
    },
    {
     "data": {
      "text/plain": [
       "[32170.960000000003,\n",
       " 50000,\n",
       " 48.78431664473203,\n",
       " 18342.903058419244,\n",
       " 376.0,\n",
       " 51.37]"
      ]
     },
     "metadata": {},
     "output_type": "display_data"
    },
    {
     "data": {
      "text/plain": [
       "'b8'"
      ]
     },
     "metadata": {},
     "output_type": "display_data"
    },
    {
     "data": {
      "text/plain": [
       "[42148.12, 50000, 48.78431664473203, 9171.451529209622, 188.0, 53.07]"
      ]
     },
     "metadata": {},
     "output_type": "display_data"
    },
    {
     "data": {
      "text/plain": [
       "'s3'"
      ]
     },
     "metadata": {},
     "output_type": "display_data"
    },
    {
     "data": {
      "text/plain": [
       "[40083.850000000006,\n",
       " 50000,\n",
       " 49.49657061325825,\n",
       " 11235.721529209623,\n",
       " 227.0,\n",
       " 52.93]"
      ]
     },
     "metadata": {},
     "output_type": "display_data"
    },
    {
     "data": {
      "text/plain": [
       "'b8'"
      ]
     },
     "metadata": {},
     "output_type": "display_data"
    },
    {
     "data": {
      "text/plain": [
       "[38107.15000000001, 50000, 50.817005881575476, 13212.421529209623, 260.0, 59.9]"
      ]
     },
     "metadata": {},
     "output_type": "display_data"
    },
    {
     "data": {
      "text/plain": [
       "'b8'"
      ]
     },
     "metadata": {},
     "output_type": "display_data"
    },
    {
     "data": {
      "text/plain": [
       "[36253.350000000006, 50000, 51.77395714505025, 15066.221529209623, 291.0, 59.8]"
      ]
     },
     "metadata": {},
     "output_type": "display_data"
    },
    {
     "data": {
      "text/plain": [
       "'b8'"
      ]
     },
     "metadata": {},
     "output_type": "display_data"
    },
    {
     "data": {
      "text/plain": [
       "[34487.590000000004,\n",
       " 50000,\n",
       " 52.273234562762795,\n",
       " 16831.98152920962,\n",
       " 322.0,\n",
       " 56.96]"
      ]
     },
     "metadata": {},
     "output_type": "display_data"
    },
    {
     "data": {
      "text/plain": [
       "'b8'"
      ]
     },
     "metadata": {},
     "output_type": "display_data"
    },
    {
     "data": {
      "text/plain": [
       "[32783.89000000001, 50000, 52.658186162527336, 18535.68152920962, 352.0, 56.79]"
      ]
     },
     "metadata": {},
     "output_type": "display_data"
    },
    {
     "data": {
      "text/plain": [
       "'b8'"
      ]
     },
     "metadata": {},
     "output_type": "display_data"
    },
    {
     "data": {
      "text/plain": [
       "[31193.210000000006,\n",
       " 50000,\n",
       " 52.96410928739374,\n",
       " 20126.361529209622,\n",
       " 380.0,\n",
       " 56.81]"
      ]
     },
     "metadata": {},
     "output_type": "display_data"
    },
    {
     "data": {
      "text/plain": [
       "'b8'"
      ]
     },
     "metadata": {},
     "output_type": "display_data"
    },
    {
     "data": {
      "text/plain": [
       "[29669.330000000005,\n",
       " 50000,\n",
       " 53.194696631964675,\n",
       " 21650.241529209623,\n",
       " 407.0,\n",
       " 56.44]"
      ]
     },
     "metadata": {},
     "output_type": "display_data"
    },
    {
     "data": {
      "text/plain": [
       "'b8'"
      ]
     },
     "metadata": {},
     "output_type": "display_data"
    },
    {
     "data": {
      "text/plain": [
       "[28198.580000000005,\n",
       " 50000,\n",
       " 53.52081372502227,\n",
       " 23120.991529209623,\n",
       " 432.0,\n",
       " 58.83]"
      ]
     },
     "metadata": {},
     "output_type": "display_data"
    },
    {
     "data": {
      "text/plain": [
       "'b8'"
      ]
     },
     "metadata": {},
     "output_type": "display_data"
    },
    {
     "data": {
      "text/plain": [
       "[26828.900000000005,\n",
       " 50000,\n",
       " 53.707613002652685,\n",
       " 24490.671529209623,\n",
       " 456.0,\n",
       " 57.07]"
      ]
     },
     "metadata": {},
     "output_type": "display_data"
    },
    {
     "data": {
      "text/plain": [
       "'b8'"
      ]
     },
     "metadata": {},
     "output_type": "display_data"
    },
    {
     "data": {
      "text/plain": [
       "[25534.230000000003,\n",
       " 50000,\n",
       " 53.83161070816206,\n",
       " 25785.341529209625,\n",
       " 479.0,\n",
       " 56.29]"
      ]
     },
     "metadata": {},
     "output_type": "display_data"
    },
    {
     "data": {
      "text/plain": [
       "'b8'"
      ]
     },
     "metadata": {},
     "output_type": "display_data"
    },
    {
     "data": {
      "text/plain": [
       "[24311.910000000003,\n",
       " 50000,\n",
       " 53.907508042334584,\n",
       " 27007.661529209625,\n",
       " 501.0,\n",
       " 55.56]"
      ]
     },
     "metadata": {},
     "output_type": "display_data"
    },
    {
     "data": {
      "text/plain": [
       "'b8'"
      ]
     },
     "metadata": {},
     "output_type": "display_data"
    },
    {
     "data": {
      "text/plain": [
       "[38936.91, 50000, 53.907508042334584, 13530.784518625978, 251.0, 58.5]"
      ]
     },
     "metadata": {},
     "output_type": "display_data"
    },
    {
     "data": {
      "text/plain": [
       "'s3'"
      ]
     },
     "metadata": {},
     "output_type": "display_data"
    },
    {
     "data": {
      "text/plain": [
       "[36999.15, 50000, 54.466706051499926, 15468.544518625979, 284.0, 58.72]"
      ]
     },
     "metadata": {},
     "output_type": "display_data"
    },
    {
     "data": {
      "text/plain": [
       "'b8'"
      ]
     },
     "metadata": {},
     "output_type": "display_data"
    },
    {
     "data": {
      "text/plain": [
       "[35154.99, 50000, 54.787039615904995, 17312.70451862598, 316.0, 57.63]"
      ]
     },
     "metadata": {},
     "output_type": "display_data"
    },
    {
     "data": {
      "text/plain": [
       "'b8'"
      ]
     },
     "metadata": {},
     "output_type": "display_data"
    },
    {
     "data": {
      "text/plain": [
       "[44582.85, 50000, 54.787039615904995, 8656.35225931299, 158.0, 59.67]"
      ]
     },
     "metadata": {},
     "output_type": "display_data"
    },
    {
     "data": {
      "text/plain": [
       "'s3'"
      ]
     },
     "metadata": {},
     "output_type": "display_data"
    },
    {
     "data": {
      "text/plain": [
       "[42366.92, 50000, 55.75529363750251, 10872.28225931299, 195.0, 59.89]"
      ]
     },
     "metadata": {},
     "output_type": "display_data"
    },
    {
     "data": {
      "text/plain": [
       "'b8'"
      ]
     },
     "metadata": {},
     "output_type": "display_data"
    },
    {
     "data": {
      "text/plain": [
       "[40278.47, 50000, 56.35100982309996, 12960.73225931299, 230.0, 59.67]"
      ]
     },
     "metadata": {},
     "output_type": "display_data"
    },
    {
     "data": {
      "text/plain": [
       "'b8'"
      ]
     },
     "metadata": {},
     "output_type": "display_data"
    },
    {
     "data": {
      "text/plain": [
       "[38321.9, 50000, 56.719780453661556, 14917.30225931299, 263.0, 59.29]"
      ]
     },
     "metadata": {},
     "output_type": "display_data"
    },
    {
     "data": {
      "text/plain": [
       "'b8'"
      ]
     },
     "metadata": {},
     "output_type": "display_data"
    },
    {
     "data": {
      "text/plain": [
       "[36429.200000000004, 50000, 57.37202136284297, 16810.00225931299, 293.0, 63.09]"
      ]
     },
     "metadata": {},
     "output_type": "display_data"
    },
    {
     "data": {
      "text/plain": [
       "'b8'"
      ]
     },
     "metadata": {},
     "output_type": "display_data"
    },
    {
     "data": {
      "text/plain": [
       "[34665.200000000004, 50000, 57.50465095762536, 18574.00225931299, 323.0, 58.8]"
      ]
     },
     "metadata": {},
     "output_type": "display_data"
    },
    {
     "data": {
      "text/plain": [
       "'b8'"
      ]
     },
     "metadata": {},
     "output_type": "display_data"
    },
    {
     "data": {
      "text/plain": [
       "[32936.3, 50000, 57.51530385074502, 20302.902259312992, 353.0, 57.63]"
      ]
     },
     "metadata": {},
     "output_type": "display_data"
    },
    {
     "data": {
      "text/plain": [
       "'b8'"
      ]
     },
     "metadata": {},
     "output_type": "display_data"
    },
    {
     "data": {
      "text/plain": [
       "[31291.710000000003,\n",
       " 50000,\n",
       " 57.45416821809684,\n",
       " 21947.492259312992,\n",
       " 382.0,\n",
       " 56.71]"
      ]
     },
     "metadata": {},
     "output_type": "display_data"
    },
    {
     "data": {
      "text/plain": [
       "'b8'"
      ]
     },
     "metadata": {},
     "output_type": "display_data"
    },
    {
     "data": {
      "text/plain": [
       "[29736.870000000003,\n",
       " 50000,\n",
       " 57.32276160808047,\n",
       " 23502.332259312992,\n",
       " 410.0,\n",
       " 55.53]"
      ]
     },
     "metadata": {},
     "output_type": "display_data"
    },
    {
     "data": {
      "text/plain": [
       "'b8'"
      ]
     },
     "metadata": {},
     "output_type": "display_data"
    },
    {
     "data": {
      "text/plain": [
       "[28256.460000000003,\n",
       " 50000,\n",
       " 57.168746588816916,\n",
       " 24982.742259312992,\n",
       " 437.0,\n",
       " 54.83]"
      ]
     },
     "metadata": {},
     "output_type": "display_data"
    },
    {
     "data": {
      "text/plain": [
       "'b8'"
      ]
     },
     "metadata": {},
     "output_type": "display_data"
    },
    {
     "data": {
      "text/plain": [
       "[23592.680000000004, 50000, 56.68551101207073, 29646.52225931299, 523.0, 54.23]"
      ]
     },
     "metadata": {},
     "output_type": "display_data"
    },
    {
     "data": {
      "text/plain": [
       "'b7'"
      ]
     },
     "metadata": {},
     "output_type": "display_data"
    },
    {
     "data": {
      "text/plain": [
       "[22442.720000000005, 50000, 56.61118062373711, 30796.48225931299, 544.0, 54.76]"
      ]
     },
     "metadata": {},
     "output_type": "display_data"
    },
    {
     "data": {
      "text/plain": [
       "'b8'"
      ]
     },
     "metadata": {},
     "output_type": "display_data"
    },
    {
     "data": {
      "text/plain": [
       "[21362.320000000003, 50000, 56.51929478601594, 31876.88225931299, 564.0, 54.02]"
      ]
     },
     "metadata": {},
     "output_type": "display_data"
    },
    {
     "data": {
      "text/plain": [
       "'b8'"
      ]
     },
     "metadata": {},
     "output_type": "display_data"
    },
    {
     "data": {
      "text/plain": [
       "[20297.940000000002, 50000, 56.50302274324699, 32941.26225931299, 583.0, 56.02]"
      ]
     },
     "metadata": {},
     "output_type": "display_data"
    },
    {
     "data": {
      "text/plain": [
       "'b8'"
      ]
     },
     "metadata": {},
     "output_type": "display_data"
    },
    {
     "data": {
      "text/plain": [
       "[19324.350000000002, 50000, 56.52475376552165, 33914.85225931299, 600.0, 57.27]"
      ]
     },
     "metadata": {},
     "output_type": "display_data"
    },
    {
     "data": {
      "text/plain": [
       "'b8'"
      ]
     },
     "metadata": {},
     "output_type": "display_data"
    },
    {
     "data": {
      "text/plain": [
       "[18378.750000000004, 50000, 56.5916432781055, 34860.45225931299, 616.0, 59.1]"
      ]
     },
     "metadata": {},
     "output_type": "display_data"
    },
    {
     "data": {
      "text/plain": [
       "'b8'"
      ]
     },
     "metadata": {},
     "output_type": "display_data"
    },
    {
     "data": {
      "text/plain": [
       "[17467.230000000003, 50000, 56.6012219292927, 35771.972259312985, 632.0, 56.97]"
      ]
     },
     "metadata": {},
     "output_type": "display_data"
    },
    {
     "data": {
      "text/plain": [
       "'b8'"
      ]
     },
     "metadata": {},
     "output_type": "display_data"
    },
    {
     "data": {
      "text/plain": [
       "[16610.430000000004, 50000, 56.61324924159658, 36628.77225931299, 647.0, 57.12]"
      ]
     },
     "metadata": {},
     "output_type": "display_data"
    },
    {
     "data": {
      "text/plain": [
       "'b8'"
      ]
     },
     "metadata": {},
     "output_type": "display_data"
    },
    {
     "data": {
      "text/plain": [
       "[35835.39000000001, 50000, 56.61324924159658, 18342.692754277294, 324.0, 59.52]"
      ]
     },
     "metadata": {},
     "output_type": "display_data"
    },
    {
     "data": {
      "text/plain": [
       "'s3'"
      ]
     },
     "metadata": {},
     "output_type": "display_data"
    },
    {
     "data": {
      "text/plain": [
       "[34089.090000000004,\n",
       " 50000,\n",
       " 56.748567102478226,\n",
       " 20088.992754277293,\n",
       " 354.0,\n",
       " 58.21]"
      ]
     },
     "metadata": {},
     "output_type": "display_data"
    },
    {
     "data": {
      "text/plain": [
       "'b8'"
      ]
     },
     "metadata": {},
     "output_type": "display_data"
    },
    {
     "data": {
      "text/plain": [
       "[32426.520000000004,\n",
       " 50000,\n",
       " 56.79259204772139,\n",
       " 21751.562754277293,\n",
       " 383.0,\n",
       " 57.33]"
      ]
     },
     "metadata": {},
     "output_type": "display_data"
    },
    {
     "data": {
      "text/plain": [
       "'b8'"
      ]
     },
     "metadata": {},
     "output_type": "display_data"
    },
    {
     "data": {
      "text/plain": [
       "[30810.640000000003,\n",
       " 50000,\n",
       " 56.71709406377984,\n",
       " 23367.442754277294,\n",
       " 412.0,\n",
       " 55.72]"
      ]
     },
     "metadata": {},
     "output_type": "display_data"
    },
    {
     "data": {
      "text/plain": [
       "'b8'"
      ]
     },
     "metadata": {},
     "output_type": "display_data"
    },
    {
     "data": {
      "text/plain": [
       "[43232.44, 50000, 56.71709406377984, 11683.721377138647, 206.0, 60.3]"
      ]
     },
     "metadata": {},
     "output_type": "display_data"
    },
    {
     "data": {
      "text/plain": [
       "'s3'"
      ]
     },
     "metadata": {},
     "output_type": "display_data"
    },
    {
     "data": {
      "text/plain": [
       "[41077.48, 50000, 57.18463378982912, 13838.681377138648, 242.0, 59.86]"
      ]
     },
     "metadata": {},
     "output_type": "display_data"
    },
    {
     "data": {
      "text/plain": [
       "'b8'"
      ]
     },
     "metadata": {},
     "output_type": "display_data"
    },
    {
     "data": {
      "text/plain": [
       "[39042.93, 50000, 57.30408439400234, 15873.231377138647, 277.0, 58.13]"
      ]
     },
     "metadata": {},
     "output_type": "display_data"
    },
    {
     "data": {
      "text/plain": [
       "'b8'"
      ]
     },
     "metadata": {},
     "output_type": "display_data"
    },
    {
     "data": {
      "text/plain": [
       "[47402.97, 50000, 57.30408439400234, 7965.267730766324, 139.0, 60.58]"
      ]
     },
     "metadata": {},
     "output_type": "display_data"
    },
    {
     "data": {
      "text/plain": [
       "'s3'"
      ]
     },
     "metadata": {},
     "output_type": "display_data"
    },
    {
     "data": {
      "text/plain": [
       "[45060.24, 50000, 57.91009961104677, 10307.997730766325, 178.0, 60.07]"
      ]
     },
     "metadata": {},
     "output_type": "display_data"
    },
    {
     "data": {
      "text/plain": [
       "'b8'"
      ]
     },
     "metadata": {},
     "output_type": "display_data"
    },
    {
     "data": {
      "text/plain": [
       "'ADBE'"
      ]
     },
     "metadata": {},
     "output_type": "display_data"
    },
    {
     "data": {
      "text/plain": [
       "['ADBE', 'is under calculation, start money is 10000000\\\\ / 100000$']"
      ]
     },
     "metadata": {},
     "output_type": "display_data"
    },
    {
     "data": {
      "text/plain": [
       "[40134.1, 50000, 448.45, 9865.9, 22.0, 448.45]"
      ]
     },
     "metadata": {},
     "output_type": "display_data"
    },
    {
     "data": {
      "text/plain": [
       "0"
      ]
     },
     "metadata": {},
     "output_type": "display_data"
    },
    {
     "data": {
      "text/plain": [
       "[38377.86, 50000, 447.00538461538457, 11622.14, 26.0, 439.06]"
      ]
     },
     "metadata": {},
     "output_type": "display_data"
    },
    {
     "data": {
      "text/plain": [
       "'b8'"
      ]
     },
     "metadata": {},
     "output_type": "display_data"
    },
    {
     "data": {
      "text/plain": [
       "[32059.86, 50000, 437.56439024390244, 17940.14, 41.0, 421.2]"
      ]
     },
     "metadata": {},
     "output_type": "display_data"
    },
    {
     "data": {
      "text/plain": [
       "'b7'"
      ]
     },
     "metadata": {},
     "output_type": "display_data"
    },
    {
     "data": {
      "text/plain": [
       "[30726.96, 50000, 438.0236363636364, 19273.04, 44.0, 444.3]"
      ]
     },
     "metadata": {},
     "output_type": "display_data"
    },
    {
     "data": {
      "text/plain": [
       "'b8'"
      ]
     },
     "metadata": {},
     "output_type": "display_data"
    },
    {
     "data": {
      "text/plain": [
       "[29409.42, 50000, 438.09744680851065, 20590.58, 47.0, 439.18]"
      ]
     },
     "metadata": {},
     "output_type": "display_data"
    },
    {
     "data": {
      "text/plain": [
       "'b8'"
      ]
     },
     "metadata": {},
     "output_type": "display_data"
    },
    {
     "data": {
      "text/plain": [
       "[28054.89, 50000, 438.9022, 21945.11, 50.0, 451.51]"
      ]
     },
     "metadata": {},
     "output_type": "display_data"
    },
    {
     "data": {
      "text/plain": [
       "'b8'"
      ]
     },
     "metadata": {},
     "output_type": "display_data"
    },
    {
     "data": {
      "text/plain": [
       "[39782.14, 50000, 438.9022, 10972.555, 25.0, 469.09]"
      ]
     },
     "metadata": {},
     "output_type": "display_data"
    },
    {
     "data": {
      "text/plain": [
       "'s3'"
      ]
     },
     "metadata": {},
     "output_type": "display_data"
    },
    {
     "data": {
      "text/plain": [
       "[38233.63, 50000, 447.18089285714285, 12521.065, 28.0, 516.17]"
      ]
     },
     "metadata": {},
     "output_type": "display_data"
    },
    {
     "data": {
      "text/plain": [
       "'b8'"
      ]
     },
     "metadata": {},
     "output_type": "display_data"
    },
    {
     "data": {
      "text/plain": [
       "[36708.61, 50000, 453.0995161290323, 14046.085000000001, 31.0, 508.34]"
      ]
     },
     "metadata": {},
     "output_type": "display_data"
    },
    {
     "data": {
      "text/plain": [
       "'b8'"
      ]
     },
     "metadata": {},
     "output_type": "display_data"
    },
    {
     "data": {
      "text/plain": [
       "[35236.51, 50000, 456.41720588235296, 15518.185000000001, 34.0, 490.7]"
      ]
     },
     "metadata": {},
     "output_type": "display_data"
    },
    {
     "data": {
      "text/plain": [
       "'b8'"
      ]
     },
     "metadata": {},
     "output_type": "display_data"
    },
    {
     "data": {
      "text/plain": [
       "[33798.37, 50000, 458.2790540540541, 16956.325, 37.0, 479.38]"
      ]
     },
     "metadata": {},
     "output_type": "display_data"
    },
    {
     "data": {
      "text/plain": [
       "'b8'"
      ]
     },
     "metadata": {},
     "output_type": "display_data"
    },
    {
     "data": {
      "text/plain": [
       "[32382.100000000002, 50000, 459.31487500000003, 18372.595, 40.0, 472.09]"
      ]
     },
     "metadata": {},
     "output_type": "display_data"
    },
    {
     "data": {
      "text/plain": [
       "'b8'"
      ]
     },
     "metadata": {},
     "output_type": "display_data"
    },
    {
     "data": {
      "text/plain": [
       "[30887.260000000002, 50000, 462.0333720930233, 19867.435, 43.0, 498.28]"
      ]
     },
     "metadata": {},
     "output_type": "display_data"
    },
    {
     "data": {
      "text/plain": [
       "'b8'"
      ]
     },
     "metadata": {},
     "output_type": "display_data"
    },
    {
     "data": {
      "text/plain": [
       "[29399.530000000002, 50000, 464.2427173913044, 21355.165, 46.0, 495.91]"
      ]
     },
     "metadata": {},
     "output_type": "display_data"
    },
    {
     "data": {
      "text/plain": [
       "'b8'"
      ]
     },
     "metadata": {},
     "output_type": "display_data"
    },
    {
     "data": {
      "text/plain": [
       "[41716.490000000005, 50000, 464.2427173913044, 10677.5825, 23.0, 535.52]"
      ]
     },
     "metadata": {},
     "output_type": "display_data"
    },
    {
     "data": {
      "text/plain": [
       "'s3'"
      ]
     },
     "metadata": {},
     "output_type": "display_data"
    },
    {
     "data": {
      "text/plain": [
       "[40071.11000000001, 50000, 473.9600961538462, 12322.962500000001, 26.0, 548.46]"
      ]
     },
     "metadata": {},
     "output_type": "display_data"
    },
    {
     "data": {
      "text/plain": [
       "'b8'"
      ]
     },
     "metadata": {},
     "output_type": "display_data"
    },
    {
     "data": {
      "text/plain": [
       "[38205.89000000001, 50000, 489.2476724137931, 14188.1825, 29.0, 621.74]"
      ]
     },
     "metadata": {},
     "output_type": "display_data"
    },
    {
     "data": {
      "text/plain": [
       "'b8'"
      ]
     },
     "metadata": {},
     "output_type": "display_data"
    },
    {
     "data": {
      "text/plain": [
       "[36325.58000000001, 50000, 502.140390625, 16068.4925, 32.0, 626.77]"
      ]
     },
     "metadata": {},
     "output_type": "display_data"
    },
    {
     "data": {
      "text/plain": [
       "'b8'"
      ]
     },
     "metadata": {},
     "output_type": "display_data"
    },
    {
     "data": {
      "text/plain": [
       "[35035.280000000006, 50000, 510.5527205882353, 17358.7925, 34.0, 645.15]"
      ]
     },
     "metadata": {},
     "output_type": "display_data"
    },
    {
     "data": {
      "text/plain": [
       "'b8'"
      ]
     },
     "metadata": {},
     "output_type": "display_data"
    },
    {
     "data": {
      "text/plain": [
       "[33726.32000000001, 50000, 518.5486805555555, 18667.7525, 36.0, 654.48]"
      ]
     },
     "metadata": {},
     "output_type": "display_data"
    },
    {
     "data": {
      "text/plain": [
       "'b8'"
      ]
     },
     "metadata": {},
     "output_type": "display_data"
    },
    {
     "data": {
      "text/plain": [
       "[32443.740000000005, 50000, 525.00875, 19950.332499999997, 38.0, 641.29]"
      ]
     },
     "metadata": {},
     "output_type": "display_data"
    },
    {
     "data": {
      "text/plain": [
       "'b8'"
      ]
     },
     "metadata": {},
     "output_type": "display_data"
    },
    {
     "data": {
      "text/plain": [
       "[31191.580000000005, 50000, 530.0623125, 21202.492499999997, 40.0, 626.08]"
      ]
     },
     "metadata": {},
     "output_type": "display_data"
    },
    {
     "data": {
      "text/plain": [
       "'b8'"
      ]
     },
     "metadata": {},
     "output_type": "display_data"
    },
    {
     "data": {
      "text/plain": [
       "[29946.160000000003, 50000, 534.4741071428571, 22447.9125, 42.0, 622.71]"
      ]
     },
     "metadata": {},
     "output_type": "display_data"
    },
    {
     "data": {
      "text/plain": [
       "'b8'"
      ]
     },
     "metadata": {},
     "output_type": "display_data"
    },
    {
     "data": {
      "text/plain": [
       "[28738.860000000004,\n",
       " 50000,\n",
       " 537.6184659090909,\n",
       " 23655.212499999998,\n",
       " 44.0,\n",
       " 603.65]"
      ]
     },
     "metadata": {},
     "output_type": "display_data"
    },
    {
     "data": {
      "text/plain": [
       "'b8'"
      ]
     },
     "metadata": {},
     "output_type": "display_data"
    },
    {
     "data": {
      "text/plain": [
       "[27581.320000000003, 50000, 539.4076630434782, 24812.7525, 46.0, 578.77]"
      ]
     },
     "metadata": {},
     "output_type": "display_data"
    },
    {
     "data": {
      "text/plain": [
       "'b8'"
      ]
     },
     "metadata": {},
     "output_type": "display_data"
    },
    {
     "data": {
      "text/plain": [
       "[26464.340000000004, 50000, 540.2027604166666, 25929.7325, 48.0, 558.49]"
      ]
     },
     "metadata": {},
     "output_type": "display_data"
    },
    {
     "data": {
      "text/plain": [
       "'b8'"
      ]
     },
     "metadata": {},
     "output_type": "display_data"
    },
    {
     "data": {
      "text/plain": [
       "[25183.940000000002, 50000, 544.20265, 27210.1325, 50.0, 640.2]"
      ]
     },
     "metadata": {},
     "output_type": "display_data"
    },
    {
     "data": {
      "text/plain": [
       "'b8'"
      ]
     },
     "metadata": {},
     "output_type": "display_data"
    },
    {
     "data": {
      "text/plain": [
       "[24521.22, 50000, 546.5265196078432, 27872.8525, 51.0, 662.72]"
      ]
     },
     "metadata": {},
     "output_type": "display_data"
    },
    {
     "data": {
      "text/plain": [
       "'b8'"
      ]
     },
     "metadata": {},
     "output_type": "display_data"
    },
    {
     "data": {
      "text/plain": [
       "[23873.72, 50000, 548.4683173076924, 28520.3525, 52.0, 647.5]"
      ]
     },
     "metadata": {},
     "output_type": "display_data"
    },
    {
     "data": {
      "text/plain": [
       "'b8'"
      ]
     },
     "metadata": {},
     "output_type": "display_data"
    },
    {
     "data": {
      "text/plain": [
       "[23200.15, 50000, 550.8287264150944, 29193.9225, 53.0, 673.57]"
      ]
     },
     "metadata": {},
     "output_type": "display_data"
    },
    {
     "data": {
      "text/plain": [
       "'b8'"
      ]
     },
     "metadata": {},
     "output_type": "display_data"
    },
    {
     "data": {
      "text/plain": [
       "[22534.99, 50000, 552.9459722222223, 29859.0825, 54.0, 665.16]"
      ]
     },
     "metadata": {},
     "output_type": "display_data"
    },
    {
     "data": {
      "text/plain": [
       "'b8'"
      ]
     },
     "metadata": {},
     "output_type": "display_data"
    },
    {
     "data": {
      "text/plain": [
       "[41097.22, 50000, 552.9459722222223, 14929.541249999998, 27.0, 687.49]"
      ]
     },
     "metadata": {},
     "output_type": "display_data"
    },
    {
     "data": {
      "text/plain": [
       "'s2'"
      ]
     },
     "metadata": {},
     "output_type": "display_data"
    },
    {
     "data": {
      "text/plain": [
       "[39087.67, 50000, 564.6363749999999, 16939.091249999998, 30.0, 669.85]"
      ]
     },
     "metadata": {},
     "output_type": "display_data"
    },
    {
     "data": {
      "text/plain": [
       "'b8'"
      ]
     },
     "metadata": {},
     "output_type": "display_data"
    },
    {
     "data": {
      "text/plain": [
       "[37772.85, 50000, 570.4347265624999, 18253.911249999997, 32.0, 657.41]"
      ]
     },
     "metadata": {},
     "output_type": "display_data"
    },
    {
     "data": {
      "text/plain": [
       "'b8'"
      ]
     },
     "metadata": {},
     "output_type": "display_data"
    },
    {
     "data": {
      "text/plain": [
       "[35923.26, 50000, 574.3857499999999, 20103.501249999998, 35.0, 616.53]"
      ]
     },
     "metadata": {},
     "output_type": "display_data"
    },
    {
     "data": {
      "text/plain": [
       "'b8'"
      ]
     },
     "metadata": {},
     "output_type": "display_data"
    },
    {
     "data": {
      "text/plain": [
       "[46972.58, 50000, 574.3857499999999, 10338.9435, 18.0, 649.96]"
      ]
     },
     "metadata": {},
     "output_type": "display_data"
    },
    {
     "data": {
      "text/plain": [
       "'s3'"
      ]
     },
     "metadata": {},
     "output_type": "display_data"
    },
    {
     "data": {
      "text/plain": [
       "[45074.87, 50000, 582.6977857142857, 12236.6535, 21.0, 632.57]"
      ]
     },
     "metadata": {},
     "output_type": "display_data"
    },
    {
     "data": {
      "text/plain": [
       "'b8'"
      ]
     },
     "metadata": {},
     "output_type": "display_data"
    },
    {
     "data": {
      "text/plain": [
       "[51619.37, 50000, 582.6977857142857, 6409.675642857143, 11.0, 654.45]"
      ]
     },
     "metadata": {},
     "output_type": "display_data"
    },
    {
     "data": {
      "text/plain": [
       "'s3'"
      ]
     },
     "metadata": {},
     "output_type": "display_data"
    },
    {
     "data": {
      "text/plain": [
       "[49159.93, 50000, 591.2743761904762, 8869.115642857143, 15.0, 614.86]"
      ]
     },
     "metadata": {},
     "output_type": "display_data"
    },
    {
     "data": {
      "text/plain": [
       "'b8'"
      ]
     },
     "metadata": {},
     "output_type": "display_data"
    },
    {
     "data": {
      "text/plain": [
       "[2.139999999984866, 25000, 568.6774359099804, 83026.90564285715, 146.0, 566.09]"
      ]
     },
     "metadata": {},
     "output_type": "display_data"
    },
    {
     "data": {
      "text/plain": [
       "'b11, used emergency balance'"
      ]
     },
     "metadata": {},
     "output_type": "display_data"
    },
    {
     "data": {
      "text/plain": [
       "[2.139999999984866, 25000, 568.6774359099804, 83026.90564285715, 146.0, 556.64]"
      ]
     },
     "metadata": {},
     "output_type": "display_data"
    },
    {
     "data": {
      "text/plain": [
       "'b8'"
      ]
     },
     "metadata": {},
     "output_type": "display_data"
    },
    {
     "data": {
      "text/plain": [
       "[2.139999999984866, 25000, 568.6774359099804, 83026.90564285715, 146.0, 549.77]"
      ]
     },
     "metadata": {},
     "output_type": "display_data"
    },
    {
     "data": {
      "text/plain": [
       "'b8'"
      ]
     },
     "metadata": {},
     "output_type": "display_data"
    },
    {
     "data": {
      "text/plain": [
       "[2.139999999984866, 25000, 568.6774359099804, 83026.90564285715, 146.0, 569.36]"
      ]
     },
     "metadata": {},
     "output_type": "display_data"
    },
    {
     "data": {
      "text/plain": [
       "'b8'"
      ]
     },
     "metadata": {},
     "output_type": "display_data"
    },
    {
     "data": {
      "text/plain": [
       "[2.139999999984866, 25000, 568.6774359099804, 83026.90564285715, 146.0, 554.0]"
      ]
     },
     "metadata": {},
     "output_type": "display_data"
    },
    {
     "data": {
      "text/plain": [
       "'b8'"
      ]
     },
     "metadata": {},
     "output_type": "display_data"
    },
    {
     "data": {
      "text/plain": [
       "[2.139999999984866, 25000, 568.6774359099804, 83026.90564285715, 146.0, 514.43]"
      ]
     },
     "metadata": {},
     "output_type": "display_data"
    },
    {
     "data": {
      "text/plain": [
       "'b7'"
      ]
     },
     "metadata": {},
     "output_type": "display_data"
    },
    {
     "data": {
      "text/plain": [
       "[2.139999999984866, 25000, 568.6774359099804, 83026.90564285715, 146.0, 514.12]"
      ]
     },
     "metadata": {},
     "output_type": "display_data"
    },
    {
     "data": {
      "text/plain": [
       "'b7'"
      ]
     },
     "metadata": {},
     "output_type": "display_data"
    },
    {
     "data": {
      "text/plain": [
       "[2.139999999984866, 25000, 568.6774359099804, 83026.90564285715, 146.0, 510.7]"
      ]
     },
     "metadata": {},
     "output_type": "display_data"
    },
    {
     "data": {
      "text/plain": [
       "'b6'"
      ]
     },
     "metadata": {},
     "output_type": "display_data"
    },
    {
     "data": {
      "text/plain": [
       "[2.139999999984866, 25000, 568.6774359099804, 83026.90564285715, 146.0, 516.9]"
      ]
     },
     "metadata": {},
     "output_type": "display_data"
    },
    {
     "data": {
      "text/plain": [
       "'b7'"
      ]
     },
     "metadata": {},
     "output_type": "display_data"
    },
    {
     "data": {
      "text/plain": [
       "[2.139999999984866, 25000, 568.6774359099804, 83026.90564285715, 146.0, 513.34]"
      ]
     },
     "metadata": {},
     "output_type": "display_data"
    },
    {
     "data": {
      "text/plain": [
       "'b7'"
      ]
     },
     "metadata": {},
     "output_type": "display_data"
    },
    {
     "data": {
      "text/plain": [
       "[2.139999999984866, 25000, 568.6774359099804, 83026.90564285715, 146.0, 510.85]"
      ]
     },
     "metadata": {},
     "output_type": "display_data"
    },
    {
     "data": {
      "text/plain": [
       "'b6'"
      ]
     },
     "metadata": {},
     "output_type": "display_data"
    },
    {
     "data": {
      "text/plain": [
       "[2.139999999984866, 25000, 568.6774359099804, 83026.90564285715, 146.0, 499.91]"
      ]
     },
     "metadata": {},
     "output_type": "display_data"
    },
    {
     "data": {
      "text/plain": [
       "'b6'"
      ]
     },
     "metadata": {},
     "output_type": "display_data"
    },
    {
     "data": {
      "text/plain": [
       "[2.139999999984866, 25000, 568.6774359099804, 83026.90564285715, 146.0, 502.72]"
      ]
     },
     "metadata": {},
     "output_type": "display_data"
    },
    {
     "data": {
      "text/plain": [
       "'b6'"
      ]
     },
     "metadata": {},
     "output_type": "display_data"
    },
    {
     "data": {
      "text/plain": [
       "[2.139999999984866, 25000, 568.6774359099804, 83026.90564285715, 146.0, 500.81]"
      ]
     },
     "metadata": {},
     "output_type": "display_data"
    },
    {
     "data": {
      "text/plain": [
       "'b6'"
      ]
     },
     "metadata": {},
     "output_type": "display_data"
    },
    {
     "data": {
      "text/plain": [
       "[2.139999999984866, 25000, 568.6774359099804, 83026.90564285715, 146.0, 493.05]"
      ]
     },
     "metadata": {},
     "output_type": "display_data"
    },
    {
     "data": {
      "text/plain": [
       "'b6'"
      ]
     },
     "metadata": {},
     "output_type": "display_data"
    },
    {
     "data": {
      "text/plain": [
       "[2.139999999984866, 25000, 568.6774359099804, 83026.90564285715, 146.0, 533.09]"
      ]
     },
     "metadata": {},
     "output_type": "display_data"
    },
    {
     "data": {
      "text/plain": [
       "'b7'"
      ]
     },
     "metadata": {},
     "output_type": "display_data"
    },
    {
     "data": {
      "text/plain": [
       "[2.139999999984866, 25000, 568.6774359099804, 83026.90564285715, 146.0, 510.83]"
      ]
     },
     "metadata": {},
     "output_type": "display_data"
    },
    {
     "data": {
      "text/plain": [
       "'b6'"
      ]
     },
     "metadata": {},
     "output_type": "display_data"
    },
    {
     "data": {
      "text/plain": [
       "[2.139999999984866, 25000, 568.6774359099804, 83026.90564285715, 146.0, 507.1]"
      ]
     },
     "metadata": {},
     "output_type": "display_data"
    },
    {
     "data": {
      "text/plain": [
       "'b6'"
      ]
     },
     "metadata": {},
     "output_type": "display_data"
    },
    {
     "data": {
      "text/plain": [
       "[2.139999999984866, 25000, 568.6774359099804, 83026.90564285715, 146.0, 495.02]"
      ]
     },
     "metadata": {},
     "output_type": "display_data"
    },
    {
     "data": {
      "text/plain": [
       "'b6'"
      ]
     },
     "metadata": {},
     "output_type": "display_data"
    },
    {
     "data": {
      "text/plain": [
       "[2.139999999984866, 25000, 568.6774359099804, 83026.90564285715, 146.0, 473.97]"
      ]
     },
     "metadata": {},
     "output_type": "display_data"
    },
    {
     "data": {
      "text/plain": [
       "'b6'"
      ]
     },
     "metadata": {},
     "output_type": "display_data"
    },
    {
     "data": {
      "text/plain": [
       "[2.139999999984866, 25000, 568.6774359099804, 83026.90564285715, 146.0, 477.7]"
      ]
     },
     "metadata": {},
     "output_type": "display_data"
    },
    {
     "data": {
      "text/plain": [
       "'b6'"
      ]
     },
     "metadata": {},
     "output_type": "display_data"
    },
    {
     "data": {
      "text/plain": [
       "[2.139999999984866, 25000, 568.6774359099804, 83026.90564285715, 146.0, 457.71]"
      ]
     },
     "metadata": {},
     "output_type": "display_data"
    },
    {
     "data": {
      "text/plain": [
       "'b6'"
      ]
     },
     "metadata": {},
     "output_type": "display_data"
    },
    {
     "data": {
      "text/plain": [
       "[2.139999999984866, 25000, 568.6774359099804, 83026.90564285715, 146.0, 442.56]"
      ]
     },
     "metadata": {},
     "output_type": "display_data"
    },
    {
     "data": {
      "text/plain": [
       "'b6'"
      ]
     },
     "metadata": {},
     "output_type": "display_data"
    },
    {
     "data": {
      "text/plain": [
       "[2.139999999984866, 25000, 568.6774359099804, 83026.90564285715, 146.0, 438.4]"
      ]
     },
     "metadata": {},
     "output_type": "display_data"
    },
    {
     "data": {
      "text/plain": [
       "'b6'"
      ]
     },
     "metadata": {},
     "output_type": "display_data"
    },
    {
     "data": {
      "text/plain": [
       "[2.139999999984866, 25000, 568.6774359099804, 83026.90564285715, 146.0, 429.45]"
      ]
     },
     "metadata": {},
     "output_type": "display_data"
    },
    {
     "data": {
      "text/plain": [
       "'b6'"
      ]
     },
     "metadata": {},
     "output_type": "display_data"
    },
    {
     "data": {
      "text/plain": [
       "[2.139999999984866, 25000, 568.6774359099804, 83026.90564285715, 146.0, 466.68]"
      ]
     },
     "metadata": {},
     "output_type": "display_data"
    },
    {
     "data": {
      "text/plain": [
       "'b6'"
      ]
     },
     "metadata": {},
     "output_type": "display_data"
    },
    {
     "data": {
      "text/plain": [
       "[2.139999999984866, 25000, 568.6774359099804, 83026.90564285715, 146.0, 459.08]"
      ]
     },
     "metadata": {},
     "output_type": "display_data"
    },
    {
     "data": {
      "text/plain": [
       "'b6'"
      ]
     },
     "metadata": {},
     "output_type": "display_data"
    },
    {
     "data": {
      "text/plain": [
       "'CMCSA'"
      ]
     },
     "metadata": {},
     "output_type": "display_data"
    },
    {
     "data": {
      "text/plain": [
       "['CMCSA', 'is under calculation, start money is 10000000\\\\ / 100000$']"
      ]
     },
     "metadata": {},
     "output_type": "display_data"
    },
    {
     "data": {
      "text/plain": [
       "[40006.22, 50000, 53.73, 9993.779999999999, 186.0, 53.73]"
      ]
     },
     "metadata": {},
     "output_type": "display_data"
    },
    {
     "data": {
      "text/plain": [
       "0"
      ]
     },
     "metadata": {},
     "output_type": "display_data"
    },
    {
     "data": {
      "text/plain": [
       "[38050.770000000004, 50000, 54.06891402714932, 11949.23, 221.0, 55.87]"
      ]
     },
     "metadata": {},
     "output_type": "display_data"
    },
    {
     "data": {
      "text/plain": [
       "'b8'"
      ]
     },
     "metadata": {},
     "output_type": "display_data"
    },
    {
     "data": {
      "text/plain": [
       "[36174.65, 50000, 54.217058823529406, 13825.349999999999, 255.0, 55.18]"
      ]
     },
     "metadata": {},
     "output_type": "display_data"
    },
    {
     "data": {
      "text/plain": [
       "'b8'"
      ]
     },
     "metadata": {},
     "output_type": "display_data"
    },
    {
     "data": {
      "text/plain": [
       "[34389.020000000004,\n",
       " 50000,\n",
       " 54.20479166666666,\n",
       " 15610.979999999998,\n",
       " 288.0,\n",
       " 54.11]"
      ]
     },
     "metadata": {},
     "output_type": "display_data"
    },
    {
     "data": {
      "text/plain": [
       "'b8'"
      ]
     },
     "metadata": {},
     "output_type": "display_data"
    },
    {
     "data": {
      "text/plain": [
       "[32674.780000000002,\n",
       " 50000,\n",
       " 54.14131249999999,\n",
       " 17325.219999999998,\n",
       " 320.0,\n",
       " 53.57]"
      ]
     },
     "metadata": {},
     "output_type": "display_data"
    },
    {
     "data": {
      "text/plain": [
       "'b8'"
      ]
     },
     "metadata": {},
     "output_type": "display_data"
    },
    {
     "data": {
      "text/plain": [
       "[31075.780000000002,\n",
       " 50000,\n",
       " 54.069199999999995,\n",
       " 18924.219999999998,\n",
       " 350.0,\n",
       " 53.3]"
      ]
     },
     "metadata": {},
     "output_type": "display_data"
    },
    {
     "data": {
      "text/plain": [
       "'b8'"
      ]
     },
     "metadata": {},
     "output_type": "display_data"
    },
    {
     "data": {
      "text/plain": [
       "[29559.86, 50000, 54.074444444444445, 20440.14, 378.0, 54.14]"
      ]
     },
     "metadata": {},
     "output_type": "display_data"
    },
    {
     "data": {
      "text/plain": [
       "'b8'"
      ]
     },
     "metadata": {},
     "output_type": "display_data"
    },
    {
     "data": {
      "text/plain": [
       "[28122.11, 50000, 54.287568238213396, 21877.89, 403.0, 57.51]"
      ]
     },
     "metadata": {},
     "output_type": "display_data"
    },
    {
     "data": {
      "text/plain": [
       "'b8'"
      ]
     },
     "metadata": {},
     "output_type": "display_data"
    },
    {
     "data": {
      "text/plain": [
       "[26763.23, 50000, 54.41866510538642, 23236.77, 427.0, 56.62]"
      ]
     },
     "metadata": {},
     "output_type": "display_data"
    },
    {
     "data": {
      "text/plain": [
       "'b8'"
      ]
     },
     "metadata": {},
     "output_type": "display_data"
    },
    {
     "data": {
      "text/plain": [
       "[25432.43, 50000, 54.47354767184036, 24567.57, 451.0, 55.45]"
      ]
     },
     "metadata": {},
     "output_type": "display_data"
    },
    {
     "data": {
      "text/plain": [
       "'b8'"
      ]
     },
     "metadata": {},
     "output_type": "display_data"
    },
    {
     "data": {
      "text/plain": [
       "[24184.91, 50000, 54.46221518987342, 25815.09, 474.0, 54.24]"
      ]
     },
     "metadata": {},
     "output_type": "display_data"
    },
    {
     "data": {
      "text/plain": [
       "'b8'"
      ]
     },
     "metadata": {},
     "output_type": "display_data"
    },
    {
     "data": {
      "text/plain": [
       "[22994.0, 50000, 54.557575757575755, 27006.0, 495.0, 56.71]"
      ]
     },
     "metadata": {},
     "output_type": "display_data"
    },
    {
     "data": {
      "text/plain": [
       "'b8'"
      ]
     },
     "metadata": {},
     "output_type": "display_data"
    },
    {
     "data": {
      "text/plain": [
       "[21884.4, 50000, 54.593398058252426, 28115.6, 515.0, 55.48]"
      ]
     },
     "metadata": {},
     "output_type": "display_data"
    },
    {
     "data": {
      "text/plain": [
       "'b8'"
      ]
     },
     "metadata": {},
     "output_type": "display_data"
    },
    {
     "data": {
      "text/plain": [
       "[20846.52, 50000, 54.696960600375235, 29153.48, 533.0, 57.66]"
      ]
     },
     "metadata": {},
     "output_type": "display_data"
    },
    {
     "data": {
      "text/plain": [
       "'b8'"
      ]
     },
     "metadata": {},
     "output_type": "display_data"
    },
    {
     "data": {
      "text/plain": [
       "[19827.18, 50000, 54.76010889292196, 30172.82, 551.0, 56.63]"
      ]
     },
     "metadata": {},
     "output_type": "display_data"
    },
    {
     "data": {
      "text/plain": [
       "'b8'"
      ]
     },
     "metadata": {},
     "output_type": "display_data"
    },
    {
     "data": {
      "text/plain": [
       "[18862.38, 50000, 54.91643738977072, 31137.62, 567.0, 60.3]"
      ]
     },
     "metadata": {},
     "output_type": "display_data"
    },
    {
     "data": {
      "text/plain": [
       "'b8'"
      ]
     },
     "metadata": {},
     "output_type": "display_data"
    },
    {
     "data": {
      "text/plain": [
       "[17972.940000000002,\n",
       " 50000,\n",
       " 54.93492281303602,\n",
       " 32027.059999999998,\n",
       " 583.0,\n",
       " 55.59]"
      ]
     },
     "metadata": {},
     "output_type": "display_data"
    },
    {
     "data": {
      "text/plain": [
       "'b8'"
      ]
     },
     "metadata": {},
     "output_type": "display_data"
    },
    {
     "data": {
      "text/plain": [
       "[17125.590000000004,\n",
       " 50000,\n",
       " 54.97392976588628,\n",
       " 32874.409999999996,\n",
       " 598.0,\n",
       " 56.49]"
      ]
     },
     "metadata": {},
     "output_type": "display_data"
    },
    {
     "data": {
      "text/plain": [
       "'b8'"
      ]
     },
     "metadata": {},
     "output_type": "display_data"
    },
    {
     "data": {
      "text/plain": [
       "[16304.340000000004, 50000, 54.9684502446982, 33695.659999999996, 613.0, 54.75]"
      ]
     },
     "metadata": {},
     "output_type": "display_data"
    },
    {
     "data": {
      "text/plain": [
       "'b8'"
      ]
     },
     "metadata": {},
     "output_type": "display_data"
    },
    {
     "data": {
      "text/plain": [
       "[15538.540000000005, 50000, 54.962456140350874, 34461.46, 627.0, 54.7]"
      ]
     },
     "metadata": {},
     "output_type": "display_data"
    },
    {
     "data": {
      "text/plain": [
       "'b8'"
      ]
     },
     "metadata": {},
     "output_type": "display_data"
    },
    {
     "data": {
      "text/plain": [
       "[14807.460000000005, 50000, 54.90255850234009, 35192.54, 641.0, 52.22]"
      ]
     },
     "metadata": {},
     "output_type": "display_data"
    },
    {
     "data": {
      "text/plain": [
       "'b8'"
      ]
     },
     "metadata": {},
     "output_type": "display_data"
    },
    {
     "data": {
      "text/plain": [
       "[14115.600000000004, 50000, 54.869113149847095, 35884.4, 654.0, 53.22]"
      ]
     },
     "metadata": {},
     "output_type": "display_data"
    },
    {
     "data": {
      "text/plain": [
       "'b8'"
      ]
     },
     "metadata": {},
     "output_type": "display_data"
    },
    {
     "data": {
      "text/plain": [
       "[13413.210000000005, 50000, 54.852758620689656, 36586.79, 667.0, 54.03]"
      ]
     },
     "metadata": {},
     "output_type": "display_data"
    },
    {
     "data": {
      "text/plain": [
       "'b8'"
      ]
     },
     "metadata": {},
     "output_type": "display_data"
    },
    {
     "data": {
      "text/plain": [
       "[12783.930000000004, 50000, 54.810117820324, 37216.07, 679.0, 52.44]"
      ]
     },
     "metadata": {},
     "output_type": "display_data"
    },
    {
     "data": {
      "text/plain": [
       "'b8'"
      ]
     },
     "metadata": {},
     "output_type": "display_data"
    },
    {
     "data": {
      "text/plain": [
       "[10656.030000000004, 50000, 54.64440277777778, 39343.97, 720.0, 51.9]"
      ]
     },
     "metadata": {},
     "output_type": "display_data"
    },
    {
     "data": {
      "text/plain": [
       "'b7'"
      ]
     },
     "metadata": {},
     "output_type": "display_data"
    },
    {
     "data": {
      "text/plain": [
       "[8907.410000000003, 50000, 54.49945623342175, 41092.590000000004, 754.0, 51.43]"
      ]
     },
     "metadata": {},
     "output_type": "display_data"
    },
    {
     "data": {
      "text/plain": [
       "'b7'"
      ]
     },
     "metadata": {},
     "output_type": "display_data"
    },
    {
     "data": {
      "text/plain": [
       "[8485.170000000004, 50000, 54.481404199475065, 41514.83, 762.0, 52.78]"
      ]
     },
     "metadata": {},
     "output_type": "display_data"
    },
    {
     "data": {
      "text/plain": [
       "'b8'"
      ]
     },
     "metadata": {},
     "output_type": "display_data"
    },
    {
     "data": {
      "text/plain": [
       "[8069.890000000004, 50000, 54.454688311688315, 41930.11, 770.0, 51.91]"
      ]
     },
     "metadata": {},
     "output_type": "display_data"
    },
    {
     "data": {
      "text/plain": [
       "'b8'"
      ]
     },
     "metadata": {},
     "output_type": "display_data"
    },
    {
     "data": {
      "text/plain": [
       "[6730.630000000004, 50000, 54.35850502512563, 43269.37, 796.0, 51.51]"
      ]
     },
     "metadata": {},
     "output_type": "display_data"
    },
    {
     "data": {
      "text/plain": [
       "'b7'"
      ]
     },
     "metadata": {},
     "output_type": "display_data"
    },
    {
     "data": {
      "text/plain": [
       "[5657.530000000003, 50000, 54.27474908200735, 44342.47, 817.0, 51.1]"
      ]
     },
     "metadata": {},
     "output_type": "display_data"
    },
    {
     "data": {
      "text/plain": [
       "'b7'"
      ]
     },
     "metadata": {},
     "output_type": "display_data"
    },
    {
     "data": {
      "text/plain": [
       "[4757.890000000003, 50000, 54.18216766467066, 45242.11, 835.0, 49.98]"
      ]
     },
     "metadata": {},
     "output_type": "display_data"
    },
    {
     "data": {
      "text/plain": [
       "'b7'"
      ]
     },
     "metadata": {},
     "output_type": "display_data"
    },
    {
     "data": {
      "text/plain": [
       "[3972.6100000000033, 50000, 54.08623971797885, 46027.39, 851.0, 49.08]"
      ]
     },
     "metadata": {},
     "output_type": "display_data"
    },
    {
     "data": {
      "text/plain": [
       "'b7'"
      ]
     },
     "metadata": {},
     "output_type": "display_data"
    },
    {
     "data": {
      "text/plain": [
       "[3328.0700000000033, 50000, 54.0184375, 46671.93, 864.0, 49.58]"
      ]
     },
     "metadata": {},
     "output_type": "display_data"
    },
    {
     "data": {
      "text/plain": [
       "'b7'"
      ]
     },
     "metadata": {},
     "output_type": "display_data"
    },
    {
     "data": {
      "text/plain": [
       "[2789.730000000003, 50000, 53.95459428571428, 47210.27, 875.0, 48.94]"
      ]
     },
     "metadata": {},
     "output_type": "display_data"
    },
    {
     "data": {
      "text/plain": [
       "'b7'"
      ]
     },
     "metadata": {},
     "output_type": "display_data"
    },
    {
     "data": {
      "text/plain": [
       "[2120.390000000003, 50000, 53.85782902137232, 47879.60999999999, 889.0, 47.81]"
      ]
     },
     "metadata": {},
     "output_type": "display_data"
    },
    {
     "data": {
      "text/plain": [
       "'b6'"
      ]
     },
     "metadata": {},
     "output_type": "display_data"
    },
    {
     "data": {
      "text/plain": [
       "[1595.580000000003, 50000, 53.78268888888888, 48404.41999999999, 900.0, 47.71]"
      ]
     },
     "metadata": {},
     "output_type": "display_data"
    },
    {
     "data": {
      "text/plain": [
       "'b6'"
      ]
     },
     "metadata": {},
     "output_type": "display_data"
    },
    {
     "data": {
      "text/plain": [
       "[1210.140000000003, 50000, 53.73332599118942, 48789.85999999999, 908.0, 48.18]"
      ]
     },
     "metadata": {},
     "output_type": "display_data"
    },
    {
     "data": {
      "text/plain": [
       "'b6'"
      ]
     },
     "metadata": {},
     "output_type": "display_data"
    },
    {
     "data": {
      "text/plain": [
       "[1015.140000000003, 50000, 53.7114692982456, 48984.85999999999, 912.0, 48.75]"
      ]
     },
     "metadata": {},
     "output_type": "display_data"
    },
    {
     "data": {
      "text/plain": [
       "'b7'"
      ]
     },
     "metadata": {},
     "output_type": "display_data"
    },
    {
     "data": {
      "text/plain": [
       "[869.940000000003, 50000, 53.69405464480873, 49130.05999999999, 915.0, 48.4]"
      ]
     },
     "metadata": {},
     "output_type": "display_data"
    },
    {
     "data": {
      "text/plain": [
       "'b7'"
      ]
     },
     "metadata": {},
     "output_type": "display_data"
    },
    {
     "data": {
      "text/plain": [
       "[769.280000000003, 50000, 53.6867175572519, 49230.719999999994, 917.0, 50.33]"
      ]
     },
     "metadata": {},
     "output_type": "display_data"
    },
    {
     "data": {
      "text/plain": [
       "'b7'"
      ]
     },
     "metadata": {},
     "output_type": "display_data"
    },
    {
     "data": {
      "text/plain": [
       "[668.900000000003, 50000, 53.67910772578889, 49331.09999999999, 919.0, 50.19]"
      ]
     },
     "metadata": {},
     "output_type": "display_data"
    },
    {
     "data": {
      "text/plain": [
       "'b7'"
      ]
     },
     "metadata": {},
     "output_type": "display_data"
    },
    {
     "data": {
      "text/plain": [
       "[568.800000000003, 50000, 53.671226927252974, 49431.19999999999, 921.0, 50.05]"
      ]
     },
     "metadata": {},
     "output_type": "display_data"
    },
    {
     "data": {
      "text/plain": [
       "'b7'"
      ]
     },
     "metadata": {},
     "output_type": "display_data"
    },
    {
     "data": {
      "text/plain": [
       "[517.850000000003, 50000, 53.6682754880694, 49482.14999999999, 922.0, 50.95]"
      ]
     },
     "metadata": {},
     "output_type": "display_data"
    },
    {
     "data": {
      "text/plain": [
       "'b7'"
      ]
     },
     "metadata": {},
     "output_type": "display_data"
    },
    {
     "data": {
      "text/plain": [
       "[467.670000000003, 50000, 53.66449620801732, 49532.32999999999, 923.0, 50.18]"
      ]
     },
     "metadata": {},
     "output_type": "display_data"
    },
    {
     "data": {
      "text/plain": [
       "'b7'"
      ]
     },
     "metadata": {},
     "output_type": "display_data"
    },
    {
     "data": {
      "text/plain": [
       "[417.450000000003, 50000, 53.66076839826839, 49582.54999999999, 924.0, 50.22]"
      ]
     },
     "metadata": {},
     "output_type": "display_data"
    },
    {
     "data": {
      "text/plain": [
       "'b7'"
      ]
     },
     "metadata": {},
     "output_type": "display_data"
    },
    {
     "data": {
      "text/plain": [
       "[367.720000000003, 50000, 53.65651891891891, 49632.27999999999, 925.0, 49.73]"
      ]
     },
     "metadata": {},
     "output_type": "display_data"
    },
    {
     "data": {
      "text/plain": [
       "'b7'"
      ]
     },
     "metadata": {},
     "output_type": "display_data"
    },
    {
     "data": {
      "text/plain": [
       "[318.05000000000297,\n",
       " 50000,\n",
       " 53.652213822894154,\n",
       " 49681.94999999999,\n",
       " 926.0,\n",
       " 49.67]"
      ]
     },
     "metadata": {},
     "output_type": "display_data"
    },
    {
     "data": {
      "text/plain": [
       "'b7'"
      ]
     },
     "metadata": {},
     "output_type": "display_data"
    },
    {
     "data": {
      "text/plain": [
       "[269.590000000003, 50000, 53.64661272923408, 49730.40999999999, 927.0, 48.46]"
      ]
     },
     "metadata": {},
     "output_type": "display_data"
    },
    {
     "data": {
      "text/plain": [
       "'b7'"
      ]
     },
     "metadata": {},
     "output_type": "display_data"
    },
    {
     "data": {
      "text/plain": [
       "[221.580000000003, 50000, 53.64053879310344, 49778.41999999999, 928.0, 48.01]"
      ]
     },
     "metadata": {},
     "output_type": "display_data"
    },
    {
     "data": {
      "text/plain": [
       "'b6'"
      ]
     },
     "metadata": {},
     "output_type": "display_data"
    },
    {
     "data": {
      "text/plain": [
       "[221.580000000003, 50000, 53.64053879310344, 49778.41999999999, 928.0, 49.94]"
      ]
     },
     "metadata": {},
     "output_type": "display_data"
    },
    {
     "data": {
      "text/plain": [
       "'b7'"
      ]
     },
     "metadata": {},
     "output_type": "display_data"
    },
    {
     "data": {
      "text/plain": [
       "[221.580000000003, 50000, 53.64053879310344, 49778.41999999999, 928.0, 49.64]"
      ]
     },
     "metadata": {},
     "output_type": "display_data"
    },
    {
     "data": {
      "text/plain": [
       "'b7'"
      ]
     },
     "metadata": {},
     "output_type": "display_data"
    },
    {
     "data": {
      "text/plain": [
       "[221.580000000003, 50000, 53.64053879310344, 49778.41999999999, 928.0, 49.33]"
      ]
     },
     "metadata": {},
     "output_type": "display_data"
    },
    {
     "data": {
      "text/plain": [
       "'b7'"
      ]
     },
     "metadata": {},
     "output_type": "display_data"
    },
    {
     "data": {
      "text/plain": [
       "[221.580000000003, 50000, 53.64053879310344, 49778.41999999999, 928.0, 48.86]"
      ]
     },
     "metadata": {},
     "output_type": "display_data"
    },
    {
     "data": {
      "text/plain": [
       "'b7'"
      ]
     },
     "metadata": {},
     "output_type": "display_data"
    },
    {
     "data": {
      "text/plain": [
       "[221.580000000003, 50000, 53.64053879310344, 49778.41999999999, 928.0, 48.92]"
      ]
     },
     "metadata": {},
     "output_type": "display_data"
    },
    {
     "data": {
      "text/plain": [
       "'b7'"
      ]
     },
     "metadata": {},
     "output_type": "display_data"
    },
    {
     "data": {
      "text/plain": [
       "[173.960000000003, 50000, 53.63405812701829, 49826.03999999999, 929.0, 47.62]"
      ]
     },
     "metadata": {},
     "output_type": "display_data"
    },
    {
     "data": {
      "text/plain": [
       "'b6'"
      ]
     },
     "metadata": {},
     "output_type": "display_data"
    },
    {
     "data": {
      "text/plain": [
       "[173.960000000003, 50000, 53.63405812701829, 49826.03999999999, 929.0, 47.4]"
      ]
     },
     "metadata": {},
     "output_type": "display_data"
    },
    {
     "data": {
      "text/plain": [
       "'b6'"
      ]
     },
     "metadata": {},
     "output_type": "display_data"
    },
    {
     "data": {
      "text/plain": [
       "[173.960000000003, 50000, 53.63405812701829, 49826.03999999999, 929.0, 46.77]"
      ]
     },
     "metadata": {},
     "output_type": "display_data"
    },
    {
     "data": {
      "text/plain": [
       "'b6'"
      ]
     },
     "metadata": {},
     "output_type": "display_data"
    },
    {
     "data": {
      "text/plain": [
       "[173.960000000003, 50000, 53.63405812701829, 49826.03999999999, 929.0, 46.64]"
      ]
     },
     "metadata": {},
     "output_type": "display_data"
    },
    {
     "data": {
      "text/plain": [
       "'b6'"
      ]
     },
     "metadata": {},
     "output_type": "display_data"
    },
    {
     "data": {
      "text/plain": [
       "[173.960000000003, 50000, 53.63405812701829, 49826.03999999999, 929.0, 45.13]"
      ]
     },
     "metadata": {},
     "output_type": "display_data"
    },
    {
     "data": {
      "text/plain": [
       "'b6'"
      ]
     },
     "metadata": {},
     "output_type": "display_data"
    },
    {
     "data": {
      "text/plain": [
       "[173.960000000003, 50000, 53.63405812701829, 49826.03999999999, 929.0, 46.76]"
      ]
     },
     "metadata": {},
     "output_type": "display_data"
    },
    {
     "data": {
      "text/plain": [
       "'b6'"
      ]
     },
     "metadata": {},
     "output_type": "display_data"
    },
    {
     "data": {
      "text/plain": [
       "[173.960000000003, 50000, 53.63405812701829, 49826.03999999999, 929.0, 46.39]"
      ]
     },
     "metadata": {},
     "output_type": "display_data"
    },
    {
     "data": {
      "text/plain": [
       "'b6'"
      ]
     },
     "metadata": {},
     "output_type": "display_data"
    },
    {
     "data": {
      "text/plain": [
       "[173.960000000003, 50000, 53.63405812701829, 49826.03999999999, 929.0, 46.38]"
      ]
     },
     "metadata": {},
     "output_type": "display_data"
    },
    {
     "data": {
      "text/plain": [
       "'b6'"
      ]
     },
     "metadata": {},
     "output_type": "display_data"
    },
    {
     "data": {
      "text/plain": [
       "'INTC'"
      ]
     },
     "metadata": {},
     "output_type": "display_data"
    },
    {
     "data": {
      "text/plain": [
       "['INTC', 'is under calculation, start money is 10000000\\\\ / 100000$']"
      ]
     },
     "metadata": {},
     "output_type": "display_data"
    },
    {
     "data": {
      "text/plain": [
       "[40056.6, 50000, 59.9, 9943.4, 166.0, 59.9]"
      ]
     },
     "metadata": {},
     "output_type": "display_data"
    },
    {
     "data": {
      "text/plain": [
       "0"
      ]
     },
     "metadata": {},
     "output_type": "display_data"
    },
    {
     "data": {
      "text/plain": [
       "[38073.38, 50000, 59.63309999999999, 11926.619999999999, 200.0, 58.33]"
      ]
     },
     "metadata": {},
     "output_type": "display_data"
    },
    {
     "data": {
      "text/plain": [
       "'b8'"
      ]
     },
     "metadata": {},
     "output_type": "display_data"
    },
    {
     "data": {
      "text/plain": [
       "[36218.03, 50000, 59.66220779220779, 13781.97, 231.0, 59.85]"
      ]
     },
     "metadata": {},
     "output_type": "display_data"
    },
    {
     "data": {
      "text/plain": [
       "'b8'"
      ]
     },
     "metadata": {},
     "output_type": "display_data"
    },
    {
     "data": {
      "text/plain": [
       "[43425.08, 50000, 59.66220779220779, 6920.816103896103, 116.0, 62.67]"
      ]
     },
     "metadata": {},
     "output_type": "display_data"
    },
    {
     "data": {
      "text/plain": [
       "'s3'"
      ]
     },
     "metadata": {},
     "output_type": "display_data"
    },
    {
     "data": {
      "text/plain": [
       "[41258.26, 50000, 60.58424069264069, 9087.636103896104, 150.0, 63.73]"
      ]
     },
     "metadata": {},
     "output_type": "display_data"
    },
    {
     "data": {
      "text/plain": [
       "'b8'"
      ]
     },
     "metadata": {},
     "output_type": "display_data"
    },
    {
     "data": {
      "text/plain": [
       "[39226.9, 50000, 61.09338518624233, 11118.996103896105, 182.0, 63.48]"
      ]
     },
     "metadata": {},
     "output_type": "display_data"
    },
    {
     "data": {
      "text/plain": [
       "'b8'"
      ]
     },
     "metadata": {},
     "output_type": "display_data"
    },
    {
     "data": {
      "text/plain": [
       "[37303.66, 50000, 61.2311554173526, 13042.236103896104, 213.0, 62.04]"
      ]
     },
     "metadata": {},
     "output_type": "display_data"
    },
    {
     "data": {
      "text/plain": [
       "'b8'"
      ]
     },
     "metadata": {},
     "output_type": "display_data"
    },
    {
     "data": {
      "text/plain": [
       "[44179.880000000005, 50000, 61.2311554173526, 6551.733629656728, 107.0, 64.87]"
      ]
     },
     "metadata": {},
     "output_type": "display_data"
    },
    {
     "data": {
      "text/plain": [
       "'s3'"
      ]
     },
     "metadata": {},
     "output_type": "display_data"
    },
    {
     "data": {
      "text/plain": [
       "[42011.700000000004,\n",
       " 50000,\n",
       " 61.843359075579635,\n",
       " 8719.913629656729,\n",
       " 141.0,\n",
       " 63.77]"
      ]
     },
     "metadata": {},
     "output_type": "display_data"
    },
    {
     "data": {
      "text/plain": [
       "'b8'"
      ]
     },
     "metadata": {},
     "output_type": "display_data"
    },
    {
     "data": {
      "text/plain": [
       "[46669.50000000001, 50000, 61.843359075579635, 4390.878494366154, 71.0, 66.54]"
      ]
     },
     "metadata": {},
     "output_type": "display_data"
    },
    {
     "data": {
      "text/plain": [
       "'s3'"
      ]
     },
     "metadata": {},
     "output_type": "display_data"
    },
    {
     "data": {
      "text/plain": [
       "[44374.90000000001, 50000, 63.070551833642966, 6685.478494366154, 106.0, 65.56]"
      ]
     },
     "metadata": {},
     "output_type": "display_data"
    },
    {
     "data": {
      "text/plain": [
       "'b8'"
      ]
     },
     "metadata": {},
     "output_type": "display_data"
    },
    {
     "data": {
      "text/plain": [
       "[42216.37000000001, 50000, 63.62596039112341, 8844.008494366153, 139.0, 65.41]"
      ]
     },
     "metadata": {},
     "output_type": "display_data"
    },
    {
     "data": {
      "text/plain": [
       "'b8'"
      ]
     },
     "metadata": {},
     "output_type": "display_data"
    },
    {
     "data": {
      "text/plain": [
       "[40162.29000000001, 50000, 63.73151166295996, 10898.088494366153, 171.0, 64.19]"
      ]
     },
     "metadata": {},
     "output_type": "display_data"
    },
    {
     "data": {
      "text/plain": [
       "'b8'"
      ]
     },
     "metadata": {},
     "output_type": "display_data"
    },
    {
     "data": {
      "text/plain": [
       "[38189.76000000001, 50000, 63.7159331404265, 12870.618494366154, 202.0, 63.63]"
      ]
     },
     "metadata": {},
     "output_type": "display_data"
    },
    {
     "data": {
      "text/plain": [
       "'b8'"
      ]
     },
     "metadata": {},
     "output_type": "display_data"
    },
    {
     "data": {
      "text/plain": [
       "[36308.76000000001, 50000, 63.58456247571618, 14751.618494366154, 232.0, 62.7]"
      ]
     },
     "metadata": {},
     "output_type": "display_data"
    },
    {
     "data": {
      "text/plain": [
       "'b8'"
      ]
     },
     "metadata": {},
     "output_type": "display_data"
    },
    {
     "data": {
      "text/plain": [
       "[34494.23000000001, 50000, 63.47183331174771, 16566.148494366153, 261.0, 62.57]"
      ]
     },
     "metadata": {},
     "output_type": "display_data"
    },
    {
     "data": {
      "text/plain": [
       "'b8'"
      ]
     },
     "metadata": {},
     "output_type": "display_data"
    },
    {
     "data": {
      "text/plain": [
       "[28747.95000000001, 50000, 62.32521925800601, 22312.42849436615, 358.0, 59.24]"
      ]
     },
     "metadata": {},
     "output_type": "display_data"
    },
    {
     "data": {
      "text/plain": [
       "'b7'"
      ]
     },
     "metadata": {},
     "output_type": "display_data"
    },
    {
     "data": {
      "text/plain": [
       "[23988.390000000014, 50000, 61.6673997593762, 27071.988494366153, 439.0, 58.76]"
      ]
     },
     "metadata": {},
     "output_type": "display_data"
    },
    {
     "data": {
      "text/plain": [
       "'b7'"
      ]
     },
     "metadata": {},
     "output_type": "display_data"
    },
    {
     "data": {
      "text/plain": [
       "[20046.430000000015, 50000, 61.1714960441147, 31013.948494366152, 507.0, 57.97]"
      ]
     },
     "metadata": {},
     "output_type": "display_data"
    },
    {
     "data": {
      "text/plain": [
       "'b7'"
      ]
     },
     "metadata": {},
     "output_type": "display_data"
    },
    {
     "data": {
      "text/plain": [
       "[16762.090000000015,\n",
       " 50000,\n",
       " 60.812568252422246,\n",
       " 34298.28849436615,\n",
       " 564.0,\n",
       " 57.62]"
      ]
     },
     "metadata": {},
     "output_type": "display_data"
    },
    {
     "data": {
      "text/plain": [
       "'b7'"
      ]
     },
     "metadata": {},
     "output_type": "display_data"
    },
    {
     "data": {
      "text/plain": [
       "[14000.650000000014, 50000, 60.55511191889894, 37059.72849436615, 612.0, 57.53]"
      ]
     },
     "metadata": {},
     "output_type": "display_data"
    },
    {
     "data": {
      "text/plain": [
       "'b7'"
      ]
     },
     "metadata": {},
     "output_type": "display_data"
    },
    {
     "data": {
      "text/plain": [
       "[11710.250000000015,\n",
       " 50000,\n",
       " 60.352957813445016,\n",
       " 39350.12849436615,\n",
       " 652.0,\n",
       " 57.26]"
      ]
     },
     "metadata": {},
     "output_type": "display_data"
    },
    {
     "data": {
      "text/plain": [
       "'b7'"
      ]
     },
     "metadata": {},
     "output_type": "display_data"
    },
    {
     "data": {
      "text/plain": [
       "[9775.650000000014, 50000, 60.18181996263287, 41284.72849436615, 686.0, 56.9]"
      ]
     },
     "metadata": {},
     "output_type": "display_data"
    },
    {
     "data": {
      "text/plain": [
       "'b7'"
      ]
     },
     "metadata": {},
     "output_type": "display_data"
    },
    {
     "data": {
      "text/plain": [
       "[8183.850000000014, 50000, 60.05116035625512, 42876.52849436615, 714.0, 56.85]"
      ]
     },
     "metadata": {},
     "output_type": "display_data"
    },
    {
     "data": {
      "text/plain": [
       "'b7'"
      ]
     },
     "metadata": {},
     "output_type": "display_data"
    },
    {
     "data": {
      "text/plain": [
       "[6840.570000000014, 50000, 59.91843969426308, 44219.80849436615, 738.0, 55.97]"
      ]
     },
     "metadata": {},
     "output_type": "display_data"
    },
    {
     "data": {
      "text/plain": [
       "'b7'"
      ]
     },
     "metadata": {},
     "output_type": "display_data"
    },
    {
     "data": {
      "text/plain": [
       "[5739.770000000014, 50000, 59.78972096882079, 45320.608494366155, 758.0, 55.04]"
      ]
     },
     "metadata": {},
     "output_type": "display_data"
    },
    {
     "data": {
      "text/plain": [
       "'b7'"
      ]
     },
     "metadata": {},
     "output_type": "display_data"
    },
    {
     "data": {
      "text/plain": [
       "[4345.650000000014, 50000, 59.58511287546704, 46714.72849436616, 784.0, 53.62]"
      ]
     },
     "metadata": {},
     "output_type": "display_data"
    },
    {
     "data": {
      "text/plain": [
       "'b6'"
      ]
     },
     "metadata": {},
     "output_type": "display_data"
    },
    {
     "data": {
      "text/plain": [
       "[3626.360000000014, 50000, 59.51570701928, 47434.01849436616, 797.0, 55.33]"
      ]
     },
     "metadata": {},
     "output_type": "display_data"
    },
    {
     "data": {
      "text/plain": [
       "'b7'"
      ]
     },
     "metadata": {},
     "output_type": "display_data"
    },
    {
     "data": {
      "text/plain": [
       "[3023.1200000000144,\n",
       " 50000,\n",
       " 59.452052592037326,\n",
       " 48037.25849436616,\n",
       " 808.0,\n",
       " 54.84]"
      ]
     },
     "metadata": {},
     "output_type": "display_data"
    },
    {
     "data": {
      "text/plain": [
       "'b7'"
      ]
     },
     "metadata": {},
     "output_type": "display_data"
    },
    {
     "data": {
      "text/plain": [
       "[2908.8800000000147,\n",
       " 50000,\n",
       " 59.44629443748908,\n",
       " 48151.498494366155,\n",
       " 810.0,\n",
       " 57.12]"
      ]
     },
     "metadata": {},
     "output_type": "display_data"
    },
    {
     "data": {
      "text/plain": [
       "'b8'"
      ]
     },
     "metadata": {},
     "output_type": "display_data"
    },
    {
     "data": {
      "text/plain": [
       "[2458.9600000000146, 50000, 59.41493703467745, 48601.41849436615, 818.0, 56.24]"
      ]
     },
     "metadata": {},
     "output_type": "display_data"
    },
    {
     "data": {
      "text/plain": [
       "'b7'"
      ]
     },
     "metadata": {},
     "output_type": "display_data"
    },
    {
     "data": {
      "text/plain": [
       "[2344.5200000000145,\n",
       " 50000,\n",
       " 59.40958352971482,\n",
       " 48715.858494366155,\n",
       " 820.0,\n",
       " 57.22]"
      ]
     },
     "metadata": {},
     "output_type": "display_data"
    },
    {
     "data": {
      "text/plain": [
       "'b8'"
      ]
     },
     "metadata": {},
     "output_type": "display_data"
    },
    {
     "data": {
      "text/plain": [
       "[1954.8300000000145, 50000, 59.37793046477165, 49105.54849436616, 827.0, 55.67]"
      ]
     },
     "metadata": {},
     "output_type": "display_data"
    },
    {
     "data": {
      "text/plain": [
       "'b7'"
      ]
     },
     "metadata": {},
     "output_type": "display_data"
    },
    {
     "data": {
      "text/plain": [
       "[1678.5300000000145, 50000, 59.35318328649779, 49381.84849436616, 832.0, 55.26]"
      ]
     },
     "metadata": {},
     "output_type": "display_data"
    },
    {
     "data": {
      "text/plain": [
       "'b7'"
      ]
     },
     "metadata": {},
     "output_type": "display_data"
    },
    {
     "data": {
      "text/plain": [
       "[1398.9800000000146, 50000, 59.33261468860952, 49661.39849436616, 837.0, 55.91]"
      ]
     },
     "metadata": {},
     "output_type": "display_data"
    },
    {
     "data": {
      "text/plain": [
       "'b7'"
      ]
     },
     "metadata": {},
     "output_type": "display_data"
    },
    {
     "data": {
      "text/plain": [
       "[1342.2300000000146, 50000, 59.32953280950616, 49718.14849436616, 838.0, 56.75]"
      ]
     },
     "metadata": {},
     "output_type": "display_data"
    },
    {
     "data": {
      "text/plain": [
       "'b8'"
      ]
     },
     "metadata": {},
     "output_type": "display_data"
    },
    {
     "data": {
      "text/plain": [
       "[1173.8100000000145, 50000, 59.31815516571482, 49886.56849436616, 841.0, 56.14]"
      ]
     },
     "metadata": {},
     "output_type": "display_data"
    },
    {
     "data": {
      "text/plain": [
       "'b7'"
      ]
     },
     "metadata": {},
     "output_type": "display_data"
    },
    {
     "data": {
      "text/plain": [
       "[1005.7800000000145,\n",
       " 50000,\n",
       " 59.306396320339054,\n",
       " 50054.59849436616,\n",
       " 844.0,\n",
       " 56.01]"
      ]
     },
     "metadata": {},
     "output_type": "display_data"
    },
    {
     "data": {
      "text/plain": [
       "'b7'"
      ]
     },
     "metadata": {},
     "output_type": "display_data"
    },
    {
     "data": {
      "text/plain": [
       "[893.6000000000145, 50000, 59.298792546532106, 50166.77849436616, 846.0, 56.09]"
      ]
     },
     "metadata": {},
     "output_type": "display_data"
    },
    {
     "data": {
      "text/plain": [
       "'b7'"
      ]
     },
     "metadata": {},
     "output_type": "display_data"
    },
    {
     "data": {
      "text/plain": [
       "[781.6800000000145, 50000, 59.29091803580915, 50278.69849436616, 848.0, 55.96]"
      ]
     },
     "metadata": {},
     "output_type": "display_data"
    },
    {
     "data": {
      "text/plain": [
       "'b7'"
      ]
     },
     "metadata": {},
     "output_type": "display_data"
    },
    {
     "data": {
      "text/plain": [
       "[670.9000000000145, 50000, 59.281739405136655, 50389.47849436616, 850.0, 55.39]"
      ]
     },
     "metadata": {},
     "output_type": "display_data"
    },
    {
     "data": {
      "text/plain": [
       "'b7'"
      ]
     },
     "metadata": {},
     "output_type": "display_data"
    },
    {
     "data": {
      "text/plain": [
       "[559.2800000000145, 50000, 59.273589782119906, 50501.09849436616, 852.0, 55.81]"
      ]
     },
     "metadata": {},
     "output_type": "display_data"
    },
    {
     "data": {
      "text/plain": [
       "'b7'"
      ]
     },
     "metadata": {},
     "output_type": "display_data"
    },
    {
     "data": {
      "text/plain": [
       "[504.3100000000145, 50000, 59.26854454204708, 50556.06849436616, 853.0, 54.97]"
      ]
     },
     "metadata": {},
     "output_type": "display_data"
    },
    {
     "data": {
      "text/plain": [
       "'b7'"
      ]
     },
     "metadata": {},
     "output_type": "display_data"
    },
    {
     "data": {
      "text/plain": [
       "[449.6700000000145, 50000, 59.26312470066295, 50610.70849436616, 854.0, 54.64]"
      ]
     },
     "metadata": {},
     "output_type": "display_data"
    },
    {
     "data": {
      "text/plain": [
       "'b7'"
      ]
     },
     "metadata": {},
     "output_type": "display_data"
    },
    {
     "data": {
      "text/plain": [
       "[393.71000000001453,\n",
       " 50000,\n",
       " 59.259261396919484,\n",
       " 50666.66849436616,\n",
       " 855.0,\n",
       " 55.96]"
      ]
     },
     "metadata": {},
     "output_type": "display_data"
    },
    {
     "data": {
      "text/plain": [
       "'b7'"
      ]
     },
     "metadata": {},
     "output_type": "display_data"
    },
    {
     "data": {
      "text/plain": [
       "[340.71000000001453, 50000, 59.2519491756614, 50719.66849436616, 856.0, 53.0]"
      ]
     },
     "metadata": {},
     "output_type": "display_data"
    },
    {
     "data": {
      "text/plain": [
       "'b6'"
      ]
     },
     "metadata": {},
     "output_type": "display_data"
    },
    {
     "data": {
      "text/plain": [
       "[287.5300000000145, 50000, 59.24486405410287, 50772.84849436616, 857.0, 53.18]"
      ]
     },
     "metadata": {},
     "output_type": "display_data"
    },
    {
     "data": {
      "text/plain": [
       "'b6'"
      ]
     },
     "metadata": {},
     "output_type": "display_data"
    },
    {
     "data": {
      "text/plain": [
       "[234.46000000001453, 50000, 59.237667242851, 50825.91849436616, 858.0, 53.07]"
      ]
     },
     "metadata": {},
     "output_type": "display_data"
    },
    {
     "data": {
      "text/plain": [
       "'b6'"
      ]
     },
     "metadata": {},
     "output_type": "display_data"
    },
    {
     "data": {
      "text/plain": [
       "[234.46000000001453, 50000, 59.237667242851, 50825.91849436616, 858.0, 53.68]"
      ]
     },
     "metadata": {},
     "output_type": "display_data"
    },
    {
     "data": {
      "text/plain": [
       "'b7'"
      ]
     },
     "metadata": {},
     "output_type": "display_data"
    },
    {
     "data": {
      "text/plain": [
       "[234.46000000001453, 50000, 59.237667242851, 50825.91849436616, 858.0, 53.9]"
      ]
     },
     "metadata": {},
     "output_type": "display_data"
    },
    {
     "data": {
      "text/plain": [
       "'b7'"
      ]
     },
     "metadata": {},
     "output_type": "display_data"
    },
    {
     "data": {
      "text/plain": [
       "[234.46000000001453, 50000, 59.237667242851, 50825.91849436616, 858.0, 53.89]"
      ]
     },
     "metadata": {},
     "output_type": "display_data"
    },
    {
     "data": {
      "text/plain": [
       "'b7'"
      ]
     },
     "metadata": {},
     "output_type": "display_data"
    },
    {
     "data": {
      "text/plain": [
       "[234.46000000001453, 50000, 59.237667242851, 50825.91849436616, 858.0, 53.94]"
      ]
     },
     "metadata": {},
     "output_type": "display_data"
    },
    {
     "data": {
      "text/plain": [
       "'b7'"
      ]
     },
     "metadata": {},
     "output_type": "display_data"
    },
    {
     "data": {
      "text/plain": [
       "[234.46000000001453, 50000, 59.237667242851, 50825.91849436616, 858.0, 53.54]"
      ]
     },
     "metadata": {},
     "output_type": "display_data"
    },
    {
     "data": {
      "text/plain": [
       "'b7'"
      ]
     },
     "metadata": {},
     "output_type": "display_data"
    },
    {
     "data": {
      "text/plain": [
       "[234.46000000001453, 50000, 59.237667242851, 50825.91849436616, 858.0, 53.49]"
      ]
     },
     "metadata": {},
     "output_type": "display_data"
    },
    {
     "data": {
      "text/plain": [
       "'b7'"
      ]
     },
     "metadata": {},
     "output_type": "display_data"
    },
    {
     "data": {
      "text/plain": [
       "[234.46000000001453, 50000, 59.237667242851, 50825.91849436616, 858.0, 53.47]"
      ]
     },
     "metadata": {},
     "output_type": "display_data"
    },
    {
     "data": {
      "text/plain": [
       "'b7'"
      ]
     },
     "metadata": {},
     "output_type": "display_data"
    },
    {
     "data": {
      "text/plain": [
       "[181.77000000001453,\n",
       " 50000,\n",
       " 59.230044812999026,\n",
       " 50878.60849436616,\n",
       " 859.0,\n",
       " 52.69]"
      ]
     },
     "metadata": {},
     "output_type": "display_data"
    },
    {
     "data": {
      "text/plain": [
       "'b6'"
      ]
     },
     "metadata": {},
     "output_type": "display_data"
    },
    {
     "data": {
      "text/plain": [
       "[181.77000000001453,\n",
       " 50000,\n",
       " 59.230044812999026,\n",
       " 50878.60849436616,\n",
       " 859.0,\n",
       " 52.19]"
      ]
     },
     "metadata": {},
     "output_type": "display_data"
    },
    {
     "data": {
      "text/plain": [
       "'b6'"
      ]
     },
     "metadata": {},
     "output_type": "display_data"
    },
    {
     "data": {
      "text/plain": [
       "[181.77000000001453,\n",
       " 50000,\n",
       " 59.230044812999026,\n",
       " 50878.60849436616,\n",
       " 859.0,\n",
       " 52.01]"
      ]
     },
     "metadata": {},
     "output_type": "display_data"
    },
    {
     "data": {
      "text/plain": [
       "'b6'"
      ]
     },
     "metadata": {},
     "output_type": "display_data"
    },
    {
     "data": {
      "text/plain": [
       "[181.77000000001453,\n",
       " 50000,\n",
       " 59.230044812999026,\n",
       " 50878.60849436616,\n",
       " 859.0,\n",
       " 53.13]"
      ]
     },
     "metadata": {},
     "output_type": "display_data"
    },
    {
     "data": {
      "text/plain": [
       "'b6'"
      ]
     },
     "metadata": {},
     "output_type": "display_data"
    },
    {
     "data": {
      "text/plain": [
       "[181.77000000001453,\n",
       " 50000,\n",
       " 59.230044812999026,\n",
       " 50878.60849436616,\n",
       " 859.0,\n",
       " 53.67]"
      ]
     },
     "metadata": {},
     "output_type": "display_data"
    },
    {
     "data": {
      "text/plain": [
       "'b7'"
      ]
     },
     "metadata": {},
     "output_type": "display_data"
    },
    {
     "data": {
      "text/plain": [
       "[181.77000000001453,\n",
       " 50000,\n",
       " 59.230044812999026,\n",
       " 50878.60849436616,\n",
       " 859.0,\n",
       " 53.51]"
      ]
     },
     "metadata": {},
     "output_type": "display_data"
    },
    {
     "data": {
      "text/plain": [
       "'b7'"
      ]
     },
     "metadata": {},
     "output_type": "display_data"
    },
    {
     "data": {
      "text/plain": [
       "[181.77000000001453,\n",
       " 50000,\n",
       " 59.230044812999026,\n",
       " 50878.60849436616,\n",
       " 859.0,\n",
       " 53.57]"
      ]
     },
     "metadata": {},
     "output_type": "display_data"
    },
    {
     "data": {
      "text/plain": [
       "'b7'"
      ]
     },
     "metadata": {},
     "output_type": "display_data"
    },
    {
     "data": {
      "text/plain": [
       "[181.77000000001453, 50000, 59.230044812999026, 50878.60849436616, 859.0, 53.4]"
      ]
     },
     "metadata": {},
     "output_type": "display_data"
    },
    {
     "data": {
      "text/plain": [
       "'b7'"
      ]
     },
     "metadata": {},
     "output_type": "display_data"
    },
    {
     "data": {
      "text/plain": [
       "[181.77000000001453,\n",
       " 50000,\n",
       " 59.230044812999026,\n",
       " 50878.60849436616,\n",
       " 859.0,\n",
       " 54.52]"
      ]
     },
     "metadata": {},
     "output_type": "display_data"
    },
    {
     "data": {
      "text/plain": [
       "'b7'"
      ]
     },
     "metadata": {},
     "output_type": "display_data"
    },
    {
     "data": {
      "text/plain": [
       "[181.77000000001453,\n",
       " 50000,\n",
       " 59.230044812999026,\n",
       " 50878.60849436616,\n",
       " 859.0,\n",
       " 54.83]"
      ]
     },
     "metadata": {},
     "output_type": "display_data"
    },
    {
     "data": {
      "text/plain": [
       "'b7'"
      ]
     },
     "metadata": {},
     "output_type": "display_data"
    },
    {
     "data": {
      "text/plain": [
       "[181.77000000001453,\n",
       " 50000,\n",
       " 59.230044812999026,\n",
       " 50878.60849436616,\n",
       " 859.0,\n",
       " 54.26]"
      ]
     },
     "metadata": {},
     "output_type": "display_data"
    },
    {
     "data": {
      "text/plain": [
       "'b7'"
      ]
     },
     "metadata": {},
     "output_type": "display_data"
    },
    {
     "data": {
      "text/plain": [
       "[181.77000000001453,\n",
       " 50000,\n",
       " 59.230044812999026,\n",
       " 50878.60849436616,\n",
       " 859.0,\n",
       " 52.98]"
      ]
     },
     "metadata": {},
     "output_type": "display_data"
    },
    {
     "data": {
      "text/plain": [
       "'b6'"
      ]
     },
     "metadata": {},
     "output_type": "display_data"
    },
    {
     "data": {
      "text/plain": [
       "[181.77000000001453,\n",
       " 50000,\n",
       " 59.230044812999026,\n",
       " 50878.60849436616,\n",
       " 859.0,\n",
       " 52.87]"
      ]
     },
     "metadata": {},
     "output_type": "display_data"
    },
    {
     "data": {
      "text/plain": [
       "'b6'"
      ]
     },
     "metadata": {},
     "output_type": "display_data"
    },
    {
     "data": {
      "text/plain": [
       "[181.77000000001453, 50000, 59.230044812999026, 50878.60849436616, 859.0, 54.0]"
      ]
     },
     "metadata": {},
     "output_type": "display_data"
    },
    {
     "data": {
      "text/plain": [
       "'b7'"
      ]
     },
     "metadata": {},
     "output_type": "display_data"
    },
    {
     "data": {
      "text/plain": [
       "[181.77000000001453,\n",
       " 50000,\n",
       " 59.230044812999026,\n",
       " 50878.60849436616,\n",
       " 859.0,\n",
       " 53.49]"
      ]
     },
     "metadata": {},
     "output_type": "display_data"
    },
    {
     "data": {
      "text/plain": [
       "'b7'"
      ]
     },
     "metadata": {},
     "output_type": "display_data"
    },
    {
     "data": {
      "text/plain": [
       "[181.77000000001453,\n",
       " 50000,\n",
       " 59.230044812999026,\n",
       " 50878.60849436616,\n",
       " 859.0,\n",
       " 53.28]"
      ]
     },
     "metadata": {},
     "output_type": "display_data"
    },
    {
     "data": {
      "text/plain": [
       "'b6'"
      ]
     },
     "metadata": {},
     "output_type": "display_data"
    },
    {
     "data": {
      "text/plain": [
       "[181.77000000001453,\n",
       " 50000,\n",
       " 59.230044812999026,\n",
       " 50878.60849436616,\n",
       " 859.0,\n",
       " 53.47]"
      ]
     },
     "metadata": {},
     "output_type": "display_data"
    },
    {
     "data": {
      "text/plain": [
       "'b7'"
      ]
     },
     "metadata": {},
     "output_type": "display_data"
    },
    {
     "data": {
      "text/plain": [
       "[181.77000000001453,\n",
       " 50000,\n",
       " 59.230044812999026,\n",
       " 50878.60849436616,\n",
       " 859.0,\n",
       " 53.81]"
      ]
     },
     "metadata": {},
     "output_type": "display_data"
    },
    {
     "data": {
      "text/plain": [
       "'b7'"
      ]
     },
     "metadata": {},
     "output_type": "display_data"
    },
    {
     "data": {
      "text/plain": [
       "[181.77000000001453,\n",
       " 50000,\n",
       " 59.230044812999026,\n",
       " 50878.60849436616,\n",
       " 859.0,\n",
       " 53.44]"
      ]
     },
     "metadata": {},
     "output_type": "display_data"
    },
    {
     "data": {
      "text/plain": [
       "'b7'"
      ]
     },
     "metadata": {},
     "output_type": "display_data"
    },
    {
     "data": {
      "text/plain": [
       "[181.77000000001453,\n",
       " 50000,\n",
       " 59.230044812999026,\n",
       " 50878.60849436616,\n",
       " 859.0,\n",
       " 52.17]"
      ]
     },
     "metadata": {},
     "output_type": "display_data"
    },
    {
     "data": {
      "text/plain": [
       "'b6'"
      ]
     },
     "metadata": {},
     "output_type": "display_data"
    },
    {
     "data": {
      "text/plain": [
       "[6.6300000000155705,\n",
       " 25000,\n",
       " 55.59484539061853,\n",
       " 76053.74849436615,\n",
       " 1368.0,\n",
       " 49.46]"
      ]
     },
     "metadata": {},
     "output_type": "display_data"
    },
    {
     "data": {
      "text/plain": [
       "'b11, used emergency balance'"
      ]
     },
     "metadata": {},
     "output_type": "display_data"
    },
    {
     "data": {
      "text/plain": [
       "[6.6300000000155705,\n",
       " 25000,\n",
       " 55.59484539061853,\n",
       " 76053.74849436615,\n",
       " 1368.0,\n",
       " 49.41]"
      ]
     },
     "metadata": {},
     "output_type": "display_data"
    },
    {
     "data": {
      "text/plain": [
       "'b6'"
      ]
     },
     "metadata": {},
     "output_type": "display_data"
    },
    {
     "data": {
      "text/plain": [
       "[6.6300000000155705,\n",
       " 25000,\n",
       " 55.59484539061853,\n",
       " 76053.74849436615,\n",
       " 1368.0,\n",
       " 48.28]"
      ]
     },
     "metadata": {},
     "output_type": "display_data"
    },
    {
     "data": {
      "text/plain": [
       "'b6'"
      ]
     },
     "metadata": {},
     "output_type": "display_data"
    },
    {
     "data": {
      "text/plain": [
       "[6.6300000000155705,\n",
       " 25000,\n",
       " 55.59484539061853,\n",
       " 76053.74849436615,\n",
       " 1368.0,\n",
       " 47.89]"
      ]
     },
     "metadata": {},
     "output_type": "display_data"
    },
    {
     "data": {
      "text/plain": [
       "'b6'"
      ]
     },
     "metadata": {},
     "output_type": "display_data"
    },
    {
     "data": {
      "text/plain": [
       "[6.6300000000155705,\n",
       " 25000,\n",
       " 55.59484539061853,\n",
       " 76053.74849436615,\n",
       " 1368.0,\n",
       " 50.31]"
      ]
     },
     "metadata": {},
     "output_type": "display_data"
    },
    {
     "data": {
      "text/plain": [
       "'b7'"
      ]
     },
     "metadata": {},
     "output_type": "display_data"
    },
    {
     "data": {
      "text/plain": [
       "[6.6300000000155705, 25000, 55.59484539061853, 76053.74849436615, 1368.0, 51.2]"
      ]
     },
     "metadata": {},
     "output_type": "display_data"
    },
    {
     "data": {
      "text/plain": [
       "'b7'"
      ]
     },
     "metadata": {},
     "output_type": "display_data"
    },
    {
     "data": {
      "text/plain": [
       "[6.6300000000155705,\n",
       " 25000,\n",
       " 55.59484539061853,\n",
       " 76053.74849436615,\n",
       " 1368.0,\n",
       " 50.76]"
      ]
     },
     "metadata": {},
     "output_type": "display_data"
    },
    {
     "data": {
      "text/plain": [
       "'b7'"
      ]
     },
     "metadata": {},
     "output_type": "display_data"
    },
    {
     "data": {
      "text/plain": [
       "[6.6300000000155705,\n",
       " 25000,\n",
       " 55.59484539061853,\n",
       " 76053.74849436615,\n",
       " 1368.0,\n",
       " 50.53]"
      ]
     },
     "metadata": {},
     "output_type": "display_data"
    },
    {
     "data": {
      "text/plain": [
       "'b7'"
      ]
     },
     "metadata": {},
     "output_type": "display_data"
    },
    {
     "data": {
      "text/plain": [
       "[6.6300000000155705,\n",
       " 25000,\n",
       " 55.59484539061853,\n",
       " 76053.74849436615,\n",
       " 1368.0,\n",
       " 50.31]"
      ]
     },
     "metadata": {},
     "output_type": "display_data"
    },
    {
     "data": {
      "text/plain": [
       "'b7'"
      ]
     },
     "metadata": {},
     "output_type": "display_data"
    },
    {
     "data": {
      "text/plain": [
       "[6.6300000000155705,\n",
       " 25000,\n",
       " 55.59484539061853,\n",
       " 76053.74849436615,\n",
       " 1368.0,\n",
       " 50.23]"
      ]
     },
     "metadata": {},
     "output_type": "display_data"
    },
    {
     "data": {
      "text/plain": [
       "'b7'"
      ]
     },
     "metadata": {},
     "output_type": "display_data"
    },
    {
     "data": {
      "text/plain": [
       "[6.6300000000155705,\n",
       " 25000,\n",
       " 55.59484539061853,\n",
       " 76053.74849436615,\n",
       " 1368.0,\n",
       " 49.68]"
      ]
     },
     "metadata": {},
     "output_type": "display_data"
    },
    {
     "data": {
      "text/plain": [
       "'b6'"
      ]
     },
     "metadata": {},
     "output_type": "display_data"
    },
    {
     "data": {
      "text/plain": [
       "[6.6300000000155705,\n",
       " 25000,\n",
       " 55.59484539061853,\n",
       " 76053.74849436615,\n",
       " 1368.0,\n",
       " 49.52]"
      ]
     },
     "metadata": {},
     "output_type": "display_data"
    },
    {
     "data": {
      "text/plain": [
       "'b6'"
      ]
     },
     "metadata": {},
     "output_type": "display_data"
    },
    {
     "data": {
      "text/plain": [
       "[6.6300000000155705, 25000, 55.59484539061853, 76053.74849436615, 1368.0, 49.1]"
      ]
     },
     "metadata": {},
     "output_type": "display_data"
    },
    {
     "data": {
      "text/plain": [
       "'b6'"
      ]
     },
     "metadata": {},
     "output_type": "display_data"
    },
    {
     "data": {
      "text/plain": [
       "[6.6300000000155705,\n",
       " 25000,\n",
       " 55.59484539061853,\n",
       " 76053.74849436615,\n",
       " 1368.0,\n",
       " 48.78]"
      ]
     },
     "metadata": {},
     "output_type": "display_data"
    },
    {
     "data": {
      "text/plain": [
       "'b6'"
      ]
     },
     "metadata": {},
     "output_type": "display_data"
    },
    {
     "data": {
      "text/plain": [
       "[6.6300000000155705, 25000, 55.59484539061853, 76053.74849436615, 1368.0, 49.2]"
      ]
     },
     "metadata": {},
     "output_type": "display_data"
    },
    {
     "data": {
      "text/plain": [
       "'b6'"
      ]
     },
     "metadata": {},
     "output_type": "display_data"
    },
    {
     "data": {
      "text/plain": [
       "[6.6300000000155705, 25000, 55.59484539061853, 76053.74849436615, 1368.0, 48.6]"
      ]
     },
     "metadata": {},
     "output_type": "display_data"
    },
    {
     "data": {
      "text/plain": [
       "'b6'"
      ]
     },
     "metadata": {},
     "output_type": "display_data"
    },
    {
     "data": {
      "text/plain": [
       "[6.6300000000155705,\n",
       " 25000,\n",
       " 55.59484539061853,\n",
       " 76053.74849436615,\n",
       " 1368.0,\n",
       " 49.25]"
      ]
     },
     "metadata": {},
     "output_type": "display_data"
    },
    {
     "data": {
      "text/plain": [
       "'b6'"
      ]
     },
     "metadata": {},
     "output_type": "display_data"
    },
    {
     "data": {
      "text/plain": [
       "[6.6300000000155705,\n",
       " 25000,\n",
       " 55.59484539061853,\n",
       " 76053.74849436615,\n",
       " 1368.0,\n",
       " 51.75]"
      ]
     },
     "metadata": {},
     "output_type": "display_data"
    },
    {
     "data": {
      "text/plain": [
       "'b7'"
      ]
     },
     "metadata": {},
     "output_type": "display_data"
    },
    {
     "data": {
      "text/plain": [
       "[6.6300000000155705,\n",
       " 25000,\n",
       " 55.59484539061853,\n",
       " 76053.74849436615,\n",
       " 1368.0,\n",
       " 50.48]"
      ]
     },
     "metadata": {},
     "output_type": "display_data"
    },
    {
     "data": {
      "text/plain": [
       "'b7'"
      ]
     },
     "metadata": {},
     "output_type": "display_data"
    },
    {
     "data": {
      "text/plain": [
       "[6.6300000000155705, 25000, 55.59484539061853, 76053.74849436615, 1368.0, 50.0]"
      ]
     },
     "metadata": {},
     "output_type": "display_data"
    },
    {
     "data": {
      "text/plain": [
       "'b6'"
      ]
     },
     "metadata": {},
     "output_type": "display_data"
    },
    {
     "data": {
      "text/plain": [
       "[6.6300000000155705, 25000, 55.59484539061853, 76053.74849436615, 1368.0, 49.7]"
      ]
     },
     "metadata": {},
     "output_type": "display_data"
    },
    {
     "data": {
      "text/plain": [
       "'b6'"
      ]
     },
     "metadata": {},
     "output_type": "display_data"
    },
    {
     "data": {
      "text/plain": [
       "[6.6300000000155705,\n",
       " 25000,\n",
       " 55.59484539061853,\n",
       " 76053.74849436615,\n",
       " 1368.0,\n",
       " 50.62]"
      ]
     },
     "metadata": {},
     "output_type": "display_data"
    },
    {
     "data": {
      "text/plain": [
       "'b7'"
      ]
     },
     "metadata": {},
     "output_type": "display_data"
    },
    {
     "data": {
      "text/plain": [
       "[6.6300000000155705, 25000, 55.59484539061853, 76053.74849436615, 1368.0, 49.6]"
      ]
     },
     "metadata": {},
     "output_type": "display_data"
    },
    {
     "data": {
      "text/plain": [
       "'b6'"
      ]
     },
     "metadata": {},
     "output_type": "display_data"
    },
    {
     "data": {
      "text/plain": [
       "[6.6300000000155705,\n",
       " 25000,\n",
       " 55.59484539061853,\n",
       " 76053.74849436615,\n",
       " 1368.0,\n",
       " 51.76]"
      ]
     },
     "metadata": {},
     "output_type": "display_data"
    },
    {
     "data": {
      "text/plain": [
       "'b7'"
      ]
     },
     "metadata": {},
     "output_type": "display_data"
    },
    {
     "data": {
      "text/plain": [
       "[6.6300000000155705,\n",
       " 25000,\n",
       " 55.59484539061853,\n",
       " 76053.74849436615,\n",
       " 1368.0,\n",
       " 51.74]"
      ]
     },
     "metadata": {},
     "output_type": "display_data"
    },
    {
     "data": {
      "text/plain": [
       "'b7'"
      ]
     },
     "metadata": {},
     "output_type": "display_data"
    },
    {
     "data": {
      "text/plain": [
       "[6.6300000000155705, 25000, 55.59484539061853, 76053.74849436615, 1368.0, 51.5]"
      ]
     },
     "metadata": {},
     "output_type": "display_data"
    },
    {
     "data": {
      "text/plain": [
       "'b7'"
      ]
     },
     "metadata": {},
     "output_type": "display_data"
    },
    {
     "data": {
      "text/plain": [
       "[6.6300000000155705,\n",
       " 25000,\n",
       " 55.59484539061853,\n",
       " 76053.74849436615,\n",
       " 1368.0,\n",
       " 53.44]"
      ]
     },
     "metadata": {},
     "output_type": "display_data"
    },
    {
     "data": {
      "text/plain": [
       "'b8'"
      ]
     },
     "metadata": {},
     "output_type": "display_data"
    },
    {
     "data": {
      "text/plain": [
       "[6.6300000000155705,\n",
       " 25000,\n",
       " 55.59484539061853,\n",
       " 76053.74849436615,\n",
       " 1368.0,\n",
       " 54.94]"
      ]
     },
     "metadata": {},
     "output_type": "display_data"
    },
    {
     "data": {
      "text/plain": [
       "'b8'"
      ]
     },
     "metadata": {},
     "output_type": "display_data"
    },
    {
     "data": {
      "text/plain": [
       "[6.6300000000155705,\n",
       " 25000,\n",
       " 55.59484539061853,\n",
       " 76053.74849436615,\n",
       " 1368.0,\n",
       " 54.76]"
      ]
     },
     "metadata": {},
     "output_type": "display_data"
    },
    {
     "data": {
      "text/plain": [
       "'b8'"
      ]
     },
     "metadata": {},
     "output_type": "display_data"
    },
    {
     "data": {
      "text/plain": [
       "[6.6300000000155705,\n",
       " 25000,\n",
       " 55.59484539061853,\n",
       " 76053.74849436615,\n",
       " 1368.0,\n",
       " 53.62]"
      ]
     },
     "metadata": {},
     "output_type": "display_data"
    },
    {
     "data": {
      "text/plain": [
       "'b8'"
      ]
     },
     "metadata": {},
     "output_type": "display_data"
    },
    {
     "data": {
      "text/plain": [
       "[6.6300000000155705,\n",
       " 25000,\n",
       " 55.59484539061853,\n",
       " 76053.74849436615,\n",
       " 1368.0,\n",
       " 52.04]"
      ]
     },
     "metadata": {},
     "output_type": "display_data"
    },
    {
     "data": {
      "text/plain": [
       "'b7'"
      ]
     },
     "metadata": {},
     "output_type": "display_data"
    },
    {
     "data": {
      "text/plain": [
       "[6.6300000000155705,\n",
       " 25000,\n",
       " 55.59484539061853,\n",
       " 76053.74849436615,\n",
       " 1368.0,\n",
       " 51.94]"
      ]
     },
     "metadata": {},
     "output_type": "display_data"
    },
    {
     "data": {
      "text/plain": [
       "'b7'"
      ]
     },
     "metadata": {},
     "output_type": "display_data"
    },
    {
     "data": {
      "text/plain": [
       "[6.6300000000155705, 25000, 55.59484539061853, 76053.74849436615, 1368.0, 51.0]"
      ]
     },
     "metadata": {},
     "output_type": "display_data"
    },
    {
     "data": {
      "text/plain": [
       "'b7'"
      ]
     },
     "metadata": {},
     "output_type": "display_data"
    },
    {
     "data": {
      "text/plain": [
       "[6.6300000000155705,\n",
       " 25000,\n",
       " 55.59484539061853,\n",
       " 76053.74849436615,\n",
       " 1368.0,\n",
       " 48.05]"
      ]
     },
     "metadata": {},
     "output_type": "display_data"
    },
    {
     "data": {
      "text/plain": [
       "'b6'"
      ]
     },
     "metadata": {},
     "output_type": "display_data"
    },
    {
     "data": {
      "text/plain": [
       "[6.6300000000155705,\n",
       " 25000,\n",
       " 55.59484539061853,\n",
       " 76053.74849436615,\n",
       " 1368.0,\n",
       " 47.73]"
      ]
     },
     "metadata": {},
     "output_type": "display_data"
    },
    {
     "data": {
      "text/plain": [
       "'b6'"
      ]
     },
     "metadata": {},
     "output_type": "display_data"
    },
    {
     "data": {
      "text/plain": [
       "[6.6300000000155705,\n",
       " 25000,\n",
       " 55.59484539061853,\n",
       " 76053.74849436615,\n",
       " 1368.0,\n",
       " 48.28]"
      ]
     },
     "metadata": {},
     "output_type": "display_data"
    },
    {
     "data": {
      "text/plain": [
       "'b6'"
      ]
     },
     "metadata": {},
     "output_type": "display_data"
    },
    {
     "data": {
      "text/plain": [
       "[6.6300000000155705,\n",
       " 25000,\n",
       " 55.59484539061853,\n",
       " 76053.74849436615,\n",
       " 1368.0,\n",
       " 48.01]"
      ]
     },
     "metadata": {},
     "output_type": "display_data"
    },
    {
     "data": {
      "text/plain": [
       "'b6'"
      ]
     },
     "metadata": {},
     "output_type": "display_data"
    },
    {
     "data": {
      "text/plain": [
       "[6.6300000000155705,\n",
       " 25000,\n",
       " 55.59484539061853,\n",
       " 76053.74849436615,\n",
       " 1368.0,\n",
       " 48.86]"
      ]
     },
     "metadata": {},
     "output_type": "display_data"
    },
    {
     "data": {
      "text/plain": [
       "'b6'"
      ]
     },
     "metadata": {},
     "output_type": "display_data"
    },
    {
     "data": {
      "text/plain": [
       "[6.6300000000155705,\n",
       " 25000,\n",
       " 55.59484539061853,\n",
       " 76053.74849436615,\n",
       " 1368.0,\n",
       " 47.63]"
      ]
     },
     "metadata": {},
     "output_type": "display_data"
    },
    {
     "data": {
      "text/plain": [
       "'b6'"
      ]
     },
     "metadata": {},
     "output_type": "display_data"
    },
    {
     "data": {
      "text/plain": [
       "[6.6300000000155705,\n",
       " 25000,\n",
       " 55.59484539061853,\n",
       " 76053.74849436615,\n",
       " 1368.0,\n",
       " 47.58]"
      ]
     },
     "metadata": {},
     "output_type": "display_data"
    },
    {
     "data": {
      "text/plain": [
       "'b6'"
      ]
     },
     "metadata": {},
     "output_type": "display_data"
    },
    {
     "data": {
      "text/plain": [
       "[6.6300000000155705,\n",
       " 25000,\n",
       " 55.59484539061853,\n",
       " 76053.74849436615,\n",
       " 1368.0,\n",
       " 48.23]"
      ]
     },
     "metadata": {},
     "output_type": "display_data"
    },
    {
     "data": {
      "text/plain": [
       "'b6'"
      ]
     },
     "metadata": {},
     "output_type": "display_data"
    },
    {
     "data": {
      "text/plain": [
       "[6.6300000000155705,\n",
       " 25000,\n",
       " 55.59484539061853,\n",
       " 76053.74849436615,\n",
       " 1368.0,\n",
       " 47.57]"
      ]
     },
     "metadata": {},
     "output_type": "display_data"
    },
    {
     "data": {
      "text/plain": [
       "'b6'"
      ]
     },
     "metadata": {},
     "output_type": "display_data"
    },
    {
     "data": {
      "text/plain": [
       "[6.6300000000155705,\n",
       " 25000,\n",
       " 55.59484539061853,\n",
       " 76053.74849436615,\n",
       " 1368.0,\n",
       " 45.04]"
      ]
     },
     "metadata": {},
     "output_type": "display_data"
    },
    {
     "data": {
      "text/plain": [
       "'b6'"
      ]
     },
     "metadata": {},
     "output_type": "display_data"
    },
    {
     "data": {
      "text/plain": [
       "[6.6300000000155705,\n",
       " 25000,\n",
       " 55.59484539061853,\n",
       " 76053.74849436615,\n",
       " 1368.0,\n",
       " 44.69]"
      ]
     },
     "metadata": {},
     "output_type": "display_data"
    },
    {
     "data": {
      "text/plain": [
       "'b6'"
      ]
     },
     "metadata": {},
     "output_type": "display_data"
    },
    {
     "data": {
      "text/plain": [
       "[6.6300000000155705,\n",
       " 25000,\n",
       " 55.59484539061853,\n",
       " 76053.74849436615,\n",
       " 1368.0,\n",
       " 44.65]"
      ]
     },
     "metadata": {},
     "output_type": "display_data"
    },
    {
     "data": {
      "text/plain": [
       "'b6'"
      ]
     },
     "metadata": {},
     "output_type": "display_data"
    },
    {
     "data": {
      "text/plain": [
       "[6.6300000000155705, 25000, 55.59484539061853, 76053.74849436615, 1368.0, 47.7]"
      ]
     },
     "metadata": {},
     "output_type": "display_data"
    },
    {
     "data": {
      "text/plain": [
       "'b6'"
      ]
     },
     "metadata": {},
     "output_type": "display_data"
    },
    {
     "data": {
      "text/plain": [
       "[6.6300000000155705,\n",
       " 25000,\n",
       " 55.59484539061853,\n",
       " 76053.74849436615,\n",
       " 1368.0,\n",
       " 46.82]"
      ]
     },
     "metadata": {},
     "output_type": "display_data"
    },
    {
     "data": {
      "text/plain": [
       "'b6'"
      ]
     },
     "metadata": {},
     "output_type": "display_data"
    },
    {
     "data": {
      "text/plain": [
       "[6.6300000000155705,\n",
       " 25000,\n",
       " 55.59484539061853,\n",
       " 76053.74849436615,\n",
       " 1368.0,\n",
       " 47.93]"
      ]
     },
     "metadata": {},
     "output_type": "display_data"
    },
    {
     "data": {
      "text/plain": [
       "'b6'"
      ]
     },
     "metadata": {},
     "output_type": "display_data"
    },
    {
     "data": {
      "text/plain": [
       "'TMUS'"
      ]
     },
     "metadata": {},
     "output_type": "display_data"
    },
    {
     "data": {
      "text/plain": [
       "['TMUS', 'is under calculation, start money is 10000000\\\\ / 100000$']"
      ]
     },
     "metadata": {},
     "output_type": "display_data"
    },
    {
     "data": {
      "text/plain": [
       "[40017.44, 50000, 118.83999999999999, 9982.56, 84.0, 118.84]"
      ]
     },
     "metadata": {},
     "output_type": "display_data"
    },
    {
     "data": {
      "text/plain": [
       "0"
      ]
     },
     "metadata": {},
     "output_type": "display_data"
    },
    {
     "data": {
      "text/plain": [
       "[38127.590000000004, 50000, 119.92333333333333, 11872.41, 99.0, 125.99]"
      ]
     },
     "metadata": {},
     "output_type": "display_data"
    },
    {
     "data": {
      "text/plain": [
       "'b8'"
      ]
     },
     "metadata": {},
     "output_type": "display_data"
    },
    {
     "data": {
      "text/plain": [
       "[36243.14000000001, 50000, 120.67421052631579, 13756.86, 114.0, 125.63]"
      ]
     },
     "metadata": {},
     "output_type": "display_data"
    },
    {
     "data": {
      "text/plain": [
       "'b8'"
      ]
     },
     "metadata": {},
     "output_type": "display_data"
    },
    {
     "data": {
      "text/plain": [
       "[34494.40000000001, 50000, 121.1375, 15505.6, 128.0, 124.91]"
      ]
     },
     "metadata": {},
     "output_type": "display_data"
    },
    {
     "data": {
      "text/plain": [
       "'b8'"
      ]
     },
     "metadata": {},
     "output_type": "display_data"
    },
    {
     "data": {
      "text/plain": [
       "[32877.33000000001,\n",
       " 50000,\n",
       " 121.43737588652483,\n",
       " 17122.670000000002,\n",
       " 141.0,\n",
       " 124.39]"
      ]
     },
     "metadata": {},
     "output_type": "display_data"
    },
    {
     "data": {
      "text/plain": [
       "'b8'"
      ]
     },
     "metadata": {},
     "output_type": "display_data"
    },
    {
     "data": {
      "text/plain": [
       "[31286.65000000001,\n",
       " 50000,\n",
       " 121.51525974025975,\n",
       " 18713.350000000002,\n",
       " 154.0,\n",
       " 122.36]"
      ]
     },
     "metadata": {},
     "output_type": "display_data"
    },
    {
     "data": {
      "text/plain": [
       "'b8'"
      ]
     },
     "metadata": {},
     "output_type": "display_data"
    },
    {
     "data": {
      "text/plain": [
       "[29726.410000000007,\n",
       " 50000,\n",
       " 122.13006024096387,\n",
       " 20273.590000000004,\n",
       " 166.0,\n",
       " 130.02]"
      ]
     },
     "metadata": {},
     "output_type": "display_data"
    },
    {
     "data": {
      "text/plain": [
       "'b8'"
      ]
     },
     "metadata": {},
     "output_type": "display_data"
    },
    {
     "data": {
      "text/plain": [
       "[28290.360000000008,\n",
       " 50000,\n",
       " 122.65333333333335,\n",
       " 21709.640000000003,\n",
       " 177.0,\n",
       " 130.55]"
      ]
     },
     "metadata": {},
     "output_type": "display_data"
    },
    {
     "data": {
      "text/plain": [
       "'b8'"
      ]
     },
     "metadata": {},
     "output_type": "display_data"
    },
    {
     "data": {
      "text/plain": [
       "[26969.06000000001,\n",
       " 50000,\n",
       " 123.16010695187167,\n",
       " 23030.940000000002,\n",
       " 187.0,\n",
       " 132.13]"
      ]
     },
     "metadata": {},
     "output_type": "display_data"
    },
    {
     "data": {
      "text/plain": [
       "'b8'"
      ]
     },
     "metadata": {},
     "output_type": "display_data"
    },
    {
     "data": {
      "text/plain": [
       "[25684.26000000001, 50000, 123.43015228426397, 24315.74, 197.0, 128.48]"
      ]
     },
     "metadata": {},
     "output_type": "display_data"
    },
    {
     "data": {
      "text/plain": [
       "'b8'"
      ]
     },
     "metadata": {},
     "output_type": "display_data"
    },
    {
     "data": {
      "text/plain": [
       "[38829.00000000001,\n",
       " 50000,\n",
       " 123.43015228426397,\n",
       " 12219.585076142133,\n",
       " 99.0,\n",
       " 134.13]"
      ]
     },
     "metadata": {},
     "output_type": "display_data"
    },
    {
     "data": {
      "text/plain": [
       "'s3'"
      ]
     },
     "metadata": {},
     "output_type": "display_data"
    },
    {
     "data": {
      "text/plain": [
       "[45634.12000000001, 50000, 123.43015228426397, 6171.507614213199, 50.0, 138.88]"
      ]
     },
     "metadata": {},
     "output_type": "display_data"
    },
    {
     "data": {
      "text/plain": [
       "'s3'"
      ]
     },
     "metadata": {},
     "output_type": "display_data"
    },
    {
     "data": {
      "text/plain": [
       "[43461.16000000001, 50000, 126.43132748807878, 8344.4676142132, 66.0, 135.81]"
      ]
     },
     "metadata": {},
     "output_type": "display_data"
    },
    {
     "data": {
      "text/plain": [
       "'b8'"
      ]
     },
     "metadata": {},
     "output_type": "display_data"
    },
    {
     "data": {
      "text/plain": [
       "[41301.16000000001, 50000, 128.10326358796584, 10504.4676142132, 82.0, 135.0]"
      ]
     },
     "metadata": {},
     "output_type": "display_data"
    },
    {
     "data": {
      "text/plain": [
       "'b8'"
      ]
     },
     "metadata": {},
     "output_type": "display_data"
    },
    {
     "data": {
      "text/plain": [
       "[39275.36000000001, 50000, 130.5236209813875, 12530.267614213199, 96.0, 144.7]"
      ]
     },
     "metadata": {},
     "output_type": "display_data"
    },
    {
     "data": {
      "text/plain": [
       "'b8'"
      ]
     },
     "metadata": {},
     "output_type": "display_data"
    },
    {
     "data": {
      "text/plain": [
       "[37395.43000000001,\n",
       " 50000,\n",
       " 132.20364783681833,\n",
       " 14410.197614213199,\n",
       " 109.0,\n",
       " 144.61]"
      ]
     },
     "metadata": {},
     "output_type": "display_data"
    },
    {
     "data": {
      "text/plain": [
       "'b8'"
      ]
     },
     "metadata": {},
     "output_type": "display_data"
    },
    {
     "data": {
      "text/plain": [
       "[35546.57000000001, 50000, 133.27096405092786, 16259.0576142132, 122.0, 142.22]"
      ]
     },
     "metadata": {},
     "output_type": "display_data"
    },
    {
     "data": {
      "text/plain": [
       "'b8'"
      ]
     },
     "metadata": {},
     "output_type": "display_data"
    },
    {
     "data": {
      "text/plain": [
       "[33857.810000000005,\n",
       " 50000,\n",
       " 133.93893741950149,\n",
       " 17947.8176142132,\n",
       " 134.0,\n",
       " 140.73]"
      ]
     },
     "metadata": {},
     "output_type": "display_data"
    },
    {
     "data": {
      "text/plain": [
       "'b8'"
      ]
     },
     "metadata": {},
     "output_type": "display_data"
    },
    {
     "data": {
      "text/plain": [
       "[32179.490000000005,\n",
       " 50000,\n",
       " 134.42560009735067,\n",
       " 19626.1376142132,\n",
       " 146.0,\n",
       " 139.86]"
      ]
     },
     "metadata": {},
     "output_type": "display_data"
    },
    {
     "data": {
      "text/plain": [
       "'b8'"
      ]
     },
     "metadata": {},
     "output_type": "display_data"
    },
    {
     "data": {
      "text/plain": [
       "[30666.110000000004, 50000, 134.6466090077274, 21139.5176142132, 157.0, 137.58]"
      ]
     },
     "metadata": {},
     "output_type": "display_data"
    },
    {
     "data": {
      "text/plain": [
       "'b8'"
      ]
     },
     "metadata": {},
     "output_type": "display_data"
    },
    {
     "data": {
      "text/plain": [
       "[29168.680000000004, 50000, 134.7437357988881, 22636.9476142132, 168.0, 136.13]"
      ]
     },
     "metadata": {},
     "output_type": "display_data"
    },
    {
     "data": {
      "text/plain": [
       "'b8'"
      ]
     },
     "metadata": {},
     "output_type": "display_data"
    },
    {
     "data": {
      "text/plain": [
       "[27823.980000000003,\n",
       " 50000,\n",
       " 134.72835738322024,\n",
       " 23981.6476142132,\n",
       " 178.0,\n",
       " 134.47]"
      ]
     },
     "metadata": {},
     "output_type": "display_data"
    },
    {
     "data": {
      "text/plain": [
       "'b8'"
      ]
     },
     "metadata": {},
     "output_type": "display_data"
    },
    {
     "data": {
      "text/plain": [
       "[26509.58, 50000, 134.55344475645322, 25296.047614213203, 188.0, 131.44]"
      ]
     },
     "metadata": {},
     "output_type": "display_data"
    },
    {
     "data": {
      "text/plain": [
       "'b8'"
      ]
     },
     "metadata": {},
     "output_type": "display_data"
    },
    {
     "data": {
      "text/plain": [
       "[22189.2, 50000, 133.40733159555498, 29616.427614213204, 222.0, 127.07]"
      ]
     },
     "metadata": {},
     "output_type": "display_data"
    },
    {
     "data": {
      "text/plain": [
       "'b7'"
      ]
     },
     "metadata": {},
     "output_type": "display_data"
    },
    {
     "data": {
      "text/plain": [
       "[18545.93, 50000, 132.50875543511236, 33259.697614213204, 251.0, 125.63]"
      ]
     },
     "metadata": {},
     "output_type": "display_data"
    },
    {
     "data": {
      "text/plain": [
       "'b7'"
      ]
     },
     "metadata": {},
     "output_type": "display_data"
    },
    {
     "data": {
      "text/plain": [
       "[15548.33, 50000, 131.84471859713892, 36257.2976142132, 275.0, 124.9]"
      ]
     },
     "metadata": {},
     "output_type": "display_data"
    },
    {
     "data": {
      "text/plain": [
       "'b7'"
      ]
     },
     "metadata": {},
     "output_type": "display_data"
    },
    {
     "data": {
      "text/plain": [
       "[14771.75, 50000, 131.79315876944202, 37033.877614213205, 281.0, 129.43]"
      ]
     },
     "metadata": {},
     "output_type": "display_data"
    },
    {
     "data": {
      "text/plain": [
       "'b8'"
      ]
     },
     "metadata": {},
     "output_type": "display_data"
    },
    {
     "data": {
      "text/plain": [
       "[14132.85, 50000, 131.72299865109514, 37672.777614213206, 286.0, 127.78]"
      ]
     },
     "metadata": {},
     "output_type": "display_data"
    },
    {
     "data": {
      "text/plain": [
       "'b8'"
      ]
     },
     "metadata": {},
     "output_type": "display_data"
    },
    {
     "data": {
      "text/plain": [
       "[13501.300000000001,\n",
       " 50000,\n",
       " 131.62999180141998,\n",
       " 38304.32761421321,\n",
       " 291.0,\n",
       " 126.31]"
      ]
     },
     "metadata": {},
     "output_type": "display_data"
    },
    {
     "data": {
      "text/plain": [
       "'b8'"
      ]
     },
     "metadata": {},
     "output_type": "display_data"
    },
    {
     "data": {
      "text/plain": [
       "[12874.000000000002,\n",
       " 50000,\n",
       " 131.52576896693654,\n",
       " 38931.62761421321,\n",
       " 296.0,\n",
       " 125.46]"
      ]
     },
     "metadata": {},
     "output_type": "display_data"
    },
    {
     "data": {
      "text/plain": [
       "'b8'"
      ]
     },
     "metadata": {},
     "output_type": "display_data"
    },
    {
     "data": {
      "text/plain": [
       "[10755.800000000003,\n",
       " 50000,\n",
       " 131.14960899109653,\n",
       " 41049.82761421321,\n",
       " 313.0,\n",
       " 124.6]"
      ]
     },
     "metadata": {},
     "output_type": "display_data"
    },
    {
     "data": {
      "text/plain": [
       "'b7'"
      ]
     },
     "metadata": {},
     "output_type": "display_data"
    },
    {
     "data": {
      "text/plain": [
       "[9031.280000000002,\n",
       " 50000,\n",
       " 130.80840248994863,\n",
       " 42774.347614213206,\n",
       " 327.0,\n",
       " 123.18]"
      ]
     },
     "metadata": {},
     "output_type": "display_data"
    },
    {
     "data": {
      "text/plain": [
       "'b7'"
      ]
     },
     "metadata": {},
     "output_type": "display_data"
    },
    {
     "data": {
      "text/plain": [
       "[7576.640000000003,\n",
       " 50000,\n",
       " 130.46899001242832,\n",
       " 44228.987614213205,\n",
       " 339.0,\n",
       " 121.22]"
      ]
     },
     "metadata": {},
     "output_type": "display_data"
    },
    {
     "data": {
      "text/plain": [
       "'b7'"
      ]
     },
     "metadata": {},
     "output_type": "display_data"
    },
    {
     "data": {
      "text/plain": [
       "[5701.600000000003,\n",
       " 50000,\n",
       " 129.87050032172735,\n",
       " 46104.027614213206,\n",
       " 355.0,\n",
       " 117.19]"
      ]
     },
     "metadata": {},
     "output_type": "display_data"
    },
    {
     "data": {
      "text/plain": [
       "'b6'"
      ]
     },
     "metadata": {},
     "output_type": "display_data"
    },
    {
     "data": {
      "text/plain": [
       "[4306.240000000003,\n",
       " 50000,\n",
       " 129.42612428940927,\n",
       " 47499.38761421321,\n",
       " 367.0,\n",
       " 116.28]"
      ]
     },
     "metadata": {},
     "output_type": "display_data"
    },
    {
     "data": {
      "text/plain": [
       "'b6'"
      ]
     },
     "metadata": {},
     "output_type": "display_data"
    },
    {
     "data": {
      "text/plain": [
       "[3600.8800000000033,\n",
       " 50000,\n",
       " 129.23524829547776,\n",
       " 48204.74761421321,\n",
       " 373.0,\n",
       " 117.56]"
      ]
     },
     "metadata": {},
     "output_type": "display_data"
    },
    {
     "data": {
      "text/plain": [
       "'b7'"
      ]
     },
     "metadata": {},
     "output_type": "display_data"
    },
    {
     "data": {
      "text/plain": [
       "[3013.980000000003, 50000, 129.0784328418339, 48791.64761421321, 378.0, 117.38]"
      ]
     },
     "metadata": {},
     "output_type": "display_data"
    },
    {
     "data": {
      "text/plain": [
       "'b7'"
      ]
     },
     "metadata": {},
     "output_type": "display_data"
    },
    {
     "data": {
      "text/plain": [
       "[2546.580000000003,\n",
       " 50000,\n",
       " 128.95038642464192,\n",
       " 49259.04761421321,\n",
       " 382.0,\n",
       " 116.85]"
      ]
     },
     "metadata": {},
     "output_type": "display_data"
    },
    {
     "data": {
      "text/plain": [
       "'b7'"
      ]
     },
     "metadata": {},
     "output_type": "display_data"
    },
    {
     "data": {
      "text/plain": [
       "[1966.930000000003, 50000, 128.7821643778119, 49838.69761421321, 387.0, 115.93]"
      ]
     },
     "metadata": {},
     "output_type": "display_data"
    },
    {
     "data": {
      "text/plain": [
       "'b6'"
      ]
     },
     "metadata": {},
     "output_type": "display_data"
    },
    {
     "data": {
      "text/plain": [
       "[1734.850000000003, 50000, 128.7166519645584, 50070.77761421321, 389.0, 116.04]"
      ]
     },
     "metadata": {},
     "output_type": "display_data"
    },
    {
     "data": {
      "text/plain": [
       "'b7'"
      ]
     },
     "metadata": {},
     "output_type": "display_data"
    },
    {
     "data": {
      "text/plain": [
       "[1389.760000000003,\n",
       " 50000,\n",
       " 128.61190717911532,\n",
       " 50415.86761421321,\n",
       " 392.0,\n",
       " 115.03]"
      ]
     },
     "metadata": {},
     "output_type": "display_data"
    },
    {
     "data": {
      "text/plain": [
       "'b6'"
      ]
     },
     "metadata": {},
     "output_type": "display_data"
    },
    {
     "data": {
      "text/plain": [
       "[1158.160000000003, 50000, 128.5468721172924, 50647.46761421321, 394.0, 115.8]"
      ]
     },
     "metadata": {},
     "output_type": "display_data"
    },
    {
     "data": {
      "text/plain": [
       "'b7'"
      ]
     },
     "metadata": {},
     "output_type": "display_data"
    },
    {
     "data": {
      "text/plain": [
       "[1037.3000000000031,\n",
       " 50000,\n",
       " 128.52741168155242,\n",
       " 50768.32761421321,\n",
       " 395.0,\n",
       " 120.86]"
      ]
     },
     "metadata": {},
     "output_type": "display_data"
    },
    {
     "data": {
      "text/plain": [
       "'b7'"
      ]
     },
     "metadata": {},
     "output_type": "display_data"
    },
    {
     "data": {
      "text/plain": [
       "[917.4400000000031, 50000, 128.5055242783162, 50888.18761421321, 396.0, 119.86]"
      ]
     },
     "metadata": {},
     "output_type": "display_data"
    },
    {
     "data": {
      "text/plain": [
       "'b7'"
      ]
     },
     "metadata": {},
     "output_type": "display_data"
    },
    {
     "data": {
      "text/plain": [
       "[797.8900000000032,\n",
       " 50000,\n",
       " 128.48296628265294,\n",
       " 51007.73761421321,\n",
       " 397.0,\n",
       " 119.55]"
      ]
     },
     "metadata": {},
     "output_type": "display_data"
    },
    {
     "data": {
      "text/plain": [
       "'b7'"
      ]
     },
     "metadata": {},
     "output_type": "display_data"
    },
    {
     "data": {
      "text/plain": [
       "[679.4200000000031,\n",
       " 50000,\n",
       " 128.4578080759126,\n",
       " 51126.207614213214,\n",
       " 398.0,\n",
       " 118.47]"
      ]
     },
     "metadata": {},
     "output_type": "display_data"
    },
    {
     "data": {
      "text/plain": [
       "'b7'"
      ]
     },
     "metadata": {},
     "output_type": "display_data"
    },
    {
     "data": {
      "text/plain": [
       "[679.4200000000031,\n",
       " 50000,\n",
       " 128.4578080759126,\n",
       " 51126.207614213214,\n",
       " 398.0,\n",
       " 118.24]"
      ]
     },
     "metadata": {},
     "output_type": "display_data"
    },
    {
     "data": {
      "text/plain": [
       "'b7'"
      ]
     },
     "metadata": {},
     "output_type": "display_data"
    },
    {
     "data": {
      "text/plain": [
       "[679.4200000000031,\n",
       " 50000,\n",
       " 128.4578080759126,\n",
       " 51126.207614213214,\n",
       " 398.0,\n",
       " 117.77]"
      ]
     },
     "metadata": {},
     "output_type": "display_data"
    },
    {
     "data": {
      "text/plain": [
       "'b7'"
      ]
     },
     "metadata": {},
     "output_type": "display_data"
    },
    {
     "data": {
      "text/plain": [
       "[679.4200000000031,\n",
       " 50000,\n",
       " 128.4578080759126,\n",
       " 51126.207614213214,\n",
       " 398.0,\n",
       " 117.19]"
      ]
     },
     "metadata": {},
     "output_type": "display_data"
    },
    {
     "data": {
      "text/plain": [
       "'b7'"
      ]
     },
     "metadata": {},
     "output_type": "display_data"
    },
    {
     "data": {
      "text/plain": [
       "[679.4200000000031,\n",
       " 50000,\n",
       " 128.4578080759126,\n",
       " 51126.207614213214,\n",
       " 398.0,\n",
       " 116.98]"
      ]
     },
     "metadata": {},
     "output_type": "display_data"
    },
    {
     "data": {
      "text/plain": [
       "'b7'"
      ]
     },
     "metadata": {},
     "output_type": "display_data"
    },
    {
     "data": {
      "text/plain": [
       "[679.4200000000031,\n",
       " 50000,\n",
       " 128.4578080759126,\n",
       " 51126.207614213214,\n",
       " 398.0,\n",
       " 115.62]"
      ]
     },
     "metadata": {},
     "output_type": "display_data"
    },
    {
     "data": {
      "text/plain": [
       "'b7'"
      ]
     },
     "metadata": {},
     "output_type": "display_data"
    },
    {
     "data": {
      "text/plain": [
       "[565.5700000000031,\n",
       " 50000,\n",
       " 128.42119702810328,\n",
       " 51240.05761421321,\n",
       " 399.0,\n",
       " 113.85]"
      ]
     },
     "metadata": {},
     "output_type": "display_data"
    },
    {
     "data": {
      "text/plain": [
       "'b6'"
      ]
     },
     "metadata": {},
     "output_type": "display_data"
    },
    {
     "data": {
      "text/plain": [
       "[451.0900000000031,\n",
       " 50000,\n",
       " 128.38634403553303,\n",
       " 51354.537614213215,\n",
       " 400.0,\n",
       " 114.48]"
      ]
     },
     "metadata": {},
     "output_type": "display_data"
    },
    {
     "data": {
      "text/plain": [
       "'b6'"
      ]
     },
     "metadata": {},
     "output_type": "display_data"
    },
    {
     "data": {
      "text/plain": [
       "[451.0900000000031,\n",
       " 50000,\n",
       " 128.38634403553303,\n",
       " 51354.537614213215,\n",
       " 400.0,\n",
       " 113.53]"
      ]
     },
     "metadata": {},
     "output_type": "display_data"
    },
    {
     "data": {
      "text/plain": [
       "'b6'"
      ]
     },
     "metadata": {},
     "output_type": "display_data"
    },
    {
     "data": {
      "text/plain": [
       "[451.0900000000031,\n",
       " 50000,\n",
       " 128.38634403553303,\n",
       " 51354.537614213215,\n",
       " 400.0,\n",
       " 113.4]"
      ]
     },
     "metadata": {},
     "output_type": "display_data"
    },
    {
     "data": {
      "text/plain": [
       "'b6'"
      ]
     },
     "metadata": {},
     "output_type": "display_data"
    },
    {
     "data": {
      "text/plain": [
       "[342.2800000000031,\n",
       " 50000,\n",
       " 128.33752522247684,\n",
       " 51463.34761421321,\n",
       " 401.0,\n",
       " 108.81]"
      ]
     },
     "metadata": {},
     "output_type": "display_data"
    },
    {
     "data": {
      "text/plain": [
       "'b6'"
      ]
     },
     "metadata": {},
     "output_type": "display_data"
    },
    {
     "data": {
      "text/plain": [
       "[342.2800000000031,\n",
       " 50000,\n",
       " 128.33752522247684,\n",
       " 51463.34761421321,\n",
       " 401.0,\n",
       " 106.72]"
      ]
     },
     "metadata": {},
     "output_type": "display_data"
    },
    {
     "data": {
      "text/plain": [
       "'b6'"
      ]
     },
     "metadata": {},
     "output_type": "display_data"
    },
    {
     "data": {
      "text/plain": [
       "[342.2800000000031,\n",
       " 50000,\n",
       " 128.33752522247684,\n",
       " 51463.34761421321,\n",
       " 401.0,\n",
       " 114.75]"
      ]
     },
     "metadata": {},
     "output_type": "display_data"
    },
    {
     "data": {
      "text/plain": [
       "'b6'"
      ]
     },
     "metadata": {},
     "output_type": "display_data"
    },
    {
     "data": {
      "text/plain": [
       "[342.2800000000031,\n",
       " 50000,\n",
       " 128.33752522247684,\n",
       " 51463.34761421321,\n",
       " 401.0,\n",
       " 113.99]"
      ]
     },
     "metadata": {},
     "output_type": "display_data"
    },
    {
     "data": {
      "text/plain": [
       "'b6'"
      ]
     },
     "metadata": {},
     "output_type": "display_data"
    },
    {
     "data": {
      "text/plain": [
       "[342.2800000000031,\n",
       " 50000,\n",
       " 128.33752522247684,\n",
       " 51463.34761421321,\n",
       " 401.0,\n",
       " 119.81]"
      ]
     },
     "metadata": {},
     "output_type": "display_data"
    },
    {
     "data": {
      "text/plain": [
       "'b7'"
      ]
     },
     "metadata": {},
     "output_type": "display_data"
    },
    {
     "data": {
      "text/plain": [
       "[342.2800000000031,\n",
       " 50000,\n",
       " 128.33752522247684,\n",
       " 51463.34761421321,\n",
       " 401.0,\n",
       " 118.99]"
      ]
     },
     "metadata": {},
     "output_type": "display_data"
    },
    {
     "data": {
      "text/plain": [
       "'b7'"
      ]
     },
     "metadata": {},
     "output_type": "display_data"
    },
    {
     "data": {
      "text/plain": [
       "[342.2800000000031,\n",
       " 50000,\n",
       " 128.33752522247684,\n",
       " 51463.34761421321,\n",
       " 401.0,\n",
       " 120.56]"
      ]
     },
     "metadata": {},
     "output_type": "display_data"
    },
    {
     "data": {
      "text/plain": [
       "'b7'"
      ]
     },
     "metadata": {},
     "output_type": "display_data"
    },
    {
     "data": {
      "text/plain": [
       "[342.2800000000031,\n",
       " 50000,\n",
       " 128.33752522247684,\n",
       " 51463.34761421321,\n",
       " 401.0,\n",
       " 119.91]"
      ]
     },
     "metadata": {},
     "output_type": "display_data"
    },
    {
     "data": {
      "text/plain": [
       "'b7'"
      ]
     },
     "metadata": {},
     "output_type": "display_data"
    },
    {
     "data": {
      "text/plain": [
       "[342.2800000000031,\n",
       " 50000,\n",
       " 128.33752522247684,\n",
       " 51463.34761421321,\n",
       " 401.0,\n",
       " 118.58]"
      ]
     },
     "metadata": {},
     "output_type": "display_data"
    },
    {
     "data": {
      "text/plain": [
       "'b7'"
      ]
     },
     "metadata": {},
     "output_type": "display_data"
    },
    {
     "data": {
      "text/plain": [
       "[342.2800000000031,\n",
       " 50000,\n",
       " 128.33752522247684,\n",
       " 51463.34761421321,\n",
       " 401.0,\n",
       " 118.16]"
      ]
     },
     "metadata": {},
     "output_type": "display_data"
    },
    {
     "data": {
      "text/plain": [
       "'b7'"
      ]
     },
     "metadata": {},
     "output_type": "display_data"
    },
    {
     "data": {
      "text/plain": [
       "[342.2800000000031,\n",
       " 50000,\n",
       " 128.33752522247684,\n",
       " 51463.34761421321,\n",
       " 401.0,\n",
       " 117.64]"
      ]
     },
     "metadata": {},
     "output_type": "display_data"
    },
    {
     "data": {
      "text/plain": [
       "'b7'"
      ]
     },
     "metadata": {},
     "output_type": "display_data"
    },
    {
     "data": {
      "text/plain": [
       "[342.2800000000031,\n",
       " 50000,\n",
       " 128.33752522247684,\n",
       " 51463.34761421321,\n",
       " 401.0,\n",
       " 116.51]"
      ]
     },
     "metadata": {},
     "output_type": "display_data"
    },
    {
     "data": {
      "text/plain": [
       "'b7'"
      ]
     },
     "metadata": {},
     "output_type": "display_data"
    },
    {
     "data": {
      "text/plain": [
       "[342.2800000000031,\n",
       " 50000,\n",
       " 128.33752522247684,\n",
       " 51463.34761421321,\n",
       " 401.0,\n",
       " 115.98]"
      ]
     },
     "metadata": {},
     "output_type": "display_data"
    },
    {
     "data": {
      "text/plain": [
       "'b7'"
      ]
     },
     "metadata": {},
     "output_type": "display_data"
    },
    {
     "data": {
      "text/plain": [
       "[342.2800000000031,\n",
       " 50000,\n",
       " 128.33752522247684,\n",
       " 51463.34761421321,\n",
       " 401.0,\n",
       " 114.43]"
      ]
     },
     "metadata": {},
     "output_type": "display_data"
    },
    {
     "data": {
      "text/plain": [
       "'b6'"
      ]
     },
     "metadata": {},
     "output_type": "display_data"
    },
    {
     "data": {
      "text/plain": [
       "[342.2800000000031,\n",
       " 50000,\n",
       " 128.33752522247684,\n",
       " 51463.34761421321,\n",
       " 401.0,\n",
       " 114.06]"
      ]
     },
     "metadata": {},
     "output_type": "display_data"
    },
    {
     "data": {
      "text/plain": [
       "'b6'"
      ]
     },
     "metadata": {},
     "output_type": "display_data"
    },
    {
     "data": {
      "text/plain": [
       "[342.2800000000031,\n",
       " 50000,\n",
       " 128.33752522247684,\n",
       " 51463.34761421321,\n",
       " 401.0,\n",
       " 109.74]"
      ]
     },
     "metadata": {},
     "output_type": "display_data"
    },
    {
     "data": {
      "text/plain": [
       "'b6'"
      ]
     },
     "metadata": {},
     "output_type": "display_data"
    },
    {
     "data": {
      "text/plain": [
       "[342.2800000000031,\n",
       " 50000,\n",
       " 128.33752522247684,\n",
       " 51463.34761421321,\n",
       " 401.0,\n",
       " 105.74]"
      ]
     },
     "metadata": {},
     "output_type": "display_data"
    },
    {
     "data": {
      "text/plain": [
       "'b6'"
      ]
     },
     "metadata": {},
     "output_type": "display_data"
    },
    {
     "data": {
      "text/plain": [
       "[342.2800000000031,\n",
       " 50000,\n",
       " 128.33752522247684,\n",
       " 51463.34761421321,\n",
       " 401.0,\n",
       " 110.85]"
      ]
     },
     "metadata": {},
     "output_type": "display_data"
    },
    {
     "data": {
      "text/plain": [
       "'b6'"
      ]
     },
     "metadata": {},
     "output_type": "display_data"
    },
    {
     "data": {
      "text/plain": [
       "[342.2800000000031,\n",
       " 50000,\n",
       " 128.33752522247684,\n",
       " 51463.34761421321,\n",
       " 401.0,\n",
       " 110.12]"
      ]
     },
     "metadata": {},
     "output_type": "display_data"
    },
    {
     "data": {
      "text/plain": [
       "'b6'"
      ]
     },
     "metadata": {},
     "output_type": "display_data"
    },
    {
     "data": {
      "text/plain": [
       "[342.2800000000031,\n",
       " 50000,\n",
       " 128.33752522247684,\n",
       " 51463.34761421321,\n",
       " 401.0,\n",
       " 108.52]"
      ]
     },
     "metadata": {},
     "output_type": "display_data"
    },
    {
     "data": {
      "text/plain": [
       "'b6'"
      ]
     },
     "metadata": {},
     "output_type": "display_data"
    },
    {
     "data": {
      "text/plain": [
       "[342.2800000000031,\n",
       " 50000,\n",
       " 128.33752522247684,\n",
       " 51463.34761421321,\n",
       " 401.0,\n",
       " 106.91]"
      ]
     },
     "metadata": {},
     "output_type": "display_data"
    },
    {
     "data": {
      "text/plain": [
       "'b6'"
      ]
     },
     "metadata": {},
     "output_type": "display_data"
    },
    {
     "data": {
      "text/plain": [
       "[342.2800000000031,\n",
       " 50000,\n",
       " 128.33752522247684,\n",
       " 51463.34761421321,\n",
       " 401.0,\n",
       " 105.38]"
      ]
     },
     "metadata": {},
     "output_type": "display_data"
    },
    {
     "data": {
      "text/plain": [
       "'b6'"
      ]
     },
     "metadata": {},
     "output_type": "display_data"
    },
    {
     "data": {
      "text/plain": [
       "[342.2800000000031,\n",
       " 50000,\n",
       " 128.33752522247684,\n",
       " 51463.34761421321,\n",
       " 401.0,\n",
       " 104.06]"
      ]
     },
     "metadata": {},
     "output_type": "display_data"
    },
    {
     "data": {
      "text/plain": [
       "'b6'"
      ]
     },
     "metadata": {},
     "output_type": "display_data"
    },
    {
     "data": {
      "text/plain": [
       "[342.2800000000031,\n",
       " 50000,\n",
       " 128.33752522247684,\n",
       " 51463.34761421321,\n",
       " 401.0,\n",
       " 101.62]"
      ]
     },
     "metadata": {},
     "output_type": "display_data"
    },
    {
     "data": {
      "text/plain": [
       "'b6'"
      ]
     },
     "metadata": {},
     "output_type": "display_data"
    },
    {
     "data": {
      "text/plain": [
       "[342.2800000000031,\n",
       " 50000,\n",
       " 128.33752522247684,\n",
       " 51463.34761421321,\n",
       " 401.0,\n",
       " 105.67]"
      ]
     },
     "metadata": {},
     "output_type": "display_data"
    },
    {
     "data": {
      "text/plain": [
       "'b6'"
      ]
     },
     "metadata": {},
     "output_type": "display_data"
    },
    {
     "data": {
      "text/plain": [
       "[342.2800000000031,\n",
       " 50000,\n",
       " 128.33752522247684,\n",
       " 51463.34761421321,\n",
       " 401.0,\n",
       " 104.22]"
      ]
     },
     "metadata": {},
     "output_type": "display_data"
    },
    {
     "data": {
      "text/plain": [
       "'b6'"
      ]
     },
     "metadata": {},
     "output_type": "display_data"
    },
    {
     "data": {
      "text/plain": [
       "[342.2800000000031,\n",
       " 50000,\n",
       " 128.33752522247684,\n",
       " 51463.34761421321,\n",
       " 401.0,\n",
       " 108.17]"
      ]
     },
     "metadata": {},
     "output_type": "display_data"
    },
    {
     "data": {
      "text/plain": [
       "'b6'"
      ]
     },
     "metadata": {},
     "output_type": "display_data"
    },
    {
     "data": {
      "text/plain": [
       "[342.2800000000031,\n",
       " 50000,\n",
       " 128.33752522247684,\n",
       " 51463.34761421321,\n",
       " 401.0,\n",
       " 125.13]"
      ]
     },
     "metadata": {},
     "output_type": "display_data"
    },
    {
     "data": {
      "text/plain": [
       "'b8'"
      ]
     },
     "metadata": {},
     "output_type": "display_data"
    },
    {
     "data": {
      "text/plain": [
       "[342.2800000000031,\n",
       " 50000,\n",
       " 128.33752522247684,\n",
       " 51463.34761421321,\n",
       " 401.0,\n",
       " 124.55]"
      ]
     },
     "metadata": {},
     "output_type": "display_data"
    },
    {
     "data": {
      "text/plain": [
       "'b8'"
      ]
     },
     "metadata": {},
     "output_type": "display_data"
    },
    {
     "data": {
      "text/plain": [
       "[342.2800000000031,\n",
       " 50000,\n",
       " 128.33752522247684,\n",
       " 51463.34761421321,\n",
       " 401.0,\n",
       " 121.44]"
      ]
     },
     "metadata": {},
     "output_type": "display_data"
    },
    {
     "data": {
      "text/plain": [
       "'b7'"
      ]
     },
     "metadata": {},
     "output_type": "display_data"
    },
    {
     "data": {
      "text/plain": [
       "[342.2800000000031,\n",
       " 50000,\n",
       " 128.33752522247684,\n",
       " 51463.34761421321,\n",
       " 401.0,\n",
       " 123.21]"
      ]
     },
     "metadata": {},
     "output_type": "display_data"
    },
    {
     "data": {
      "text/plain": [
       "'b8'"
      ]
     },
     "metadata": {},
     "output_type": "display_data"
    },
    {
     "data": {
      "text/plain": [
       "[342.2800000000031,\n",
       " 50000,\n",
       " 128.33752522247684,\n",
       " 51463.34761421321,\n",
       " 401.0,\n",
       " 123.92]"
      ]
     },
     "metadata": {},
     "output_type": "display_data"
    },
    {
     "data": {
      "text/plain": [
       "'b8'"
      ]
     },
     "metadata": {},
     "output_type": "display_data"
    },
    {
     "data": {
      "text/plain": [
       "'TXN'"
      ]
     },
     "metadata": {},
     "output_type": "display_data"
    },
    {
     "data": {
      "text/plain": [
       "['TXN', 'is under calculation, start money is 10000000\\\\ / 100000$']"
      ]
     },
     "metadata": {},
     "output_type": "display_data"
    },
    {
     "data": {
      "text/plain": [
       "[40105.78, 50000, 170.58999999999997, 9894.22, 58.0, 170.59]"
      ]
     },
     "metadata": {},
     "output_type": "display_data"
    },
    {
     "data": {
      "text/plain": [
       "0"
      ]
     },
     "metadata": {},
     "output_type": "display_data"
    },
    {
     "data": {
      "text/plain": [
       "[38146.78, 50000, 169.33171428571427, 11853.22, 70.0, 163.25]"
      ]
     },
     "metadata": {},
     "output_type": "display_data"
    },
    {
     "data": {
      "text/plain": [
       "'b8'"
      ]
     },
     "metadata": {},
     "output_type": "display_data"
    },
    {
     "data": {
      "text/plain": [
       "[36363.57, 50000, 168.350987654321, 13636.43, 81.0, 162.11]"
      ]
     },
     "metadata": {},
     "output_type": "display_data"
    },
    {
     "data": {
      "text/plain": [
       "'b8'"
      ]
     },
     "metadata": {},
     "output_type": "display_data"
    },
    {
     "data": {
      "text/plain": [
       "[34619.97, 50000, 169.0113186813187, 15380.03, 91.0, 174.36]"
      ]
     },
     "metadata": {},
     "output_type": "display_data"
    },
    {
     "data": {
      "text/plain": [
       "'b8'"
      ]
     },
     "metadata": {},
     "output_type": "display_data"
    },
    {
     "data": {
      "text/plain": [
       "[43088.97, 50000, 169.0113186813187, 7774.520659340659, 46.0, 188.2]"
      ]
     },
     "metadata": {},
     "output_type": "display_data"
    },
    {
     "data": {
      "text/plain": [
       "'s3'"
      ]
     },
     "metadata": {},
     "output_type": "display_data"
    },
    {
     "data": {
      "text/plain": [
       "[41040.99, 50000, 172.32457297088877, 9822.50065934066, 57.0, 186.18]"
      ]
     },
     "metadata": {},
     "output_type": "display_data"
    },
    {
     "data": {
      "text/plain": [
       "'b8'"
      ]
     },
     "metadata": {},
     "output_type": "display_data"
    },
    {
     "data": {
      "text/plain": [
       "[39095.09, 50000, 175.6477710349352, 11768.40065934066, 67.0, 194.59]"
      ]
     },
     "metadata": {},
     "output_type": "display_data"
    },
    {
     "data": {
      "text/plain": [
       "'b8'"
      ]
     },
     "metadata": {},
     "output_type": "display_data"
    },
    {
     "data": {
      "text/plain": [
       "[37170.78999999999,\n",
       " 50000,\n",
       " 177.82728129013842,\n",
       " 13692.700659340659,\n",
       " 77.0,\n",
       " 192.43]"
      ]
     },
     "metadata": {},
     "output_type": "display_data"
    },
    {
     "data": {
      "text/plain": [
       "'b8'"
      ]
     },
     "metadata": {},
     "output_type": "display_data"
    },
    {
     "data": {
      "text/plain": [
       "[35487.24999999999, 50000, 178.79349603884486, 15376.24065934066, 86.0, 187.06]"
      ]
     },
     "metadata": {},
     "output_type": "display_data"
    },
    {
     "data": {
      "text/plain": [
       "'b8'"
      ]
     },
     "metadata": {},
     "output_type": "display_data"
    },
    {
     "data": {
      "text/plain": [
       "[33815.049999999996, 50000, 179.45727009832274, 17048.44065934066, 95.0, 185.8]"
      ]
     },
     "metadata": {},
     "output_type": "display_data"
    },
    {
     "data": {
      "text/plain": [
       "'b8'"
      ]
     },
     "metadata": {},
     "output_type": "display_data"
    },
    {
     "data": {
      "text/plain": [
       "[32178.669999999995,\n",
       " 50000,\n",
       " 179.66173710904482,\n",
       " 18684.82065934066,\n",
       " 104.0,\n",
       " 181.82]"
      ]
     },
     "metadata": {},
     "output_type": "display_data"
    },
    {
     "data": {
      "text/plain": [
       "'b8'"
      ]
     },
     "metadata": {},
     "output_type": "display_data"
    },
    {
     "data": {
      "text/plain": [
       "[30734.589999999997,\n",
       " 50000,\n",
       " 179.7223273155416,\n",
       " 20128.90065934066,\n",
       " 112.0,\n",
       " 180.51]"
      ]
     },
     "metadata": {},
     "output_type": "display_data"
    },
    {
     "data": {
      "text/plain": [
       "'b8'"
      ]
     },
     "metadata": {},
     "output_type": "display_data"
    },
    {
     "data": {
      "text/plain": [
       "[29278.189999999995,\n",
       " 50000,\n",
       " 179.8775054945055,\n",
       " 21585.30065934066,\n",
       " 120.0,\n",
       " 182.05]"
      ]
     },
     "metadata": {},
     "output_type": "display_data"
    },
    {
     "data": {
      "text/plain": [
       "'b8'"
      ]
     },
     "metadata": {},
     "output_type": "display_data"
    },
    {
     "data": {
      "text/plain": [
       "[27865.389999999996, 50000, 179.6726614010989, 22998.10065934066, 128.0, 176.6]"
      ]
     },
     "metadata": {},
     "output_type": "display_data"
    },
    {
     "data": {
      "text/plain": [
       "'b8'"
      ]
     },
     "metadata": {},
     "output_type": "display_data"
    },
    {
     "data": {
      "text/plain": [
       "[26599.579999999994,\n",
       " 50000,\n",
       " 179.73267155067157,\n",
       " 24263.91065934066,\n",
       " 135.0,\n",
       " 180.83]"
      ]
     },
     "metadata": {},
     "output_type": "display_data"
    },
    {
     "data": {
      "text/plain": [
       "'b8'"
      ]
     },
     "metadata": {},
     "output_type": "display_data"
    },
    {
     "data": {
      "text/plain": [
       "[25347.489999999994,\n",
       " 50000,\n",
       " 179.69014548831453,\n",
       " 25516.00065934066,\n",
       " 142.0,\n",
       " 178.87]"
      ]
     },
     "metadata": {},
     "output_type": "display_data"
    },
    {
     "data": {
      "text/plain": [
       "'b8'"
      ]
     },
     "metadata": {},
     "output_type": "display_data"
    },
    {
     "data": {
      "text/plain": [
       "[24231.489999999994, 50000, 179.9459504009504, 26632.00065934066, 148.0, 186.0]"
      ]
     },
     "metadata": {},
     "output_type": "display_data"
    },
    {
     "data": {
      "text/plain": [
       "'b8'"
      ]
     },
     "metadata": {},
     "output_type": "display_data"
    },
    {
     "data": {
      "text/plain": [
       "[23133.069999999992,\n",
       " 50000,\n",
       " 180.0676666190952,\n",
       " 27730.420659340663,\n",
       " 154.0,\n",
       " 183.07]"
      ]
     },
     "metadata": {},
     "output_type": "display_data"
    },
    {
     "data": {
      "text/plain": [
       "'b8'"
      ]
     },
     "metadata": {},
     "output_type": "display_data"
    },
    {
     "data": {
      "text/plain": [
       "[22003.50999999999,\n",
       " 50000,\n",
       " 180.37487912087914,\n",
       " 28859.980659340665,\n",
       " 160.0,\n",
       " 188.26]"
      ]
     },
     "metadata": {},
     "output_type": "display_data"
    },
    {
     "data": {
      "text/plain": [
       "'b8'"
      ]
     },
     "metadata": {},
     "output_type": "display_data"
    },
    {
     "data": {
      "text/plain": [
       "[21072.909999999993,\n",
       " 50000,\n",
       " 180.5489736929737,\n",
       " 29790.580659340663,\n",
       " 165.0,\n",
       " 186.12]"
      ]
     },
     "metadata": {},
     "output_type": "display_data"
    },
    {
     "data": {
      "text/plain": [
       "'b8'"
      ]
     },
     "metadata": {},
     "output_type": "display_data"
    },
    {
     "data": {
      "text/plain": [
       "[37000.59, 50000, 180.5489736929737, 14985.56481651682, 83.0, 194.24]"
      ]
     },
     "metadata": {},
     "output_type": "display_data"
    },
    {
     "data": {
      "text/plain": [
       "'s3'"
      ]
     },
     "metadata": {},
     "output_type": "display_data"
    },
    {
     "data": {
      "text/plain": [
       "[35161.49, 50000, 180.91037437114858, 16824.66481651682, 93.0, 183.91]"
      ]
     },
     "metadata": {},
     "output_type": "display_data"
    },
    {
     "data": {
      "text/plain": [
       "'b8'"
      ]
     },
     "metadata": {},
     "output_type": "display_data"
    },
    {
     "data": {
      "text/plain": [
       "[33495.32, 50000, 181.28269427957667, 18490.83481651682, 102.0, 185.13]"
      ]
     },
     "metadata": {},
     "output_type": "display_data"
    },
    {
     "data": {
      "text/plain": [
       "'b8'"
      ]
     },
     "metadata": {},
     "output_type": "display_data"
    },
    {
     "data": {
      "text/plain": [
       "[31971.72, 50000, 181.94940742288017, 20014.43481651682, 110.0, 190.45]"
      ]
     },
     "metadata": {},
     "output_type": "display_data"
    },
    {
     "data": {
      "text/plain": [
       "'b8'"
      ]
     },
     "metadata": {},
     "output_type": "display_data"
    },
    {
     "data": {
      "text/plain": [
       "[30481.16, 50000, 182.24571878404086, 21504.99481651682, 118.0, 186.32]"
      ]
     },
     "metadata": {},
     "output_type": "display_data"
    },
    {
     "data": {
      "text/plain": [
       "'b8'"
      ]
     },
     "metadata": {},
     "output_type": "display_data"
    },
    {
     "data": {
      "text/plain": [
       "[29010.76, 50000, 182.34440330568907, 22975.394816516822, 126.0, 183.8]"
      ]
     },
     "metadata": {},
     "output_type": "display_data"
    },
    {
     "data": {
      "text/plain": [
       "'b8'"
      ]
     },
     "metadata": {},
     "output_type": "display_data"
    },
    {
     "data": {
      "text/plain": [
       "[27692.309999999998,\n",
       " 50000,\n",
       " 182.66048734223176,\n",
       " 24293.844816516823,\n",
       " 133.0,\n",
       " 188.35]"
      ]
     },
     "metadata": {},
     "output_type": "display_data"
    },
    {
     "data": {
      "text/plain": [
       "'b8'"
      ]
     },
     "metadata": {},
     "output_type": "display_data"
    },
    {
     "data": {
      "text/plain": [
       "[26344.179999999997,\n",
       " 50000,\n",
       " 183.15696297512017,\n",
       " 25641.974816516824,\n",
       " 140.0,\n",
       " 192.59]"
      ]
     },
     "metadata": {},
     "output_type": "display_data"
    },
    {
     "data": {
      "text/plain": [
       "'b8'"
      ]
     },
     "metadata": {},
     "output_type": "display_data"
    },
    {
     "data": {
      "text/plain": [
       "[25174.839999999997,\n",
       " 50000,\n",
       " 183.63914257888234,\n",
       " 26811.314816516824,\n",
       " 146.0,\n",
       " 194.89]"
      ]
     },
     "metadata": {},
     "output_type": "display_data"
    },
    {
     "data": {
      "text/plain": [
       "'b8'"
      ]
     },
     "metadata": {},
     "output_type": "display_data"
    },
    {
     "data": {
      "text/plain": [
       "[24032.439999999995,\n",
       " 50000,\n",
       " 183.90601852971596,\n",
       " 27953.714816516826,\n",
       " 152.0,\n",
       " 190.4]"
      ]
     },
     "metadata": {},
     "output_type": "display_data"
    },
    {
     "data": {
      "text/plain": [
       "'b8'"
      ]
     },
     "metadata": {},
     "output_type": "display_data"
    },
    {
     "data": {
      "text/plain": [
       "[22901.559999999994,\n",
       " 50000,\n",
       " 184.07971402858752,\n",
       " 29084.594816516827,\n",
       " 158.0,\n",
       " 188.48]"
      ]
     },
     "metadata": {},
     "output_type": "display_data"
    },
    {
     "data": {
      "text/plain": [
       "'b8'"
      ]
     },
     "metadata": {},
     "output_type": "display_data"
    },
    {
     "data": {
      "text/plain": [
       "[21906.209999999995,\n",
       " 50000,\n",
       " 184.53953875163697,\n",
       " 30079.944816516825,\n",
       " 163.0,\n",
       " 199.07]"
      ]
     },
     "metadata": {},
     "output_type": "display_data"
    },
    {
     "data": {
      "text/plain": [
       "'b8'"
      ]
     },
     "metadata": {},
     "output_type": "display_data"
    },
    {
     "data": {
      "text/plain": [
       "[20921.309999999994,\n",
       " 50000,\n",
       " 184.9097905745049,\n",
       " 31064.844816516827,\n",
       " 168.0,\n",
       " 196.98]"
      ]
     },
     "metadata": {},
     "output_type": "display_data"
    },
    {
     "data": {
      "text/plain": [
       "'b8'"
      ]
     },
     "metadata": {},
     "output_type": "display_data"
    },
    {
     "data": {
      "text/plain": [
       "[19985.809999999994,\n",
       " 50000,\n",
       " 184.97309142495274,\n",
       " 32000.344816516827,\n",
       " 173.0,\n",
       " 187.1]"
      ]
     },
     "metadata": {},
     "output_type": "display_data"
    },
    {
     "data": {
      "text/plain": [
       "'b8'"
      ]
     },
     "metadata": {},
     "output_type": "display_data"
    },
    {
     "data": {
      "text/plain": [
       "[19050.709999999995,\n",
       " 50000,\n",
       " 185.03058885683612,\n",
       " 32935.44481651683,\n",
       " 178.0,\n",
       " 187.02]"
      ]
     },
     "metadata": {},
     "output_type": "display_data"
    },
    {
     "data": {
      "text/plain": [
       "'b8'"
      ]
     },
     "metadata": {},
     "output_type": "display_data"
    },
    {
     "data": {
      "text/plain": [
       "[18280.709999999995,\n",
       " 50000,\n",
       " 185.19475173910345,\n",
       " 33705.44481651683,\n",
       " 182.0,\n",
       " 192.5]"
      ]
     },
     "metadata": {},
     "output_type": "display_data"
    },
    {
     "data": {
      "text/plain": [
       "'b8'"
      ]
     },
     "metadata": {},
     "output_type": "display_data"
    },
    {
     "data": {
      "text/plain": [
       "[17527.669999999995,\n",
       " 50000,\n",
       " 185.2606710565421,\n",
       " 34458.48481651683,\n",
       " 186.0,\n",
       " 188.26]"
      ]
     },
     "metadata": {},
     "output_type": "display_data"
    },
    {
     "data": {
      "text/plain": [
       "'b8'"
      ]
     },
     "metadata": {},
     "output_type": "display_data"
    },
    {
     "data": {
      "text/plain": [
       "[16758.189999999995,\n",
       " 50000,\n",
       " 185.4103411395623,\n",
       " 35227.96481651683,\n",
       " 190.0,\n",
       " 192.37]"
      ]
     },
     "metadata": {},
     "output_type": "display_data"
    },
    {
     "data": {
      "text/plain": [
       "'b8'"
      ]
     },
     "metadata": {},
     "output_type": "display_data"
    },
    {
     "data": {
      "text/plain": [
       "[15972.629999999996,\n",
       " 50000,\n",
       " 185.6367258583342,\n",
       " 36013.52481651683,\n",
       " 194.0,\n",
       " 196.39]"
      ]
     },
     "metadata": {},
     "output_type": "display_data"
    },
    {
     "data": {
      "text/plain": [
       "'b8'"
      ]
     },
     "metadata": {},
     "output_type": "display_data"
    },
    {
     "data": {
      "text/plain": [
       "[15199.029999999995,\n",
       " 50000,\n",
       " 185.79355967937792,\n",
       " 36787.12481651683,\n",
       " 198.0,\n",
       " 193.4]"
      ]
     },
     "metadata": {},
     "output_type": "display_data"
    },
    {
     "data": {
      "text/plain": [
       "'b8'"
      ]
     },
     "metadata": {},
     "output_type": "display_data"
    },
    {
     "data": {
      "text/plain": [
       "[14619.309999999996,\n",
       " 50000,\n",
       " 185.9047005796857,\n",
       " 37366.84481651683,\n",
       " 201.0,\n",
       " 193.24]"
      ]
     },
     "metadata": {},
     "output_type": "display_data"
    },
    {
     "data": {
      "text/plain": [
       "'b8'"
      ]
     },
     "metadata": {},
     "output_type": "display_data"
    },
    {
     "data": {
      "text/plain": [
       "[14048.499999999996,\n",
       " 50000,\n",
       " 185.96889615939622,\n",
       " 37937.65481651683,\n",
       " 204.0,\n",
       " 190.27]"
      ]
     },
     "metadata": {},
     "output_type": "display_data"
    },
    {
     "data": {
      "text/plain": [
       "'b8'"
      ]
     },
     "metadata": {},
     "output_type": "display_data"
    },
    {
     "data": {
      "text/plain": [
       "[13483.779999999997,\n",
       " 50000,\n",
       " 186.00181070781076,\n",
       " 38502.37481651683,\n",
       " 207.0,\n",
       " 188.24]"
      ]
     },
     "metadata": {},
     "output_type": "display_data"
    },
    {
     "data": {
      "text/plain": [
       "'b8'"
      ]
     },
     "metadata": {},
     "output_type": "display_data"
    },
    {
     "data": {
      "text/plain": [
       "[12924.879999999997,\n",
       " 50000,\n",
       " 186.00607055484204,\n",
       " 39061.27481651683,\n",
       " 210.0,\n",
       " 186.3]"
      ]
     },
     "metadata": {},
     "output_type": "display_data"
    },
    {
     "data": {
      "text/plain": [
       "'b8'"
      ]
     },
     "metadata": {},
     "output_type": "display_data"
    },
    {
     "data": {
      "text/plain": [
       "[12372.159999999998,\n",
       " 50000,\n",
       " 185.98119632167527,\n",
       " 39613.99481651683,\n",
       " 213.0,\n",
       " 184.24]"
      ]
     },
     "metadata": {},
     "output_type": "display_data"
    },
    {
     "data": {
      "text/plain": [
       "'b8'"
      ]
     },
     "metadata": {},
     "output_type": "display_data"
    },
    {
     "data": {
      "text/plain": [
       "[11811.699999999997,\n",
       " 50000,\n",
       " 185.9928463727631,\n",
       " 40174.45481651683,\n",
       " 216.0,\n",
       " 186.82]"
      ]
     },
     "metadata": {},
     "output_type": "display_data"
    },
    {
     "data": {
      "text/plain": [
       "'b8'"
      ]
     },
     "metadata": {},
     "output_type": "display_data"
    },
    {
     "data": {
      "text/plain": [
       "[11273.379999999997,\n",
       " 50000,\n",
       " 185.90308135395813,\n",
       " 40712.77481651683,\n",
       " 219.0,\n",
       " 179.44]"
      ]
     },
     "metadata": {},
     "output_type": "display_data"
    },
    {
     "data": {
      "text/plain": [
       "'b8'"
      ]
     },
     "metadata": {},
     "output_type": "display_data"
    },
    {
     "data": {
      "text/plain": [
       "[10720.929999999997,\n",
       " 50000,\n",
       " 185.8793910653911,\n",
       " 41265.22481651683,\n",
       " 222.0,\n",
       " 184.15]"
      ]
     },
     "metadata": {},
     "output_type": "display_data"
    },
    {
     "data": {
      "text/plain": [
       "'b8'"
      ]
     },
     "metadata": {},
     "output_type": "display_data"
    },
    {
     "data": {
      "text/plain": [
       "[10356.369999999997,\n",
       " 50000,\n",
       " 185.8472536451644,\n",
       " 41629.784816516825,\n",
       " 224.0,\n",
       " 182.28]"
      ]
     },
     "metadata": {},
     "output_type": "display_data"
    },
    {
     "data": {
      "text/plain": [
       "'b8'"
      ]
     },
     "metadata": {},
     "output_type": "display_data"
    },
    {
     "data": {
      "text/plain": [
       "[9999.769999999997,\n",
       " 50000,\n",
       " 185.78046378989745,\n",
       " 41986.384816516824,\n",
       " 226.0,\n",
       " 178.3]"
      ]
     },
     "metadata": {},
     "output_type": "display_data"
    },
    {
     "data": {
      "text/plain": [
       "'b8'"
      ]
     },
     "metadata": {},
     "output_type": "display_data"
    },
    {
     "data": {
      "text/plain": [
       "[8438.719999999998,\n",
       " 50000,\n",
       " 185.30823326177372,\n",
       " 43547.43481651683,\n",
       " 235.0,\n",
       " 173.45]"
      ]
     },
     "metadata": {},
     "output_type": "display_data"
    },
    {
     "data": {
      "text/plain": [
       "'b7'"
      ]
     },
     "metadata": {},
     "output_type": "display_data"
    },
    {
     "data": {
      "text/plain": [
       "[7047.039999999997,\n",
       " 50000,\n",
       " 184.93462887455485,\n",
       " 44939.11481651683,\n",
       " 243.0,\n",
       " 173.96]"
      ]
     },
     "metadata": {},
     "output_type": "display_data"
    },
    {
     "data": {
      "text/plain": [
       "'b7'"
      ]
     },
     "metadata": {},
     "output_type": "display_data"
    },
    {
     "data": {
      "text/plain": [
       "[5998.179999999997, 50000, 184.6906619137222, 45987.97481651683, 249.0, 174.81]"
      ]
     },
     "metadata": {},
     "output_type": "display_data"
    },
    {
     "data": {
      "text/plain": [
       "'b7'"
      ]
     },
     "metadata": {},
     "output_type": "display_data"
    },
    {
     "data": {
      "text/plain": [
       "[5822.5899999999965,\n",
       " 50000,\n",
       " 184.6542592660673,\n",
       " 46163.564816516824,\n",
       " 250.0,\n",
       " 175.59]"
      ]
     },
     "metadata": {},
     "output_type": "display_data"
    },
    {
     "data": {
      "text/plain": [
       "'b8'"
      ]
     },
     "metadata": {},
     "output_type": "display_data"
    },
    {
     "data": {
      "text/plain": [
       "[4965.489999999996,\n",
       " 50000,\n",
       " 184.39476398634048,\n",
       " 47020.66481651682,\n",
       " 255.0,\n",
       " 171.42]"
      ]
     },
     "metadata": {},
     "output_type": "display_data"
    },
    {
     "data": {
      "text/plain": [
       "'b7'"
      ]
     },
     "metadata": {},
     "output_type": "display_data"
    },
    {
     "data": {
      "text/plain": [
       "[4285.689999999996,\n",
       " 50000,\n",
       " 184.1716788282503,\n",
       " 47700.464816516826,\n",
       " 259.0,\n",
       " 169.95]"
      ]
     },
     "metadata": {},
     "output_type": "display_data"
    },
    {
     "data": {
      "text/plain": [
       "'b7'"
      ]
     },
     "metadata": {},
     "output_type": "display_data"
    },
    {
     "data": {
      "text/plain": [
       "[3603.049999999996,\n",
       " 50000,\n",
       " 183.9661780095697,\n",
       " 48383.104816516825,\n",
       " 263.0,\n",
       " 170.66]"
      ]
     },
     "metadata": {},
     "output_type": "display_data"
    },
    {
     "data": {
      "text/plain": [
       "'b7'"
      ]
     },
     "metadata": {},
     "output_type": "display_data"
    },
    {
     "data": {
      "text/plain": [
       "[2781.049999999996, 50000, 183.6011373750628, 49205.104816516825, 268.0, 164.4]"
      ]
     },
     "metadata": {},
     "output_type": "display_data"
    },
    {
     "data": {
      "text/plain": [
       "'b6'"
      ]
     },
     "metadata": {},
     "output_type": "display_data"
    },
    {
     "data": {
      "text/plain": [
       "[2131.169999999996,\n",
       " 50000,\n",
       " 183.29038535484125,\n",
       " 49854.98481651682,\n",
       " 272.0,\n",
       " 162.47]"
      ]
     },
     "metadata": {},
     "output_type": "display_data"
    },
    {
     "data": {
      "text/plain": [
       "'b6'"
      ]
     },
     "metadata": {},
     "output_type": "display_data"
    },
    {
     "data": {
      "text/plain": [
       "[1637.219999999996, 50000, 183.0870356964248, 50348.93481651682, 275.0, 164.65]"
      ]
     },
     "metadata": {},
     "output_type": "display_data"
    },
    {
     "data": {
      "text/plain": [
       "'b6'"
      ]
     },
     "metadata": {},
     "output_type": "display_data"
    },
    {
     "data": {
      "text/plain": [
       "[1470.5299999999959,\n",
       " 50000,\n",
       " 183.0276261468001,\n",
       " 50515.62481651682,\n",
       " 276.0,\n",
       " 166.69]"
      ]
     },
     "metadata": {},
     "output_type": "display_data"
    },
    {
     "data": {
      "text/plain": [
       "'b7'"
      ]
     },
     "metadata": {},
     "output_type": "display_data"
    },
    {
     "data": {
      "text/plain": [
       "[1304.8899999999958,\n",
       " 50000,\n",
       " 182.96485493327373,\n",
       " 50681.26481651682,\n",
       " 277.0,\n",
       " 165.64]"
      ]
     },
     "metadata": {},
     "output_type": "display_data"
    },
    {
     "data": {
      "text/plain": [
       "'b7'"
      ]
     },
     "metadata": {},
     "output_type": "display_data"
    },
    {
     "data": {
      "text/plain": [
       "[1134.8999999999958,\n",
       " 50000,\n",
       " 182.91818279322598,\n",
       " 50851.25481651682,\n",
       " 278.0,\n",
       " 169.99]"
      ]
     },
     "metadata": {},
     "output_type": "display_data"
    },
    {
     "data": {
      "text/plain": [
       "'b7'"
      ]
     },
     "metadata": {},
     "output_type": "display_data"
    },
    {
     "data": {
      "text/plain": [
       "[967.6099999999958,\n",
       " 50000,\n",
       " 182.86216780113554,\n",
       " 51018.54481651682,\n",
       " 279.0,\n",
       " 167.29]"
      ]
     },
     "metadata": {},
     "output_type": "display_data"
    },
    {
     "data": {
      "text/plain": [
       "'b7'"
      ]
     },
     "metadata": {},
     "output_type": "display_data"
    },
    {
     "data": {
      "text/plain": [
       "'QCOM'"
      ]
     },
     "metadata": {},
     "output_type": "display_data"
    },
    {
     "data": {
      "text/plain": [
       "['QCOM', 'is under calculation, start money is 10000000\\\\ / 100000$']"
      ]
     },
     "metadata": {},
     "output_type": "display_data"
    },
    {
     "data": {
      "text/plain": [
       "[40125.5, 50000, 131.66, 9874.5, 75.0, 131.66]"
      ]
     },
     "metadata": {},
     "output_type": "display_data"
    },
    {
     "data": {
      "text/plain": [
       "0"
      ]
     },
     "metadata": {},
     "output_type": "display_data"
    },
    {
     "data": {
      "text/plain": [
       "[38208.5, 50000, 131.01666666666668, 11791.5, 90.0, 127.8]"
      ]
     },
     "metadata": {},
     "output_type": "display_data"
    },
    {
     "data": {
      "text/plain": [
       "'b8'"
      ]
     },
     "metadata": {},
     "output_type": "display_data"
    },
    {
     "data": {
      "text/plain": [
       "[31925.3, 50000, 128.18936170212766, 18074.7, 141.0, 123.2]"
      ]
     },
     "metadata": {},
     "output_type": "display_data"
    },
    {
     "data": {
      "text/plain": [
       "'b7'"
      ]
     },
     "metadata": {},
     "output_type": "display_data"
    },
    {
     "data": {
      "text/plain": [
       "[30365.54, 50000, 128.3298039215686, 19634.46, 153.0, 129.98]"
      ]
     },
     "metadata": {},
     "output_type": "display_data"
    },
    {
     "data": {
      "text/plain": [
       "'b8'"
      ]
     },
     "metadata": {},
     "output_type": "display_data"
    },
    {
     "data": {
      "text/plain": [
       "[28938.29, 50000, 128.42506097560974, 21061.71, 164.0, 129.75]"
      ]
     },
     "metadata": {},
     "output_type": "display_data"
    },
    {
     "data": {
      "text/plain": [
       "'b8'"
      ]
     },
     "metadata": {},
     "output_type": "display_data"
    },
    {
     "data": {
      "text/plain": [
       "[27613.09, 50000, 128.66040229885058, 22386.91, 174.0, 132.52]"
      ]
     },
     "metadata": {},
     "output_type": "display_data"
    },
    {
     "data": {
      "text/plain": [
       "'b8'"
      ]
     },
     "metadata": {},
     "output_type": "display_data"
    },
    {
     "data": {
      "text/plain": [
       "[26341.29, 50000, 128.5799456521739, 23658.71, 184.0, 127.18]"
      ]
     },
     "metadata": {},
     "output_type": "display_data"
    },
    {
     "data": {
      "text/plain": [
       "'b8'"
      ]
     },
     "metadata": {},
     "output_type": "display_data"
    },
    {
     "data": {
      "text/plain": [
       "[25028.59, 50000, 128.71860824742268, 24971.41, 194.0, 131.27]"
      ]
     },
     "metadata": {},
     "output_type": "display_data"
    },
    {
     "data": {
      "text/plain": [
       "'b8'"
      ]
     },
     "metadata": {},
     "output_type": "display_data"
    },
    {
     "data": {
      "text/plain": [
       "[38394.22, 50000, 128.71860824742268, 12485.705, 97.0, 137.79]"
      ]
     },
     "metadata": {},
     "output_type": "display_data"
    },
    {
     "data": {
      "text/plain": [
       "'s3'"
      ]
     },
     "metadata": {},
     "output_type": "display_data"
    },
    {
     "data": {
      "text/plain": [
       "[36599.44, 50000, 129.8225909090909, 14280.485, 110.0, 138.06]"
      ]
     },
     "metadata": {},
     "output_type": "display_data"
    },
    {
     "data": {
      "text/plain": [
       "'b8'"
      ]
     },
     "metadata": {},
     "output_type": "display_data"
    },
    {
     "data": {
      "text/plain": [
       "[34812.72, 50000, 130.62768292682927, 16067.205, 123.0, 137.44]"
      ]
     },
     "metadata": {},
     "output_type": "display_data"
    },
    {
     "data": {
      "text/plain": [
       "'b8'"
      ]
     },
     "metadata": {},
     "output_type": "display_data"
    },
    {
     "data": {
      "text/plain": [
       "[33195.72, 50000, 130.99411111111112, 17684.205, 135.0, 134.75]"
      ]
     },
     "metadata": {},
     "output_type": "display_data"
    },
    {
     "data": {
      "text/plain": [
       "'b8'"
      ]
     },
     "metadata": {},
     "output_type": "display_data"
    },
    {
     "data": {
      "text/plain": [
       "[31572.72, 50000, 131.34153061224492, 19307.205, 147.0, 135.25]"
      ]
     },
     "metadata": {},
     "output_type": "display_data"
    },
    {
     "data": {
      "text/plain": [
       "'b8'"
      ]
     },
     "metadata": {},
     "output_type": "display_data"
    },
    {
     "data": {
      "text/plain": [
       "[30105.32, 50000, 131.48484177215192, 20774.605000000003, 158.0, 133.4]"
      ]
     },
     "metadata": {},
     "output_type": "display_data"
    },
    {
     "data": {
      "text/plain": [
       "'b8'"
      ]
     },
     "metadata": {},
     "output_type": "display_data"
    },
    {
     "data": {
      "text/plain": [
       "[28642.65, 50000, 131.58150887573964, 22237.275, 169.0, 132.97]"
      ]
     },
     "metadata": {},
     "output_type": "display_data"
    },
    {
     "data": {
      "text/plain": [
       "'b8'"
      ]
     },
     "metadata": {},
     "output_type": "display_data"
    },
    {
     "data": {
      "text/plain": [
       "[27276.95, 50000, 131.86019553072626, 23602.975000000002, 179.0, 136.57]"
      ]
     },
     "metadata": {},
     "output_type": "display_data"
    },
    {
     "data": {
      "text/plain": [
       "'b8'"
      ]
     },
     "metadata": {},
     "output_type": "display_data"
    },
    {
     "data": {
      "text/plain": [
       "[39975.47, 50000, 131.86019553072626, 11867.417597765365, 90.0, 142.68]"
      ]
     },
     "metadata": {},
     "output_type": "display_data"
    },
    {
     "data": {
      "text/plain": [
       "'s3'"
      ]
     },
     "metadata": {},
     "output_type": "display_data"
    },
    {
     "data": {
      "text/plain": [
       "[38032.270000000004,\n",
       " 50000,\n",
       " 132.79439997851313,\n",
       " 13810.617597765366,\n",
       " 104.0,\n",
       " 138.8]"
      ]
     },
     "metadata": {},
     "output_type": "display_data"
    },
    {
     "data": {
      "text/plain": [
       "'b8'"
      ]
     },
     "metadata": {},
     "output_type": "display_data"
    },
    {
     "data": {
      "text/plain": [
       "[36154.590000000004,\n",
       " 50000,\n",
       " 132.9516745573336,\n",
       " 15688.297597765366,\n",
       " 118.0,\n",
       " 134.12]"
      ]
     },
     "metadata": {},
     "output_type": "display_data"
    },
    {
     "data": {
      "text/plain": [
       "'b8'"
      ]
     },
     "metadata": {},
     "output_type": "display_data"
    },
    {
     "data": {
      "text/plain": [
       "[34349.43000000001,\n",
       " 50000,\n",
       " 132.5261939224649,\n",
       " 17493.457597765366,\n",
       " 132.0,\n",
       " 128.94]"
      ]
     },
     "metadata": {},
     "output_type": "display_data"
    },
    {
     "data": {
      "text/plain": [
       "'b8'"
      ]
     },
     "metadata": {},
     "output_type": "display_data"
    },
    {
     "data": {
      "text/plain": [
       "[28741.530000000006,\n",
       " 50000,\n",
       " 130.5161446201433,\n",
       " 23101.357597765367,\n",
       " 177.0,\n",
       " 124.62]"
      ]
     },
     "metadata": {},
     "output_type": "display_data"
    },
    {
     "data": {
      "text/plain": [
       "'b7'"
      ]
     },
     "metadata": {},
     "output_type": "display_data"
    },
    {
     "data": {
      "text/plain": [
       "[27423.730000000007,\n",
       " 50000,\n",
       " 130.58373046933352,\n",
       " 24419.157597765367,\n",
       " 187.0,\n",
       " 131.78]"
      ]
     },
     "metadata": {},
     "output_type": "display_data"
    },
    {
     "data": {
      "text/plain": [
       "'b8'"
      ]
     },
     "metadata": {},
     "output_type": "display_data"
    },
    {
     "data": {
      "text/plain": [
       "[26067.930000000008,\n",
       " 50000,\n",
       " 130.83734821200693,\n",
       " 25774.957597765366,\n",
       " 197.0,\n",
       " 135.58]"
      ]
     },
     "metadata": {},
     "output_type": "display_data"
    },
    {
     "data": {
      "text/plain": [
       "'b8'"
      ]
     },
     "metadata": {},
     "output_type": "display_data"
    },
    {
     "data": {
      "text/plain": [
       "[24870.930000000008, 50000, 130.931832998861, 26971.957597765366, 206.0, 133.0]"
      ]
     },
     "metadata": {},
     "output_type": "display_data"
    },
    {
     "data": {
      "text/plain": [
       "'b8'"
      ]
     },
     "metadata": {},
     "output_type": "display_data"
    },
    {
     "data": {
      "text/plain": [
       "[23744.530000000006,\n",
       " 50000,\n",
       " 131.30073643815592,\n",
       " 28098.357597765367,\n",
       " 214.0,\n",
       " 140.8]"
      ]
     },
     "metadata": {},
     "output_type": "display_data"
    },
    {
     "data": {
      "text/plain": [
       "'b8'"
      ]
     },
     "metadata": {},
     "output_type": "display_data"
    },
    {
     "data": {
      "text/plain": [
       "[22638.210000000006,\n",
       " 50000,\n",
       " 131.5526017917359,\n",
       " 29204.677597765367,\n",
       " 222.0,\n",
       " 138.29]"
      ]
     },
     "metadata": {},
     "output_type": "display_data"
    },
    {
     "data": {
      "text/plain": [
       "'b8'"
      ]
     },
     "metadata": {},
     "output_type": "display_data"
    },
    {
     "data": {
      "text/plain": [
       "[21506.530000000006,\n",
       " 50000,\n",
       " 131.89720694680594,\n",
       " 30336.357597765367,\n",
       " 230.0,\n",
       " 141.46]"
      ]
     },
     "metadata": {},
     "output_type": "display_data"
    },
    {
     "data": {
      "text/plain": [
       "'b8'"
      ]
     },
     "metadata": {},
     "output_type": "display_data"
    },
    {
     "data": {
      "text/plain": [
       "[20528.560000000005,\n",
       " 50000,\n",
       " 132.1279645475332,\n",
       " 31314.32759776537,\n",
       " 237.0,\n",
       " 139.71]"
      ]
     },
     "metadata": {},
     "output_type": "display_data"
    },
    {
     "data": {
      "text/plain": [
       "'b8'"
      ]
     },
     "metadata": {},
     "output_type": "display_data"
    },
    {
     "data": {
      "text/plain": [
       "[19542.050000000007,\n",
       " 50000,\n",
       " 132.3804819580548,\n",
       " 32300.837597765367,\n",
       " 244.0,\n",
       " 140.93]"
      ]
     },
     "metadata": {},
     "output_type": "display_data"
    },
    {
     "data": {
      "text/plain": [
       "'b8'"
      ]
     },
     "metadata": {},
     "output_type": "display_data"
    },
    {
     "data": {
      "text/plain": [
       "[37962.83000000001,\n",
       " 50000,\n",
       " 132.3804819580548,\n",
       " 16150.418798882683,\n",
       " 122.0,\n",
       " 150.99]"
      ]
     },
     "metadata": {},
     "output_type": "display_data"
    },
    {
     "data": {
      "text/plain": [
       "'s3'"
      ]
     },
     "metadata": {},
     "output_type": "display_data"
    },
    {
     "data": {
      "text/plain": [
       "[36085.50000000001,\n",
       " 50000,\n",
       " 133.53887999172358,\n",
       " 18027.748798882683,\n",
       " 135.0,\n",
       " 144.41]"
      ]
     },
     "metadata": {},
     "output_type": "display_data"
    },
    {
     "data": {
      "text/plain": [
       "'b8'"
      ]
     },
     "metadata": {},
     "output_type": "display_data"
    },
    {
     "data": {
      "text/plain": [
       "[34379.340000000004,\n",
       " 50000,\n",
       " 134.2442775434196,\n",
       " 19733.908798882683,\n",
       " 147.0,\n",
       " 142.18]"
      ]
     },
     "metadata": {},
     "output_type": "display_data"
    },
    {
     "data": {
      "text/plain": [
       "'b8'"
      ]
     },
     "metadata": {},
     "output_type": "display_data"
    },
    {
     "data": {
      "text/plain": [
       "[32692.020000000004,\n",
       " 50000,\n",
       " 134.7247094269351,\n",
       " 21421.228798882683,\n",
       " 159.0,\n",
       " 140.61]"
      ]
     },
     "metadata": {},
     "output_type": "display_data"
    },
    {
     "data": {
      "text/plain": [
       "'b8'"
      ]
     },
     "metadata": {},
     "output_type": "display_data"
    },
    {
     "data": {
      "text/plain": [
       "[31125.840000000004,\n",
       " 50000,\n",
       " 135.22005175813342,\n",
       " 22987.408798882683,\n",
       " 170.0,\n",
       " 142.38]"
      ]
     },
     "metadata": {},
     "output_type": "display_data"
    },
    {
     "data": {
      "text/plain": [
       "'b8'"
      ]
     },
     "metadata": {},
     "output_type": "display_data"
    },
    {
     "data": {
      "text/plain": [
       "[29573.300000000003,\n",
       " 50000,\n",
       " 135.57982761813636,\n",
       " 24539.948798882684,\n",
       " 181.0,\n",
       " 141.14]"
      ]
     },
     "metadata": {},
     "output_type": "display_data"
    },
    {
     "data": {
      "text/plain": [
       "'b8'"
      ]
     },
     "metadata": {},
     "output_type": "display_data"
    },
    {
     "data": {
      "text/plain": [
       "[28190.9, 50000, 135.71910365907166, 25922.348798882686, 191.0, 138.24]"
      ]
     },
     "metadata": {},
     "output_type": "display_data"
    },
    {
     "data": {
      "text/plain": [
       "'b8'"
      ]
     },
     "metadata": {},
     "output_type": "display_data"
    },
    {
     "data": {
      "text/plain": [
       "[26854.9, 50000, 135.61367561633176, 27258.348798882686, 201.0, 133.6]"
      ]
     },
     "metadata": {},
     "output_type": "display_data"
    },
    {
     "data": {
      "text/plain": [
       "'b8'"
      ]
     },
     "metadata": {},
     "output_type": "display_data"
    },
    {
     "data": {
      "text/plain": [
       "[25555.9, 50000, 135.34288530276154, 28557.348798882686, 211.0, 129.9]"
      ]
     },
     "metadata": {},
     "output_type": "display_data"
    },
    {
     "data": {
      "text/plain": [
       "'b8'"
      ]
     },
     "metadata": {},
     "output_type": "display_data"
    },
    {
     "data": {
      "text/plain": [
       "[21375.46, 50000, 134.17126556919132, 32737.788798882684, 244.0, 126.68]"
      ]
     },
     "metadata": {},
     "output_type": "display_data"
    },
    {
     "data": {
      "text/plain": [
       "'b7'"
      ]
     },
     "metadata": {},
     "output_type": "display_data"
    },
    {
     "data": {
      "text/plain": [
       "[17832.059999999998,\n",
       " 50000,\n",
       " 133.38672352530398,\n",
       " 36281.188798882686,\n",
       " 272.0,\n",
       " 126.55]"
      ]
     },
     "metadata": {},
     "output_type": "display_data"
    },
    {
     "data": {
      "text/plain": [
       "'b7'"
      ]
     },
     "metadata": {},
     "output_type": "display_data"
    },
    {
     "data": {
      "text/plain": [
       "[14958.439999999999,\n",
       " 50000,\n",
       " 132.72816541994132,\n",
       " 39154.80879888269,\n",
       " 295.0,\n",
       " 124.94]"
      ]
     },
     "metadata": {},
     "output_type": "display_data"
    },
    {
     "data": {
      "text/plain": [
       "'b7'"
      ]
     },
     "metadata": {},
     "output_type": "display_data"
    },
    {
     "data": {
      "text/plain": [
       "[12499.439999999999,\n",
       " 50000,\n",
       " 132.1073295202625,\n",
       " 41613.80879888269,\n",
       " 315.0,\n",
       " 122.95]"
      ]
     },
     "metadata": {},
     "output_type": "display_data"
    },
    {
     "data": {
      "text/plain": [
       "'b7'"
      ]
     },
     "metadata": {},
     "output_type": "display_data"
    },
    {
     "data": {
      "text/plain": [
       "[11972.96, 50000, 132.1012188052749, 42140.28879888269, 319.0, 131.62]"
      ]
     },
     "metadata": {},
     "output_type": "display_data"
    },
    {
     "data": {
      "text/plain": [
       "'b8'"
      ]
     },
     "metadata": {},
     "output_type": "display_data"
    },
    {
     "data": {
      "text/plain": [
       "[36794.45, 50000, 132.1012188052749, 21136.195008843984, 160.0, 156.11]"
      ]
     },
     "metadata": {},
     "output_type": "display_data"
    },
    {
     "data": {
      "text/plain": [
       "'s3'"
      ]
     },
     "metadata": {},
     "output_type": "display_data"
    },
    {
     "data": {
      "text/plain": [
       "[49836.85, 50000, 132.1012188052749, 10568.097504421992, 80.0, 163.03]"
      ]
     },
     "metadata": {},
     "output_type": "display_data"
    },
    {
     "data": {
      "text/plain": [
       "'s2'"
      ]
     },
     "metadata": {},
     "output_type": "display_data"
    },
    {
     "data": {
      "text/plain": [
       "[47439.85, 50000, 136.47471057286307, 12965.097504421992, 95.0, 159.8]"
      ]
     },
     "metadata": {},
     "output_type": "display_data"
    },
    {
     "data": {
      "text/plain": [
       "'b8'"
      ]
     },
     "metadata": {},
     "output_type": "display_data"
    },
    {
     "data": {
      "text/plain": [
       "[55984.92, 50000, 136.47471057286307, 6550.786107497428, 48.0, 181.81]"
      ]
     },
     "metadata": {},
     "output_type": "display_data"
    },
    {
     "data": {
      "text/plain": [
       "'s2'"
      ]
     },
     "metadata": {},
     "output_type": "display_data"
    },
    {
     "data": {
      "text/plain": [
       "[53263.92, 50000, 147.17120805551474, 9271.786107497428, 63.0, 181.4]"
      ]
     },
     "metadata": {},
     "output_type": "display_data"
    },
    {
     "data": {
      "text/plain": [
       "'b8'"
      ]
     },
     "metadata": {},
     "output_type": "display_data"
    },
    {
     "data": {
      "text/plain": [
       "[50627.82, 50000, 152.66520650637727, 11907.886107497428, 78.0, 175.74]"
      ]
     },
     "metadata": {},
     "output_type": "display_data"
    },
    {
     "data": {
      "text/plain": [
       "'b8'"
      ]
     },
     "metadata": {},
     "output_type": "display_data"
    },
    {
     "data": {
      "text/plain": [
       "[57793.68, 50000, 152.66520650637727, 5953.943053748715, 39.0, 183.74]"
      ]
     },
     "metadata": {},
     "output_type": "display_data"
    },
    {
     "data": {
      "text/plain": [
       "'s2'"
      ]
     },
     "metadata": {},
     "output_type": "display_data"
    },
    {
     "data": {
      "text/plain": [
       "[54904.72, 50000, 160.78005552270392, 8842.903053748716, 55.0, 180.56]"
      ]
     },
     "metadata": {},
     "output_type": "display_data"
    },
    {
     "data": {
      "text/plain": [
       "'b8'"
      ]
     },
     "metadata": {},
     "output_type": "display_data"
    },
    {
     "data": {
      "text/plain": [
       "[52270.270000000004,\n",
       " 50000,\n",
       " 163.96218648212454,\n",
       " 11477.353053748717,\n",
       " 70.0,\n",
       " 175.63]"
      ]
     },
     "metadata": {},
     "output_type": "display_data"
    },
    {
     "data": {
      "text/plain": [
       "'b8'"
      ]
     },
     "metadata": {},
     "output_type": "display_data"
    },
    {
     "data": {
      "text/plain": [
       "[58700.47, 50000, 163.96218648212454, 5738.676526874358, 35.0, 183.72]"
      ]
     },
     "metadata": {},
     "output_type": "display_data"
    },
    {
     "data": {
      "text/plain": [
       "'s3'"
      ]
     },
     "metadata": {},
     "output_type": "display_data"
    },
    {
     "data": {
      "text/plain": [
       "[61918.23, 50000, 163.96218648212454, 2951.319356678241, 18.0, 189.28]"
      ]
     },
     "metadata": {},
     "output_type": "display_data"
    },
    {
     "data": {
      "text/plain": [
       "'s3'"
      ]
     },
     "metadata": {},
     "output_type": "display_data"
    },
    {
     "data": {
      "text/plain": [
       "[58889.68, 50000, 170.8534101908069, 5979.869356678241, 35.0, 178.15]"
      ]
     },
     "metadata": {},
     "output_type": "display_data"
    },
    {
     "data": {
      "text/plain": [
       "'b8'"
      ]
     },
     "metadata": {},
     "output_type": "display_data"
    },
    {
     "data": {
      "text/plain": [
       "[55966.0, 50000, 174.57939915055374, 8903.54935667824, 51.0, 182.73]"
      ]
     },
     "metadata": {},
     "output_type": "display_data"
    },
    {
     "data": {
      "text/plain": [
       "'b8'"
      ]
     },
     "metadata": {},
     "output_type": "display_data"
    },
    {
     "data": {
      "text/plain": [
       "[53259.85, 50000, 175.90453570724605, 11609.69935667824, 66.0, 180.41]"
      ]
     },
     "metadata": {},
     "output_type": "display_data"
    },
    {
     "data": {
      "text/plain": [
       "'b8'"
      ]
     },
     "metadata": {},
     "output_type": "display_data"
    },
    {
     "data": {
      "text/plain": [
       "[59378.049999999996, 50000, 175.90453570724605, 5804.84967833912, 33.0, 185.4]"
      ]
     },
     "metadata": {},
     "output_type": "display_data"
    },
    {
     "data": {
      "text/plain": [
       "'s3'"
      ]
     },
     "metadata": {},
     "output_type": "display_data"
    },
    {
     "data": {
      "text/plain": [
       "[56435.81, 50000, 178.51203425181876, 8747.08967833912, 49.0, 183.89]"
      ]
     },
     "metadata": {},
     "output_type": "display_data"
    },
    {
     "data": {
      "text/plain": [
       "'b8'"
      ]
     },
     "metadata": {},
     "output_type": "display_data"
    },
    {
     "data": {
      "text/plain": [
       "[53752.909999999996,\n",
       " 50000,\n",
       " 178.59358872404874,\n",
       " 11429.98967833912,\n",
       " 64.0,\n",
       " 178.86]"
      ]
     },
     "metadata": {},
     "output_type": "display_data"
    },
    {
     "data": {
      "text/plain": [
       "'b8'"
      ]
     },
     "metadata": {},
     "output_type": "display_data"
    },
    {
     "data": {
      "text/plain": [
       "[51165.85999999999,\n",
       " 50000,\n",
       " 177.43088200429264,\n",
       " 14017.039678339119,\n",
       " 79.0,\n",
       " 172.47]"
      ]
     },
     "metadata": {},
     "output_type": "display_data"
    },
    {
     "data": {
      "text/plain": [
       "'b8'"
      ]
     },
     "metadata": {},
     "output_type": "display_data"
    },
    {
     "data": {
      "text/plain": [
       "[42674.35999999999, 50000, 173.14261291030093, 22508.53967833912, 130.0, 166.5]"
      ]
     },
     "metadata": {},
     "output_type": "display_data"
    },
    {
     "data": {
      "text/plain": [
       "'b7'"
      ]
     },
     "metadata": {},
     "output_type": "display_data"
    },
    {
     "data": {
      "text/plain": [
       "[40688.95999999999,\n",
       " 50000,\n",
       " 172.49253294605015,\n",
       " 24493.93967833912,\n",
       " 142.0,\n",
       " 165.45]"
      ]
     },
     "metadata": {},
     "output_type": "display_data"
    },
    {
     "data": {
      "text/plain": [
       "'b8'"
      ]
     },
     "metadata": {},
     "output_type": "display_data"
    },
    {
     "data": {
      "text/plain": [
       "[33918.55999999999, 50000, 169.91488955619087, 31264.33967833912, 184.0, 161.2]"
      ]
     },
     "metadata": {},
     "output_type": "display_data"
    },
    {
     "data": {
      "text/plain": [
       "'b7'"
      ]
     },
     "metadata": {},
     "output_type": "display_data"
    },
    {
     "data": {
      "text/plain": [
       "[51232.95999999999, 50000, 169.91488955619087, 15632.16983916956, 92.0, 188.2]"
      ]
     },
     "metadata": {},
     "output_type": "display_data"
    },
    {
     "data": {
      "text/plain": [
       "'s3'"
      ]
     },
     "metadata": {},
     "output_type": "display_data"
    },
    {
     "data": {
      "text/plain": [
       "[48725.55999999999,\n",
       " 50000,\n",
       " 171.12801735065625,\n",
       " 18139.569839169562,\n",
       " 106.0,\n",
       " 179.1]"
      ]
     },
     "metadata": {},
     "output_type": "display_data"
    },
    {
     "data": {
      "text/plain": [
       "'b8'"
      ]
     },
     "metadata": {},
     "output_type": "display_data"
    },
    {
     "data": {
      "text/plain": [
       "[46449.38999999999,\n",
       " 50000,\n",
       " 171.56083898461816,\n",
       " 20415.73983916956,\n",
       " 119.0,\n",
       " 175.09]"
      ]
     },
     "metadata": {},
     "output_type": "display_data"
    },
    {
     "data": {
      "text/plain": [
       "'b8'"
      ]
     },
     "metadata": {},
     "output_type": "display_data"
    },
    {
     "data": {
      "text/plain": [
       "[57302.43999999999,\n",
       " 50000,\n",
       " 171.56083898461816,\n",
       " 10293.650339077089,\n",
       " 60.0,\n",
       " 183.95]"
      ]
     },
     "metadata": {},
     "output_type": "display_data"
    },
    {
     "data": {
      "text/plain": [
       "'s3'"
      ]
     },
     "metadata": {},
     "output_type": "display_data"
    },
    {
     "data": {
      "text/plain": [
       "[54517.319999999985,\n",
       " 50000,\n",
       " 172.08908340890903,\n",
       " 13078.770339077088,\n",
       " 76.0,\n",
       " 174.07]"
      ]
     },
     "metadata": {},
     "output_type": "display_data"
    },
    {
     "data": {
      "text/plain": [
       "'b8'"
      ]
     },
     "metadata": {},
     "output_type": "display_data"
    },
    {
     "data": {
      "text/plain": [
       "[51883.07999999999,\n",
       " 50000,\n",
       " 170.79359064214225,\n",
       " 15713.010339077087,\n",
       " 92.0,\n",
       " 164.64]"
      ]
     },
     "metadata": {},
     "output_type": "display_data"
    },
    {
     "data": {
      "text/plain": [
       "'b8'"
      ]
     },
     "metadata": {},
     "output_type": "display_data"
    },
    {
     "data": {
      "text/plain": [
       "[49381.07999999999, 50000, 170.23374148670177, 18215.01033907709, 107.0, 166.8]"
      ]
     },
     "metadata": {},
     "output_type": "display_data"
    },
    {
     "data": {
      "text/plain": [
       "'b8'"
      ]
     },
     "metadata": {},
     "output_type": "display_data"
    },
    {
     "data": {
      "text/plain": [
       "[47058.61999999999, 50000, 169.7311598270834, 20537.47033907709, 121.0, 165.89]"
      ]
     },
     "metadata": {},
     "output_type": "display_data"
    },
    {
     "data": {
      "text/plain": [
       "'b8'"
      ]
     },
     "metadata": {},
     "output_type": "display_data"
    },
    {
     "data": {
      "text/plain": [
       "[44795.93999999999,\n",
       " 50000,\n",
       " 168.89000251168213,\n",
       " 22800.15033907709,\n",
       " 135.0,\n",
       " 161.62]"
      ]
     },
     "metadata": {},
     "output_type": "display_data"
    },
    {
     "data": {
      "text/plain": [
       "'b8'"
      ]
     },
     "metadata": {},
     "output_type": "display_data"
    },
    {
     "data": {
      "text/plain": [
       "[42667.96999999999,\n",
       " 50000,\n",
       " 168.43324553430466,\n",
       " 24928.12033907709,\n",
       " 148.0,\n",
       " 163.69]"
      ]
     },
     "metadata": {},
     "output_type": "display_data"
    },
    {
     "data": {
      "text/plain": [
       "'b8'"
      ]
     },
     "metadata": {},
     "output_type": "display_data"
    },
    {
     "data": {
      "text/plain": [
       "[40683.76999999999,\n",
       " 50000,\n",
       " 168.20200211923182,\n",
       " 26912.32033907709,\n",
       " 160.0,\n",
       " 165.35]"
      ]
     },
     "metadata": {},
     "output_type": "display_data"
    },
    {
     "data": {
      "text/plain": [
       "'b8'"
      ]
     },
     "metadata": {},
     "output_type": "display_data"
    },
    {
     "name": "stdout",
     "output_type": "stream",
     "text": [
      "[CMCSA] : 43948.44[emergency]: 50000\n",
      "[TXN] : 48676.60999999999[emergency]: 50000\n",
      "[TMUS] : 50034.200000000004[emergency]: 50000\n",
      "[AMZN] : 51765.81999999999[emergency]: 50000\n",
      "[ASML] : 52533.360000000015[emergency]: 50000\n",
      "[GOOG] : 52537.04000000001[emergency]: 50000\n",
      "[GOOGL] : 52947.35999999999[emergency]: 50000\n",
      "[PEP] : 54334.12000000001[emergency]: 50000\n",
      "[CSCO] : 55228.44999999999[emergency]: 50000\n",
      "[FB] : 55621.69[emergency]: 25000\n",
      "[AZN] : 55752.7[emergency]: 50000\n",
      "[MSFT] : 57180.729999999996[emergency]: 50000\n",
      "[NVDA] : 58574.269999999975[emergency]: 50000\n",
      "[AAPL] : 61708.39[emergency]: 50000\n",
      "[AVGO] : 63710.30999999999[emergency]: 50000\n",
      "[INTC] : 65574.87000000002[emergency]: 25000\n",
      "[COST] : 65995.94000000002[emergency]: 50000\n",
      "[ADBE] : 67027.81999999998[emergency]: 25000\n",
      "[QCOM] : 67139.76999999999[emergency]: 50000\n",
      "[TSLA] : 104824.29999999999[emergency]: 12500\n"
     ]
    }
   ],
   "source": [
    "import PySimpleGUI as gui\n",
    "import FinanceDataReader as fdr\n",
    "import selenium as se\n",
    "import pandas as pd\n",
    "import mplfinance as mpf\n",
    "import numpy as np\n",
    "#from matplotlib import use\n",
    "from matplotlib.backends.backend_tkagg import FigureCanvasTkAgg\n",
    "\n",
    "#use('TkAgg')\n",
    "\n",
    "class Trader:\n",
    "    money = 0\n",
    "    last = 0 #paid per stock\n",
    "    invested = 0 #how much did u invested\n",
    "    stock = 0 #stock amount u bought, only handles 1 stock\n",
    "    \n",
    "    now = 0 #this indicates stock's now price\n",
    "    prev = 0\n",
    "    def __init__(self, money) :\n",
    "        self.money = money // 2\n",
    "        self.emergency = money - self.money\n",
    "    def update(self, now) :\n",
    "        self.prev = self.now\n",
    "        self.now = now\n",
    "    def trade(self, amount, mod) :\n",
    "        if mod == 1: #buy\n",
    "            if (self.money < self.now * amount) :\n",
    "                return -1\n",
    "            self.money -= self.now * amount\n",
    "            self.invested += self.now * amount\n",
    "            self.stock += amount\n",
    "            self.last = self.invested / self.stock\n",
    "        if mod == 2: #sell\n",
    "            if (self.stock - amount < 0) : \n",
    "                return -1\n",
    "            if (self.stock == 1) :\n",
    "                self.money += self.now\n",
    "                self.inveted = 0\n",
    "                self.stock = 0\n",
    "                self.last = 0\n",
    "            elif (self.stock != 1):\n",
    "                self.money += self.now * amount\n",
    "                self.invested -= self.last * amount\n",
    "                self.stock -= amount\n",
    "        if mod == 3: #sellall\n",
    "            if (self.stock == 0) :\n",
    "                return -1\n",
    "            self.money += self.now * self.stock\n",
    "            self.invested = 0\n",
    "            self.stock = 0\n",
    "            self.last = 0\n",
    "        if mod == 4: #buyall\n",
    "            if (self.money < self.now) :\n",
    "                return -1\n",
    "            amount = self.money // self.now\n",
    "            self.money -= self.now * amount\n",
    "            self.invested += self.now * amount\n",
    "            self.stock += amount\n",
    "            self.last = self.invested / self.stock\n",
    "    def getMoney(self) :\n",
    "        return self.money\n",
    "    def getStatus(self) :\n",
    "        return [self.money, self.emergency, self.last, self.invested, self.stock, self.now]\n",
    "\n",
    "class simulatedResults :\n",
    "    def __init__(self, name, result, trade) :\n",
    "        self.result = result\n",
    "        self.trade = trade\n",
    "        self.name = name\n",
    "    def __str__(self):\n",
    "        return \"[\" + self.name + \"] : \" + str(self.trade.money) + \"[emergency]: \" + str(self.trade.emergency)\n",
    "headings = [\"  date  \", \"  open  \", \"  high  \",\n",
    "            \"  low  \", \" close \", \" volume \", \"       change       \"]\n",
    "select_list = [[\n",
    "    gui.Text(\"stock name: \"),\n",
    "    gui.In(size=(10, 1), enable_events=True, key=\"-stock-\"),\n",
    "    gui.Button(\"ok\"),\n",
    "    gui.In(size=(10, 1), enable_events=True, key=\"start_day\"),\n",
    "    gui.In(size=(10, 1), enable_events=True, key=\"end_day\"),\n",
    "    gui.Button(\"calc\", disabled=True),\n",
    "    gui.Text(\"simulator -> select stock market: \"),\n",
    "    gui.Combo(['KOSPI', 'KOSDAQ', 'NYSE', 'NASDAQ', 'S&P500'], \n",
    "                enable_events=True, key='market_list'),\n",
    "    gui.Button(\"calc_all\")\n",
    "],\n",
    "[\n",
    "   gui.Table(values=[], headings = headings, max_col_width = 100, \n",
    "             auto_size_columns=True,\n",
    "             num_rows=20, row_height=25, key=\"stock_table\") \n",
    "]]\n",
    "layout = [[\n",
    "    gui.Column(select_list), gui.VSeperator(),\n",
    "    gui.Canvas(key=\"figCanvas\", background_color='#000000')\n",
    "]]\n",
    "\n",
    "kp = []\n",
    "\n",
    "window = gui.Window(\"stock\", layout)\n",
    "figure_agg = None\n",
    "\n",
    "def draw_figure(canvas, figure) :\n",
    "    figure_agg = FigureCanvasTkAgg(figure, canvas)\n",
    "    figure_agg.draw()\n",
    "    figure_agg.get_tk_widget().pack(side = 'right', fill='both', expand=1)\n",
    "    return figure_agg\n",
    "def draw(addplot = None) :\n",
    "    fig = None\n",
    "    axlist = None\n",
    "    if (addplot) :\n",
    "        fig, axlist = mpf.plot(kp, type='candle', style='yahoo', volume=True, mav=(3, 14, 30),\n",
    "                            returnfig=True, addplot=addplot, figratio=(18, 10), figscale=2)\n",
    "    else :\n",
    "        fig, axlist = mpf.plot(kp, type='candle', style='yahoo', volume=True, mav=(3, 14, 30), \n",
    "                            returnfig=True, figratio=(18, 10), figscale=2)\n",
    "    figure_agg = draw_figure(window[\"figCanvas\"].TKCanvas, fig)\n",
    "    return figure_agg\n",
    "\n",
    "def simulate1(info, money) :\n",
    "    new = []\n",
    "    first = 0\n",
    "    tr = Trader(money)\n",
    "    for x in info:\n",
    "        if first == 0 :\n",
    "            now = info[x].loc[\"Close\"]\n",
    "            tr.update(now)\n",
    "            amount = money // now // 10\n",
    "            tr.trade(amount, 1)\n",
    "            first = 1\n",
    "            display(tr.getStatus(), 0)\n",
    "            new.append(tr.now * 0.9)\n",
    "            continue\n",
    "        now = info[x].loc[\"Close\"]\n",
    "        tr.update(now)\n",
    "        if tr.prev < tr.now: #up\n",
    "            if (tr.last * 150 / 100 <= tr.now and tr.prev * 105 / 100 < tr.now) : #50% up, sellall\n",
    "                tr.trade(0, 3) #sellall\n",
    "                display(tr.getStatus(), \"s1\")\n",
    "                new.append(tr.now * 1.1)\n",
    "                continue\n",
    "            if (tr.last * 120 / 100 <= tr.now and tr.prev * 103 / 100 < tr.now) : #30% up\n",
    "                amount = tr.stock // 2 #half sell again\n",
    "                tr.trade(amount, 2)\n",
    "                display(tr.getStatus(), \"s2\")\n",
    "                new.append(tr.now * 1.1)\n",
    "                continue\n",
    "            if (tr.last * 105 / 100 <= tr.now and tr.prev * 103 / 100 < tr.now) : #10%up\n",
    "                amount = tr.stock // 2\n",
    "                tr.trade(amount, 2)\n",
    "                display(tr.getStatus(), \"s3\")\n",
    "                new.append(tr.now * 1.1)\n",
    "                continue\n",
    "        if (tr.prev > tr.now) : #down\n",
    "            #if (tr.invested == 0) : #first trade, non buyed before\n",
    "                #amount = tr.money // tr.now // 10\n",
    "                #tr.trade(amount, 1)\n",
    "                #display(tr.getStatus(), 10)\n",
    "                #new.append(tr.now * 0.9)\n",
    "                #continue\n",
    "            if (tr.prev * 90 / 100 > tr.now) : #highly decreased, preventing\n",
    "                tr.money += tr.emergency // 2\n",
    "                tr.emergency -= tr.emergency // 2\n",
    "                amount = tr.money // tr.now\n",
    "                tr.trade(amount, 1)\n",
    "                display(tr.getStatus(), \"b11, used emergency balance\")\n",
    "                new.append(tr.now * 0.9)\n",
    "                continue\n",
    "            if (tr.last * 50 / 100 >= tr.now ) : #50%down\n",
    "                amount = tr.stock\n",
    "                tr.trade(amount, 1)\n",
    "                display(tr.getStatus(), \"b4\")\n",
    "                new.append(tr.now * 0.9)\n",
    "                continue\n",
    "            if (tr.last * 75 / 100 >= tr.now) : #25%down\n",
    "                amount = tr.money // tr.now // 2\n",
    "                tr.trade(amount, 1)\n",
    "                display(tr.getStatus(), \"b5\")\n",
    "                new.append(tr.now * 0.9)\n",
    "                continue\n",
    "            if (tr.last * 90 / 100 >= tr.now) : #10%down\n",
    "                amount = tr.money // tr.now // 4\n",
    "                tr.trade(amount, 1)\n",
    "                display(tr.getStatus(), \"b6\")\n",
    "                new.append(tr.now * 0.9)\n",
    "                continue\n",
    "            if (tr.last * 95 / 100 >= tr.now) : #5%down\n",
    "                amount = tr.money // tr.now // 6\n",
    "                tr.trade(amount, 1)\n",
    "                display(tr.getStatus(), \"b7\")\n",
    "                new.append(tr.now * 0.9)\n",
    "                continue\n",
    "            if (tr.prev * 99 / 100 > tr.now or tr.last == 0) : #just decreased little, just decreased buy deprecated\n",
    "                amount = tr.money // tr.now // 20\n",
    "                tr.trade(amount, 1)\n",
    "                display(tr.getStatus(), \"b8\")\n",
    "                new.append(tr.now * 0.9)\n",
    "                continue\n",
    "        new.append(np.nan)\n",
    "    tr.trade(0, 3)\n",
    "    return new, tr\n",
    "while True:\n",
    "    event, values = window.read()\n",
    "    if event == \"Exit\" or event == gui.WIN_CLOSED:\n",
    "        break\n",
    "    if event == \"ok\":\n",
    "        try:\n",
    "            target = values[\"-stock-\"]\n",
    "            if (target == None) :\n",
    "                pass\n",
    "            kp = fdr.DataReader(target, values['start_day'], values['end_day'])\n",
    "            #window.Refresh()\n",
    "            if (figure_agg) :\n",
    "                figure_agg.get_tk_widget().forget()\n",
    "                #window[\"figCanvas\"].update()\n",
    "            figure_agg = draw()\n",
    "            info = kp.transpose()\n",
    "            temp = []\n",
    "            value = []\n",
    "            for x in info:\n",
    "                temp = [x]\n",
    "                for t in info[x].values.tolist() :\n",
    "                    temp.append(t)\n",
    "                value.append(temp)\n",
    "            window[\"stock_table\"].update(values=value)\n",
    "            window[\"calc\"].update(disabled=False)\n",
    "        except:\n",
    "            window[\"-stock-\"].update(\"does not exists\")\n",
    "            window[\"calc\"].update(disabled=True)\n",
    "    if event == \"calc\" :\n",
    "        if (figure_agg) :\n",
    "            figure_agg.get_tk_widget().forget()\n",
    "        info = kp.transpose()\n",
    "        money = 10000000\n",
    "        result, trade = simulate1(info, money)\n",
    "        display(result)\n",
    "        display(trade.getStatus())\n",
    "        addplot = mpf.make_addplot(result, type = 'scatter', markersize=10, marker='^')\n",
    "        figure_agg = draw(addplot)\n",
    "        window.Refresh()\n",
    "    if event == \"calc_all\" :\n",
    "        market = values['market_list']\n",
    "        if (market == '') :\n",
    "            window[\"-stock-\"].update(\"plz select combo\")\n",
    "            continue\n",
    "        money = 0\n",
    "        results = []\n",
    "        rank = []\n",
    "        display(market)\n",
    "        targets = fdr.StockListing(market)\n",
    "        if (market == 'KOSPI' or market == 'KOSDAQ') :\n",
    "            money = 10000000\n",
    "        else :\n",
    "            money = 100000\n",
    "        loop = 0\n",
    "        for t in targets[\"Symbol\"] :\n",
    "            if (loop >= 20) :\n",
    "                break\n",
    "            display(t)\n",
    "            try :\n",
    "                cur = fdr.DataReader(t, values['start_day'], values['end_day'])\n",
    "            except:\n",
    "                display(\"sth went wrong, passing\")\n",
    "                continue\n",
    "            display([t, \"is under calculation, start money is 10000000\\ / 100000$\"])\n",
    "            result, trade = simulate1(cur.transpose(), money)\n",
    "            results.append(simulatedResults(t, result, trade))\n",
    "            loop = loop + 1\n",
    "        rank = sorted(results, key=lambda x: x.trade.money)\n",
    "        for x in rank:\n",
    "            print(x)\n",
    "window.close()"
   ]
  },
  {
   "cell_type": "code",
   "execution_count": 18,
   "id": "d9fbb230",
   "metadata": {
    "scrolled": true
   },
   "outputs": [
    {
     "data": {
      "text/plain": [
       "[175.9626,\n",
       " 178.4277,\n",
       " 177.6951,\n",
       " 176.22,\n",
       " 178.1505,\n",
       " 175.6359,\n",
       " 177.19019999999998,\n",
       " 177.6258,\n",
       " 179.2098,\n",
       " 176.95260000000002,\n",
       " 176.4972,\n",
       " 176.6952,\n",
       " 171.83429999999998,\n",
       " 170.9235,\n",
       " 171.072,\n",
       " 172.0125,\n",
       " 167.607,\n",
       " 168.45839999999998,\n",
       " 161.469,\n",
       " 164.3598,\n",
       " 165.75570000000002,\n",
       " 164.9934,\n",
       " 162.74609999999998,\n",
       " 159.12269999999998,\n",
       " 159.55829999999997,\n",
       " 160.7859,\n",
       " 162.00359999999998,\n",
       " nan,\n",
       " nan,\n",
       " nan,\n",
       " nan,\n",
       " nan,\n",
       " nan,\n",
       " nan,\n",
       " nan,\n",
       " nan,\n",
       " nan,\n",
       " nan,\n",
       " nan,\n",
       " nan,\n",
       " nan,\n",
       " nan,\n",
       " nan,\n",
       " nan,\n",
       " nan,\n",
       " nan,\n",
       " nan,\n",
       " nan,\n",
       " nan,\n",
       " nan,\n",
       " nan,\n",
       " nan,\n",
       " nan,\n",
       " nan,\n",
       " nan,\n",
       " nan,\n",
       " nan,\n",
       " nan,\n",
       " nan,\n",
       " nan,\n",
       " nan,\n",
       " nan,\n",
       " nan,\n",
       " nan,\n",
       " nan,\n",
       " nan,\n",
       " nan,\n",
       " nan,\n",
       " nan,\n",
       " nan,\n",
       " nan,\n",
       " nan,\n",
       " nan,\n",
       " nan,\n",
       " nan,\n",
       " nan,\n",
       " nan,\n",
       " nan,\n",
       " nan,\n",
       " nan,\n",
       " nan,\n",
       " nan,\n",
       " nan,\n",
       " nan]"
      ]
     },
     "metadata": {},
     "output_type": "display_data"
    },
    {
     "data": {
      "text/plain": [
       "list"
      ]
     },
     "metadata": {},
     "output_type": "display_data"
    },
    {
     "data": {
      "image/png": "[encoded data removed]",
      "text/plain": [
       "<Figure size 800x575 with 2 Axes>"
      ]
     },
     "metadata": {},
     "output_type": "display_data"
    }
   ],
   "source": [
    "import mplfinance as mpf\n",
    "import FinanceDataReader as fdr\n",
    "import matplotlib as mpl\n",
    "import PySimpleGUI as gui\n",
    "import numpy as np\n",
    "layout = [gui.Canvas(key=\"figCanvas\", background_color='#FFFFFF')]\n",
    "\n",
    "target = fdr.DataReader(\"mmm\", \"2022-01-02\", \"2022-05-03\")\n",
    "\n",
    "trans = target.transpose()\n",
    "new = []\n",
    "\n",
    "for x in trans:\n",
    "    if (trans[x].loc[\"Close\"] > 160) :\n",
    "        new.append(trans[x].loc[\"Close\"]*0.99)\n",
    "    else :\n",
    "        new.append(np.nan)\n",
    "display(new)\n",
    "display(type(new))\n",
    "add = mpf.make_addplot(new, type='scatter')\n",
    "mpf.plot(target, addplot=add)\n",
    "\n",
    "#x = range(300)\n",
    "#plot = mpf.make_addplot(target[\"Close\"], color = 'b')\n",
    "#fig, axlist = mpf.plot(target, type='candle', volume=True, mav=(3, 6, 9), returnfig=True, addplot=plot)\n"
   ]
  },
  {
   "cell_type": "code",
   "execution_count": null,
   "id": "ced0246e",
   "metadata": {},
   "outputs": [],
   "source": []
  },
  {
   "cell_type": "code",
   "execution_count": null,
   "id": "eaf95bbd",
   "metadata": {},
   "outputs": [],
   "source": []
  }
 ],
 "metadata": {
  "kernelspec": {
   "display_name": "Python 3 (ipykernel)",
   "language": "python",
   "name": "python3"
  },
  "language_info": {
   "codemirror_mode": {
    "name": "ipython",
    "version": 3
   },
   "file_extension": ".py",
   "mimetype": "text/x-python",
   "name": "python",
   "nbconvert_exporter": "python",
   "pygments_lexer": "ipython3",
   "version": "3.9.2"
  }
 },
 "nbformat": 4,
 "nbformat_minor": 5
}
